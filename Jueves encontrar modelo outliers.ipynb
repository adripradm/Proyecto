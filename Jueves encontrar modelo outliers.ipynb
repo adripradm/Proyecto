{
 "cells": [
  {
   "cell_type": "code",
   "execution_count": 28,
   "id": "1d821c75",
   "metadata": {},
   "outputs": [],
   "source": [
    "import pandas as pd\n",
    "import numpy as np\n",
    "import pylab as plt\n",
    "import seaborn as sns\n",
    "from sklearn.ensemble import RandomForestRegressor as RFR\n",
    "from sklearn.model_selection import train_test_split as tts\n",
    "from sklearn.preprocessing import StandardScaler\n",
    "scaler=StandardScaler()\n",
    "from sklearn.metrics import r2_score as r2\n",
    "from sklearn.metrics import mean_squared_error as mse\n",
    "pd.set_option('display.max_columns', 500)"
   ]
  },
  {
   "cell_type": "code",
   "execution_count": 154,
   "id": "48e5a46f",
   "metadata": {},
   "outputs": [
    {
     "data": {
      "text/html": [
       "<div>\n",
       "<style scoped>\n",
       "    .dataframe tbody tr th:only-of-type {\n",
       "        vertical-align: middle;\n",
       "    }\n",
       "\n",
       "    .dataframe tbody tr th {\n",
       "        vertical-align: top;\n",
       "    }\n",
       "\n",
       "    .dataframe thead th {\n",
       "        text-align: right;\n",
       "    }\n",
       "</style>\n",
       "<table border=\"1\" class=\"dataframe\">\n",
       "  <thead>\n",
       "    <tr style=\"text-align: right;\">\n",
       "      <th></th>\n",
       "      <th>url</th>\n",
       "      <th>company</th>\n",
       "      <th>make</th>\n",
       "      <th>model</th>\n",
       "      <th>version</th>\n",
       "      <th>price</th>\n",
       "      <th>price_financed</th>\n",
       "      <th>fuel</th>\n",
       "      <th>year</th>\n",
       "      <th>kms</th>\n",
       "      <th>power</th>\n",
       "      <th>doors</th>\n",
       "      <th>shift</th>\n",
       "      <th>color</th>\n",
       "      <th>photos</th>\n",
       "      <th>is_professional</th>\n",
       "      <th>dealer</th>\n",
       "      <th>province</th>\n",
       "      <th>country</th>\n",
       "      <th>publish_date</th>\n",
       "      <th>insert_date</th>\n",
       "    </tr>\n",
       "  </thead>\n",
       "  <tbody>\n",
       "    <tr>\n",
       "      <th>0</th>\n",
       "      <td>e158ae0ca53119ca199c28c36b5c2fcd</td>\n",
       "      <td>9881bcdd5a0ad4733037b3fb25e69c3a</td>\n",
       "      <td>SEAT</td>\n",
       "      <td>Toledo</td>\n",
       "      <td>SEAT Toledo  4p.</td>\n",
       "      <td>950</td>\n",
       "      <td>NaN</td>\n",
       "      <td>Diésel</td>\n",
       "      <td>2000.0</td>\n",
       "      <td>227000</td>\n",
       "      <td>NaN</td>\n",
       "      <td>4</td>\n",
       "      <td>Manual</td>\n",
       "      <td>Verde</td>\n",
       "      <td>5</td>\n",
       "      <td>False</td>\n",
       "      <td>0f4bb8455d27349b8273109b66a847f3</td>\n",
       "      <td>Navarra</td>\n",
       "      <td>Spain</td>\n",
       "      <td>2020-12-18 10:47:13</td>\n",
       "      <td>2021-01-15 00:00:00</td>\n",
       "    </tr>\n",
       "    <tr>\n",
       "      <th>1</th>\n",
       "      <td>ff267ebb7e700246f47f84f3db660b4b</td>\n",
       "      <td>9881bcdd5a0ad4733037b3fb25e69c3a</td>\n",
       "      <td>CITROEN</td>\n",
       "      <td>C1</td>\n",
       "      <td>CITROEN C1 PureTech 60KW 82CV Feel 5p.</td>\n",
       "      <td>6200</td>\n",
       "      <td>NaN</td>\n",
       "      <td>Gasolina</td>\n",
       "      <td>2017.0</td>\n",
       "      <td>50071</td>\n",
       "      <td>82.0</td>\n",
       "      <td>5</td>\n",
       "      <td>Manual</td>\n",
       "      <td>Blanco</td>\n",
       "      <td>6</td>\n",
       "      <td>True</td>\n",
       "      <td>Autos Raymara</td>\n",
       "      <td>Tenerife</td>\n",
       "      <td>Spain</td>\n",
       "      <td>2021-01-02 11:25:40</td>\n",
       "      <td>2021-01-15 00:00:00</td>\n",
       "    </tr>\n",
       "    <tr>\n",
       "      <th>2</th>\n",
       "      <td>de4b02db28ea7786c622b969be10c7c7</td>\n",
       "      <td>9881bcdd5a0ad4733037b3fb25e69c3a</td>\n",
       "      <td>FORD</td>\n",
       "      <td>Transit Connect</td>\n",
       "      <td>FORD Transit Connect Van 1.5 TDCi 100cv Ambien...</td>\n",
       "      <td>7851</td>\n",
       "      <td>7024.0</td>\n",
       "      <td>Diésel</td>\n",
       "      <td>2016.0</td>\n",
       "      <td>103000</td>\n",
       "      <td>100.0</td>\n",
       "      <td>4</td>\n",
       "      <td>Manual</td>\n",
       "      <td>Blanco</td>\n",
       "      <td>10</td>\n",
       "      <td>True</td>\n",
       "      <td>Auto 96</td>\n",
       "      <td>Barcelona</td>\n",
       "      <td>Spain</td>\n",
       "      <td>2020-12-16 10:51:45</td>\n",
       "      <td>2021-01-15 00:00:00</td>\n",
       "    </tr>\n",
       "    <tr>\n",
       "      <th>3</th>\n",
       "      <td>0449972a4d07594acf92e9a7dd28b39c</td>\n",
       "      <td>9881bcdd5a0ad4733037b3fb25e69c3a</td>\n",
       "      <td>VOLKSWAGEN</td>\n",
       "      <td>Caravelle</td>\n",
       "      <td>VOLKSWAGEN Caravelle Largo 2.0 TDI 140 Comfort...</td>\n",
       "      <td>19426</td>\n",
       "      <td>NaN</td>\n",
       "      <td>Diésel</td>\n",
       "      <td>2014.0</td>\n",
       "      <td>120000</td>\n",
       "      <td>140.0</td>\n",
       "      <td>4</td>\n",
       "      <td>Manual</td>\n",
       "      <td>Blanco</td>\n",
       "      <td>9</td>\n",
       "      <td>True</td>\n",
       "      <td>Inniauto</td>\n",
       "      <td>Navarra</td>\n",
       "      <td>Spain</td>\n",
       "      <td>2020-11-25 11:09:14</td>\n",
       "      <td>2021-01-15 00:00:00</td>\n",
       "    </tr>\n",
       "    <tr>\n",
       "      <th>4</th>\n",
       "      <td>12c4fa49bd4fdf23f19ecf396d3f02ef</td>\n",
       "      <td>9881bcdd5a0ad4733037b3fb25e69c3a</td>\n",
       "      <td>FORD</td>\n",
       "      <td>Transit</td>\n",
       "      <td>FORD Transit 350 96kW L4 Ambiente Propulsion T...</td>\n",
       "      <td>22850</td>\n",
       "      <td>22800.0</td>\n",
       "      <td>Diésel</td>\n",
       "      <td>2017.0</td>\n",
       "      <td>107000</td>\n",
       "      <td>130.0</td>\n",
       "      <td>2</td>\n",
       "      <td>Manual</td>\n",
       "      <td>Blanco</td>\n",
       "      <td>4</td>\n",
       "      <td>True</td>\n",
       "      <td>Autofleet España,s.l</td>\n",
       "      <td>Sevilla</td>\n",
       "      <td>Spain</td>\n",
       "      <td>2021-01-12 20:00:34</td>\n",
       "      <td>2021-01-15 00:00:00</td>\n",
       "    </tr>\n",
       "    <tr>\n",
       "      <th>...</th>\n",
       "      <td>...</td>\n",
       "      <td>...</td>\n",
       "      <td>...</td>\n",
       "      <td>...</td>\n",
       "      <td>...</td>\n",
       "      <td>...</td>\n",
       "      <td>...</td>\n",
       "      <td>...</td>\n",
       "      <td>...</td>\n",
       "      <td>...</td>\n",
       "      <td>...</td>\n",
       "      <td>...</td>\n",
       "      <td>...</td>\n",
       "      <td>...</td>\n",
       "      <td>...</td>\n",
       "      <td>...</td>\n",
       "      <td>...</td>\n",
       "      <td>...</td>\n",
       "      <td>...</td>\n",
       "      <td>...</td>\n",
       "      <td>...</td>\n",
       "    </tr>\n",
       "    <tr>\n",
       "      <th>49995</th>\n",
       "      <td>730210734bfbe1d3df878d5df71246f2</td>\n",
       "      <td>9881bcdd5a0ad4733037b3fb25e69c3a</td>\n",
       "      <td>HYUNDAI</td>\n",
       "      <td>i30</td>\n",
       "      <td>HYUNDAI i30 1.4 TGDI Tecno Fastback DCT 5p.</td>\n",
       "      <td>18490</td>\n",
       "      <td>16490.0</td>\n",
       "      <td>Gasolina</td>\n",
       "      <td>2018.0</td>\n",
       "      <td>47000</td>\n",
       "      <td>140.0</td>\n",
       "      <td>5</td>\n",
       "      <td>Automático</td>\n",
       "      <td>Gris / Plata</td>\n",
       "      <td>26</td>\n",
       "      <td>True</td>\n",
       "      <td>Flexicar Málaga</td>\n",
       "      <td>Málaga</td>\n",
       "      <td>Spain</td>\n",
       "      <td>2020-11-24 19:59:52</td>\n",
       "      <td>2021-01-15 00:00:00</td>\n",
       "    </tr>\n",
       "    <tr>\n",
       "      <th>49996</th>\n",
       "      <td>732b04fb47dd9559dbdcd099c5af484e</td>\n",
       "      <td>9881bcdd5a0ad4733037b3fb25e69c3a</td>\n",
       "      <td>RENAULT</td>\n",
       "      <td>Laguna</td>\n",
       "      <td>RENAULT Laguna Coupe Limited 2.0 Energy dCi 15...</td>\n",
       "      <td>14500</td>\n",
       "      <td>13551.0</td>\n",
       "      <td>Diésel</td>\n",
       "      <td>2015.0</td>\n",
       "      <td>68750</td>\n",
       "      <td>150.0</td>\n",
       "      <td>2</td>\n",
       "      <td>Manual</td>\n",
       "      <td>KNG Gris Casiopea (metalizado)</td>\n",
       "      <td>30</td>\n",
       "      <td>True</td>\n",
       "      <td>Ocasion Plus</td>\n",
       "      <td>Málaga</td>\n",
       "      <td>Spain</td>\n",
       "      <td>2021-01-13 17:02:41</td>\n",
       "      <td>2021-01-15 00:00:00</td>\n",
       "    </tr>\n",
       "    <tr>\n",
       "      <th>49997</th>\n",
       "      <td>c10afb53957fb8012707239bdfa66018</td>\n",
       "      <td>9881bcdd5a0ad4733037b3fb25e69c3a</td>\n",
       "      <td>PEUGEOT</td>\n",
       "      <td>108</td>\n",
       "      <td>PEUGEOT 108 TOP Allure VTi 52kW 72CV 5p.</td>\n",
       "      <td>11000</td>\n",
       "      <td>9000.0</td>\n",
       "      <td>Gasolina</td>\n",
       "      <td>2019.0</td>\n",
       "      <td>21422</td>\n",
       "      <td>72.0</td>\n",
       "      <td>5</td>\n",
       "      <td>Manual</td>\n",
       "      <td>Gris / Plata</td>\n",
       "      <td>17</td>\n",
       "      <td>True</td>\n",
       "      <td>Psa Retail Huelva</td>\n",
       "      <td>Huelva</td>\n",
       "      <td>Spain</td>\n",
       "      <td>2021-01-08 16:47:24</td>\n",
       "      <td>2021-01-15 00:00:00</td>\n",
       "    </tr>\n",
       "    <tr>\n",
       "      <th>49998</th>\n",
       "      <td>f74363a6688ba11b71b4d980a959b8d3</td>\n",
       "      <td>9881bcdd5a0ad4733037b3fb25e69c3a</td>\n",
       "      <td>AUDI</td>\n",
       "      <td>RS4</td>\n",
       "      <td>AUDI RS4 Avant 4.2 FSI 450cv quattro 5p.</td>\n",
       "      <td>47900</td>\n",
       "      <td>NaN</td>\n",
       "      <td>Gasolina</td>\n",
       "      <td>2013.0</td>\n",
       "      <td>47900</td>\n",
       "      <td>450.0</td>\n",
       "      <td>5</td>\n",
       "      <td>Automático</td>\n",
       "      <td>Gris / Plata (Antracita)</td>\n",
       "      <td>20</td>\n",
       "      <td>True</td>\n",
       "      <td>Codigocar Lugo</td>\n",
       "      <td>Lugo</td>\n",
       "      <td>Spain</td>\n",
       "      <td>2021-01-13 16:22:53</td>\n",
       "      <td>2021-01-15 00:00:00</td>\n",
       "    </tr>\n",
       "    <tr>\n",
       "      <th>49999</th>\n",
       "      <td>3d60801ccb96ef038747130e8a34ceda</td>\n",
       "      <td>9881bcdd5a0ad4733037b3fb25e69c3a</td>\n",
       "      <td>CITROEN</td>\n",
       "      <td>C2</td>\n",
       "      <td>CITROEN C2 1.4 HDI VTR Plus 3p.</td>\n",
       "      <td>2790</td>\n",
       "      <td>NaN</td>\n",
       "      <td>Diésel</td>\n",
       "      <td>2006.0</td>\n",
       "      <td>106000</td>\n",
       "      <td>70.0</td>\n",
       "      <td>3</td>\n",
       "      <td>Manual</td>\n",
       "      <td>Negro</td>\n",
       "      <td>21</td>\n",
       "      <td>True</td>\n",
       "      <td>AUTOVALENCIA 19</td>\n",
       "      <td>Barcelona</td>\n",
       "      <td>Spain</td>\n",
       "      <td>2021-01-10 16:32:41</td>\n",
       "      <td>2021-01-15 00:00:00</td>\n",
       "    </tr>\n",
       "  </tbody>\n",
       "</table>\n",
       "<p>50000 rows × 21 columns</p>\n",
       "</div>"
      ],
      "text/plain": [
       "                                    url                           company  \\\n",
       "0      e158ae0ca53119ca199c28c36b5c2fcd  9881bcdd5a0ad4733037b3fb25e69c3a   \n",
       "1      ff267ebb7e700246f47f84f3db660b4b  9881bcdd5a0ad4733037b3fb25e69c3a   \n",
       "2      de4b02db28ea7786c622b969be10c7c7  9881bcdd5a0ad4733037b3fb25e69c3a   \n",
       "3      0449972a4d07594acf92e9a7dd28b39c  9881bcdd5a0ad4733037b3fb25e69c3a   \n",
       "4      12c4fa49bd4fdf23f19ecf396d3f02ef  9881bcdd5a0ad4733037b3fb25e69c3a   \n",
       "...                                 ...                               ...   \n",
       "49995  730210734bfbe1d3df878d5df71246f2  9881bcdd5a0ad4733037b3fb25e69c3a   \n",
       "49996  732b04fb47dd9559dbdcd099c5af484e  9881bcdd5a0ad4733037b3fb25e69c3a   \n",
       "49997  c10afb53957fb8012707239bdfa66018  9881bcdd5a0ad4733037b3fb25e69c3a   \n",
       "49998  f74363a6688ba11b71b4d980a959b8d3  9881bcdd5a0ad4733037b3fb25e69c3a   \n",
       "49999  3d60801ccb96ef038747130e8a34ceda  9881bcdd5a0ad4733037b3fb25e69c3a   \n",
       "\n",
       "             make            model  \\\n",
       "0            SEAT           Toledo   \n",
       "1         CITROEN               C1   \n",
       "2            FORD  Transit Connect   \n",
       "3      VOLKSWAGEN        Caravelle   \n",
       "4            FORD          Transit   \n",
       "...           ...              ...   \n",
       "49995     HYUNDAI              i30   \n",
       "49996     RENAULT           Laguna   \n",
       "49997     PEUGEOT              108   \n",
       "49998        AUDI              RS4   \n",
       "49999     CITROEN               C2   \n",
       "\n",
       "                                                 version  price  \\\n",
       "0                                       SEAT Toledo  4p.    950   \n",
       "1                 CITROEN C1 PureTech 60KW 82CV Feel 5p.   6200   \n",
       "2      FORD Transit Connect Van 1.5 TDCi 100cv Ambien...   7851   \n",
       "3      VOLKSWAGEN Caravelle Largo 2.0 TDI 140 Comfort...  19426   \n",
       "4      FORD Transit 350 96kW L4 Ambiente Propulsion T...  22850   \n",
       "...                                                  ...    ...   \n",
       "49995        HYUNDAI i30 1.4 TGDI Tecno Fastback DCT 5p.  18490   \n",
       "49996  RENAULT Laguna Coupe Limited 2.0 Energy dCi 15...  14500   \n",
       "49997           PEUGEOT 108 TOP Allure VTi 52kW 72CV 5p.  11000   \n",
       "49998           AUDI RS4 Avant 4.2 FSI 450cv quattro 5p.  47900   \n",
       "49999                    CITROEN C2 1.4 HDI VTR Plus 3p.   2790   \n",
       "\n",
       "       price_financed      fuel    year     kms  power  doors       shift  \\\n",
       "0                 NaN    Diésel  2000.0  227000    NaN      4      Manual   \n",
       "1                 NaN  Gasolina  2017.0   50071   82.0      5      Manual   \n",
       "2              7024.0    Diésel  2016.0  103000  100.0      4      Manual   \n",
       "3                 NaN    Diésel  2014.0  120000  140.0      4      Manual   \n",
       "4             22800.0    Diésel  2017.0  107000  130.0      2      Manual   \n",
       "...               ...       ...     ...     ...    ...    ...         ...   \n",
       "49995         16490.0  Gasolina  2018.0   47000  140.0      5  Automático   \n",
       "49996         13551.0    Diésel  2015.0   68750  150.0      2      Manual   \n",
       "49997          9000.0  Gasolina  2019.0   21422   72.0      5      Manual   \n",
       "49998             NaN  Gasolina  2013.0   47900  450.0      5  Automático   \n",
       "49999             NaN    Diésel  2006.0  106000   70.0      3      Manual   \n",
       "\n",
       "                                color  photos  is_professional  \\\n",
       "0                               Verde       5            False   \n",
       "1                              Blanco       6             True   \n",
       "2                              Blanco      10             True   \n",
       "3                              Blanco       9             True   \n",
       "4                              Blanco       4             True   \n",
       "...                               ...     ...              ...   \n",
       "49995                    Gris / Plata      26             True   \n",
       "49996  KNG Gris Casiopea (metalizado)      30             True   \n",
       "49997                    Gris / Plata      17             True   \n",
       "49998        Gris / Plata (Antracita)      20             True   \n",
       "49999                           Negro      21             True   \n",
       "\n",
       "                                 dealer   province country  \\\n",
       "0      0f4bb8455d27349b8273109b66a847f3    Navarra   Spain   \n",
       "1                         Autos Raymara   Tenerife   Spain   \n",
       "2                               Auto 96  Barcelona   Spain   \n",
       "3                              Inniauto    Navarra   Spain   \n",
       "4                  Autofleet España,s.l    Sevilla   Spain   \n",
       "...                                 ...        ...     ...   \n",
       "49995                   Flexicar Málaga     Málaga   Spain   \n",
       "49996                      Ocasion Plus     Málaga   Spain   \n",
       "49997                 Psa Retail Huelva     Huelva   Spain   \n",
       "49998                    Codigocar Lugo       Lugo   Spain   \n",
       "49999                   AUTOVALENCIA 19  Barcelona   Spain   \n",
       "\n",
       "              publish_date          insert_date  \n",
       "0      2020-12-18 10:47:13  2021-01-15 00:00:00  \n",
       "1      2021-01-02 11:25:40  2021-01-15 00:00:00  \n",
       "2      2020-12-16 10:51:45  2021-01-15 00:00:00  \n",
       "3      2020-11-25 11:09:14  2021-01-15 00:00:00  \n",
       "4      2021-01-12 20:00:34  2021-01-15 00:00:00  \n",
       "...                    ...                  ...  \n",
       "49995  2020-11-24 19:59:52  2021-01-15 00:00:00  \n",
       "49996  2021-01-13 17:02:41  2021-01-15 00:00:00  \n",
       "49997  2021-01-08 16:47:24  2021-01-15 00:00:00  \n",
       "49998  2021-01-13 16:22:53  2021-01-15 00:00:00  \n",
       "49999  2021-01-10 16:32:41  2021-01-15 00:00:00  \n",
       "\n",
       "[50000 rows x 21 columns]"
      ]
     },
     "execution_count": 154,
     "metadata": {},
     "output_type": "execute_result"
    }
   ],
   "source": [
    "data2015=pd.read_csv('data/coches-de-segunda-mano-sample.csv')\n",
    "data2015"
   ]
  },
  {
   "cell_type": "code",
   "execution_count": 30,
   "id": "36bf6433",
   "metadata": {},
   "outputs": [
    {
     "data": {
      "text/html": [
       "<div>\n",
       "<style scoped>\n",
       "    .dataframe tbody tr th:only-of-type {\n",
       "        vertical-align: middle;\n",
       "    }\n",
       "\n",
       "    .dataframe tbody tr th {\n",
       "        vertical-align: top;\n",
       "    }\n",
       "\n",
       "    .dataframe thead th {\n",
       "        text-align: right;\n",
       "    }\n",
       "</style>\n",
       "<table border=\"1\" class=\"dataframe\">\n",
       "  <thead>\n",
       "    <tr style=\"text-align: right;\">\n",
       "      <th></th>\n",
       "      <th>url</th>\n",
       "      <th>company</th>\n",
       "      <th>make</th>\n",
       "      <th>model</th>\n",
       "      <th>version</th>\n",
       "      <th>price</th>\n",
       "      <th>price_financed</th>\n",
       "      <th>fuel</th>\n",
       "      <th>year</th>\n",
       "      <th>kms</th>\n",
       "      <th>power</th>\n",
       "      <th>doors</th>\n",
       "      <th>shift</th>\n",
       "      <th>color</th>\n",
       "      <th>photos</th>\n",
       "      <th>is_professional</th>\n",
       "      <th>dealer</th>\n",
       "      <th>province</th>\n",
       "      <th>country</th>\n",
       "      <th>publish_date</th>\n",
       "      <th>insert_date</th>\n",
       "    </tr>\n",
       "  </thead>\n",
       "  <tbody>\n",
       "    <tr>\n",
       "      <th>31722</th>\n",
       "      <td>30ddb86262997316f24ca6d9f43347ff</td>\n",
       "      <td>9881bcdd5a0ad4733037b3fb25e69c3a</td>\n",
       "      <td>PEUGEOT</td>\n",
       "      <td>Boxer</td>\n",
       "      <td>PEUGEOT Boxer 335 L2H2 HDi 160 4p.</td>\n",
       "      <td>24000</td>\n",
       "      <td>NaN</td>\n",
       "      <td>Diésel</td>\n",
       "      <td>2007.0</td>\n",
       "      <td>240000</td>\n",
       "      <td>157.0</td>\n",
       "      <td>4</td>\n",
       "      <td>Manual</td>\n",
       "      <td>Gris / Plata</td>\n",
       "      <td>5</td>\n",
       "      <td>False</td>\n",
       "      <td>caff6ac72029f322690842807cde0571</td>\n",
       "      <td>Barcelona</td>\n",
       "      <td>Spain</td>\n",
       "      <td>2020-12-01 18:09:59</td>\n",
       "      <td>2021-01-15 00:00:00</td>\n",
       "    </tr>\n",
       "  </tbody>\n",
       "</table>\n",
       "</div>"
      ],
      "text/plain": [
       "                                    url                           company  \\\n",
       "31722  30ddb86262997316f24ca6d9f43347ff  9881bcdd5a0ad4733037b3fb25e69c3a   \n",
       "\n",
       "          make  model                             version  price  \\\n",
       "31722  PEUGEOT  Boxer  PEUGEOT Boxer 335 L2H2 HDi 160 4p.  24000   \n",
       "\n",
       "       price_financed    fuel    year     kms  power  doors   shift  \\\n",
       "31722             NaN  Diésel  2007.0  240000  157.0      4  Manual   \n",
       "\n",
       "              color  photos  is_professional  \\\n",
       "31722  Gris / Plata       5            False   \n",
       "\n",
       "                                 dealer   province country  \\\n",
       "31722  caff6ac72029f322690842807cde0571  Barcelona   Spain   \n",
       "\n",
       "              publish_date          insert_date  \n",
       "31722  2020-12-01 18:09:59  2021-01-15 00:00:00  "
      ]
     },
     "execution_count": 30,
     "metadata": {},
     "output_type": "execute_result"
    }
   ],
   "source": [
    "data2015[31722:31723]"
   ]
  },
  {
   "cell_type": "code",
   "execution_count": null,
   "id": "493b664d",
   "metadata": {},
   "outputs": [],
   "source": []
  },
  {
   "cell_type": "code",
   "execution_count": 31,
   "id": "bbc2b8ba",
   "metadata": {},
   "outputs": [],
   "source": [
    "entreno=data2015.copy()\n",
    "columnas=['make', 'model', 'price',\n",
    "       'fuel', 'year', 'kms', 'power', 'doors', 'shift', \n",
    "       'is_professional', 'province']"
   ]
  },
  {
   "cell_type": "code",
   "execution_count": 32,
   "id": "6a52c874",
   "metadata": {},
   "outputs": [],
   "source": [
    "cluster=entreno[columnas]"
   ]
  },
  {
   "cell_type": "code",
   "execution_count": 33,
   "id": "c5195ca1",
   "metadata": {},
   "outputs": [
    {
     "name": "stderr",
     "output_type": "stream",
     "text": [
      "C:\\Users\\alima\\AppData\\Local\\Temp/ipykernel_17584/892693899.py:1: SettingWithCopyWarning: \n",
      "A value is trying to be set on a copy of a slice from a DataFrame.\n",
      "Try using .loc[row_indexer,col_indexer] = value instead\n",
      "\n",
      "See the caveats in the documentation: https://pandas.pydata.org/pandas-docs/stable/user_guide/indexing.html#returning-a-view-versus-a-copy\n",
      "  cluster['model'], model_names=pd.factorize(cluster['model'])\n",
      "C:\\Users\\alima\\anaconda3\\lib\\site-packages\\pandas\\core\\generic.py:5516: SettingWithCopyWarning: \n",
      "A value is trying to be set on a copy of a slice from a DataFrame.\n",
      "Try using .loc[row_indexer,col_indexer] = value instead\n",
      "\n",
      "See the caveats in the documentation: https://pandas.pydata.org/pandas-docs/stable/user_guide/indexing.html#returning-a-view-versus-a-copy\n",
      "  self[name] = value\n",
      "C:\\Users\\alima\\AppData\\Local\\Temp/ipykernel_17584/892693899.py:4: SettingWithCopyWarning: \n",
      "A value is trying to be set on a copy of a slice from a DataFrame.\n",
      "Try using .loc[row_indexer,col_indexer] = value instead\n",
      "\n",
      "See the caveats in the documentation: https://pandas.pydata.org/pandas-docs/stable/user_guide/indexing.html#returning-a-view-versus-a-copy\n",
      "  cluster['shift'],_=pd.factorize(cluster['shift'])\n"
     ]
    }
   ],
   "source": [
    "cluster['model'], model_names=pd.factorize(cluster['model'])\n",
    "cluster.make,_=pd.factorize(cluster.make)\n",
    "cluster.fuel,_=pd.factorize(cluster.fuel)\n",
    "cluster['shift'],_=pd.factorize(cluster['shift'])\n",
    "cluster.is_professional,_=pd.factorize(cluster.is_professional)\n",
    "cluster.province,_=pd.factorize(cluster.province)"
   ]
  },
  {
   "cell_type": "code",
   "execution_count": 34,
   "id": "2a0d5208",
   "metadata": {},
   "outputs": [
    {
     "name": "stderr",
     "output_type": "stream",
     "text": [
      "C:\\Users\\alima\\anaconda3\\lib\\site-packages\\pandas\\util\\_decorators.py:311: SettingWithCopyWarning: \n",
      "A value is trying to be set on a copy of a slice from a DataFrame\n",
      "\n",
      "See the caveats in the documentation: https://pandas.pydata.org/pandas-docs/stable/user_guide/indexing.html#returning-a-view-versus-a-copy\n",
      "  return func(*args, **kwargs)\n"
     ]
    }
   ],
   "source": [
    "cluster.dropna(axis=0,inplace=True)"
   ]
  },
  {
   "cell_type": "code",
   "execution_count": 35,
   "id": "2341d42a",
   "metadata": {},
   "outputs": [
    {
     "data": {
      "image/png": "[encoded data removed]",
      "text/plain": [
       "<Figure size 1080x720 with 2 Axes>"
      ]
     },
     "metadata": {},
     "output_type": "display_data"
    }
   ],
   "source": [
    "plt.figure(figsize=(15, 10))\n",
    "\n",
    "sns.set(style='white')\n",
    "\n",
    "mask=np.triu(np.ones_like(cluster.corr(), dtype=bool))\n",
    "\n",
    "cmap=sns.diverging_palette(0, 10, as_cmap=True)\n",
    "\n",
    "\n",
    "\n",
    "sns.heatmap(cluster.corr(),\n",
    "           mask=mask,\n",
    "          cmap=cmap,\n",
    "          center=0,\n",
    "          square=True,\n",
    "          linewidths=0.5,\n",
    "          cbar_kws={'shrink': 0.5},\n",
    "           annot=True);\n"
   ]
  },
  {
   "cell_type": "code",
   "execution_count": 36,
   "id": "a4a8817e",
   "metadata": {},
   "outputs": [
    {
     "name": "stderr",
     "output_type": "stream",
     "text": [
      "C:\\Users\\alima\\anaconda3\\lib\\site-packages\\pandas\\core\\frame.py:4906: SettingWithCopyWarning: \n",
      "A value is trying to be set on a copy of a slice from a DataFrame\n",
      "\n",
      "See the caveats in the documentation: https://pandas.pydata.org/pandas-docs/stable/user_guide/indexing.html#returning-a-view-versus-a-copy\n",
      "  return super().drop(\n"
     ]
    }
   ],
   "source": [
    "cluster.drop(columns=['province','doors'], inplace=True)"
   ]
  },
  {
   "cell_type": "markdown",
   "id": "bdf6b6cd",
   "metadata": {},
   "source": [
    "**Random Forest**"
   ]
  },
  {
   "cell_type": "code",
   "execution_count": 37,
   "id": "55f7f99b",
   "metadata": {},
   "outputs": [],
   "source": [
    "X=cluster.drop('price', axis=1)\n",
    "\n",
    "y=cluster.price"
   ]
  },
  {
   "cell_type": "code",
   "execution_count": 38,
   "id": "2fcb09b9",
   "metadata": {},
   "outputs": [],
   "source": [
    "X_train, X_test, y_train, y_test = tts(X, y, test_size=0.2, train_size=0.8, random_state=23)"
   ]
  },
  {
   "cell_type": "code",
   "execution_count": 39,
   "id": "0d493423",
   "metadata": {},
   "outputs": [],
   "source": [
    "bosque=RFR()"
   ]
  },
  {
   "cell_type": "code",
   "execution_count": 40,
   "id": "bb546223",
   "metadata": {},
   "outputs": [],
   "source": [
    "X=scaler.fit_transform(X)"
   ]
  },
  {
   "cell_type": "code",
   "execution_count": 41,
   "id": "b7990b43",
   "metadata": {},
   "outputs": [
    {
     "data": {
      "text/plain": [
       "RandomForestRegressor()"
      ]
     },
     "execution_count": 41,
     "metadata": {},
     "output_type": "execute_result"
    }
   ],
   "source": [
    "bosque.fit(X_train,y_train)"
   ]
  },
  {
   "cell_type": "code",
   "execution_count": 42,
   "id": "c6059143",
   "metadata": {},
   "outputs": [],
   "source": [
    "y_pred=bosque.predict(X_test)"
   ]
  },
  {
   "cell_type": "code",
   "execution_count": 43,
   "id": "57c63079",
   "metadata": {},
   "outputs": [
    {
     "data": {
      "text/plain": [
       "5449.3940032481905"
      ]
     },
     "execution_count": 43,
     "metadata": {},
     "output_type": "execute_result"
    }
   ],
   "source": [
    "mse(y_pred,y_test,squared=False)"
   ]
  },
  {
   "cell_type": "code",
   "execution_count": 44,
   "id": "cbe35a27",
   "metadata": {},
   "outputs": [
    {
     "data": {
      "text/plain": [
       "0.8865354452547981"
      ]
     },
     "execution_count": 44,
     "metadata": {},
     "output_type": "execute_result"
    }
   ],
   "source": [
    "r2(y_pred,y_test)"
   ]
  },
  {
   "cell_type": "code",
   "execution_count": 45,
   "id": "6039e3f1",
   "metadata": {},
   "outputs": [
    {
     "data": {
      "image/png": "[encoded data removed]",
      "text/plain": [
       "<Figure size 1440x720 with 1 Axes>"
      ]
     },
     "metadata": {},
     "output_type": "display_data"
    }
   ],
   "source": [
    "y_pred=bosque.predict(X_test)\n",
    "number_of_observations=20\n",
    "x_ax = range(len(y_test[:number_of_observations]))\n",
    "plt.figure(figsize=(20,10))\n",
    "plt.plot(x_ax, y_test[:number_of_observations], label=\"True\")\n",
    "plt.plot(x_ax, y_pred[:number_of_observations], label=\"Predicted\")\n",
    "plt.title(\"Car Price - True vs Predicted data\")\n",
    "plt.xlabel('Observation Number')\n",
    "plt.ylabel('Price')\n",
    "plt.xticks(np.arange(number_of_observations))\n",
    "plt.legend()\n",
    "plt.grid()\n",
    "plt.show()"
   ]
  },
  {
   "cell_type": "markdown",
   "id": "a371322a",
   "metadata": {},
   "source": [
    "**COMPARACION**"
   ]
  },
  {
   "cell_type": "code",
   "execution_count": 46,
   "id": "de4d16fc",
   "metadata": {},
   "outputs": [
    {
     "data": {
      "text/html": [
       "<div>\n",
       "<style scoped>\n",
       "    .dataframe tbody tr th:only-of-type {\n",
       "        vertical-align: middle;\n",
       "    }\n",
       "\n",
       "    .dataframe tbody tr th {\n",
       "        vertical-align: top;\n",
       "    }\n",
       "\n",
       "    .dataframe thead th {\n",
       "        text-align: right;\n",
       "    }\n",
       "</style>\n",
       "<table border=\"1\" class=\"dataframe\">\n",
       "  <thead>\n",
       "    <tr style=\"text-align: right;\">\n",
       "      <th></th>\n",
       "      <th>version</th>\n",
       "      <th>precio</th>\n",
       "      <th>combustible</th>\n",
       "      <th>CV</th>\n",
       "      <th>km</th>\n",
       "      <th>lugar</th>\n",
       "      <th>año</th>\n",
       "      <th>link</th>\n",
       "      <th>modelo</th>\n",
       "      <th>marca</th>\n",
       "    </tr>\n",
       "  </thead>\n",
       "  <tbody>\n",
       "    <tr>\n",
       "      <th>0</th>\n",
       "      <td>Volkswagen Polo 1.0 TSI Advance 70kW</td>\n",
       "      <td>13.490</td>\n",
       "      <td>Gasolina</td>\n",
       "      <td>Unknown</td>\n",
       "      <td>36.000</td>\n",
       "      <td>Tenerife        ...</td>\n",
       "      <td>2019</td>\n",
       "      <td>https://www.coches.com/coches-segunda-mano/oca...</td>\n",
       "      <td>Polo</td>\n",
       "      <td>Volkswagen</td>\n",
       "    </tr>\n",
       "    <tr>\n",
       "      <th>1</th>\n",
       "      <td>Toyota Yaris 1.5 Active</td>\n",
       "      <td>10.500</td>\n",
       "      <td>Gasolina</td>\n",
       "      <td>Unknown</td>\n",
       "      <td>62.200</td>\n",
       "      <td>Guadalajara     ...</td>\n",
       "      <td>2017</td>\n",
       "      <td>https://www.coches.com/coches-segunda-mano/oca...</td>\n",
       "      <td>Yaris</td>\n",
       "      <td>Toyota</td>\n",
       "    </tr>\n",
       "    <tr>\n",
       "      <th>2</th>\n",
       "      <td>Skoda Fabia 1.4 16v Elegance 100</td>\n",
       "      <td>3.900</td>\n",
       "      <td>Gasolina</td>\n",
       "      <td>Unknown</td>\n",
       "      <td>225.000</td>\n",
       "      <td>Lleida</td>\n",
       "      <td>2000</td>\n",
       "      <td>https://www.coches.com/coches-segunda-mano/oca...</td>\n",
       "      <td>Fabia</td>\n",
       "      <td>Skoda</td>\n",
       "    </tr>\n",
       "    <tr>\n",
       "      <th>3</th>\n",
       "      <td>Citroen C4 Picasso 1.6e-HDi Exclusive 115</td>\n",
       "      <td>9.750</td>\n",
       "      <td>Diesel</td>\n",
       "      <td>Unknown</td>\n",
       "      <td>150.000</td>\n",
       "      <td>Madrid</td>\n",
       "      <td>2015</td>\n",
       "      <td>https://www.coches.com/coches-segunda-mano/oca...</td>\n",
       "      <td>C4</td>\n",
       "      <td>Citroen</td>\n",
       "    </tr>\n",
       "    <tr>\n",
       "      <th>4</th>\n",
       "      <td>Cupra Formentor 1.5 TSI 150</td>\n",
       "      <td>29.125</td>\n",
       "      <td>Gasolina</td>\n",
       "      <td>Unknown</td>\n",
       "      <td>0</td>\n",
       "      <td>Madrid</td>\n",
       "      <td>2022</td>\n",
       "      <td>https://www.coches.com/km0/seminuevo-cupra-for...</td>\n",
       "      <td>Formentor</td>\n",
       "      <td>Cupra</td>\n",
       "    </tr>\n",
       "  </tbody>\n",
       "</table>\n",
       "</div>"
      ],
      "text/plain": [
       "                                     version  precio combustible       CV  \\\n",
       "0       Volkswagen Polo 1.0 TSI Advance 70kW  13.490    Gasolina  Unknown   \n",
       "1                    Toyota Yaris 1.5 Active  10.500    Gasolina  Unknown   \n",
       "2           Skoda Fabia 1.4 16v Elegance 100   3.900    Gasolina  Unknown   \n",
       "3  Citroen C4 Picasso 1.6e-HDi Exclusive 115   9.750      Diesel  Unknown   \n",
       "4                Cupra Formentor 1.5 TSI 150  29.125    Gasolina  Unknown   \n",
       "\n",
       "                                        km  \\\n",
       "0                    36.000                  \n",
       "1                    62.200                  \n",
       "2                   225.000                  \n",
       "3                   150.000                  \n",
       "4                         0                  \n",
       "\n",
       "                                               lugar   año  \\\n",
       "0                                Tenerife        ...  2019   \n",
       "1                                Guadalajara     ...  2017   \n",
       "2                                Lleida               2000   \n",
       "3                                Madrid               2015   \n",
       "4                                Madrid               2022   \n",
       "\n",
       "                                                link     modelo       marca  \n",
       "0  https://www.coches.com/coches-segunda-mano/oca...       Polo  Volkswagen  \n",
       "1  https://www.coches.com/coches-segunda-mano/oca...      Yaris      Toyota  \n",
       "2  https://www.coches.com/coches-segunda-mano/oca...      Fabia       Skoda  \n",
       "3  https://www.coches.com/coches-segunda-mano/oca...         C4     Citroen  \n",
       "4  https://www.coches.com/km0/seminuevo-cupra-for...  Formentor       Cupra  "
      ]
     },
     "execution_count": 46,
     "metadata": {},
     "output_type": "execute_result"
    }
   ],
   "source": [
    "cochescom=pd.read_csv('coches.com_bueno.csv')\n",
    "cochescom.drop(columns='Unnamed: 0', inplace=True)\n",
    "cochescom.head()"
   ]
  },
  {
   "cell_type": "code",
   "execution_count": 47,
   "id": "ab7225e9",
   "metadata": {},
   "outputs": [
    {
     "name": "stderr",
     "output_type": "stream",
     "text": [
      "C:\\Users\\alima\\AppData\\Local\\Temp/ipykernel_17584/3537906775.py:5: SettingWithCopyWarning: \n",
      "A value is trying to be set on a copy of a slice from a DataFrame\n",
      "\n",
      "See the caveats in the documentation: https://pandas.pydata.org/pandas-docs/stable/user_guide/indexing.html#returning-a-view-versus-a-copy\n",
      "  cochescom.CV[i]=int(cochescom.version[i].split(' ')[-1])\n",
      "C:\\Users\\alima\\AppData\\Local\\Temp/ipykernel_17584/3537906775.py:12: SettingWithCopyWarning: \n",
      "A value is trying to be set on a copy of a slice from a DataFrame\n",
      "\n",
      "See the caveats in the documentation: https://pandas.pydata.org/pandas-docs/stable/user_guide/indexing.html#returning-a-view-versus-a-copy\n",
      "  cochescom.CV[i]=kw_to_cv(cochescom.version[i])\n"
     ]
    }
   ],
   "source": [
    "\n",
    "for i in range(len(cochescom)):\n",
    "   \n",
    "        try:\n",
    "             if cochescom.CV[i]=='Unknown' and cochescom.version[i].split(' ')[-1].isnumeric():\n",
    "                cochescom.CV[i]=int(cochescom.version[i].split(' ')[-1])\n",
    "        except: \n",
    "            pass\n",
    "for i in range(len(cochescom)):\n",
    "    \n",
    "        try:\n",
    "            if cochescom.CV[i]=='Unknown' and cochescom.version.str.contains('kW')[i]:\n",
    "                cochescom.CV[i]=kw_to_cv(cochescom.version[i])\n",
    "        except: \n",
    "            pass"
   ]
  },
  {
   "cell_type": "code",
   "execution_count": 48,
   "id": "deddddca",
   "metadata": {},
   "outputs": [
    {
     "name": "stderr",
     "output_type": "stream",
     "text": [
      "C:\\Users\\alima\\AppData\\Local\\Temp/ipykernel_17584/258785238.py:1: FutureWarning: The default value of regex will change from True to False in a future version. In addition, single character regular expressions will *not* be treated as literal strings when regex=True.\n",
      "  cochescom.CV=cochescom.CV.str.replace('.','')\n"
     ]
    }
   ],
   "source": [
    "cochescom.CV=cochescom.CV.str.replace('.','')"
   ]
  },
  {
   "cell_type": "code",
   "execution_count": 49,
   "id": "4ed65abc",
   "metadata": {},
   "outputs": [],
   "source": [
    "def kw_to_cv(cadena):\n",
    "    \n",
    "    for inx, letra in enumerate(cadena):\n",
    "        if letra in [\"k\",\"K\"] and cadena[inx+1] in [\"W\",\"w\"]:\n",
    "            try:\n",
    "                num= int(cadena[inx-3:inx])\n",
    "            except:\n",
    "                num= int(cadena[inx-2:inx])\n",
    "    return int(num*1.36)\n",
    "\n",
    "                \n"
   ]
  },
  {
   "cell_type": "code",
   "execution_count": 22,
   "id": "1368ebc1",
   "metadata": {},
   "outputs": [
    {
     "name": "stderr",
     "output_type": "stream",
     "text": [
      "C:\\Users\\alima\\AppData\\Local\\Temp/ipykernel_17584/1225388830.py:1: SettingWithCopyWarning: \n",
      "A value is trying to be set on a copy of a slice from a DataFrame\n",
      "\n",
      "See the caveats in the documentation: https://pandas.pydata.org/pandas-docs/stable/user_guide/indexing.html#returning-a-view-versus-a-copy\n",
      "  cochescom.CV[3]=int(cochescom.version[3].rsplit(' ', 1)[-1])\n"
     ]
    }
   ],
   "source": [
    "cochescom.CV[3]=int(cochescom.version[3].rsplit(' ', 1)[-1])"
   ]
  },
  {
   "cell_type": "code",
   "execution_count": 50,
   "id": "22b27343",
   "metadata": {},
   "outputs": [
    {
     "data": {
      "text/plain": [
       "Unknown    970\n",
       " 150 cv    244\n",
       " 110 cv    162\n",
       " 130 cv    149\n",
       " 136 cv     87\n",
       "          ... \n",
       " 127 cv      1\n",
       " 449 cv      1\n",
       " 360 cv      1\n",
       " 290 cv      1\n",
       " 252 cv      1\n",
       "Name: CV, Length: 182, dtype: int64"
      ]
     },
     "execution_count": 50,
     "metadata": {},
     "output_type": "execute_result"
    }
   ],
   "source": [
    "cochescom.CV.value_counts()"
   ]
  },
  {
   "cell_type": "code",
   "execution_count": 51,
   "id": "2fe3e1d6",
   "metadata": {},
   "outputs": [
    {
     "data": {
      "text/plain": [
       "['make',\n",
       " 'model',\n",
       " 'price',\n",
       " 'fuel',\n",
       " 'year',\n",
       " 'kms',\n",
       " 'power',\n",
       " 'doors',\n",
       " 'shift',\n",
       " 'is_professional',\n",
       " 'province']"
      ]
     },
     "execution_count": 51,
     "metadata": {},
     "output_type": "execute_result"
    }
   ],
   "source": [
    "columnas"
   ]
  },
  {
   "cell_type": "code",
   "execution_count": 52,
   "id": "3f774b7a",
   "metadata": {},
   "outputs": [
    {
     "data": {
      "text/plain": [
       "False    3654\n",
       "True      324\n",
       "Name: version, dtype: int64"
      ]
     },
     "execution_count": 52,
     "metadata": {},
     "output_type": "execute_result"
    }
   ],
   "source": [
    "cochescom.version.str.contains('kW').value_counts()"
   ]
  },
  {
   "cell_type": "code",
   "execution_count": null,
   "id": "d5c1fbac",
   "metadata": {},
   "outputs": [],
   "source": [
    "\n",
    "    "
   ]
  },
  {
   "cell_type": "code",
   "execution_count": 53,
   "id": "27aba6a1",
   "metadata": {},
   "outputs": [
    {
     "data": {
      "text/plain": [
       "True"
      ]
     },
     "execution_count": 53,
     "metadata": {},
     "output_type": "execute_result"
    }
   ],
   "source": [
    "cochescom.version.str.contains('kW')[0]"
   ]
  },
  {
   "cell_type": "markdown",
   "id": "e2f25680",
   "metadata": {},
   "source": [
    "**RFR CON DUMMIES**"
   ]
  },
  {
   "cell_type": "code",
   "execution_count": 54,
   "id": "e62f51af",
   "metadata": {},
   "outputs": [
    {
     "name": "stderr",
     "output_type": "stream",
     "text": [
      "C:\\Users\\alima\\anaconda3\\lib\\site-packages\\pandas\\util\\_decorators.py:311: SettingWithCopyWarning: \n",
      "A value is trying to be set on a copy of a slice from a DataFrame\n",
      "\n",
      "See the caveats in the documentation: https://pandas.pydata.org/pandas-docs/stable/user_guide/indexing.html#returning-a-view-versus-a-copy\n",
      "  return func(*args, **kwargs)\n"
     ]
    }
   ],
   "source": [
    "RFR_dum=entreno[columnas]\n",
    "RFR_dum.dropna(axis=0, inplace=True)"
   ]
  },
  {
   "cell_type": "code",
   "execution_count": 55,
   "id": "731c264a",
   "metadata": {},
   "outputs": [],
   "source": [
    "X_rfr=RFR_dum.drop('price', axis=1)\n",
    "y_rfr=RFR_dum.price"
   ]
  },
  {
   "cell_type": "code",
   "execution_count": 56,
   "id": "c0d1b602",
   "metadata": {},
   "outputs": [],
   "source": [
    "X_rfr[['year','kms','power','doors']]=scaler.fit_transform(X_rfr[['year','kms','power','doors']])"
   ]
  },
  {
   "cell_type": "code",
   "execution_count": 57,
   "id": "c45bb04d",
   "metadata": {},
   "outputs": [],
   "source": [
    "X_rfr=pd.get_dummies(X_rfr, columns=['make','model','fuel','shift','is_professional','province'], drop_first=True)\n"
   ]
  },
  {
   "cell_type": "code",
   "execution_count": 58,
   "id": "ae701e38",
   "metadata": {},
   "outputs": [
    {
     "data": {
      "text/plain": [
       "((33078, 1015), (8270, 1015), (33078,), (8270,))"
      ]
     },
     "execution_count": 58,
     "metadata": {},
     "output_type": "execute_result"
    }
   ],
   "source": [
    "X_train, X_test, y_train, y_test = tts(X_rfr, y_rfr, \n",
    "                                                    test_size=0.2, train_size=0.8,\n",
    "                                                    random_state=42)\n",
    "\n",
    "X_train.shape, X_test.shape, y_train.shape, y_test.shape"
   ]
  },
  {
   "cell_type": "code",
   "execution_count": 59,
   "id": "abdd6783",
   "metadata": {},
   "outputs": [
    {
     "data": {
      "text/plain": [
       "RandomForestRegressor()"
      ]
     },
     "execution_count": 59,
     "metadata": {},
     "output_type": "execute_result"
    }
   ],
   "source": [
    "bosque.fit(X_train,y_train)"
   ]
  },
  {
   "cell_type": "code",
   "execution_count": 60,
   "id": "fe2af451",
   "metadata": {},
   "outputs": [],
   "source": [
    "y_pred_rfr=bosque.predict(X_test)"
   ]
  },
  {
   "cell_type": "code",
   "execution_count": 61,
   "id": "0904867f",
   "metadata": {},
   "outputs": [
    {
     "data": {
      "text/plain": [
       "4431.589585205823"
      ]
     },
     "execution_count": 61,
     "metadata": {},
     "output_type": "execute_result"
    }
   ],
   "source": [
    "mse(y_pred_rfr,y_test,squared=False)"
   ]
  },
  {
   "cell_type": "code",
   "execution_count": 62,
   "id": "85bcc103",
   "metadata": {},
   "outputs": [
    {
     "data": {
      "text/plain": [
       "0.9238224661000163"
      ]
     },
     "execution_count": 62,
     "metadata": {},
     "output_type": "execute_result"
    }
   ],
   "source": [
    "r2(y_pred_rfr,y_test)"
   ]
  },
  {
   "cell_type": "code",
   "execution_count": 63,
   "id": "c3c52fdf",
   "metadata": {},
   "outputs": [
    {
     "data": {
      "image/png": "[encoded data removed]",
      "text/plain": [
       "<Figure size 1440x720 with 1 Axes>"
      ]
     },
     "metadata": {},
     "output_type": "display_data"
    }
   ],
   "source": [
    "y_pred_rfr=bosque.predict(X_test)\n",
    "number_of_observations=20\n",
    "x_ax = range(len(y_test[:number_of_observations]))\n",
    "plt.figure(figsize=(20,10))\n",
    "plt.plot(x_ax, y_test[:number_of_observations], label=\"True\")\n",
    "plt.plot(x_ax, y_pred_rfr[:number_of_observations], label=\"Predicted\")\n",
    "plt.title(\"Car Price - True vs Predicted data\")\n",
    "plt.xlabel('Observation Number')\n",
    "\n",
    "plt.ylabel('Price')\n",
    "plt.xticks(np.arange(number_of_observations))\n",
    "plt.legend()\n",
    "plt.grid()\n",
    "plt.show()"
   ]
  },
  {
   "cell_type": "code",
   "execution_count": 64,
   "id": "1416d5a0",
   "metadata": {},
   "outputs": [
    {
     "data": {
      "text/plain": [
       "704      40600\n",
       "766      39900\n",
       "1032     19900\n",
       "1303     17900\n",
       "1597     17990\n",
       "         ...  \n",
       "48616    20990\n",
       "49751    16890\n",
       "49755    36300\n",
       "49756    16990\n",
       "49880    12990\n",
       "Name: price, Length: 100, dtype: int64"
      ]
     },
     "execution_count": 64,
     "metadata": {},
     "output_type": "execute_result"
    }
   ],
   "source": [
    "RFR_dum[RFR_dum.model=='Kona'].price"
   ]
  },
  {
   "cell_type": "markdown",
   "id": "ec8712e2",
   "metadata": {},
   "source": [
    "**BUSQUEDA DE INDICES PARA FILTRAR LOS QUE DESVIAN EL MODELO**"
   ]
  },
  {
   "cell_type": "code",
   "execution_count": 65,
   "id": "9cd69c21",
   "metadata": {},
   "outputs": [
    {
     "data": {
      "text/html": [
       "<div>\n",
       "<style scoped>\n",
       "    .dataframe tbody tr th:only-of-type {\n",
       "        vertical-align: middle;\n",
       "    }\n",
       "\n",
       "    .dataframe tbody tr th {\n",
       "        vertical-align: top;\n",
       "    }\n",
       "\n",
       "    .dataframe thead th {\n",
       "        text-align: right;\n",
       "    }\n",
       "</style>\n",
       "<table border=\"1\" class=\"dataframe\">\n",
       "  <thead>\n",
       "    <tr style=\"text-align: right;\">\n",
       "      <th></th>\n",
       "      <th>make</th>\n",
       "      <th>model</th>\n",
       "      <th>price</th>\n",
       "      <th>fuel</th>\n",
       "      <th>year</th>\n",
       "      <th>kms</th>\n",
       "      <th>power</th>\n",
       "      <th>doors</th>\n",
       "      <th>shift</th>\n",
       "      <th>is_professional</th>\n",
       "      <th>province</th>\n",
       "    </tr>\n",
       "  </thead>\n",
       "  <tbody>\n",
       "    <tr>\n",
       "      <th>31722</th>\n",
       "      <td>PEUGEOT</td>\n",
       "      <td>Boxer</td>\n",
       "      <td>24000</td>\n",
       "      <td>Diésel</td>\n",
       "      <td>2007.0</td>\n",
       "      <td>240000</td>\n",
       "      <td>157.0</td>\n",
       "      <td>4</td>\n",
       "      <td>Manual</td>\n",
       "      <td>False</td>\n",
       "      <td>Barcelona</td>\n",
       "    </tr>\n",
       "  </tbody>\n",
       "</table>\n",
       "</div>"
      ],
      "text/plain": [
       "          make  model  price    fuel    year     kms  power  doors   shift  \\\n",
       "31722  PEUGEOT  Boxer  24000  Diésel  2007.0  240000  157.0      4  Manual   \n",
       "\n",
       "       is_professional   province  \n",
       "31722            False  Barcelona  "
      ]
     },
     "execution_count": 65,
     "metadata": {},
     "output_type": "execute_result"
    }
   ],
   "source": [
    "RFR_dum[RFR_dum['price']==24000].iloc[34:35]"
   ]
  },
  {
   "cell_type": "code",
   "execution_count": 66,
   "id": "cd3e1f70",
   "metadata": {},
   "outputs": [],
   "source": [
    "diff=pd.DataFrame(y_test,y_pred_rfr, columns=['y_test','y_pred_rfr'])"
   ]
  },
  {
   "cell_type": "code",
   "execution_count": 67,
   "id": "33b80a11",
   "metadata": {},
   "outputs": [],
   "source": [
    "cols = ['y_test','y_pred_rfr']\n",
    "list_of_series = [y_test, y_pred_rfr]\n",
    "df = pd.DataFrame(list_of_series, columns=cols)"
   ]
  },
  {
   "cell_type": "code",
   "execution_count": 68,
   "id": "653d6d18",
   "metadata": {},
   "outputs": [
    {
     "data": {
      "text/html": [
       "<div>\n",
       "<style scoped>\n",
       "    .dataframe tbody tr th:only-of-type {\n",
       "        vertical-align: middle;\n",
       "    }\n",
       "\n",
       "    .dataframe tbody tr th {\n",
       "        vertical-align: top;\n",
       "    }\n",
       "\n",
       "    .dataframe thead th {\n",
       "        text-align: right;\n",
       "    }\n",
       "</style>\n",
       "<table border=\"1\" class=\"dataframe\">\n",
       "  <thead>\n",
       "    <tr style=\"text-align: right;\">\n",
       "      <th></th>\n",
       "      <th>price</th>\n",
       "      <th>pred</th>\n",
       "      <th>diff</th>\n",
       "    </tr>\n",
       "  </thead>\n",
       "  <tbody>\n",
       "    <tr>\n",
       "      <th>40966</th>\n",
       "      <td>29000</td>\n",
       "      <td>34439.07</td>\n",
       "      <td>5439.07</td>\n",
       "    </tr>\n",
       "    <tr>\n",
       "      <th>32546</th>\n",
       "      <td>23900</td>\n",
       "      <td>28892.14</td>\n",
       "      <td>4992.14</td>\n",
       "    </tr>\n",
       "    <tr>\n",
       "      <th>31241</th>\n",
       "      <td>16720</td>\n",
       "      <td>15176.13</td>\n",
       "      <td>1543.87</td>\n",
       "    </tr>\n",
       "    <tr>\n",
       "      <th>13789</th>\n",
       "      <td>11990</td>\n",
       "      <td>12746.05</td>\n",
       "      <td>756.05</td>\n",
       "    </tr>\n",
       "    <tr>\n",
       "      <th>17760</th>\n",
       "      <td>2500</td>\n",
       "      <td>2502.29</td>\n",
       "      <td>2.29</td>\n",
       "    </tr>\n",
       "    <tr>\n",
       "      <th>...</th>\n",
       "      <td>...</td>\n",
       "      <td>...</td>\n",
       "      <td>...</td>\n",
       "    </tr>\n",
       "    <tr>\n",
       "      <th>46571</th>\n",
       "      <td>16900</td>\n",
       "      <td>16073.43</td>\n",
       "      <td>826.57</td>\n",
       "    </tr>\n",
       "    <tr>\n",
       "      <th>29660</th>\n",
       "      <td>49869</td>\n",
       "      <td>50353.39</td>\n",
       "      <td>484.39</td>\n",
       "    </tr>\n",
       "    <tr>\n",
       "      <th>26134</th>\n",
       "      <td>5990</td>\n",
       "      <td>8721.72</td>\n",
       "      <td>2731.72</td>\n",
       "    </tr>\n",
       "    <tr>\n",
       "      <th>4731</th>\n",
       "      <td>9995</td>\n",
       "      <td>9035.03</td>\n",
       "      <td>959.97</td>\n",
       "    </tr>\n",
       "    <tr>\n",
       "      <th>48386</th>\n",
       "      <td>12249</td>\n",
       "      <td>9870.00</td>\n",
       "      <td>2379.00</td>\n",
       "    </tr>\n",
       "  </tbody>\n",
       "</table>\n",
       "<p>8270 rows × 3 columns</p>\n",
       "</div>"
      ],
      "text/plain": [
       "       price      pred     diff\n",
       "40966  29000  34439.07  5439.07\n",
       "32546  23900  28892.14  4992.14\n",
       "31241  16720  15176.13  1543.87\n",
       "13789  11990  12746.05   756.05\n",
       "17760   2500   2502.29     2.29\n",
       "...      ...       ...      ...\n",
       "46571  16900  16073.43   826.57\n",
       "29660  49869  50353.39   484.39\n",
       "26134   5990   8721.72  2731.72\n",
       "4731    9995   9035.03   959.97\n",
       "48386  12249   9870.00  2379.00\n",
       "\n",
       "[8270 rows x 3 columns]"
      ]
     },
     "execution_count": 68,
     "metadata": {},
     "output_type": "execute_result"
    }
   ],
   "source": [
    "diff=pd.DataFrame(y_test)\n",
    "diff['pred']=y_pred_rfr\n",
    "diff['diff']=((diff.pred-diff.price)**2)**0.5\n",
    "diff"
   ]
  },
  {
   "cell_type": "code",
   "execution_count": 86,
   "id": "f96168c4",
   "metadata": {},
   "outputs": [],
   "source": [
    "diff.loc[diff['diff'] >= 1000,'SentimentType'] = 'Mal'\n",
    "#diff.loc[diff['diff'] >500,'SentimentType'] = 'Regular'\n",
    "diff.loc[diff['diff'] < 500,'SentimentType'] = 'Bien'"
   ]
  },
  {
   "cell_type": "code",
   "execution_count": 87,
   "id": "62d91b1f",
   "metadata": {},
   "outputs": [],
   "source": [
    "indices_mal=diff[diff.SentimentType=='Mal'].index\n",
    "indices_regular=diff[diff.SentimentType=='Regular'].index\n",
    "indices_bien=diff[diff.SentimentType=='Bien'].index"
   ]
  },
  {
   "cell_type": "code",
   "execution_count": 88,
   "id": "f8bb533e",
   "metadata": {},
   "outputs": [
    {
     "data": {
      "text/html": [
       "<div>\n",
       "<style scoped>\n",
       "    .dataframe tbody tr th:only-of-type {\n",
       "        vertical-align: middle;\n",
       "    }\n",
       "\n",
       "    .dataframe tbody tr th {\n",
       "        vertical-align: top;\n",
       "    }\n",
       "\n",
       "    .dataframe thead th {\n",
       "        text-align: right;\n",
       "    }\n",
       "</style>\n",
       "<table border=\"1\" class=\"dataframe\">\n",
       "  <thead>\n",
       "    <tr style=\"text-align: right;\">\n",
       "      <th></th>\n",
       "      <th>price</th>\n",
       "      <th>pred</th>\n",
       "      <th>diff</th>\n",
       "      <th>SentimentType</th>\n",
       "    </tr>\n",
       "  </thead>\n",
       "  <tbody>\n",
       "    <tr>\n",
       "      <th>40966</th>\n",
       "      <td>29000</td>\n",
       "      <td>34439.07</td>\n",
       "      <td>5439.07</td>\n",
       "      <td>Mal</td>\n",
       "    </tr>\n",
       "    <tr>\n",
       "      <th>32546</th>\n",
       "      <td>23900</td>\n",
       "      <td>28892.14</td>\n",
       "      <td>4992.14</td>\n",
       "      <td>Mal</td>\n",
       "    </tr>\n",
       "    <tr>\n",
       "      <th>31241</th>\n",
       "      <td>16720</td>\n",
       "      <td>15176.13</td>\n",
       "      <td>1543.87</td>\n",
       "      <td>Mal</td>\n",
       "    </tr>\n",
       "    <tr>\n",
       "      <th>13789</th>\n",
       "      <td>11990</td>\n",
       "      <td>12746.05</td>\n",
       "      <td>756.05</td>\n",
       "      <td>Regular</td>\n",
       "    </tr>\n",
       "    <tr>\n",
       "      <th>17760</th>\n",
       "      <td>2500</td>\n",
       "      <td>2502.29</td>\n",
       "      <td>2.29</td>\n",
       "      <td>Bien</td>\n",
       "    </tr>\n",
       "    <tr>\n",
       "      <th>...</th>\n",
       "      <td>...</td>\n",
       "      <td>...</td>\n",
       "      <td>...</td>\n",
       "      <td>...</td>\n",
       "    </tr>\n",
       "    <tr>\n",
       "      <th>46571</th>\n",
       "      <td>16900</td>\n",
       "      <td>16073.43</td>\n",
       "      <td>826.57</td>\n",
       "      <td>Regular</td>\n",
       "    </tr>\n",
       "    <tr>\n",
       "      <th>29660</th>\n",
       "      <td>49869</td>\n",
       "      <td>50353.39</td>\n",
       "      <td>484.39</td>\n",
       "      <td>Bien</td>\n",
       "    </tr>\n",
       "    <tr>\n",
       "      <th>26134</th>\n",
       "      <td>5990</td>\n",
       "      <td>8721.72</td>\n",
       "      <td>2731.72</td>\n",
       "      <td>Mal</td>\n",
       "    </tr>\n",
       "    <tr>\n",
       "      <th>4731</th>\n",
       "      <td>9995</td>\n",
       "      <td>9035.03</td>\n",
       "      <td>959.97</td>\n",
       "      <td>Regular</td>\n",
       "    </tr>\n",
       "    <tr>\n",
       "      <th>48386</th>\n",
       "      <td>12249</td>\n",
       "      <td>9870.00</td>\n",
       "      <td>2379.00</td>\n",
       "      <td>Mal</td>\n",
       "    </tr>\n",
       "  </tbody>\n",
       "</table>\n",
       "<p>8270 rows × 4 columns</p>\n",
       "</div>"
      ],
      "text/plain": [
       "       price      pred     diff SentimentType\n",
       "40966  29000  34439.07  5439.07           Mal\n",
       "32546  23900  28892.14  4992.14           Mal\n",
       "31241  16720  15176.13  1543.87           Mal\n",
       "13789  11990  12746.05   756.05       Regular\n",
       "17760   2500   2502.29     2.29          Bien\n",
       "...      ...       ...      ...           ...\n",
       "46571  16900  16073.43   826.57       Regular\n",
       "29660  49869  50353.39   484.39          Bien\n",
       "26134   5990   8721.72  2731.72           Mal\n",
       "4731    9995   9035.03   959.97       Regular\n",
       "48386  12249   9870.00  2379.00           Mal\n",
       "\n",
       "[8270 rows x 4 columns]"
      ]
     },
     "execution_count": 88,
     "metadata": {},
     "output_type": "execute_result"
    }
   ],
   "source": [
    "diff"
   ]
  },
  {
   "cell_type": "code",
   "execution_count": 89,
   "id": "add4bfd7",
   "metadata": {},
   "outputs": [
    {
     "data": {
      "text/plain": [
       "(4384, 1683, 2203)"
      ]
     },
     "execution_count": 89,
     "metadata": {},
     "output_type": "execute_result"
    }
   ],
   "source": [
    "len(indices_mal), len(indices_regular), len(indices_bien)"
   ]
  },
  {
   "cell_type": "code",
   "execution_count": 178,
   "id": "a83900c8",
   "metadata": {},
   "outputs": [
    {
     "data": {
      "text/plain": [
       "array(['Yaris', 'Auris', 'C-HR', 'Aygo', 'Proace City Verso', 'Rav4',\n",
       "       'GT86', 'Avensis', 'Land Cruiser', 'Prius', 'Hilux', 'GR Yaris',\n",
       "       'Verso', 'Proace', 'Corolla', 'Corolla Verso', 'Land Cruiser 90',\n",
       "       'Camry', 'MR2', 'Corolla Sedán', 'Prius+', 'Proace Verso',\n",
       "       'Land Cruiser 100', 'Supra', 'Celica', 'Dyna', 'Avensis Verso',\n",
       "       '4Runner', 'Previa', 'Carina E', 'Land Cruiser 200',\n",
       "       'Land Cruiser 80', 'Urban Cruiser', 'iQ'], dtype=object)"
      ]
     },
     "execution_count": 178,
     "metadata": {},
     "output_type": "execute_result"
    }
   ],
   "source": [
    "entreno[entreno.make=='TOYOTA'].model.unique()"
   ]
  },
  {
   "cell_type": "code",
   "execution_count": 189,
   "id": "ad74b127",
   "metadata": {},
   "outputs": [
    {
     "data": {
      "text/plain": [
       "False    49001\n",
       "True       993\n",
       "Name: province, dtype: int64"
      ]
     },
     "execution_count": 189,
     "metadata": {},
     "output_type": "execute_result"
    }
   ],
   "source": [
    "entreno.province.str.contains('A Coruña').value_counts()"
   ]
  },
  {
   "cell_type": "code",
   "execution_count": 91,
   "id": "2dfa107a",
   "metadata": {},
   "outputs": [],
   "source": [
    "bueno=[]\n",
    "for i in indices_bien:\n",
    "    bueno.append(entreno[columnas].iloc[i])   \n",
    "        \n",
    "        "
   ]
  },
  {
   "cell_type": "code",
   "execution_count": 93,
   "id": "1bf25314",
   "metadata": {},
   "outputs": [
    {
     "data": {
      "text/plain": [
       "2203"
      ]
     },
     "execution_count": 93,
     "metadata": {},
     "output_type": "execute_result"
    }
   ],
   "source": [
    "bueno_df=pd.DataFrame(bueno)\n",
    "bueno_df.shape[0]"
   ]
  },
  {
   "cell_type": "code",
   "execution_count": 76,
   "id": "f9055b5f",
   "metadata": {},
   "outputs": [],
   "source": [
    "mej=pd.concat([entreno[columnas],bueno_df])\n",
    "mej.dropna(axis=0, inplace=True)\n",
    "X_rfr_bien=mej.drop('price', axis=1)\n",
    "y_rfr_bien=mej.price"
   ]
  },
  {
   "cell_type": "code",
   "execution_count": 77,
   "id": "dbbf2f98",
   "metadata": {},
   "outputs": [],
   "source": [
    "X_rfr_bien[['year','kms','power','doors']]=scaler.fit_transform(X_rfr_bien[['year','kms','power','doors']])\n",
    "X_rfr_bien=pd.get_dummies(X_rfr_bien, columns=['make','model','fuel','shift','is_professional','province'], drop_first=True)"
   ]
  },
  {
   "cell_type": "code",
   "execution_count": 94,
   "id": "0d05d8b6",
   "metadata": {},
   "outputs": [
    {
     "data": {
      "text/plain": [
       "(2203, 1015)"
      ]
     },
     "execution_count": 94,
     "metadata": {},
     "output_type": "execute_result"
    }
   ],
   "source": [
    "bueno_dum=X_rfr_bien[-bueno_df.shape[0]:]\n",
    "bueno_dum.shape"
   ]
  },
  {
   "cell_type": "code",
   "execution_count": 95,
   "id": "b40dfb95",
   "metadata": {},
   "outputs": [],
   "source": [
    "bueno_df_pred=bosque.predict(bueno_dum)"
   ]
  },
  {
   "cell_type": "code",
   "execution_count": 96,
   "id": "ab9856c8",
   "metadata": {},
   "outputs": [
    {
     "data": {
      "text/plain": [
       "582.3174739461922"
      ]
     },
     "execution_count": 96,
     "metadata": {},
     "output_type": "execute_result"
    }
   ],
   "source": [
    "mse(bueno_df_pred, bueno_df.price,squared=False)"
   ]
  },
  {
   "cell_type": "code",
   "execution_count": 97,
   "id": "7f331d55",
   "metadata": {},
   "outputs": [
    {
     "data": {
      "text/plain": [
       "0.9962233180551929"
      ]
     },
     "execution_count": 97,
     "metadata": {},
     "output_type": "execute_result"
    }
   ],
   "source": [
    "r2(bueno_df_pred, bueno_df.price)"
   ]
  },
  {
   "cell_type": "markdown",
   "id": "7e9efd83",
   "metadata": {},
   "source": [
    "**REGULAR**"
   ]
  },
  {
   "cell_type": "code",
   "execution_count": 98,
   "id": "5e8f9cab",
   "metadata": {},
   "outputs": [
    {
     "data": {
      "text/plain": [
       "(1683, 1015)"
      ]
     },
     "execution_count": 98,
     "metadata": {},
     "output_type": "execute_result"
    }
   ],
   "source": [
    "regular=[]\n",
    "for i in indices_regular:\n",
    "    regular.append(entreno[columnas].iloc[i])   \n",
    "regular_df=pd.DataFrame(regular)   \n",
    "reg=pd.concat([entreno[columnas],regular_df])\n",
    "reg.dropna(axis=0, inplace=True)\n",
    "X_rfr_reg=reg.drop('price', axis=1)\n",
    "y_rfr_reg=reg.price\n",
    "\n",
    "X_rfr_reg[['year','kms','power','doors']]=scaler.fit_transform(X_rfr_reg[['year','kms','power','doors']])\n",
    "X_rfr_reg=pd.get_dummies(X_rfr_reg, columns=['make','model','fuel','shift','is_professional','province'], drop_first=True)\n",
    "\n",
    "reg_dum=X_rfr_reg[-regular_df.shape[0]:]\n",
    "reg_dum.shape"
   ]
  },
  {
   "cell_type": "code",
   "execution_count": 99,
   "id": "2109efe4",
   "metadata": {},
   "outputs": [
    {
     "data": {
      "text/plain": [
       "(793.4899407094773, 0.9930638323812908)"
      ]
     },
     "execution_count": 99,
     "metadata": {},
     "output_type": "execute_result"
    }
   ],
   "source": [
    "reg_df_pred=bosque.predict(reg_dum)\n",
    "\n",
    "mse(reg_df_pred, regular_df.price,squared=False), r2(reg_df_pred, regular_df.price)"
   ]
  },
  {
   "cell_type": "markdown",
   "id": "f7ac89ee",
   "metadata": {},
   "source": [
    "**MAL**"
   ]
  },
  {
   "cell_type": "code",
   "execution_count": 100,
   "id": "4d2cc948",
   "metadata": {},
   "outputs": [],
   "source": [
    "mal=[]\n",
    "for i in indices_mal:\n",
    "    mal.append(entreno[columnas].iloc[i])   \n",
    "mal_df=pd.DataFrame(mal) "
   ]
  },
  {
   "cell_type": "code",
   "execution_count": 106,
   "id": "a23b81d8",
   "metadata": {},
   "outputs": [
    {
     "data": {
      "text/plain": [
       "Index(['make', 'model', 'price', 'fuel', 'year', 'kms', 'power', 'doors',\n",
       "       'shift', 'is_professional', 'province'],\n",
       "      dtype='object')"
      ]
     },
     "execution_count": 106,
     "metadata": {},
     "output_type": "execute_result"
    }
   ],
   "source": [
    "mal_df.columns"
   ]
  },
  {
   "cell_type": "code",
   "execution_count": 137,
   "id": "2f788822",
   "metadata": {},
   "outputs": [
    {
     "data": {
      "text/plain": [
       "Index(['year', 'kms', 'power', 'doors', 'make_ALFA ROMEO', 'make_ALPINE',\n",
       "       'make_ASTON MARTIN', 'make_AUDI', 'make_AUSTIN', 'make_BENTLEY',\n",
       "       ...\n",
       "       'province_Tenerife', 'province_Teruel', 'province_Toledo',\n",
       "       'province_Valencia', 'province_Valladolid', 'province_Vizcaya',\n",
       "       'province_Zamora', 'province_Zaragoza', 'province_Álava',\n",
       "       'province_Ávila'],\n",
       "      dtype='object', length=1015)"
      ]
     },
     "execution_count": 137,
     "metadata": {},
     "output_type": "execute_result"
    }
   ],
   "source": [
    "mal=pd.concat([entreno[columnas],mal_df])\n",
    "mal.dropna(axis=0, inplace=True)\n",
    "X_rfr_mal=mal.drop('price', axis=1)\n",
    "y_rfr_mal=mal.price\n",
    "\n",
    "X_rfr_mal[['year','kms','power','doors']]=scaler.fit_transform(X_rfr_mal[['year','kms','power','doors']])\n",
    "X_rfr_mal=pd.get_dummies(X_rfr_mal, columns=['make','model','fuel','shift','is_professional','province'], drop_first=True)\n",
    "\n",
    "mal_dum=X_rfr_mal[-mal_df.shape[0]:]\n",
    "mal_dum.col"
   ]
  },
  {
   "cell_type": "code",
   "execution_count": 103,
   "id": "bbc9ba3d",
   "metadata": {},
   "outputs": [
    {
     "data": {
      "text/plain": [
       "(6515.390510752046, 0.8772094098983646)"
      ]
     },
     "execution_count": 103,
     "metadata": {},
     "output_type": "execute_result"
    }
   ],
   "source": [
    "mal_df_pred=bosque.predict(mal_dum)\n",
    "\n",
    "mse(mal_df_pred, mal_df.price,squared=False), r2(mal_df_pred, mal_df.price)"
   ]
  },
  {
   "cell_type": "code",
   "execution_count": 132,
   "id": "2099649a",
   "metadata": {},
   "outputs": [],
   "source": [
    "import pickle"
   ]
  },
  {
   "cell_type": "code",
   "execution_count": 133,
   "id": "fd77d2c2",
   "metadata": {},
   "outputs": [],
   "source": [
    "pickle.dump(bosque, open('random_forest.pk', 'wb'))"
   ]
  },
  {
   "cell_type": "markdown",
   "id": "9927a086",
   "metadata": {},
   "source": [
    "**PRUEBA VIERNES**"
   ]
  },
  {
   "cell_type": "code",
   "execution_count": 190,
   "id": "5a0ded4f",
   "metadata": {
    "scrolled": true
   },
   "outputs": [
    {
     "data": {
      "text/html": [
       "<div>\n",
       "<style scoped>\n",
       "    .dataframe tbody tr th:only-of-type {\n",
       "        vertical-align: middle;\n",
       "    }\n",
       "\n",
       "    .dataframe tbody tr th {\n",
       "        vertical-align: top;\n",
       "    }\n",
       "\n",
       "    .dataframe thead th {\n",
       "        text-align: right;\n",
       "    }\n",
       "</style>\n",
       "<table border=\"1\" class=\"dataframe\">\n",
       "  <thead>\n",
       "    <tr style=\"text-align: right;\">\n",
       "      <th></th>\n",
       "      <th>make</th>\n",
       "      <th>model</th>\n",
       "      <th>price</th>\n",
       "      <th>fuel</th>\n",
       "      <th>year</th>\n",
       "      <th>kms</th>\n",
       "      <th>power</th>\n",
       "      <th>doors</th>\n",
       "      <th>shift</th>\n",
       "      <th>is_professional</th>\n",
       "      <th>province</th>\n",
       "    </tr>\n",
       "  </thead>\n",
       "  <tbody>\n",
       "    <tr>\n",
       "      <th>0</th>\n",
       "      <td>BMW</td>\n",
       "      <td>Serie 3</td>\n",
       "      <td>11900</td>\n",
       "      <td>Diésel</td>\n",
       "      <td>2008</td>\n",
       "      <td>201000</td>\n",
       "      <td>245</td>\n",
       "      <td>2</td>\n",
       "      <td>Manual</td>\n",
       "      <td>True</td>\n",
       "      <td>Murcia</td>\n",
       "    </tr>\n",
       "    <tr>\n",
       "      <th>1</th>\n",
       "      <td>MERCEDES-BENZ</td>\n",
       "      <td>Clase A</td>\n",
       "      <td>2990</td>\n",
       "      <td>Gasolina</td>\n",
       "      <td>2001</td>\n",
       "      <td>141060</td>\n",
       "      <td>82</td>\n",
       "      <td>5</td>\n",
       "      <td>Manual</td>\n",
       "      <td>True</td>\n",
       "      <td>Valencia</td>\n",
       "    </tr>\n",
       "    <tr>\n",
       "      <th>2</th>\n",
       "      <td>SEAT</td>\n",
       "      <td>León</td>\n",
       "      <td>20990</td>\n",
       "      <td>Gasolina</td>\n",
       "      <td>2020</td>\n",
       "      <td>64000</td>\n",
       "      <td>150</td>\n",
       "      <td>5</td>\n",
       "      <td>Manual</td>\n",
       "      <td>True</td>\n",
       "      <td>Zaragoza</td>\n",
       "    </tr>\n",
       "    <tr>\n",
       "      <th>3</th>\n",
       "      <td>RENAULT</td>\n",
       "      <td>Captur</td>\n",
       "      <td>19990</td>\n",
       "      <td>Gasolina</td>\n",
       "      <td>2021</td>\n",
       "      <td>19000</td>\n",
       "      <td>100</td>\n",
       "      <td>5</td>\n",
       "      <td>Manual</td>\n",
       "      <td>True</td>\n",
       "      <td>Unkown</td>\n",
       "    </tr>\n",
       "    <tr>\n",
       "      <th>4</th>\n",
       "      <td>TESLA</td>\n",
       "      <td>Model</td>\n",
       "      <td>65899</td>\n",
       "      <td>Eléctrico</td>\n",
       "      <td>2021</td>\n",
       "      <td>7454</td>\n",
       "      <td>351</td>\n",
       "      <td>5</td>\n",
       "      <td>Automático</td>\n",
       "      <td>True</td>\n",
       "      <td>Málaga</td>\n",
       "    </tr>\n",
       "    <tr>\n",
       "      <th>5</th>\n",
       "      <td>TESLA</td>\n",
       "      <td>Model</td>\n",
       "      <td>64899</td>\n",
       "      <td>Eléctrico</td>\n",
       "      <td>2021</td>\n",
       "      <td>3396</td>\n",
       "      <td>351</td>\n",
       "      <td>5</td>\n",
       "      <td>Automático</td>\n",
       "      <td>True</td>\n",
       "      <td>Málaga</td>\n",
       "    </tr>\n",
       "    <tr>\n",
       "      <th>6</th>\n",
       "      <td>TESLA</td>\n",
       "      <td>Model</td>\n",
       "      <td>64899</td>\n",
       "      <td>Eléctrico</td>\n",
       "      <td>2021</td>\n",
       "      <td>3100</td>\n",
       "      <td>351</td>\n",
       "      <td>5</td>\n",
       "      <td>Automático</td>\n",
       "      <td>True</td>\n",
       "      <td>Málaga</td>\n",
       "    </tr>\n",
       "    <tr>\n",
       "      <th>7</th>\n",
       "      <td>CUPRA</td>\n",
       "      <td>Ateca</td>\n",
       "      <td>34990</td>\n",
       "      <td>Gasolina</td>\n",
       "      <td>2020</td>\n",
       "      <td>32500</td>\n",
       "      <td>300</td>\n",
       "      <td>5</td>\n",
       "      <td>Automático</td>\n",
       "      <td>True</td>\n",
       "      <td>Castellón</td>\n",
       "    </tr>\n",
       "    <tr>\n",
       "      <th>8</th>\n",
       "      <td>CITROEN</td>\n",
       "      <td>C3</td>\n",
       "      <td>10700</td>\n",
       "      <td>Diésel</td>\n",
       "      <td>2016</td>\n",
       "      <td>211000</td>\n",
       "      <td>75</td>\n",
       "      <td>5</td>\n",
       "      <td>Manual</td>\n",
       "      <td>True</td>\n",
       "      <td>Valencia</td>\n",
       "    </tr>\n",
       "    <tr>\n",
       "      <th>9</th>\n",
       "      <td>TOYOTA</td>\n",
       "      <td>Rav4</td>\n",
       "      <td>19750</td>\n",
       "      <td>Híbrido</td>\n",
       "      <td>2016</td>\n",
       "      <td>95436</td>\n",
       "      <td>197</td>\n",
       "      <td>5</td>\n",
       "      <td>Automático</td>\n",
       "      <td>True</td>\n",
       "      <td>Alicante</td>\n",
       "    </tr>\n",
       "    <tr>\n",
       "      <th>10</th>\n",
       "      <td>CHEVROLET</td>\n",
       "      <td>Epica</td>\n",
       "      <td>2500</td>\n",
       "      <td>Diésel</td>\n",
       "      <td>2009</td>\n",
       "      <td>271000</td>\n",
       "      <td>150</td>\n",
       "      <td>4</td>\n",
       "      <td>Manual</td>\n",
       "      <td>True</td>\n",
       "      <td>A Coruña</td>\n",
       "    </tr>\n",
       "    <tr>\n",
       "      <th>11</th>\n",
       "      <td>CITROEN</td>\n",
       "      <td>Berlingo</td>\n",
       "      <td>17000</td>\n",
       "      <td>Eléctrico</td>\n",
       "      <td>2018</td>\n",
       "      <td>13840</td>\n",
       "      <td>67</td>\n",
       "      <td>5</td>\n",
       "      <td>Automático</td>\n",
       "      <td>True</td>\n",
       "      <td>Alicante</td>\n",
       "    </tr>\n",
       "    <tr>\n",
       "      <th>12</th>\n",
       "      <td>FORD</td>\n",
       "      <td>CMax</td>\n",
       "      <td>10200</td>\n",
       "      <td>Diésel</td>\n",
       "      <td>2017</td>\n",
       "      <td>145000</td>\n",
       "      <td>150</td>\n",
       "      <td>5</td>\n",
       "      <td>Manual</td>\n",
       "      <td>True</td>\n",
       "      <td>Badajoz</td>\n",
       "    </tr>\n",
       "    <tr>\n",
       "      <th>13</th>\n",
       "      <td>CITROEN</td>\n",
       "      <td>C3</td>\n",
       "      <td>16300</td>\n",
       "      <td>Diésel</td>\n",
       "      <td>2021</td>\n",
       "      <td>12194</td>\n",
       "      <td>110</td>\n",
       "      <td>5</td>\n",
       "      <td>Manual</td>\n",
       "      <td>True</td>\n",
       "      <td>Alicante</td>\n",
       "    </tr>\n",
       "    <tr>\n",
       "      <th>14</th>\n",
       "      <td>RENAULT</td>\n",
       "      <td>Mégane</td>\n",
       "      <td>8100</td>\n",
       "      <td>Diésel</td>\n",
       "      <td>2014</td>\n",
       "      <td>109100</td>\n",
       "      <td>95</td>\n",
       "      <td>5</td>\n",
       "      <td>Manual</td>\n",
       "      <td>True</td>\n",
       "      <td>Madrid</td>\n",
       "    </tr>\n",
       "    <tr>\n",
       "      <th>15</th>\n",
       "      <td>VOLKSWAGEN</td>\n",
       "      <td>Caddy</td>\n",
       "      <td>13580</td>\n",
       "      <td>Gasolina</td>\n",
       "      <td>2019</td>\n",
       "      <td>47965</td>\n",
       "      <td>110</td>\n",
       "      <td>4</td>\n",
       "      <td>Manual</td>\n",
       "      <td>True</td>\n",
       "      <td>A Coruña</td>\n",
       "    </tr>\n",
       "    <tr>\n",
       "      <th>16</th>\n",
       "      <td>KIA</td>\n",
       "      <td>Sportage</td>\n",
       "      <td>23900</td>\n",
       "      <td>Gasolina</td>\n",
       "      <td>2022</td>\n",
       "      <td>0</td>\n",
       "      <td>150</td>\n",
       "      <td>5</td>\n",
       "      <td>Manual</td>\n",
       "      <td>True</td>\n",
       "      <td>Palencia</td>\n",
       "    </tr>\n",
       "    <tr>\n",
       "      <th>17</th>\n",
       "      <td>JAGUAR</td>\n",
       "      <td>FPace</td>\n",
       "      <td>59000</td>\n",
       "      <td>Diésel</td>\n",
       "      <td>2021</td>\n",
       "      <td>18500</td>\n",
       "      <td>163</td>\n",
       "      <td>5</td>\n",
       "      <td>Automático</td>\n",
       "      <td>True</td>\n",
       "      <td>Córdoba</td>\n",
       "    </tr>\n",
       "    <tr>\n",
       "      <th>18</th>\n",
       "      <td>CITROEN</td>\n",
       "      <td>C4</td>\n",
       "      <td>9999</td>\n",
       "      <td>Diésel</td>\n",
       "      <td>2015</td>\n",
       "      <td>140223</td>\n",
       "      <td>115</td>\n",
       "      <td>5</td>\n",
       "      <td>Manual</td>\n",
       "      <td>True</td>\n",
       "      <td>Alicante</td>\n",
       "    </tr>\n",
       "    <tr>\n",
       "      <th>19</th>\n",
       "      <td>MERCEDES-BENZ</td>\n",
       "      <td>Eqb</td>\n",
       "      <td>66495</td>\n",
       "      <td>Eléctrico</td>\n",
       "      <td>2022</td>\n",
       "      <td>0</td>\n",
       "      <td>228</td>\n",
       "      <td>5</td>\n",
       "      <td>Automático</td>\n",
       "      <td>True</td>\n",
       "      <td>Madrid</td>\n",
       "    </tr>\n",
       "    <tr>\n",
       "      <th>20</th>\n",
       "      <td>AUDI</td>\n",
       "      <td>Q8</td>\n",
       "      <td>58390</td>\n",
       "      <td>Diésel</td>\n",
       "      <td>2018</td>\n",
       "      <td>143278</td>\n",
       "      <td>286</td>\n",
       "      <td>5</td>\n",
       "      <td>Automático</td>\n",
       "      <td>True</td>\n",
       "      <td>Unkown</td>\n",
       "    </tr>\n",
       "    <tr>\n",
       "      <th>21</th>\n",
       "      <td>HYUNDAI</td>\n",
       "      <td>Kona</td>\n",
       "      <td>13500</td>\n",
       "      <td>Gasolina</td>\n",
       "      <td>2017</td>\n",
       "      <td>45000</td>\n",
       "      <td>120</td>\n",
       "      <td>5</td>\n",
       "      <td>Manual</td>\n",
       "      <td>True</td>\n",
       "      <td>Madrid</td>\n",
       "    </tr>\n",
       "    <tr>\n",
       "      <th>22</th>\n",
       "      <td>AUDI</td>\n",
       "      <td>A5</td>\n",
       "      <td>26900</td>\n",
       "      <td>Diésel</td>\n",
       "      <td>2018</td>\n",
       "      <td>105000</td>\n",
       "      <td>190</td>\n",
       "      <td>5</td>\n",
       "      <td>Automático</td>\n",
       "      <td>True</td>\n",
       "      <td>Alicante</td>\n",
       "    </tr>\n",
       "    <tr>\n",
       "      <th>23</th>\n",
       "      <td>TOYOTA</td>\n",
       "      <td>Yaris</td>\n",
       "      <td>10500</td>\n",
       "      <td>Gasolina</td>\n",
       "      <td>2017</td>\n",
       "      <td>62200</td>\n",
       "      <td>111</td>\n",
       "      <td>5</td>\n",
       "      <td>Manual</td>\n",
       "      <td>True</td>\n",
       "      <td>Guadalajara</td>\n",
       "    </tr>\n",
       "    <tr>\n",
       "      <th>24</th>\n",
       "      <td>MERCEDES-BENZ</td>\n",
       "      <td>Vito</td>\n",
       "      <td>36790</td>\n",
       "      <td>Eléctrico</td>\n",
       "      <td>2019</td>\n",
       "      <td>13200</td>\n",
       "      <td>116</td>\n",
       "      <td>4</td>\n",
       "      <td>Automático</td>\n",
       "      <td>True</td>\n",
       "      <td>Unkown</td>\n",
       "    </tr>\n",
       "    <tr>\n",
       "      <th>25</th>\n",
       "      <td>RENAULT</td>\n",
       "      <td>Mégane</td>\n",
       "      <td>13900</td>\n",
       "      <td>Gasolina</td>\n",
       "      <td>2018</td>\n",
       "      <td>52680</td>\n",
       "      <td>140</td>\n",
       "      <td>5</td>\n",
       "      <td>Manual</td>\n",
       "      <td>True</td>\n",
       "      <td>Madrid</td>\n",
       "    </tr>\n",
       "    <tr>\n",
       "      <th>26</th>\n",
       "      <td>FIAT</td>\n",
       "      <td>Scudo</td>\n",
       "      <td>23900</td>\n",
       "      <td>Diésel</td>\n",
       "      <td>2022</td>\n",
       "      <td>125000</td>\n",
       "      <td>120</td>\n",
       "      <td>4</td>\n",
       "      <td>Manual</td>\n",
       "      <td>True</td>\n",
       "      <td>Madrid</td>\n",
       "    </tr>\n",
       "    <tr>\n",
       "      <th>27</th>\n",
       "      <td>PEUGEOT</td>\n",
       "      <td>Bipper</td>\n",
       "      <td>3300</td>\n",
       "      <td>Diésel</td>\n",
       "      <td>2014</td>\n",
       "      <td>250000</td>\n",
       "      <td>75</td>\n",
       "      <td>3</td>\n",
       "      <td>Manual</td>\n",
       "      <td>True</td>\n",
       "      <td>Sevilla</td>\n",
       "    </tr>\n",
       "    <tr>\n",
       "      <th>28</th>\n",
       "      <td>GALLOPER</td>\n",
       "      <td>Super</td>\n",
       "      <td>7900</td>\n",
       "      <td>Diésel</td>\n",
       "      <td>2003</td>\n",
       "      <td>171002</td>\n",
       "      <td>115</td>\n",
       "      <td>3</td>\n",
       "      <td>Manual</td>\n",
       "      <td>True</td>\n",
       "      <td>Barcelona</td>\n",
       "    </tr>\n",
       "    <tr>\n",
       "      <th>29</th>\n",
       "      <td>VOLKSWAGEN</td>\n",
       "      <td>TCross</td>\n",
       "      <td>18899</td>\n",
       "      <td>Gasolina</td>\n",
       "      <td>2021</td>\n",
       "      <td>9852</td>\n",
       "      <td>95</td>\n",
       "      <td>5</td>\n",
       "      <td>Manual</td>\n",
       "      <td>True</td>\n",
       "      <td>Málaga</td>\n",
       "    </tr>\n",
       "    <tr>\n",
       "      <th>30</th>\n",
       "      <td>OPEL</td>\n",
       "      <td>Corsa</td>\n",
       "      <td>4793</td>\n",
       "      <td>Diésel</td>\n",
       "      <td>2017</td>\n",
       "      <td>140000</td>\n",
       "      <td>75</td>\n",
       "      <td>3</td>\n",
       "      <td>Manual</td>\n",
       "      <td>True</td>\n",
       "      <td>Madrid</td>\n",
       "    </tr>\n",
       "    <tr>\n",
       "      <th>31</th>\n",
       "      <td>MERCEDES-BENZ</td>\n",
       "      <td>Clase M</td>\n",
       "      <td>5999</td>\n",
       "      <td>Diésel</td>\n",
       "      <td>2006</td>\n",
       "      <td>275000</td>\n",
       "      <td>190</td>\n",
       "      <td>5</td>\n",
       "      <td>Automático</td>\n",
       "      <td>True</td>\n",
       "      <td>Sevilla</td>\n",
       "    </tr>\n",
       "    <tr>\n",
       "      <th>32</th>\n",
       "      <td>TOYOTA</td>\n",
       "      <td>Yaris</td>\n",
       "      <td>14900</td>\n",
       "      <td>Gasolina</td>\n",
       "      <td>2021</td>\n",
       "      <td>29335</td>\n",
       "      <td>125</td>\n",
       "      <td>5</td>\n",
       "      <td>Manual</td>\n",
       "      <td>True</td>\n",
       "      <td>Cádiz</td>\n",
       "    </tr>\n",
       "    <tr>\n",
       "      <th>33</th>\n",
       "      <td>MERCEDES-BENZ</td>\n",
       "      <td>Clase C</td>\n",
       "      <td>12900</td>\n",
       "      <td>Diésel</td>\n",
       "      <td>2013</td>\n",
       "      <td>175200</td>\n",
       "      <td>170</td>\n",
       "      <td>4</td>\n",
       "      <td>Manual</td>\n",
       "      <td>True</td>\n",
       "      <td>Madrid</td>\n",
       "    </tr>\n",
       "    <tr>\n",
       "      <th>34</th>\n",
       "      <td>BMW</td>\n",
       "      <td>Serie 5</td>\n",
       "      <td>37900</td>\n",
       "      <td>Gasolina</td>\n",
       "      <td>2021</td>\n",
       "      <td>9900</td>\n",
       "      <td>184</td>\n",
       "      <td>4</td>\n",
       "      <td>Automático</td>\n",
       "      <td>True</td>\n",
       "      <td>Madrid</td>\n",
       "    </tr>\n",
       "    <tr>\n",
       "      <th>35</th>\n",
       "      <td>SUZUKI</td>\n",
       "      <td>Swift</td>\n",
       "      <td>18900</td>\n",
       "      <td>Gasolina</td>\n",
       "      <td>2022</td>\n",
       "      <td>0</td>\n",
       "      <td>129</td>\n",
       "      <td>5</td>\n",
       "      <td>Manual</td>\n",
       "      <td>True</td>\n",
       "      <td>Valladolid</td>\n",
       "    </tr>\n",
       "    <tr>\n",
       "      <th>36</th>\n",
       "      <td>SUZUKI</td>\n",
       "      <td>Vitara</td>\n",
       "      <td>27000</td>\n",
       "      <td>Híbrido</td>\n",
       "      <td>2022</td>\n",
       "      <td>0</td>\n",
       "      <td>102</td>\n",
       "      <td>5</td>\n",
       "      <td>Automático</td>\n",
       "      <td>True</td>\n",
       "      <td>Valladolid</td>\n",
       "    </tr>\n",
       "    <tr>\n",
       "      <th>37</th>\n",
       "      <td>AUDI</td>\n",
       "      <td>A3</td>\n",
       "      <td>8400</td>\n",
       "      <td>Diésel</td>\n",
       "      <td>2010</td>\n",
       "      <td>187000</td>\n",
       "      <td>105</td>\n",
       "      <td>5</td>\n",
       "      <td>Manual</td>\n",
       "      <td>True</td>\n",
       "      <td>Almería</td>\n",
       "    </tr>\n",
       "    <tr>\n",
       "      <th>38</th>\n",
       "      <td>NISSAN</td>\n",
       "      <td>Terrano</td>\n",
       "      <td>7990</td>\n",
       "      <td>Diésel</td>\n",
       "      <td>2004</td>\n",
       "      <td>180000</td>\n",
       "      <td>154</td>\n",
       "      <td>5</td>\n",
       "      <td>Manual</td>\n",
       "      <td>True</td>\n",
       "      <td>Granada</td>\n",
       "    </tr>\n",
       "    <tr>\n",
       "      <th>39</th>\n",
       "      <td>PEUGEOT</td>\n",
       "      <td>Expert</td>\n",
       "      <td>15694</td>\n",
       "      <td>Diésel</td>\n",
       "      <td>2019</td>\n",
       "      <td>96059</td>\n",
       "      <td>95</td>\n",
       "      <td>4</td>\n",
       "      <td>Manual</td>\n",
       "      <td>True</td>\n",
       "      <td>Sevilla</td>\n",
       "    </tr>\n",
       "  </tbody>\n",
       "</table>\n",
       "</div>"
      ],
      "text/plain": [
       "             make     model  price       fuel  year     kms  power  doors  \\\n",
       "0             BMW   Serie 3  11900     Diésel  2008  201000    245      2   \n",
       "1   MERCEDES-BENZ   Clase A   2990   Gasolina  2001  141060     82      5   \n",
       "2            SEAT      León  20990   Gasolina  2020   64000    150      5   \n",
       "3         RENAULT    Captur  19990   Gasolina  2021   19000    100      5   \n",
       "4           TESLA     Model  65899  Eléctrico  2021    7454    351      5   \n",
       "5           TESLA     Model  64899  Eléctrico  2021    3396    351      5   \n",
       "6           TESLA     Model  64899  Eléctrico  2021    3100    351      5   \n",
       "7           CUPRA     Ateca  34990   Gasolina  2020   32500    300      5   \n",
       "8         CITROEN        C3  10700     Diésel  2016  211000     75      5   \n",
       "9          TOYOTA      Rav4  19750    Híbrido  2016   95436    197      5   \n",
       "10      CHEVROLET     Epica   2500     Diésel  2009  271000    150      4   \n",
       "11        CITROEN  Berlingo  17000  Eléctrico  2018   13840     67      5   \n",
       "12           FORD      CMax  10200     Diésel  2017  145000    150      5   \n",
       "13        CITROEN        C3  16300     Diésel  2021   12194    110      5   \n",
       "14        RENAULT    Mégane   8100     Diésel  2014  109100     95      5   \n",
       "15     VOLKSWAGEN     Caddy  13580   Gasolina  2019   47965    110      4   \n",
       "16            KIA  Sportage  23900   Gasolina  2022       0    150      5   \n",
       "17         JAGUAR     FPace  59000     Diésel  2021   18500    163      5   \n",
       "18        CITROEN        C4   9999     Diésel  2015  140223    115      5   \n",
       "19  MERCEDES-BENZ       Eqb  66495  Eléctrico  2022       0    228      5   \n",
       "20           AUDI        Q8  58390     Diésel  2018  143278    286      5   \n",
       "21        HYUNDAI      Kona  13500   Gasolina  2017   45000    120      5   \n",
       "22           AUDI        A5  26900     Diésel  2018  105000    190      5   \n",
       "23         TOYOTA     Yaris  10500   Gasolina  2017   62200    111      5   \n",
       "24  MERCEDES-BENZ      Vito  36790  Eléctrico  2019   13200    116      4   \n",
       "25        RENAULT    Mégane  13900   Gasolina  2018   52680    140      5   \n",
       "26           FIAT     Scudo  23900     Diésel  2022  125000    120      4   \n",
       "27        PEUGEOT    Bipper   3300     Diésel  2014  250000     75      3   \n",
       "28       GALLOPER     Super   7900     Diésel  2003  171002    115      3   \n",
       "29     VOLKSWAGEN    TCross  18899   Gasolina  2021    9852     95      5   \n",
       "30           OPEL     Corsa   4793     Diésel  2017  140000     75      3   \n",
       "31  MERCEDES-BENZ   Clase M   5999     Diésel  2006  275000    190      5   \n",
       "32         TOYOTA     Yaris  14900   Gasolina  2021   29335    125      5   \n",
       "33  MERCEDES-BENZ   Clase C  12900     Diésel  2013  175200    170      4   \n",
       "34            BMW   Serie 5  37900   Gasolina  2021    9900    184      4   \n",
       "35         SUZUKI     Swift  18900   Gasolina  2022       0    129      5   \n",
       "36         SUZUKI    Vitara  27000    Híbrido  2022       0    102      5   \n",
       "37           AUDI        A3   8400     Diésel  2010  187000    105      5   \n",
       "38         NISSAN   Terrano   7990     Diésel  2004  180000    154      5   \n",
       "39        PEUGEOT    Expert  15694     Diésel  2019   96059     95      4   \n",
       "\n",
       "         shift  is_professional     province  \n",
       "0       Manual             True       Murcia  \n",
       "1       Manual             True     Valencia  \n",
       "2       Manual             True     Zaragoza  \n",
       "3       Manual             True       Unkown  \n",
       "4   Automático             True       Málaga  \n",
       "5   Automático             True       Málaga  \n",
       "6   Automático             True       Málaga  \n",
       "7   Automático             True    Castellón  \n",
       "8       Manual             True     Valencia  \n",
       "9   Automático             True     Alicante  \n",
       "10      Manual             True     A Coruña  \n",
       "11  Automático             True     Alicante  \n",
       "12      Manual             True      Badajoz  \n",
       "13      Manual             True     Alicante  \n",
       "14      Manual             True       Madrid  \n",
       "15      Manual             True     A Coruña  \n",
       "16      Manual             True     Palencia  \n",
       "17  Automático             True      Córdoba  \n",
       "18      Manual             True     Alicante  \n",
       "19  Automático             True       Madrid  \n",
       "20  Automático             True       Unkown  \n",
       "21      Manual             True       Madrid  \n",
       "22  Automático             True     Alicante  \n",
       "23      Manual             True  Guadalajara  \n",
       "24  Automático             True       Unkown  \n",
       "25      Manual             True       Madrid  \n",
       "26      Manual             True       Madrid  \n",
       "27      Manual             True      Sevilla  \n",
       "28      Manual             True    Barcelona  \n",
       "29      Manual             True       Málaga  \n",
       "30      Manual             True       Madrid  \n",
       "31  Automático             True      Sevilla  \n",
       "32      Manual             True        Cádiz  \n",
       "33      Manual             True       Madrid  \n",
       "34  Automático             True       Madrid  \n",
       "35      Manual             True   Valladolid  \n",
       "36  Automático             True   Valladolid  \n",
       "37      Manual             True      Almería  \n",
       "38      Manual             True      Granada  \n",
       "39      Manual             True      Sevilla  "
      ]
     },
     "execution_count": 190,
     "metadata": {},
     "output_type": "execute_result"
    }
   ],
   "source": [
    "viernes=pd.read_csv('prueba_viernes_scrapeo3.csv')\n",
    "viernes"
   ]
  },
  {
   "cell_type": "code",
   "execution_count": 191,
   "id": "d740d7f4",
   "metadata": {},
   "outputs": [
    {
     "data": {
      "text/plain": [
       "(['make',\n",
       "  'model',\n",
       "  'price',\n",
       "  'fuel',\n",
       "  'year',\n",
       "  'kms',\n",
       "  'power',\n",
       "  'doors',\n",
       "  'shift',\n",
       "  'is_professional',\n",
       "  'province'],\n",
       " Index(['make', 'model', 'price', 'fuel', 'year', 'kms', 'power', 'doors',\n",
       "        'shift', 'is_professional', 'province'],\n",
       "       dtype='object'))"
      ]
     },
     "execution_count": 191,
     "metadata": {},
     "output_type": "execute_result"
    }
   ],
   "source": [
    "columnas, viernes.columns"
   ]
  },
  {
   "cell_type": "code",
   "execution_count": 192,
   "id": "680813a6",
   "metadata": {},
   "outputs": [
    {
     "name": "stdout",
     "output_type": "stream",
     "text": [
      "(50040, 11)\n",
      "(41388, 11)\n",
      "(41388, 1022)\n"
     ]
    },
    {
     "data": {
      "text/plain": [
       "(40, 1022)"
      ]
     },
     "execution_count": 192,
     "metadata": {},
     "output_type": "execute_result"
    }
   ],
   "source": [
    "viernes_=pd.concat([entreno[columnas],viernes])\n",
    "print(viernes_.shape)\n",
    "viernes_.dropna(axis=0, inplace=True)\n",
    "print(viernes_.shape)\n",
    "X_viernes=viernes_.drop('price', axis=1)\n",
    "y_viernes=viernes_.price\n",
    "\n",
    "X_viernes[['year','kms','power','doors']]=scaler.fit_transform(X_viernes[['year','kms','power','doors']])\n",
    "X_viernes=pd.get_dummies(X_viernes, columns=['make','model','fuel','shift','is_professional','province'], drop_first=True)\n",
    "print(X_viernes.shape)\n",
    "viernes_dum=X_viernes[-40:]\n",
    "viernes_dum.shape"
   ]
  },
  {
   "cell_type": "code",
   "execution_count": 193,
   "id": "484649b1",
   "metadata": {},
   "outputs": [
    {
     "data": {
      "text/plain": [
       "{'model_CMax',\n",
       " 'model_Eqb',\n",
       " 'model_FPace',\n",
       " 'model_Model',\n",
       " 'model_Super',\n",
       " 'model_TCross',\n",
       " 'province_Unkown'}"
      ]
     },
     "execution_count": 193,
     "metadata": {},
     "output_type": "execute_result"
    }
   ],
   "source": [
    "mierder=[]\n",
    "for i in viernes_dum.columns:\n",
    "    if i not in reg_dum.columns:\n",
    "        mierder.append(i)\n",
    "set(mierder)\n",
    "        "
   ]
  },
  {
   "cell_type": "code",
   "execution_count": null,
   "id": "148cd2bd",
   "metadata": {},
   "outputs": [],
   "source": []
  }
 ],
 "metadata": {
  "kernelspec": {
   "display_name": "Python 3 (ipykernel)",
   "language": "python",
   "name": "python3"
  },
  "language_info": {
   "codemirror_mode": {
    "name": "ipython",
    "version": 3
   },
   "file_extension": ".py",
   "mimetype": "text/x-python",
   "name": "python",
   "nbconvert_exporter": "python",
   "pygments_lexer": "ipython3",
   "version": "3.9.7"
  }
 },
 "nbformat": 4,
 "nbformat_minor": 5
}
