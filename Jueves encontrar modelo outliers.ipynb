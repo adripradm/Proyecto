{
 "cells": [
  {
   "cell_type": "code",
   "execution_count": 197,
   "id": "1d821c75",
   "metadata": {},
   "outputs": [],
   "source": [
    "import pandas as pd\n",
    "import numpy as np\n",
    "import pylab as plt\n",
    "import seaborn as sns\n",
    "from sklearn.ensemble import RandomForestRegressor as RFR\n",
    "from sklearn.model_selection import train_test_split as tts\n",
    "from sklearn.preprocessing import StandardScaler\n",
    "scaler=StandardScaler()\n",
    "from sklearn.metrics import r2_score as r2\n",
    "from sklearn.metrics import mean_squared_error as mse\n",
    "pd.set_option('display.max_columns', 500)"
   ]
  },
  {
   "cell_type": "code",
   "execution_count": 15,
   "id": "48e5a46f",
   "metadata": {},
   "outputs": [
    {
     "data": {
      "text/html": [
       "<div>\n",
       "<style scoped>\n",
       "    .dataframe tbody tr th:only-of-type {\n",
       "        vertical-align: middle;\n",
       "    }\n",
       "\n",
       "    .dataframe tbody tr th {\n",
       "        vertical-align: top;\n",
       "    }\n",
       "\n",
       "    .dataframe thead th {\n",
       "        text-align: right;\n",
       "    }\n",
       "</style>\n",
       "<table border=\"1\" class=\"dataframe\">\n",
       "  <thead>\n",
       "    <tr style=\"text-align: right;\">\n",
       "      <th></th>\n",
       "      <th>url</th>\n",
       "      <th>company</th>\n",
       "      <th>make</th>\n",
       "      <th>model</th>\n",
       "      <th>version</th>\n",
       "      <th>price</th>\n",
       "      <th>price_financed</th>\n",
       "      <th>fuel</th>\n",
       "      <th>year</th>\n",
       "      <th>kms</th>\n",
       "      <th>...</th>\n",
       "      <th>doors</th>\n",
       "      <th>shift</th>\n",
       "      <th>color</th>\n",
       "      <th>photos</th>\n",
       "      <th>is_professional</th>\n",
       "      <th>dealer</th>\n",
       "      <th>province</th>\n",
       "      <th>country</th>\n",
       "      <th>publish_date</th>\n",
       "      <th>insert_date</th>\n",
       "    </tr>\n",
       "  </thead>\n",
       "  <tbody>\n",
       "    <tr>\n",
       "      <th>0</th>\n",
       "      <td>e158ae0ca53119ca199c28c36b5c2fcd</td>\n",
       "      <td>9881bcdd5a0ad4733037b3fb25e69c3a</td>\n",
       "      <td>SEAT</td>\n",
       "      <td>Toledo</td>\n",
       "      <td>SEAT Toledo  4p.</td>\n",
       "      <td>950</td>\n",
       "      <td>NaN</td>\n",
       "      <td>Diésel</td>\n",
       "      <td>2000.0</td>\n",
       "      <td>227000</td>\n",
       "      <td>...</td>\n",
       "      <td>4</td>\n",
       "      <td>Manual</td>\n",
       "      <td>Verde</td>\n",
       "      <td>5</td>\n",
       "      <td>False</td>\n",
       "      <td>0f4bb8455d27349b8273109b66a847f3</td>\n",
       "      <td>Navarra</td>\n",
       "      <td>Spain</td>\n",
       "      <td>2020-12-18 10:47:13</td>\n",
       "      <td>2021-01-15 00:00:00</td>\n",
       "    </tr>\n",
       "    <tr>\n",
       "      <th>1</th>\n",
       "      <td>ff267ebb7e700246f47f84f3db660b4b</td>\n",
       "      <td>9881bcdd5a0ad4733037b3fb25e69c3a</td>\n",
       "      <td>CITROEN</td>\n",
       "      <td>C1</td>\n",
       "      <td>CITROEN C1 PureTech 60KW 82CV Feel 5p.</td>\n",
       "      <td>6200</td>\n",
       "      <td>NaN</td>\n",
       "      <td>Gasolina</td>\n",
       "      <td>2017.0</td>\n",
       "      <td>50071</td>\n",
       "      <td>...</td>\n",
       "      <td>5</td>\n",
       "      <td>Manual</td>\n",
       "      <td>Blanco</td>\n",
       "      <td>6</td>\n",
       "      <td>True</td>\n",
       "      <td>Autos Raymara</td>\n",
       "      <td>Tenerife</td>\n",
       "      <td>Spain</td>\n",
       "      <td>2021-01-02 11:25:40</td>\n",
       "      <td>2021-01-15 00:00:00</td>\n",
       "    </tr>\n",
       "    <tr>\n",
       "      <th>2</th>\n",
       "      <td>de4b02db28ea7786c622b969be10c7c7</td>\n",
       "      <td>9881bcdd5a0ad4733037b3fb25e69c3a</td>\n",
       "      <td>FORD</td>\n",
       "      <td>Transit Connect</td>\n",
       "      <td>FORD Transit Connect Van 1.5 TDCi 100cv Ambien...</td>\n",
       "      <td>7851</td>\n",
       "      <td>7024.0</td>\n",
       "      <td>Diésel</td>\n",
       "      <td>2016.0</td>\n",
       "      <td>103000</td>\n",
       "      <td>...</td>\n",
       "      <td>4</td>\n",
       "      <td>Manual</td>\n",
       "      <td>Blanco</td>\n",
       "      <td>10</td>\n",
       "      <td>True</td>\n",
       "      <td>Auto 96</td>\n",
       "      <td>Barcelona</td>\n",
       "      <td>Spain</td>\n",
       "      <td>2020-12-16 10:51:45</td>\n",
       "      <td>2021-01-15 00:00:00</td>\n",
       "    </tr>\n",
       "    <tr>\n",
       "      <th>3</th>\n",
       "      <td>0449972a4d07594acf92e9a7dd28b39c</td>\n",
       "      <td>9881bcdd5a0ad4733037b3fb25e69c3a</td>\n",
       "      <td>VOLKSWAGEN</td>\n",
       "      <td>Caravelle</td>\n",
       "      <td>VOLKSWAGEN Caravelle Largo 2.0 TDI 140 Comfort...</td>\n",
       "      <td>19426</td>\n",
       "      <td>NaN</td>\n",
       "      <td>Diésel</td>\n",
       "      <td>2014.0</td>\n",
       "      <td>120000</td>\n",
       "      <td>...</td>\n",
       "      <td>4</td>\n",
       "      <td>Manual</td>\n",
       "      <td>Blanco</td>\n",
       "      <td>9</td>\n",
       "      <td>True</td>\n",
       "      <td>Inniauto</td>\n",
       "      <td>Navarra</td>\n",
       "      <td>Spain</td>\n",
       "      <td>2020-11-25 11:09:14</td>\n",
       "      <td>2021-01-15 00:00:00</td>\n",
       "    </tr>\n",
       "    <tr>\n",
       "      <th>4</th>\n",
       "      <td>12c4fa49bd4fdf23f19ecf396d3f02ef</td>\n",
       "      <td>9881bcdd5a0ad4733037b3fb25e69c3a</td>\n",
       "      <td>FORD</td>\n",
       "      <td>Transit</td>\n",
       "      <td>FORD Transit 350 96kW L4 Ambiente Propulsion T...</td>\n",
       "      <td>22850</td>\n",
       "      <td>22800.0</td>\n",
       "      <td>Diésel</td>\n",
       "      <td>2017.0</td>\n",
       "      <td>107000</td>\n",
       "      <td>...</td>\n",
       "      <td>2</td>\n",
       "      <td>Manual</td>\n",
       "      <td>Blanco</td>\n",
       "      <td>4</td>\n",
       "      <td>True</td>\n",
       "      <td>Autofleet España,s.l</td>\n",
       "      <td>Sevilla</td>\n",
       "      <td>Spain</td>\n",
       "      <td>2021-01-12 20:00:34</td>\n",
       "      <td>2021-01-15 00:00:00</td>\n",
       "    </tr>\n",
       "  </tbody>\n",
       "</table>\n",
       "<p>5 rows × 21 columns</p>\n",
       "</div>"
      ],
      "text/plain": [
       "                                url                           company  \\\n",
       "0  e158ae0ca53119ca199c28c36b5c2fcd  9881bcdd5a0ad4733037b3fb25e69c3a   \n",
       "1  ff267ebb7e700246f47f84f3db660b4b  9881bcdd5a0ad4733037b3fb25e69c3a   \n",
       "2  de4b02db28ea7786c622b969be10c7c7  9881bcdd5a0ad4733037b3fb25e69c3a   \n",
       "3  0449972a4d07594acf92e9a7dd28b39c  9881bcdd5a0ad4733037b3fb25e69c3a   \n",
       "4  12c4fa49bd4fdf23f19ecf396d3f02ef  9881bcdd5a0ad4733037b3fb25e69c3a   \n",
       "\n",
       "         make            model  \\\n",
       "0        SEAT           Toledo   \n",
       "1     CITROEN               C1   \n",
       "2        FORD  Transit Connect   \n",
       "3  VOLKSWAGEN        Caravelle   \n",
       "4        FORD          Transit   \n",
       "\n",
       "                                             version  price  price_financed  \\\n",
       "0                                   SEAT Toledo  4p.    950             NaN   \n",
       "1             CITROEN C1 PureTech 60KW 82CV Feel 5p.   6200             NaN   \n",
       "2  FORD Transit Connect Van 1.5 TDCi 100cv Ambien...   7851          7024.0   \n",
       "3  VOLKSWAGEN Caravelle Largo 2.0 TDI 140 Comfort...  19426             NaN   \n",
       "4  FORD Transit 350 96kW L4 Ambiente Propulsion T...  22850         22800.0   \n",
       "\n",
       "       fuel    year     kms  ...  doors   shift   color photos  \\\n",
       "0    Diésel  2000.0  227000  ...      4  Manual   Verde      5   \n",
       "1  Gasolina  2017.0   50071  ...      5  Manual  Blanco      6   \n",
       "2    Diésel  2016.0  103000  ...      4  Manual  Blanco     10   \n",
       "3    Diésel  2014.0  120000  ...      4  Manual  Blanco      9   \n",
       "4    Diésel  2017.0  107000  ...      2  Manual  Blanco      4   \n",
       "\n",
       "   is_professional                            dealer   province country  \\\n",
       "0            False  0f4bb8455d27349b8273109b66a847f3    Navarra   Spain   \n",
       "1             True                     Autos Raymara   Tenerife   Spain   \n",
       "2             True                           Auto 96  Barcelona   Spain   \n",
       "3             True                          Inniauto    Navarra   Spain   \n",
       "4             True              Autofleet España,s.l    Sevilla   Spain   \n",
       "\n",
       "          publish_date          insert_date  \n",
       "0  2020-12-18 10:47:13  2021-01-15 00:00:00  \n",
       "1  2021-01-02 11:25:40  2021-01-15 00:00:00  \n",
       "2  2020-12-16 10:51:45  2021-01-15 00:00:00  \n",
       "3  2020-11-25 11:09:14  2021-01-15 00:00:00  \n",
       "4  2021-01-12 20:00:34  2021-01-15 00:00:00  \n",
       "\n",
       "[5 rows x 21 columns]"
      ]
     },
     "execution_count": 15,
     "metadata": {},
     "output_type": "execute_result"
    }
   ],
   "source": [
    "data2015=pd.read_csv('data/coches-de-segunda-mano-sample.csv')\n",
    "data2015.head()"
   ]
  },
  {
   "cell_type": "code",
   "execution_count": 198,
   "id": "36bf6433",
   "metadata": {},
   "outputs": [
    {
     "data": {
      "text/html": [
       "<div>\n",
       "<style scoped>\n",
       "    .dataframe tbody tr th:only-of-type {\n",
       "        vertical-align: middle;\n",
       "    }\n",
       "\n",
       "    .dataframe tbody tr th {\n",
       "        vertical-align: top;\n",
       "    }\n",
       "\n",
       "    .dataframe thead th {\n",
       "        text-align: right;\n",
       "    }\n",
       "</style>\n",
       "<table border=\"1\" class=\"dataframe\">\n",
       "  <thead>\n",
       "    <tr style=\"text-align: right;\">\n",
       "      <th></th>\n",
       "      <th>url</th>\n",
       "      <th>company</th>\n",
       "      <th>make</th>\n",
       "      <th>model</th>\n",
       "      <th>version</th>\n",
       "      <th>price</th>\n",
       "      <th>price_financed</th>\n",
       "      <th>fuel</th>\n",
       "      <th>year</th>\n",
       "      <th>kms</th>\n",
       "      <th>power</th>\n",
       "      <th>doors</th>\n",
       "      <th>shift</th>\n",
       "      <th>color</th>\n",
       "      <th>photos</th>\n",
       "      <th>is_professional</th>\n",
       "      <th>dealer</th>\n",
       "      <th>province</th>\n",
       "      <th>country</th>\n",
       "      <th>publish_date</th>\n",
       "      <th>insert_date</th>\n",
       "    </tr>\n",
       "  </thead>\n",
       "  <tbody>\n",
       "    <tr>\n",
       "      <th>31722</th>\n",
       "      <td>30ddb86262997316f24ca6d9f43347ff</td>\n",
       "      <td>9881bcdd5a0ad4733037b3fb25e69c3a</td>\n",
       "      <td>PEUGEOT</td>\n",
       "      <td>Boxer</td>\n",
       "      <td>PEUGEOT Boxer 335 L2H2 HDi 160 4p.</td>\n",
       "      <td>24000</td>\n",
       "      <td>NaN</td>\n",
       "      <td>Diésel</td>\n",
       "      <td>2007.0</td>\n",
       "      <td>240000</td>\n",
       "      <td>157.0</td>\n",
       "      <td>4</td>\n",
       "      <td>Manual</td>\n",
       "      <td>Gris / Plata</td>\n",
       "      <td>5</td>\n",
       "      <td>False</td>\n",
       "      <td>caff6ac72029f322690842807cde0571</td>\n",
       "      <td>Barcelona</td>\n",
       "      <td>Spain</td>\n",
       "      <td>2020-12-01 18:09:59</td>\n",
       "      <td>2021-01-15 00:00:00</td>\n",
       "    </tr>\n",
       "  </tbody>\n",
       "</table>\n",
       "</div>"
      ],
      "text/plain": [
       "                                    url                           company  \\\n",
       "31722  30ddb86262997316f24ca6d9f43347ff  9881bcdd5a0ad4733037b3fb25e69c3a   \n",
       "\n",
       "          make  model                             version  price  \\\n",
       "31722  PEUGEOT  Boxer  PEUGEOT Boxer 335 L2H2 HDi 160 4p.  24000   \n",
       "\n",
       "       price_financed    fuel    year     kms  power  doors   shift  \\\n",
       "31722             NaN  Diésel  2007.0  240000  157.0      4  Manual   \n",
       "\n",
       "              color  photos  is_professional  \\\n",
       "31722  Gris / Plata       5            False   \n",
       "\n",
       "                                 dealer   province country  \\\n",
       "31722  caff6ac72029f322690842807cde0571  Barcelona   Spain   \n",
       "\n",
       "              publish_date          insert_date  \n",
       "31722  2020-12-01 18:09:59  2021-01-15 00:00:00  "
      ]
     },
     "execution_count": 198,
     "metadata": {},
     "output_type": "execute_result"
    }
   ],
   "source": [
    "data2015[31722:31723]"
   ]
  },
  {
   "cell_type": "code",
   "execution_count": null,
   "id": "493b664d",
   "metadata": {},
   "outputs": [],
   "source": []
  },
  {
   "cell_type": "code",
   "execution_count": 4,
   "id": "bbc2b8ba",
   "metadata": {},
   "outputs": [],
   "source": [
    "entreno=data2015.copy()\n",
    "columnas=['make', 'model', 'price',\n",
    "       'fuel', 'year', 'kms', 'power', 'doors', 'shift', \n",
    "       'is_professional', 'province']"
   ]
  },
  {
   "cell_type": "code",
   "execution_count": 6,
   "id": "6a52c874",
   "metadata": {},
   "outputs": [],
   "source": [
    "cluster=entreno[columnas]"
   ]
  },
  {
   "cell_type": "code",
   "execution_count": 7,
   "id": "c5195ca1",
   "metadata": {},
   "outputs": [
    {
     "name": "stderr",
     "output_type": "stream",
     "text": [
      "C:\\Users\\alima\\AppData\\Local\\Temp/ipykernel_15564/892693899.py:1: SettingWithCopyWarning: \n",
      "A value is trying to be set on a copy of a slice from a DataFrame.\n",
      "Try using .loc[row_indexer,col_indexer] = value instead\n",
      "\n",
      "See the caveats in the documentation: https://pandas.pydata.org/pandas-docs/stable/user_guide/indexing.html#returning-a-view-versus-a-copy\n",
      "  cluster['model'], model_names=pd.factorize(cluster['model'])\n",
      "C:\\Users\\alima\\anaconda3\\lib\\site-packages\\pandas\\core\\generic.py:5516: SettingWithCopyWarning: \n",
      "A value is trying to be set on a copy of a slice from a DataFrame.\n",
      "Try using .loc[row_indexer,col_indexer] = value instead\n",
      "\n",
      "See the caveats in the documentation: https://pandas.pydata.org/pandas-docs/stable/user_guide/indexing.html#returning-a-view-versus-a-copy\n",
      "  self[name] = value\n",
      "C:\\Users\\alima\\AppData\\Local\\Temp/ipykernel_15564/892693899.py:4: SettingWithCopyWarning: \n",
      "A value is trying to be set on a copy of a slice from a DataFrame.\n",
      "Try using .loc[row_indexer,col_indexer] = value instead\n",
      "\n",
      "See the caveats in the documentation: https://pandas.pydata.org/pandas-docs/stable/user_guide/indexing.html#returning-a-view-versus-a-copy\n",
      "  cluster['shift'],_=pd.factorize(cluster['shift'])\n"
     ]
    }
   ],
   "source": [
    "cluster['model'], model_names=pd.factorize(cluster['model'])\n",
    "cluster.make,_=pd.factorize(cluster.make)\n",
    "cluster.fuel,_=pd.factorize(cluster.fuel)\n",
    "cluster['shift'],_=pd.factorize(cluster['shift'])\n",
    "cluster.is_professional,_=pd.factorize(cluster.is_professional)\n",
    "cluster.province,_=pd.factorize(cluster.province)"
   ]
  },
  {
   "cell_type": "code",
   "execution_count": 10,
   "id": "2a0d5208",
   "metadata": {},
   "outputs": [
    {
     "name": "stderr",
     "output_type": "stream",
     "text": [
      "C:\\Users\\alima\\anaconda3\\lib\\site-packages\\pandas\\util\\_decorators.py:311: SettingWithCopyWarning: \n",
      "A value is trying to be set on a copy of a slice from a DataFrame\n",
      "\n",
      "See the caveats in the documentation: https://pandas.pydata.org/pandas-docs/stable/user_guide/indexing.html#returning-a-view-versus-a-copy\n",
      "  return func(*args, **kwargs)\n"
     ]
    }
   ],
   "source": [
    "cluster.dropna(axis=0,inplace=True)"
   ]
  },
  {
   "cell_type": "code",
   "execution_count": 18,
   "id": "2341d42a",
   "metadata": {},
   "outputs": [
    {
     "data": {
      "image/png": "[encoded data removed]",
      "text/plain": [
       "<Figure size 1080x720 with 2 Axes>"
      ]
     },
     "metadata": {},
     "output_type": "display_data"
    }
   ],
   "source": [
    "plt.figure(figsize=(15, 10))\n",
    "\n",
    "sns.set(style='white')\n",
    "\n",
    "mask=np.triu(np.ones_like(cluster.corr(), dtype=bool))\n",
    "\n",
    "cmap=sns.diverging_palette(0, 10, as_cmap=True)\n",
    "\n",
    "\n",
    "\n",
    "sns.heatmap(cluster.corr(),\n",
    "           mask=mask,\n",
    "          cmap=cmap,\n",
    "          center=0,\n",
    "          square=True,\n",
    "          linewidths=0.5,\n",
    "          cbar_kws={'shrink': 0.5},\n",
    "           annot=True);\n"
   ]
  },
  {
   "cell_type": "code",
   "execution_count": 17,
   "id": "a4a8817e",
   "metadata": {},
   "outputs": [
    {
     "name": "stderr",
     "output_type": "stream",
     "text": [
      "C:\\Users\\alima\\anaconda3\\lib\\site-packages\\pandas\\core\\frame.py:4906: SettingWithCopyWarning: \n",
      "A value is trying to be set on a copy of a slice from a DataFrame\n",
      "\n",
      "See the caveats in the documentation: https://pandas.pydata.org/pandas-docs/stable/user_guide/indexing.html#returning-a-view-versus-a-copy\n",
      "  return super().drop(\n"
     ]
    }
   ],
   "source": [
    "cluster.drop(columns=['province','doors'], inplace=True)"
   ]
  },
  {
   "cell_type": "markdown",
   "id": "bdf6b6cd",
   "metadata": {},
   "source": [
    "**Random Forest**"
   ]
  },
  {
   "cell_type": "code",
   "execution_count": 145,
   "id": "55f7f99b",
   "metadata": {},
   "outputs": [],
   "source": [
    "X=cluster.drop('price', axis=1)\n",
    "\n",
    "y=cluster.price"
   ]
  },
  {
   "cell_type": "code",
   "execution_count": 146,
   "id": "2fcb09b9",
   "metadata": {},
   "outputs": [],
   "source": [
    "X_train, X_test, y_train, y_test = tts(X, y, test_size=0.2, train_size=0.8, random_state=23)"
   ]
  },
  {
   "cell_type": "code",
   "execution_count": 147,
   "id": "0d493423",
   "metadata": {},
   "outputs": [],
   "source": [
    "bosque=RFR()"
   ]
  },
  {
   "cell_type": "code",
   "execution_count": 148,
   "id": "bb546223",
   "metadata": {},
   "outputs": [],
   "source": [
    "X=scaler.fit_transform(X)"
   ]
  },
  {
   "cell_type": "code",
   "execution_count": 149,
   "id": "b7990b43",
   "metadata": {},
   "outputs": [
    {
     "data": {
      "text/plain": [
       "RandomForestRegressor()"
      ]
     },
     "execution_count": 149,
     "metadata": {},
     "output_type": "execute_result"
    }
   ],
   "source": [
    "bosque.fit(X_train,y_train)"
   ]
  },
  {
   "cell_type": "code",
   "execution_count": 155,
   "id": "c6059143",
   "metadata": {},
   "outputs": [],
   "source": [
    "y_pred=bosque.predict(X_test)"
   ]
  },
  {
   "cell_type": "code",
   "execution_count": 156,
   "id": "57c63079",
   "metadata": {},
   "outputs": [
    {
     "data": {
      "text/plain": [
       "5439.506211085424"
      ]
     },
     "execution_count": 156,
     "metadata": {},
     "output_type": "execute_result"
    }
   ],
   "source": [
    "mse(y_pred,y_test,squared=False)"
   ]
  },
  {
   "cell_type": "code",
   "execution_count": 157,
   "id": "cbe35a27",
   "metadata": {},
   "outputs": [
    {
     "data": {
      "text/plain": [
       "0.8871023970923635"
      ]
     },
     "execution_count": 157,
     "metadata": {},
     "output_type": "execute_result"
    }
   ],
   "source": [
    "r2(y_pred,y_test)"
   ]
  },
  {
   "cell_type": "code",
   "execution_count": 159,
   "id": "6039e3f1",
   "metadata": {},
   "outputs": [
    {
     "data": {
      "image/png": "[encoded data removed]",
      "text/plain": [
       "<Figure size 1440x720 with 1 Axes>"
      ]
     },
     "metadata": {},
     "output_type": "display_data"
    }
   ],
   "source": [
    "y_pred=bosque.predict(X_test)\n",
    "number_of_observations=20\n",
    "x_ax = range(len(y_test[:number_of_observations]))\n",
    "plt.figure(figsize=(20,10))\n",
    "plt.plot(x_ax, y_test[:number_of_observations], label=\"True\")\n",
    "plt.plot(x_ax, y_pred[:number_of_observations], label=\"Predicted\")\n",
    "plt.title(\"Car Price - True vs Predicted data\")\n",
    "plt.xlabel('Observation Number')\n",
    "plt.ylabel('Price')\n",
    "plt.xticks(np.arange(number_of_observations))\n",
    "plt.legend()\n",
    "plt.grid()\n",
    "plt.show()"
   ]
  },
  {
   "cell_type": "markdown",
   "id": "a371322a",
   "metadata": {},
   "source": [
    "**COMPARACION**"
   ]
  },
  {
   "cell_type": "code",
   "execution_count": 100,
   "id": "de4d16fc",
   "metadata": {},
   "outputs": [
    {
     "data": {
      "text/html": [
       "<div>\n",
       "<style scoped>\n",
       "    .dataframe tbody tr th:only-of-type {\n",
       "        vertical-align: middle;\n",
       "    }\n",
       "\n",
       "    .dataframe tbody tr th {\n",
       "        vertical-align: top;\n",
       "    }\n",
       "\n",
       "    .dataframe thead th {\n",
       "        text-align: right;\n",
       "    }\n",
       "</style>\n",
       "<table border=\"1\" class=\"dataframe\">\n",
       "  <thead>\n",
       "    <tr style=\"text-align: right;\">\n",
       "      <th></th>\n",
       "      <th>version</th>\n",
       "      <th>precio</th>\n",
       "      <th>combustible</th>\n",
       "      <th>CV</th>\n",
       "      <th>km</th>\n",
       "      <th>lugar</th>\n",
       "      <th>año</th>\n",
       "      <th>link</th>\n",
       "      <th>modelo</th>\n",
       "      <th>marca</th>\n",
       "    </tr>\n",
       "  </thead>\n",
       "  <tbody>\n",
       "    <tr>\n",
       "      <th>0</th>\n",
       "      <td>Volkswagen Polo 1.0 TSI Advance 70kW</td>\n",
       "      <td>13.490</td>\n",
       "      <td>Gasolina</td>\n",
       "      <td>Unknown</td>\n",
       "      <td>36.000</td>\n",
       "      <td>Tenerife        ...</td>\n",
       "      <td>2019</td>\n",
       "      <td>https://www.coches.com/coches-segunda-mano/oca...</td>\n",
       "      <td>Polo</td>\n",
       "      <td>Volkswagen</td>\n",
       "    </tr>\n",
       "    <tr>\n",
       "      <th>1</th>\n",
       "      <td>Toyota Yaris 1.5 Active</td>\n",
       "      <td>10.500</td>\n",
       "      <td>Gasolina</td>\n",
       "      <td>Unknown</td>\n",
       "      <td>62.200</td>\n",
       "      <td>Guadalajara     ...</td>\n",
       "      <td>2017</td>\n",
       "      <td>https://www.coches.com/coches-segunda-mano/oca...</td>\n",
       "      <td>Yaris</td>\n",
       "      <td>Toyota</td>\n",
       "    </tr>\n",
       "    <tr>\n",
       "      <th>2</th>\n",
       "      <td>Skoda Fabia 1.4 16v Elegance 100</td>\n",
       "      <td>3.900</td>\n",
       "      <td>Gasolina</td>\n",
       "      <td>Unknown</td>\n",
       "      <td>225.000</td>\n",
       "      <td>Lleida</td>\n",
       "      <td>2000</td>\n",
       "      <td>https://www.coches.com/coches-segunda-mano/oca...</td>\n",
       "      <td>Fabia</td>\n",
       "      <td>Skoda</td>\n",
       "    </tr>\n",
       "    <tr>\n",
       "      <th>3</th>\n",
       "      <td>Citroen C4 Picasso 1.6e-HDi Exclusive 115</td>\n",
       "      <td>9.750</td>\n",
       "      <td>Diesel</td>\n",
       "      <td>Unknown</td>\n",
       "      <td>150.000</td>\n",
       "      <td>Madrid</td>\n",
       "      <td>2015</td>\n",
       "      <td>https://www.coches.com/coches-segunda-mano/oca...</td>\n",
       "      <td>C4</td>\n",
       "      <td>Citroen</td>\n",
       "    </tr>\n",
       "    <tr>\n",
       "      <th>4</th>\n",
       "      <td>Cupra Formentor 1.5 TSI 150</td>\n",
       "      <td>29.125</td>\n",
       "      <td>Gasolina</td>\n",
       "      <td>Unknown</td>\n",
       "      <td>0</td>\n",
       "      <td>Madrid</td>\n",
       "      <td>2022</td>\n",
       "      <td>https://www.coches.com/km0/seminuevo-cupra-for...</td>\n",
       "      <td>Formentor</td>\n",
       "      <td>Cupra</td>\n",
       "    </tr>\n",
       "  </tbody>\n",
       "</table>\n",
       "</div>"
      ],
      "text/plain": [
       "                                     version  precio combustible       CV  \\\n",
       "0       Volkswagen Polo 1.0 TSI Advance 70kW  13.490    Gasolina  Unknown   \n",
       "1                    Toyota Yaris 1.5 Active  10.500    Gasolina  Unknown   \n",
       "2           Skoda Fabia 1.4 16v Elegance 100   3.900    Gasolina  Unknown   \n",
       "3  Citroen C4 Picasso 1.6e-HDi Exclusive 115   9.750      Diesel  Unknown   \n",
       "4                Cupra Formentor 1.5 TSI 150  29.125    Gasolina  Unknown   \n",
       "\n",
       "                                        km  \\\n",
       "0                    36.000                  \n",
       "1                    62.200                  \n",
       "2                   225.000                  \n",
       "3                   150.000                  \n",
       "4                         0                  \n",
       "\n",
       "                                               lugar   año  \\\n",
       "0                                Tenerife        ...  2019   \n",
       "1                                Guadalajara     ...  2017   \n",
       "2                                Lleida               2000   \n",
       "3                                Madrid               2015   \n",
       "4                                Madrid               2022   \n",
       "\n",
       "                                                link     modelo       marca  \n",
       "0  https://www.coches.com/coches-segunda-mano/oca...       Polo  Volkswagen  \n",
       "1  https://www.coches.com/coches-segunda-mano/oca...      Yaris      Toyota  \n",
       "2  https://www.coches.com/coches-segunda-mano/oca...      Fabia       Skoda  \n",
       "3  https://www.coches.com/coches-segunda-mano/oca...         C4     Citroen  \n",
       "4  https://www.coches.com/km0/seminuevo-cupra-for...  Formentor       Cupra  "
      ]
     },
     "execution_count": 100,
     "metadata": {},
     "output_type": "execute_result"
    }
   ],
   "source": [
    "cochescom=pd.read_csv('coches.com_bueno.csv')\n",
    "cochescom.drop(columns='Unnamed: 0', inplace=True)\n",
    "cochescom.head()"
   ]
  },
  {
   "cell_type": "code",
   "execution_count": 101,
   "id": "ab7225e9",
   "metadata": {},
   "outputs": [
    {
     "name": "stderr",
     "output_type": "stream",
     "text": [
      "C:\\Users\\alima\\AppData\\Local\\Temp/ipykernel_15564/3537906775.py:5: SettingWithCopyWarning: \n",
      "A value is trying to be set on a copy of a slice from a DataFrame\n",
      "\n",
      "See the caveats in the documentation: https://pandas.pydata.org/pandas-docs/stable/user_guide/indexing.html#returning-a-view-versus-a-copy\n",
      "  cochescom.CV[i]=int(cochescom.version[i].split(' ')[-1])\n",
      "C:\\Users\\alima\\AppData\\Local\\Temp/ipykernel_15564/3537906775.py:12: SettingWithCopyWarning: \n",
      "A value is trying to be set on a copy of a slice from a DataFrame\n",
      "\n",
      "See the caveats in the documentation: https://pandas.pydata.org/pandas-docs/stable/user_guide/indexing.html#returning-a-view-versus-a-copy\n",
      "  cochescom.CV[i]=kw_to_cv(cochescom.version[i])\n"
     ]
    }
   ],
   "source": [
    "\n",
    "for i in range(len(cochescom)):\n",
    "   \n",
    "        try:\n",
    "             if cochescom.CV[i]=='Unknown' and cochescom.version[i].split(' ')[-1].isnumeric():\n",
    "                cochescom.CV[i]=int(cochescom.version[i].split(' ')[-1])\n",
    "        except: \n",
    "            pass\n",
    "for i in range(len(cochescom)):\n",
    "    \n",
    "        try:\n",
    "            if cochescom.CV[i]=='Unknown' and cochescom.version.str.contains('kW')[i]:\n",
    "                cochescom.CV[i]=kw_to_cv(cochescom.version[i])\n",
    "        except: \n",
    "            pass"
   ]
  },
  {
   "cell_type": "code",
   "execution_count": 118,
   "id": "deddddca",
   "metadata": {},
   "outputs": [
    {
     "name": "stderr",
     "output_type": "stream",
     "text": [
      "C:\\Users\\alima\\AppData\\Local\\Temp/ipykernel_15564/258785238.py:1: FutureWarning: The default value of regex will change from True to False in a future version. In addition, single character regular expressions will *not* be treated as literal strings when regex=True.\n",
      "  cochescom.CV=cochescom.CV.str.replace('.','')\n"
     ]
    }
   ],
   "source": [
    "cochescom.CV=cochescom.CV.str.replace('.','')"
   ]
  },
  {
   "cell_type": "code",
   "execution_count": 60,
   "id": "1368ebc1",
   "metadata": {},
   "outputs": [
    {
     "name": "stderr",
     "output_type": "stream",
     "text": [
      "C:\\Users\\alima\\AppData\\Local\\Temp/ipykernel_15564/1225388830.py:1: SettingWithCopyWarning: \n",
      "A value is trying to be set on a copy of a slice from a DataFrame\n",
      "\n",
      "See the caveats in the documentation: https://pandas.pydata.org/pandas-docs/stable/user_guide/indexing.html#returning-a-view-versus-a-copy\n",
      "  cochescom.CV[3]=int(cochescom.version[3].rsplit(' ', 1)[-1])\n"
     ]
    }
   ],
   "source": [
    "cochescom.CV[3]=int(cochescom.version[3].rsplit(' ', 1)[-1])"
   ]
  },
  {
   "cell_type": "code",
   "execution_count": 119,
   "id": "22b27343",
   "metadata": {},
   "outputs": [
    {
     "data": {
      "text/plain": [
       "Unknown    970\n",
       " 150       244\n",
       " 110       162\n",
       " 130       149\n",
       " 136        87\n",
       "          ... \n",
       " 127         1\n",
       " 449         1\n",
       " 360         1\n",
       " 290         1\n",
       " 252         1\n",
       "Name: CV, Length: 182, dtype: int64"
      ]
     },
     "execution_count": 119,
     "metadata": {},
     "output_type": "execute_result"
    }
   ],
   "source": [
    "cochescom.CV.value_counts()"
   ]
  },
  {
   "cell_type": "code",
   "execution_count": 106,
   "id": "2fe3e1d6",
   "metadata": {},
   "outputs": [
    {
     "data": {
      "text/plain": [
       "['make',\n",
       " 'model',\n",
       " 'price',\n",
       " 'fuel',\n",
       " 'year',\n",
       " 'kms',\n",
       " 'power',\n",
       " 'doors',\n",
       " 'shift',\n",
       " 'is_professional',\n",
       " 'province']"
      ]
     },
     "execution_count": 106,
     "metadata": {},
     "output_type": "execute_result"
    }
   ],
   "source": [
    "columnas"
   ]
  },
  {
   "cell_type": "code",
   "execution_count": 76,
   "id": "3f774b7a",
   "metadata": {},
   "outputs": [
    {
     "data": {
      "text/plain": [
       "False    3654\n",
       "True      324\n",
       "Name: version, dtype: int64"
      ]
     },
     "execution_count": 76,
     "metadata": {},
     "output_type": "execute_result"
    }
   ],
   "source": [
    "cochescom.version.str.contains('kW').value_counts()"
   ]
  },
  {
   "cell_type": "code",
   "execution_count": 99,
   "id": "4ed65abc",
   "metadata": {},
   "outputs": [],
   "source": [
    "def kw_to_cv(cadena):\n",
    "    \n",
    "    for inx, letra in enumerate(cadena):\n",
    "        if letra in [\"k\",\"K\"] and cadena[inx+1] in [\"W\",\"w\"]:\n",
    "            try:\n",
    "                num= int(cadena[inx-3:inx])\n",
    "            except:\n",
    "                num= int(cadena[inx-2:inx])\n",
    "    return int(num*1.36)\n",
    "\n",
    "                \n"
   ]
  },
  {
   "cell_type": "code",
   "execution_count": 88,
   "id": "d5c1fbac",
   "metadata": {},
   "outputs": [],
   "source": [
    "for i in cochescom.version:\n",
    "    if \"kw\" in i:\n",
    "        print(kw_to_cv(i))\n",
    "    "
   ]
  },
  {
   "cell_type": "code",
   "execution_count": 89,
   "id": "27aba6a1",
   "metadata": {},
   "outputs": [
    {
     "data": {
      "text/plain": [
       "True"
      ]
     },
     "execution_count": 89,
     "metadata": {},
     "output_type": "execute_result"
    }
   ],
   "source": [
    "cochescom.version.str.contains('kW')[0]"
   ]
  },
  {
   "cell_type": "markdown",
   "id": "e2f25680",
   "metadata": {},
   "source": [
    "**RFR CON DUMMIES**"
   ]
  },
  {
   "cell_type": "code",
   "execution_count": 160,
   "id": "e62f51af",
   "metadata": {},
   "outputs": [
    {
     "name": "stderr",
     "output_type": "stream",
     "text": [
      "C:\\Users\\alima\\anaconda3\\lib\\site-packages\\pandas\\util\\_decorators.py:311: SettingWithCopyWarning: \n",
      "A value is trying to be set on a copy of a slice from a DataFrame\n",
      "\n",
      "See the caveats in the documentation: https://pandas.pydata.org/pandas-docs/stable/user_guide/indexing.html#returning-a-view-versus-a-copy\n",
      "  return func(*args, **kwargs)\n"
     ]
    }
   ],
   "source": [
    "RFR_dum=entreno[columnas]\n",
    "RFR_dum.dropna(axis=0, inplace=True)"
   ]
  },
  {
   "cell_type": "code",
   "execution_count": 162,
   "id": "731c264a",
   "metadata": {},
   "outputs": [],
   "source": [
    "X_rfr=RFR_dum.drop('price', axis=1)\n",
    "y_rfr=RFR_dum.price"
   ]
  },
  {
   "cell_type": "code",
   "execution_count": 163,
   "id": "c0d1b602",
   "metadata": {},
   "outputs": [],
   "source": [
    "X_rfr[['year','kms','power','doors']]=scaler.fit_transform(X_rfr[['year','kms','power','doors']])"
   ]
  },
  {
   "cell_type": "code",
   "execution_count": 164,
   "id": "c45bb04d",
   "metadata": {},
   "outputs": [],
   "source": [
    "X_rfr=pd.get_dummies(X_rfr, columns=['make','model','fuel','shift','is_professional','province'], drop_first=True)\n"
   ]
  },
  {
   "cell_type": "code",
   "execution_count": 165,
   "id": "ae701e38",
   "metadata": {},
   "outputs": [
    {
     "data": {
      "text/plain": [
       "((33078, 1015), (8270, 1015), (33078,), (8270,))"
      ]
     },
     "execution_count": 165,
     "metadata": {},
     "output_type": "execute_result"
    }
   ],
   "source": [
    "X_train, X_test, y_train, y_test = tts(X_rfr, y_rfr, \n",
    "                                                    test_size=0.2, train_size=0.8,\n",
    "                                                    random_state=42)\n",
    "\n",
    "X_train.shape, X_test.shape, y_train.shape, y_test.shape"
   ]
  },
  {
   "cell_type": "code",
   "execution_count": 166,
   "id": "abdd6783",
   "metadata": {},
   "outputs": [
    {
     "data": {
      "text/plain": [
       "RandomForestRegressor()"
      ]
     },
     "execution_count": 166,
     "metadata": {},
     "output_type": "execute_result"
    }
   ],
   "source": [
    "bosque.fit(X_train,y_train)"
   ]
  },
  {
   "cell_type": "code",
   "execution_count": 167,
   "id": "fe2af451",
   "metadata": {},
   "outputs": [],
   "source": [
    "y_pred_rfr=bosque.predict(X_test)"
   ]
  },
  {
   "cell_type": "code",
   "execution_count": 168,
   "id": "0904867f",
   "metadata": {},
   "outputs": [
    {
     "data": {
      "text/plain": [
       "4393.345329020351"
      ]
     },
     "execution_count": 168,
     "metadata": {},
     "output_type": "execute_result"
    }
   ],
   "source": [
    "mse(y_pred_rfr,y_test,squared=False)"
   ]
  },
  {
   "cell_type": "code",
   "execution_count": 170,
   "id": "85bcc103",
   "metadata": {},
   "outputs": [
    {
     "data": {
      "text/plain": [
       "0.9254845209277132"
      ]
     },
     "execution_count": 170,
     "metadata": {},
     "output_type": "execute_result"
    }
   ],
   "source": [
    "r2(y_pred_rfr,y_test)"
   ]
  },
  {
   "cell_type": "code",
   "execution_count": 171,
   "id": "c3c52fdf",
   "metadata": {},
   "outputs": [
    {
     "data": {
      "image/png": "[encoded data removed]",
      "text/plain": [
       "<Figure size 1440x720 with 1 Axes>"
      ]
     },
     "metadata": {},
     "output_type": "display_data"
    }
   ],
   "source": [
    "y_pred_rfr=bosque.predict(X_test)\n",
    "number_of_observations=20\n",
    "x_ax = range(len(y_test[:number_of_observations]))\n",
    "plt.figure(figsize=(20,10))\n",
    "plt.plot(x_ax, y_test[:number_of_observations], label=\"True\")\n",
    "plt.plot(x_ax, y_pred_rfr[:number_of_observations], label=\"Predicted\")\n",
    "plt.title(\"Car Price - True vs Predicted data\")\n",
    "plt.xlabel('Observation Number')\n",
    "\n",
    "plt.ylabel('Price')\n",
    "plt.xticks(np.arange(number_of_observations))\n",
    "plt.legend()\n",
    "plt.grid()\n",
    "plt.show()"
   ]
  },
  {
   "cell_type": "code",
   "execution_count": 182,
   "id": "1416d5a0",
   "metadata": {},
   "outputs": [
    {
     "data": {
      "text/plain": [
       "704      40600\n",
       "766      39900\n",
       "1032     19900\n",
       "1303     17900\n",
       "1597     17990\n",
       "         ...  \n",
       "48616    20990\n",
       "49751    16890\n",
       "49755    36300\n",
       "49756    16990\n",
       "49880    12990\n",
       "Name: price, Length: 100, dtype: int64"
      ]
     },
     "execution_count": 182,
     "metadata": {},
     "output_type": "execute_result"
    }
   ],
   "source": [
    "RFR_dum[RFR_dum.model=='Kona'].price"
   ]
  },
  {
   "cell_type": "markdown",
   "id": "ec8712e2",
   "metadata": {},
   "source": [
    "**BUSQUEDA DE INDICES PARA FILTRAR LOS QUE DESVIAN EL MODELO**"
   ]
  },
  {
   "cell_type": "code",
   "execution_count": 214,
   "id": "9cd69c21",
   "metadata": {},
   "outputs": [
    {
     "data": {
      "text/html": [
       "<div>\n",
       "<style scoped>\n",
       "    .dataframe tbody tr th:only-of-type {\n",
       "        vertical-align: middle;\n",
       "    }\n",
       "\n",
       "    .dataframe tbody tr th {\n",
       "        vertical-align: top;\n",
       "    }\n",
       "\n",
       "    .dataframe thead th {\n",
       "        text-align: right;\n",
       "    }\n",
       "</style>\n",
       "<table border=\"1\" class=\"dataframe\">\n",
       "  <thead>\n",
       "    <tr style=\"text-align: right;\">\n",
       "      <th></th>\n",
       "      <th>make</th>\n",
       "      <th>model</th>\n",
       "      <th>price</th>\n",
       "      <th>fuel</th>\n",
       "      <th>year</th>\n",
       "      <th>kms</th>\n",
       "      <th>power</th>\n",
       "      <th>doors</th>\n",
       "      <th>shift</th>\n",
       "      <th>is_professional</th>\n",
       "      <th>province</th>\n",
       "    </tr>\n",
       "  </thead>\n",
       "  <tbody>\n",
       "    <tr>\n",
       "      <th>31722</th>\n",
       "      <td>PEUGEOT</td>\n",
       "      <td>Boxer</td>\n",
       "      <td>24000</td>\n",
       "      <td>Diésel</td>\n",
       "      <td>2007.0</td>\n",
       "      <td>240000</td>\n",
       "      <td>157.0</td>\n",
       "      <td>4</td>\n",
       "      <td>Manual</td>\n",
       "      <td>False</td>\n",
       "      <td>Barcelona</td>\n",
       "    </tr>\n",
       "  </tbody>\n",
       "</table>\n",
       "</div>"
      ],
      "text/plain": [
       "          make  model  price    fuel    year     kms  power  doors   shift  \\\n",
       "31722  PEUGEOT  Boxer  24000  Diésel  2007.0  240000  157.0      4  Manual   \n",
       "\n",
       "       is_professional   province  \n",
       "31722            False  Barcelona  "
      ]
     },
     "execution_count": 214,
     "metadata": {},
     "output_type": "execute_result"
    }
   ],
   "source": [
    "RFR_dum[RFR_dum['price']==24000].iloc[34:35]"
   ]
  },
  {
   "cell_type": "code",
   "execution_count": 218,
   "id": "cd3e1f70",
   "metadata": {},
   "outputs": [],
   "source": [
    "diff=pd.DataFrame(y_test,y_pred_rfr, columns=['y_test','y_pred_rfr'])"
   ]
  },
  {
   "cell_type": "code",
   "execution_count": 220,
   "id": "33b80a11",
   "metadata": {},
   "outputs": [],
   "source": [
    "cols = ['y_test','y_pred_rfr']\n",
    "list_of_series = [y_test, y_pred_rfr]\n",
    "df = pd.DataFrame(list_of_series, columns=cols)"
   ]
  },
  {
   "cell_type": "code",
   "execution_count": 246,
   "id": "653d6d18",
   "metadata": {},
   "outputs": [
    {
     "data": {
      "text/html": [
       "<div>\n",
       "<style scoped>\n",
       "    .dataframe tbody tr th:only-of-type {\n",
       "        vertical-align: middle;\n",
       "    }\n",
       "\n",
       "    .dataframe tbody tr th {\n",
       "        vertical-align: top;\n",
       "    }\n",
       "\n",
       "    .dataframe thead th {\n",
       "        text-align: right;\n",
       "    }\n",
       "</style>\n",
       "<table border=\"1\" class=\"dataframe\">\n",
       "  <thead>\n",
       "    <tr style=\"text-align: right;\">\n",
       "      <th></th>\n",
       "      <th>price</th>\n",
       "      <th>pred</th>\n",
       "      <th>diff</th>\n",
       "    </tr>\n",
       "  </thead>\n",
       "  <tbody>\n",
       "    <tr>\n",
       "      <th>40966</th>\n",
       "      <td>29000</td>\n",
       "      <td>33047.25</td>\n",
       "      <td>4047.25</td>\n",
       "    </tr>\n",
       "    <tr>\n",
       "      <th>32546</th>\n",
       "      <td>23900</td>\n",
       "      <td>28643.09</td>\n",
       "      <td>4743.09</td>\n",
       "    </tr>\n",
       "    <tr>\n",
       "      <th>31241</th>\n",
       "      <td>16720</td>\n",
       "      <td>15176.07</td>\n",
       "      <td>1543.93</td>\n",
       "    </tr>\n",
       "    <tr>\n",
       "      <th>13789</th>\n",
       "      <td>11990</td>\n",
       "      <td>12990.30</td>\n",
       "      <td>1000.30</td>\n",
       "    </tr>\n",
       "    <tr>\n",
       "      <th>17760</th>\n",
       "      <td>2500</td>\n",
       "      <td>2622.95</td>\n",
       "      <td>122.95</td>\n",
       "    </tr>\n",
       "    <tr>\n",
       "      <th>...</th>\n",
       "      <td>...</td>\n",
       "      <td>...</td>\n",
       "      <td>...</td>\n",
       "    </tr>\n",
       "    <tr>\n",
       "      <th>46571</th>\n",
       "      <td>16900</td>\n",
       "      <td>16254.12</td>\n",
       "      <td>645.88</td>\n",
       "    </tr>\n",
       "    <tr>\n",
       "      <th>29660</th>\n",
       "      <td>49869</td>\n",
       "      <td>48405.21</td>\n",
       "      <td>1463.79</td>\n",
       "    </tr>\n",
       "    <tr>\n",
       "      <th>26134</th>\n",
       "      <td>5990</td>\n",
       "      <td>8747.16</td>\n",
       "      <td>2757.16</td>\n",
       "    </tr>\n",
       "    <tr>\n",
       "      <th>4731</th>\n",
       "      <td>9995</td>\n",
       "      <td>8838.60</td>\n",
       "      <td>1156.40</td>\n",
       "    </tr>\n",
       "    <tr>\n",
       "      <th>48386</th>\n",
       "      <td>12249</td>\n",
       "      <td>9828.90</td>\n",
       "      <td>2420.10</td>\n",
       "    </tr>\n",
       "  </tbody>\n",
       "</table>\n",
       "<p>8270 rows × 3 columns</p>\n",
       "</div>"
      ],
      "text/plain": [
       "       price      pred     diff\n",
       "40966  29000  33047.25  4047.25\n",
       "32546  23900  28643.09  4743.09\n",
       "31241  16720  15176.07  1543.93\n",
       "13789  11990  12990.30  1000.30\n",
       "17760   2500   2622.95   122.95\n",
       "...      ...       ...      ...\n",
       "46571  16900  16254.12   645.88\n",
       "29660  49869  48405.21  1463.79\n",
       "26134   5990   8747.16  2757.16\n",
       "4731    9995   8838.60  1156.40\n",
       "48386  12249   9828.90  2420.10\n",
       "\n",
       "[8270 rows x 3 columns]"
      ]
     },
     "execution_count": 246,
     "metadata": {},
     "output_type": "execute_result"
    }
   ],
   "source": [
    "diff=pd.DataFrame(y_test)\n",
    "diff['pred']=y_pred_rfr\n",
    "diff['diff']=((diff.pred-diff.price)**2)**0.5\n",
    "diff"
   ]
  },
  {
   "cell_type": "code",
   "execution_count": 273,
   "id": "f96168c4",
   "metadata": {},
   "outputs": [],
   "source": [
    "diff.loc[diff['diff'] >= 1000,'SentimentType'] = 'Mal'\n",
    "#diff.loc[diff['diff'] >500,'SentimentType'] = 'Regular'\n",
    "diff.loc[diff['diff'] < 500,'SentimentType'] = 'Bien'"
   ]
  },
  {
   "cell_type": "code",
   "execution_count": 274,
   "id": "62d91b1f",
   "metadata": {},
   "outputs": [],
   "source": [
    "indices_mal=diff[diff.SentimentType=='Mal'].index\n",
    "indices_regular=diff[diff.SentimentType=='Regular'].index\n",
    "indices_bien=diff[diff.SentimentType=='Bien'].index"
   ]
  },
  {
   "cell_type": "code",
   "execution_count": 275,
   "id": "f8bb533e",
   "metadata": {},
   "outputs": [
    {
     "data": {
      "text/html": [
       "<div>\n",
       "<style scoped>\n",
       "    .dataframe tbody tr th:only-of-type {\n",
       "        vertical-align: middle;\n",
       "    }\n",
       "\n",
       "    .dataframe tbody tr th {\n",
       "        vertical-align: top;\n",
       "    }\n",
       "\n",
       "    .dataframe thead th {\n",
       "        text-align: right;\n",
       "    }\n",
       "</style>\n",
       "<table border=\"1\" class=\"dataframe\">\n",
       "  <thead>\n",
       "    <tr style=\"text-align: right;\">\n",
       "      <th></th>\n",
       "      <th>price</th>\n",
       "      <th>pred</th>\n",
       "      <th>diff</th>\n",
       "      <th>SentimentType</th>\n",
       "    </tr>\n",
       "  </thead>\n",
       "  <tbody>\n",
       "    <tr>\n",
       "      <th>40966</th>\n",
       "      <td>29000</td>\n",
       "      <td>33047.25</td>\n",
       "      <td>4047.25</td>\n",
       "      <td>Mal</td>\n",
       "    </tr>\n",
       "    <tr>\n",
       "      <th>32546</th>\n",
       "      <td>23900</td>\n",
       "      <td>28643.09</td>\n",
       "      <td>4743.09</td>\n",
       "      <td>Mal</td>\n",
       "    </tr>\n",
       "    <tr>\n",
       "      <th>31241</th>\n",
       "      <td>16720</td>\n",
       "      <td>15176.07</td>\n",
       "      <td>1543.93</td>\n",
       "      <td>Mal</td>\n",
       "    </tr>\n",
       "    <tr>\n",
       "      <th>13789</th>\n",
       "      <td>11990</td>\n",
       "      <td>12990.30</td>\n",
       "      <td>1000.30</td>\n",
       "      <td>Mal</td>\n",
       "    </tr>\n",
       "    <tr>\n",
       "      <th>17760</th>\n",
       "      <td>2500</td>\n",
       "      <td>2622.95</td>\n",
       "      <td>122.95</td>\n",
       "      <td>Bien</td>\n",
       "    </tr>\n",
       "    <tr>\n",
       "      <th>...</th>\n",
       "      <td>...</td>\n",
       "      <td>...</td>\n",
       "      <td>...</td>\n",
       "      <td>...</td>\n",
       "    </tr>\n",
       "    <tr>\n",
       "      <th>46571</th>\n",
       "      <td>16900</td>\n",
       "      <td>16254.12</td>\n",
       "      <td>645.88</td>\n",
       "      <td>Regular</td>\n",
       "    </tr>\n",
       "    <tr>\n",
       "      <th>29660</th>\n",
       "      <td>49869</td>\n",
       "      <td>48405.21</td>\n",
       "      <td>1463.79</td>\n",
       "      <td>Mal</td>\n",
       "    </tr>\n",
       "    <tr>\n",
       "      <th>26134</th>\n",
       "      <td>5990</td>\n",
       "      <td>8747.16</td>\n",
       "      <td>2757.16</td>\n",
       "      <td>Mal</td>\n",
       "    </tr>\n",
       "    <tr>\n",
       "      <th>4731</th>\n",
       "      <td>9995</td>\n",
       "      <td>8838.60</td>\n",
       "      <td>1156.40</td>\n",
       "      <td>Mal</td>\n",
       "    </tr>\n",
       "    <tr>\n",
       "      <th>48386</th>\n",
       "      <td>12249</td>\n",
       "      <td>9828.90</td>\n",
       "      <td>2420.10</td>\n",
       "      <td>Mal</td>\n",
       "    </tr>\n",
       "  </tbody>\n",
       "</table>\n",
       "<p>8270 rows × 4 columns</p>\n",
       "</div>"
      ],
      "text/plain": [
       "       price      pred     diff SentimentType\n",
       "40966  29000  33047.25  4047.25           Mal\n",
       "32546  23900  28643.09  4743.09           Mal\n",
       "31241  16720  15176.07  1543.93           Mal\n",
       "13789  11990  12990.30  1000.30           Mal\n",
       "17760   2500   2622.95   122.95          Bien\n",
       "...      ...       ...      ...           ...\n",
       "46571  16900  16254.12   645.88       Regular\n",
       "29660  49869  48405.21  1463.79           Mal\n",
       "26134   5990   8747.16  2757.16           Mal\n",
       "4731    9995   8838.60  1156.40           Mal\n",
       "48386  12249   9828.90  2420.10           Mal\n",
       "\n",
       "[8270 rows x 4 columns]"
      ]
     },
     "execution_count": 275,
     "metadata": {},
     "output_type": "execute_result"
    }
   ],
   "source": [
    "diff"
   ]
  },
  {
   "cell_type": "code",
   "execution_count": 278,
   "id": "add4bfd7",
   "metadata": {},
   "outputs": [
    {
     "data": {
      "text/plain": [
       "(4416, 1629, 2225)"
      ]
     },
     "execution_count": 278,
     "metadata": {},
     "output_type": "execute_result"
    }
   ],
   "source": [
    "len(indices_mal), len(indices_regular), len(indices_bien)"
   ]
  },
  {
   "cell_type": "code",
   "execution_count": 292,
   "id": "a83900c8",
   "metadata": {},
   "outputs": [
    {
     "data": {
      "text/html": [
       "<div>\n",
       "<style scoped>\n",
       "    .dataframe tbody tr th:only-of-type {\n",
       "        vertical-align: middle;\n",
       "    }\n",
       "\n",
       "    .dataframe tbody tr th {\n",
       "        vertical-align: top;\n",
       "    }\n",
       "\n",
       "    .dataframe thead th {\n",
       "        text-align: right;\n",
       "    }\n",
       "</style>\n",
       "<table border=\"1\" class=\"dataframe\">\n",
       "  <thead>\n",
       "    <tr style=\"text-align: right;\">\n",
       "      <th></th>\n",
       "      <th>url</th>\n",
       "      <th>company</th>\n",
       "      <th>make</th>\n",
       "      <th>model</th>\n",
       "      <th>version</th>\n",
       "      <th>price</th>\n",
       "      <th>price_financed</th>\n",
       "      <th>fuel</th>\n",
       "      <th>year</th>\n",
       "      <th>kms</th>\n",
       "      <th>power</th>\n",
       "      <th>doors</th>\n",
       "      <th>shift</th>\n",
       "      <th>color</th>\n",
       "      <th>photos</th>\n",
       "      <th>is_professional</th>\n",
       "      <th>dealer</th>\n",
       "      <th>province</th>\n",
       "      <th>country</th>\n",
       "      <th>publish_date</th>\n",
       "      <th>insert_date</th>\n",
       "    </tr>\n",
       "  </thead>\n",
       "  <tbody>\n",
       "    <tr>\n",
       "      <th>17760</th>\n",
       "      <td>5885e50644674bace24332f89a453d88</td>\n",
       "      <td>9881bcdd5a0ad4733037b3fb25e69c3a</td>\n",
       "      <td>CITROEN</td>\n",
       "      <td>C3</td>\n",
       "      <td>CITROEN C3 1.1i Furio 5p.</td>\n",
       "      <td>2500</td>\n",
       "      <td>NaN</td>\n",
       "      <td>Gasolina</td>\n",
       "      <td>2007.0</td>\n",
       "      <td>115000</td>\n",
       "      <td>61.0</td>\n",
       "      <td>5</td>\n",
       "      <td>Manual</td>\n",
       "      <td>Gris / Plata</td>\n",
       "      <td>6</td>\n",
       "      <td>False</td>\n",
       "      <td>55b7e8b895d047537e672250dd781555</td>\n",
       "      <td>Sevilla</td>\n",
       "      <td>Spain</td>\n",
       "      <td>2020-12-03 16:15:28</td>\n",
       "      <td>2021-01-15 00:00:00</td>\n",
       "    </tr>\n",
       "  </tbody>\n",
       "</table>\n",
       "</div>"
      ],
      "text/plain": [
       "                                    url                           company  \\\n",
       "17760  5885e50644674bace24332f89a453d88  9881bcdd5a0ad4733037b3fb25e69c3a   \n",
       "\n",
       "          make model                    version  price  price_financed  \\\n",
       "17760  CITROEN    C3  CITROEN C3 1.1i Furio 5p.   2500             NaN   \n",
       "\n",
       "           fuel    year     kms  power  doors   shift         color  photos  \\\n",
       "17760  Gasolina  2007.0  115000   61.0      5  Manual  Gris / Plata       6   \n",
       "\n",
       "       is_professional                            dealer province country  \\\n",
       "17760            False  55b7e8b895d047537e672250dd781555  Sevilla   Spain   \n",
       "\n",
       "              publish_date          insert_date  \n",
       "17760  2020-12-03 16:15:28  2021-01-15 00:00:00  "
      ]
     },
     "execution_count": 292,
     "metadata": {},
     "output_type": "execute_result"
    }
   ],
   "source": [
    "entreno[17760:17761]"
   ]
  },
  {
   "cell_type": "code",
   "execution_count": 311,
   "id": "2dfa107a",
   "metadata": {},
   "outputs": [],
   "source": [
    "bueno=[]\n",
    "for i in indices_bien:\n",
    "    bueno.append(entreno[columnas].iloc[i])   \n",
    "        \n",
    "        "
   ]
  },
  {
   "cell_type": "code",
   "execution_count": 335,
   "id": "1bf25314",
   "metadata": {},
   "outputs": [],
   "source": [
    "bueno_df=pd.DataFrame(bueno)"
   ]
  },
  {
   "cell_type": "code",
   "execution_count": 336,
   "id": "f9055b5f",
   "metadata": {},
   "outputs": [],
   "source": [
    "mej=pd.concat([entreno[columnas],bueno_df])\n",
    "mej.dropna(axis=0, inplace=True)\n",
    "X_rfr_bien=mej.drop('price', axis=1)\n",
    "y_rfr_bien=mej.price"
   ]
  },
  {
   "cell_type": "code",
   "execution_count": 337,
   "id": "dbbf2f98",
   "metadata": {},
   "outputs": [],
   "source": [
    "X_rfr_bien[['year','kms','power','doors']]=scaler.fit_transform(X_rfr_bien[['year','kms','power','doors']])\n",
    "X_rfr_bien=pd.get_dummies(X_rfr_bien, columns=['make','model','fuel','shift','is_professional','province'], drop_first=True)"
   ]
  },
  {
   "cell_type": "code",
   "execution_count": 338,
   "id": "0d05d8b6",
   "metadata": {},
   "outputs": [
    {
     "data": {
      "text/plain": [
       "(2225, 1015)"
      ]
     },
     "execution_count": 338,
     "metadata": {},
     "output_type": "execute_result"
    }
   ],
   "source": [
    "bueno_dum=X_rfr_bien[-2225:]\n",
    "bueno_dum.shape"
   ]
  },
  {
   "cell_type": "code",
   "execution_count": 340,
   "id": "b40dfb95",
   "metadata": {},
   "outputs": [],
   "source": [
    "bueno_df_pred=bosque.predict(bueno_dum)"
   ]
  },
  {
   "cell_type": "code",
   "execution_count": 341,
   "id": "ab9856c8",
   "metadata": {},
   "outputs": [
    {
     "data": {
      "text/plain": [
       "587.3159060859625"
      ]
     },
     "execution_count": 341,
     "metadata": {},
     "output_type": "execute_result"
    }
   ],
   "source": [
    "mse(bueno_df_pred, bueno_df.price,squared=False)"
   ]
  },
  {
   "cell_type": "code",
   "execution_count": 342,
   "id": "7f331d55",
   "metadata": {},
   "outputs": [
    {
     "data": {
      "text/plain": [
       "0.996270821934328"
      ]
     },
     "execution_count": 342,
     "metadata": {},
     "output_type": "execute_result"
    }
   ],
   "source": [
    "r2(bueno_df_pred, bueno_df.price)"
   ]
  },
  {
   "cell_type": "markdown",
   "id": "7e9efd83",
   "metadata": {},
   "source": [
    "**REGULAR**"
   ]
  },
  {
   "cell_type": "code",
   "execution_count": 343,
   "id": "5e8f9cab",
   "metadata": {},
   "outputs": [
    {
     "data": {
      "text/plain": [
       "(1629, 1015)"
      ]
     },
     "execution_count": 343,
     "metadata": {},
     "output_type": "execute_result"
    }
   ],
   "source": [
    "regular=[]\n",
    "for i in indices_regular:\n",
    "    regular.append(entreno[columnas].iloc[i])   \n",
    "regular_df=pd.DataFrame(regular)   \n",
    "reg=pd.concat([entreno[columnas],regular_df])\n",
    "reg.dropna(axis=0, inplace=True)\n",
    "X_rfr_reg=reg.drop('price', axis=1)\n",
    "y_rfr_reg=reg.price\n",
    "\n",
    "X_rfr_reg[['year','kms','power','doors']]=scaler.fit_transform(X_rfr_reg[['year','kms','power','doors']])\n",
    "X_rfr_reg=pd.get_dummies(X_rfr_reg, columns=['make','model','fuel','shift','is_professional','province'], drop_first=True)\n",
    "\n",
    "reg_dum=X_rfr_reg[-1629:]\n",
    "reg_dum.shape"
   ]
  },
  {
   "cell_type": "code",
   "execution_count": 344,
   "id": "2109efe4",
   "metadata": {},
   "outputs": [
    {
     "data": {
      "text/plain": [
       "(807.1385692831217, 0.9914326521497131)"
      ]
     },
     "execution_count": 344,
     "metadata": {},
     "output_type": "execute_result"
    }
   ],
   "source": [
    "reg_df_pred=bosque.predict(reg_dum)\n",
    "\n",
    "mse(reg_df_pred, regular_df.price,squared=False), r2(reg_df_pred, regular_df.price)"
   ]
  },
  {
   "cell_type": "markdown",
   "id": "f7ac89ee",
   "metadata": {},
   "source": [
    "**MAL**"
   ]
  },
  {
   "cell_type": "code",
   "execution_count": 345,
   "id": "4d2cc948",
   "metadata": {},
   "outputs": [],
   "source": [
    "mal=[]\n",
    "for i in indices_mal:\n",
    "    mal.append(entreno[columnas].iloc[i])   \n",
    "mal_df=pd.DataFrame(mal) "
   ]
  },
  {
   "cell_type": "code",
   "execution_count": 346,
   "id": "a23b81d8",
   "metadata": {},
   "outputs": [
    {
     "data": {
      "text/html": [
       "<div>\n",
       "<style scoped>\n",
       "    .dataframe tbody tr th:only-of-type {\n",
       "        vertical-align: middle;\n",
       "    }\n",
       "\n",
       "    .dataframe tbody tr th {\n",
       "        vertical-align: top;\n",
       "    }\n",
       "\n",
       "    .dataframe thead th {\n",
       "        text-align: right;\n",
       "    }\n",
       "</style>\n",
       "<table border=\"1\" class=\"dataframe\">\n",
       "  <thead>\n",
       "    <tr style=\"text-align: right;\">\n",
       "      <th></th>\n",
       "      <th>make</th>\n",
       "      <th>model</th>\n",
       "      <th>price</th>\n",
       "      <th>fuel</th>\n",
       "      <th>year</th>\n",
       "      <th>kms</th>\n",
       "      <th>power</th>\n",
       "      <th>doors</th>\n",
       "      <th>shift</th>\n",
       "      <th>is_professional</th>\n",
       "      <th>province</th>\n",
       "    </tr>\n",
       "  </thead>\n",
       "  <tbody>\n",
       "    <tr>\n",
       "      <th>40966</th>\n",
       "      <td>MERCEDES-BENZ</td>\n",
       "      <td>Clase C</td>\n",
       "      <td>29000</td>\n",
       "      <td>Diésel</td>\n",
       "      <td>2017.0</td>\n",
       "      <td>37400</td>\n",
       "      <td>170.0</td>\n",
       "      <td>2</td>\n",
       "      <td>Manual</td>\n",
       "      <td>False</td>\n",
       "      <td>Cádiz</td>\n",
       "    </tr>\n",
       "    <tr>\n",
       "      <th>32546</th>\n",
       "      <td>BMW</td>\n",
       "      <td>Serie 4</td>\n",
       "      <td>23900</td>\n",
       "      <td>Diésel</td>\n",
       "      <td>2017.0</td>\n",
       "      <td>84900</td>\n",
       "      <td>190.0</td>\n",
       "      <td>5</td>\n",
       "      <td>Automático</td>\n",
       "      <td>True</td>\n",
       "      <td>Málaga</td>\n",
       "    </tr>\n",
       "    <tr>\n",
       "      <th>31241</th>\n",
       "      <td>SUZUKI</td>\n",
       "      <td>Ignis</td>\n",
       "      <td>16720</td>\n",
       "      <td>Gasolina</td>\n",
       "      <td>2020.0</td>\n",
       "      <td>7</td>\n",
       "      <td>83.0</td>\n",
       "      <td>5</td>\n",
       "      <td>Manual</td>\n",
       "      <td>True</td>\n",
       "      <td>Almería</td>\n",
       "    </tr>\n",
       "    <tr>\n",
       "      <th>13789</th>\n",
       "      <td>FORD</td>\n",
       "      <td>C-Max</td>\n",
       "      <td>11990</td>\n",
       "      <td>Diésel</td>\n",
       "      <td>2016.0</td>\n",
       "      <td>72134</td>\n",
       "      <td>120.0</td>\n",
       "      <td>5</td>\n",
       "      <td>Manual</td>\n",
       "      <td>True</td>\n",
       "      <td>Murcia</td>\n",
       "    </tr>\n",
       "    <tr>\n",
       "      <th>45191</th>\n",
       "      <td>NISSAN</td>\n",
       "      <td>X-TRAIL</td>\n",
       "      <td>33290</td>\n",
       "      <td>Diésel</td>\n",
       "      <td>2020.0</td>\n",
       "      <td>1</td>\n",
       "      <td>150.0</td>\n",
       "      <td>5</td>\n",
       "      <td>Automático</td>\n",
       "      <td>True</td>\n",
       "      <td>Murcia</td>\n",
       "    </tr>\n",
       "    <tr>\n",
       "      <th>...</th>\n",
       "      <td>...</td>\n",
       "      <td>...</td>\n",
       "      <td>...</td>\n",
       "      <td>...</td>\n",
       "      <td>...</td>\n",
       "      <td>...</td>\n",
       "      <td>...</td>\n",
       "      <td>...</td>\n",
       "      <td>...</td>\n",
       "      <td>...</td>\n",
       "      <td>...</td>\n",
       "    </tr>\n",
       "    <tr>\n",
       "      <th>3209</th>\n",
       "      <td>VOLKSWAGEN</td>\n",
       "      <td>Passat</td>\n",
       "      <td>18900</td>\n",
       "      <td>Diésel</td>\n",
       "      <td>2016.0</td>\n",
       "      <td>57000</td>\n",
       "      <td>150.0</td>\n",
       "      <td>5</td>\n",
       "      <td>Automático</td>\n",
       "      <td>True</td>\n",
       "      <td>Valencia</td>\n",
       "    </tr>\n",
       "    <tr>\n",
       "      <th>29660</th>\n",
       "      <td>VOLVO</td>\n",
       "      <td>XC40</td>\n",
       "      <td>49869</td>\n",
       "      <td>Gasolina</td>\n",
       "      <td>2020.0</td>\n",
       "      <td>0</td>\n",
       "      <td>247.0</td>\n",
       "      <td>5</td>\n",
       "      <td>Automático</td>\n",
       "      <td>True</td>\n",
       "      <td>Valladolid</td>\n",
       "    </tr>\n",
       "    <tr>\n",
       "      <th>26134</th>\n",
       "      <td>NISSAN</td>\n",
       "      <td>Murano</td>\n",
       "      <td>5990</td>\n",
       "      <td>Gasolina</td>\n",
       "      <td>2006.0</td>\n",
       "      <td>204000</td>\n",
       "      <td>234.0</td>\n",
       "      <td>5</td>\n",
       "      <td>Automático</td>\n",
       "      <td>True</td>\n",
       "      <td>Madrid</td>\n",
       "    </tr>\n",
       "    <tr>\n",
       "      <th>4731</th>\n",
       "      <td>RENAULT</td>\n",
       "      <td>Grand Scénic</td>\n",
       "      <td>9995</td>\n",
       "      <td>Diésel</td>\n",
       "      <td>2014.0</td>\n",
       "      <td>119000</td>\n",
       "      <td>110.0</td>\n",
       "      <td>5</td>\n",
       "      <td>Manual</td>\n",
       "      <td>True</td>\n",
       "      <td>Orense</td>\n",
       "    </tr>\n",
       "    <tr>\n",
       "      <th>48386</th>\n",
       "      <td>OPEL</td>\n",
       "      <td>Astra</td>\n",
       "      <td>12249</td>\n",
       "      <td>Diésel</td>\n",
       "      <td>2016.0</td>\n",
       "      <td>118287</td>\n",
       "      <td>136.0</td>\n",
       "      <td>5</td>\n",
       "      <td>Automático</td>\n",
       "      <td>True</td>\n",
       "      <td>Madrid</td>\n",
       "    </tr>\n",
       "  </tbody>\n",
       "</table>\n",
       "<p>4416 rows × 11 columns</p>\n",
       "</div>"
      ],
      "text/plain": [
       "                make         model  price      fuel    year     kms  power  \\\n",
       "40966  MERCEDES-BENZ       Clase C  29000    Diésel  2017.0   37400  170.0   \n",
       "32546            BMW       Serie 4  23900    Diésel  2017.0   84900  190.0   \n",
       "31241         SUZUKI         Ignis  16720  Gasolina  2020.0       7   83.0   \n",
       "13789           FORD         C-Max  11990    Diésel  2016.0   72134  120.0   \n",
       "45191         NISSAN       X-TRAIL  33290    Diésel  2020.0       1  150.0   \n",
       "...              ...           ...    ...       ...     ...     ...    ...   \n",
       "3209      VOLKSWAGEN        Passat  18900    Diésel  2016.0   57000  150.0   \n",
       "29660          VOLVO          XC40  49869  Gasolina  2020.0       0  247.0   \n",
       "26134         NISSAN        Murano   5990  Gasolina  2006.0  204000  234.0   \n",
       "4731         RENAULT  Grand Scénic   9995    Diésel  2014.0  119000  110.0   \n",
       "48386           OPEL         Astra  12249    Diésel  2016.0  118287  136.0   \n",
       "\n",
       "       doors       shift  is_professional    province  \n",
       "40966      2      Manual            False       Cádiz  \n",
       "32546      5  Automático             True      Málaga  \n",
       "31241      5      Manual             True     Almería  \n",
       "13789      5      Manual             True      Murcia  \n",
       "45191      5  Automático             True      Murcia  \n",
       "...      ...         ...              ...         ...  \n",
       "3209       5  Automático             True    Valencia  \n",
       "29660      5  Automático             True  Valladolid  \n",
       "26134      5  Automático             True      Madrid  \n",
       "4731       5      Manual             True      Orense  \n",
       "48386      5  Automático             True      Madrid  \n",
       "\n",
       "[4416 rows x 11 columns]"
      ]
     },
     "execution_count": 346,
     "metadata": {},
     "output_type": "execute_result"
    }
   ],
   "source": [
    "mal_df"
   ]
  },
  {
   "cell_type": "code",
   "execution_count": 347,
   "id": "2f788822",
   "metadata": {},
   "outputs": [
    {
     "data": {
      "text/plain": [
       "(4416, 1015)"
      ]
     },
     "execution_count": 347,
     "metadata": {},
     "output_type": "execute_result"
    }
   ],
   "source": [
    "mal=pd.concat([entreno[columnas],mal_df])\n",
    "mal.dropna(axis=0, inplace=True)\n",
    "X_rfr_mal=mal.drop('price', axis=1)\n",
    "y_rfr_mal=mal.price\n",
    "\n",
    "X_rfr_mal[['year','kms','power','doors']]=scaler.fit_transform(X_rfr_mal[['year','kms','power','doors']])\n",
    "X_rfr_mal=pd.get_dummies(X_rfr_mal, columns=['make','model','fuel','shift','is_professional','province'], drop_first=True)\n",
    "\n",
    "mal_dum=X_rfr_mal[-4416:]\n",
    "mal_dum.shape"
   ]
  },
  {
   "cell_type": "code",
   "execution_count": 348,
   "id": "bbc9ba3d",
   "metadata": {},
   "outputs": [
    {
     "data": {
      "text/plain": [
       "(6359.951835521272, 0.8833679423347617)"
      ]
     },
     "execution_count": 348,
     "metadata": {},
     "output_type": "execute_result"
    }
   ],
   "source": [
    "mal_df_pred=bosque.predict(mal_dum)\n",
    "\n",
    "mse(mal_df_pred, mal_df.price,squared=False), r2(mal_df_pred, mal_df.price)"
   ]
  },
  {
   "cell_type": "code",
   "execution_count": null,
   "id": "5a582a88",
   "metadata": {},
   "outputs": [],
   "source": []
  }
 ],
 "metadata": {
  "kernelspec": {
   "display_name": "Python 3 (ipykernel)",
   "language": "python",
   "name": "python3"
  },
  "language_info": {
   "codemirror_mode": {
    "name": "ipython",
    "version": 3
   },
   "file_extension": ".py",
   "mimetype": "text/x-python",
   "name": "python",
   "nbconvert_exporter": "python",
   "pygments_lexer": "ipython3",
   "version": "3.9.7"
  }
 },
 "nbformat": 4,
 "nbformat_minor": 5
}
