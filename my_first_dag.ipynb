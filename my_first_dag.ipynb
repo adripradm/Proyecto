{
 "cells": [
  {
   "cell_type": "code",
   "execution_count": 3,
   "id": "e1fb10fe",
   "metadata": {},
   "outputs": [
    {
     "name": "stderr",
     "output_type": "stream",
     "text": [
      "WARNING:root:OSError while attempting to symlink the latest log directory\n"
     ]
    }
   ],
   "source": [
    "from airflow import DAG\n",
    "from airflow.operators.python import PythonOperator, BranchPythonOperator\n",
    "from airflow.operators.bash import BashOperator\n",
    "from datetime import datetime\n",
    "from random import randint\n",
    "def _choosing_best_model(ti):\n",
    "accuracies = ti.xcom_pull(task_ids=[\n",
    "'training_model_A',\n",
    "'training_model_B',\n",
    "'training_model_C'\n",
    "])\n",
    "if max(accuracies) > 8:\n",
    "return 'accurate'\n",
    "return 'inaccurate'\n",
    "def _training_model(model):\n",
    "return randint(1, 10)\n",
    "with DAG(\"my_dag\",\n",
    "start_date=datetime(2021, 1 ,1), \n",
    "schedule_interval='@daily', \n",
    "catchup=False) as dag:\n",
    "training_model_tasks = [\n",
    "PythonOperator(\n",
    "task_id=f\"training_model_{model_id}\",\n",
    "python_callable=_training_model,\n",
    "op_kwargs={\n",
    "\"model\": model_id\n",
    "}\n",
    ") for model_id in ['A', 'B', 'C']\n",
    "]\n",
    "choosing_best_model = BranchPythonOperator(\n",
    "task_id=\"choosing_best_model\",\n",
    "python_callable=_choosing_best_model\n",
    ")\n",
    "accurate = BashOperator(\n",
    "task_id=\"accurate\",\n",
    "bash_command=\"echo 'accurate'\"\n",
    ")\n",
    "inaccurate = BashOperator(\n",
    "task_id=\"inaccurate\",\n",
    "bash_command=\" echo 'inaccurate'\"\n",
    ")\n",
    "training_model_tasks >> choosing_best_model >> [accurate, inaccurate]"
   ]
  },
  {
   "cell_type": "code",
   "execution_count": null,
   "id": "4ca53b1b",
   "metadata": {},
   "outputs": [],
   "source": []
  }
 ],
 "metadata": {
  "kernelspec": {
   "display_name": "Python 3 (ipykernel)",
   "language": "python",
   "name": "python3"
  },
  "language_info": {
   "codemirror_mode": {
    "name": "ipython",
    "version": 3
   },
   "file_extension": ".py",
   "mimetype": "text/x-python",
   "name": "python",
   "nbconvert_exporter": "python",
   "pygments_lexer": "ipython3",
   "version": "3.9.7"
  }
 },
 "nbformat": 4,
 "nbformat_minor": 5
}
