{
 "cells": [
  {
   "cell_type": "code",
   "execution_count": 1,
   "id": "0392b9d2",
   "metadata": {},
   "outputs": [
    {
     "name": "stdout",
     "output_type": "stream",
     "text": [
      "Requirement already satisfied: selenium in c:\\users\\alima\\anaconda3\\lib\\site-packages (4.1.3)\n",
      "Requirement already satisfied: trio~=0.17 in c:\\users\\alima\\anaconda3\\lib\\site-packages (from selenium) (0.20.0)\n",
      "Requirement already satisfied: urllib3[secure,socks]~=1.26 in c:\\users\\alima\\anaconda3\\lib\\site-packages (from selenium) (1.26.7)\n",
      "Requirement already satisfied: trio-websocket~=0.9 in c:\\users\\alima\\anaconda3\\lib\\site-packages (from selenium) (0.9.2)\n",
      "Requirement already satisfied: idna in c:\\users\\alima\\anaconda3\\lib\\site-packages (from trio~=0.17->selenium) (3.2)\n",
      "Requirement already satisfied: attrs>=19.2.0 in c:\\users\\alima\\anaconda3\\lib\\site-packages (from trio~=0.17->selenium) (21.2.0)\n",
      "Requirement already satisfied: outcome in c:\\users\\alima\\anaconda3\\lib\\site-packages (from trio~=0.17->selenium) (1.1.0)\n",
      "Requirement already satisfied: sniffio in c:\\users\\alima\\anaconda3\\lib\\site-packages (from trio~=0.17->selenium) (1.2.0)\n",
      "Requirement already satisfied: cffi>=1.14 in c:\\users\\alima\\anaconda3\\lib\\site-packages (from trio~=0.17->selenium) (1.14.6)\n",
      "Requirement already satisfied: sortedcontainers in c:\\users\\alima\\anaconda3\\lib\\site-packages (from trio~=0.17->selenium) (2.4.0)\n",
      "Requirement already satisfied: async-generator>=1.9 in c:\\users\\alima\\anaconda3\\lib\\site-packages (from trio~=0.17->selenium) (1.10)\n",
      "Requirement already satisfied: pycparser in c:\\users\\alima\\anaconda3\\lib\\site-packages (from cffi>=1.14->trio~=0.17->selenium) (2.20)\n",
      "Requirement already satisfied: wsproto>=0.14 in c:\\users\\alima\\anaconda3\\lib\\site-packages (from trio-websocket~=0.9->selenium) (1.1.0)\n",
      "Requirement already satisfied: PySocks!=1.5.7,<2.0,>=1.5.6 in c:\\users\\alima\\anaconda3\\lib\\site-packages (from urllib3[secure,socks]~=1.26->selenium) (1.7.1)\n",
      "Requirement already satisfied: pyOpenSSL>=0.14 in c:\\users\\alima\\anaconda3\\lib\\site-packages (from urllib3[secure,socks]~=1.26->selenium) (21.0.0)\n",
      "Requirement already satisfied: cryptography>=1.3.4 in c:\\users\\alima\\anaconda3\\lib\\site-packages (from urllib3[secure,socks]~=1.26->selenium) (3.4.8)\n",
      "Requirement already satisfied: certifi in c:\\users\\alima\\anaconda3\\lib\\site-packages (from urllib3[secure,socks]~=1.26->selenium) (2021.10.8)\n",
      "Requirement already satisfied: six>=1.5.2 in c:\\users\\alima\\anaconda3\\lib\\site-packages (from pyOpenSSL>=0.14->urllib3[secure,socks]~=1.26->selenium) (1.16.0)\n",
      "Requirement already satisfied: h11<1,>=0.9.0 in c:\\users\\alima\\anaconda3\\lib\\site-packages (from wsproto>=0.14->trio-websocket~=0.9->selenium) (0.13.0)\n",
      "Note: you may need to restart the kernel to use updated packages.\n",
      "Requirement already satisfied: webdriver-manager in c:\\users\\alima\\anaconda3\\lib\\site-packages (3.5.4)\n",
      "Requirement already satisfied: requests in c:\\users\\alima\\anaconda3\\lib\\site-packages (from webdriver-manager) (2.26.0)\n",
      "Requirement already satisfied: charset-normalizer~=2.0.0 in c:\\users\\alima\\anaconda3\\lib\\site-packages (from requests->webdriver-manager) (2.0.4)\n",
      "Requirement already satisfied: certifi>=2017.4.17 in c:\\users\\alima\\anaconda3\\lib\\site-packages (from requests->webdriver-manager) (2021.10.8)\n",
      "Requirement already satisfied: urllib3<1.27,>=1.21.1 in c:\\users\\alima\\anaconda3\\lib\\site-packages (from requests->webdriver-manager) (1.26.7)\n",
      "Requirement already satisfied: idna<4,>=2.5 in c:\\users\\alima\\anaconda3\\lib\\site-packages (from requests->webdriver-manager) (3.2)\n",
      "Note: you may need to restart the kernel to use updated packages.\n",
      "Requirement already satisfied: beautifulsoup4 in c:\\users\\alima\\anaconda3\\lib\\site-packages (4.10.0)\n",
      "Requirement already satisfied: soupsieve>1.2 in c:\\users\\alima\\anaconda3\\lib\\site-packages (from beautifulsoup4) (2.2.1)\n",
      "Note: you may need to restart the kernel to use updated packages.\n"
     ]
    }
   ],
   "source": [
    "%pip install selenium\n",
    "%pip install webdriver-manager\n",
    "%pip install beautifulsoup4"
   ]
  },
  {
   "cell_type": "code",
   "execution_count": 2,
   "id": "4ce4aba7",
   "metadata": {},
   "outputs": [
    {
     "name": "stdout",
     "output_type": "stream",
     "text": [
      "Requirement already satisfied: fake-useragent in c:\\users\\alima\\anaconda3\\lib\\site-packages (0.1.11)\n",
      "Note: you may need to restart the kernel to use updated packages.\n"
     ]
    }
   ],
   "source": [
    "%pip install fake-useragent"
   ]
  },
  {
   "cell_type": "code",
   "execution_count": 1,
   "id": "97bd4c54",
   "metadata": {},
   "outputs": [
    {
     "name": "stderr",
     "output_type": "stream",
     "text": [
      "\n",
      "\n",
      "====== WebDriver manager ======\n",
      "Current google-chrome version is 101.0.4951\n",
      "Get LATEST chromedriver version for 101.0.4951 google-chrome\n",
      "Trying to download new driver from https://chromedriver.storage.googleapis.com/101.0.4951.41/chromedriver_win32.zip\n",
      "Driver has been saved in cache [C:\\Users\\alima\\.wdm\\drivers\\chromedriver\\win32\\101.0.4951.41]\n"
     ]
    },
    {
     "name": "stdout",
     "output_type": "stream",
     "text": [
      "Mozilla/5.0 (Windows NT 5.1) AppleWebKit/537.36 (KHTML, like Gecko) Chrome/27.0.1453.93 Safari/537.36\n"
     ]
    }
   ],
   "source": [
    "from fake_useragent import UserAgent\n",
    "from selenium.webdriver.common.by import By\n",
    "from selenium.webdriver.support.ui import WebDriverWait as wait\n",
    "from selenium.webdriver.support import expected_conditions as EC\n",
    "import sys\n",
    "import src\n",
    "from src import wallapop as w\n",
    "import os\n",
    "\n",
    "# Module for reading JSON file\n",
    "import json\n",
    "\n",
    "usuario=UserAgent().random\n",
    "\n",
    "print(usuario)"
   ]
  },
  {
   "cell_type": "code",
   "execution_count": 12,
   "id": "b578e7b3",
   "metadata": {},
   "outputs": [
    {
     "ename": "ModuleNotFoundError",
     "evalue": "No module named 'pwd'",
     "output_type": "error",
     "traceback": [
      "\u001b[1;31m---------------------------------------------------------------------------\u001b[0m",
      "\u001b[1;31mModuleNotFoundError\u001b[0m                       Traceback (most recent call last)",
      "\u001b[1;32m~\\AppData\\Local\\Temp/ipykernel_14128/3822350802.py\u001b[0m in \u001b[0;36m<module>\u001b[1;34m\u001b[0m\n\u001b[1;32m----> 1\u001b[1;33m \u001b[1;32mimport\u001b[0m \u001b[0mpwd\u001b[0m\u001b[1;33m\u001b[0m\u001b[1;33m\u001b[0m\u001b[0m\n\u001b[0m",
      "\u001b[1;31mModuleNotFoundError\u001b[0m: No module named 'pwd'"
     ]
    }
   ],
   "source": [
    "import pwd"
   ]
  },
  {
   "cell_type": "code",
   "execution_count": 2,
   "id": "e6a5a85f",
   "metadata": {},
   "outputs": [
    {
     "name": "stderr",
     "output_type": "stream",
     "text": [
      "\n",
      "\n",
      "====== WebDriver manager ======\n",
      "Current google-chrome version is 101.0.4951\n",
      "Get LATEST chromedriver version for 101.0.4951 google-chrome\n",
      "Driver [C:\\Users\\alima\\.wdm\\drivers\\chromedriver\\win32\\101.0.4951.41\\chromedriver.exe] found in cache\n",
      "C:\\Users\\alima\\AppData\\Local\\Temp/ipykernel_6840/4228707673.py:5: DeprecationWarning: executable_path has been deprecated, please pass in a Service object\n",
      "  driver=webdriver.Chrome(PATH)\n"
     ]
    },
    {
     "ename": "WebDriverException",
     "evalue": "Message: unknown error: Chrome failed to start: exited normally.\n  (unknown error: DevToolsActivePort file doesn't exist)\n  (The process started from chrome location C:\\Program Files\\Google\\Chrome\\Application\\chrome.exe is no longer running, so ChromeDriver is assuming that Chrome has crashed.)\nStacktrace:\nBacktrace:\n\tOrdinal0 [0x004FB8F3+2406643]\n\tOrdinal0 [0x0048AF31+1945393]\n\tOrdinal0 [0x0037C748+837448]\n\tOrdinal0 [0x00399994+956820]\n\tOrdinal0 [0x00395D71+941425]\n\tOrdinal0 [0x003C8EE0+1150688]\n\tOrdinal0 [0x003C8B3A+1149754]\n\tOrdinal0 [0x003C4096+1130646]\n\tOrdinal0 [0x0039E636+976438]\n\tOrdinal0 [0x0039F546+980294]\n\tGetHandleVerifier [0x00769612+2498066]\n\tGetHandleVerifier [0x0075C920+2445600]\n\tGetHandleVerifier [0x00594F2A+579370]\n\tGetHandleVerifier [0x00593D36+574774]\n\tOrdinal0 [0x00491C0B+1973259]\n\tOrdinal0 [0x00496688+1992328]\n\tOrdinal0 [0x00496775+1992565]\n\tOrdinal0 [0x0049F8D1+2029777]\n\tBaseThreadInitThunk [0x75E6FA29+25]\n\tRtlGetAppContainerNamedObjectPath [0x77B87A7E+286]\n\tRtlGetAppContainerNamedObjectPath [0x77B87A4E+238]\n",
     "output_type": "error",
     "traceback": [
      "\u001b[1;31m---------------------------------------------------------------------------\u001b[0m",
      "\u001b[1;31mWebDriverException\u001b[0m                        Traceback (most recent call last)",
      "\u001b[1;32m~\\AppData\\Local\\Temp/ipykernel_6840/4228707673.py\u001b[0m in \u001b[0;36m<module>\u001b[1;34m\u001b[0m\n\u001b[0;32m      3\u001b[0m \u001b[1;32mfrom\u001b[0m \u001b[0mwebdriver_manager\u001b[0m\u001b[1;33m.\u001b[0m\u001b[0mchrome\u001b[0m \u001b[1;32mimport\u001b[0m \u001b[0mChromeDriverManager\u001b[0m\u001b[1;33m\u001b[0m\u001b[1;33m\u001b[0m\u001b[0m\n\u001b[0;32m      4\u001b[0m \u001b[0mPATH\u001b[0m\u001b[1;33m=\u001b[0m\u001b[0mChromeDriverManager\u001b[0m\u001b[1;33m(\u001b[0m\u001b[1;33m)\u001b[0m\u001b[1;33m.\u001b[0m\u001b[0minstall\u001b[0m\u001b[1;33m(\u001b[0m\u001b[1;33m)\u001b[0m\u001b[1;33m\u001b[0m\u001b[1;33m\u001b[0m\u001b[0m\n\u001b[1;32m----> 5\u001b[1;33m \u001b[0mdriver\u001b[0m\u001b[1;33m=\u001b[0m\u001b[0mwebdriver\u001b[0m\u001b[1;33m.\u001b[0m\u001b[0mChrome\u001b[0m\u001b[1;33m(\u001b[0m\u001b[0mPATH\u001b[0m\u001b[1;33m)\u001b[0m\u001b[1;33m\u001b[0m\u001b[1;33m\u001b[0m\u001b[0m\n\u001b[0m\u001b[0;32m      6\u001b[0m \u001b[1;33m\u001b[0m\u001b[0m\n\u001b[0;32m      7\u001b[0m \u001b[0mopciones\u001b[0m\u001b[1;33m=\u001b[0m\u001b[0mOptions\u001b[0m\u001b[1;33m(\u001b[0m\u001b[1;33m)\u001b[0m\u001b[1;33m\u001b[0m\u001b[1;33m\u001b[0m\u001b[0m\n",
      "\u001b[1;32m~\\anaconda3\\lib\\site-packages\\selenium\\webdriver\\chrome\\webdriver.py\u001b[0m in \u001b[0;36m__init__\u001b[1;34m(self, executable_path, port, options, service_args, desired_capabilities, service_log_path, chrome_options, service, keep_alive)\u001b[0m\n\u001b[0;32m     68\u001b[0m             \u001b[0mservice\u001b[0m \u001b[1;33m=\u001b[0m \u001b[0mService\u001b[0m\u001b[1;33m(\u001b[0m\u001b[0mexecutable_path\u001b[0m\u001b[1;33m,\u001b[0m \u001b[0mport\u001b[0m\u001b[1;33m,\u001b[0m \u001b[0mservice_args\u001b[0m\u001b[1;33m,\u001b[0m \u001b[0mservice_log_path\u001b[0m\u001b[1;33m)\u001b[0m\u001b[1;33m\u001b[0m\u001b[1;33m\u001b[0m\u001b[0m\n\u001b[0;32m     69\u001b[0m \u001b[1;33m\u001b[0m\u001b[0m\n\u001b[1;32m---> 70\u001b[1;33m         super(WebDriver, self).__init__(DesiredCapabilities.CHROME['browserName'], \"goog\",\n\u001b[0m\u001b[0;32m     71\u001b[0m                                         \u001b[0mport\u001b[0m\u001b[1;33m,\u001b[0m \u001b[0moptions\u001b[0m\u001b[1;33m,\u001b[0m\u001b[1;33m\u001b[0m\u001b[1;33m\u001b[0m\u001b[0m\n\u001b[0;32m     72\u001b[0m                                         \u001b[0mservice_args\u001b[0m\u001b[1;33m,\u001b[0m \u001b[0mdesired_capabilities\u001b[0m\u001b[1;33m,\u001b[0m\u001b[1;33m\u001b[0m\u001b[1;33m\u001b[0m\u001b[0m\n",
      "\u001b[1;32m~\\anaconda3\\lib\\site-packages\\selenium\\webdriver\\chromium\\webdriver.py\u001b[0m in \u001b[0;36m__init__\u001b[1;34m(self, browser_name, vendor_prefix, port, options, service_args, desired_capabilities, service_log_path, service, keep_alive)\u001b[0m\n\u001b[0;32m     91\u001b[0m \u001b[1;33m\u001b[0m\u001b[0m\n\u001b[0;32m     92\u001b[0m         \u001b[1;32mtry\u001b[0m\u001b[1;33m:\u001b[0m\u001b[1;33m\u001b[0m\u001b[1;33m\u001b[0m\u001b[0m\n\u001b[1;32m---> 93\u001b[1;33m             RemoteWebDriver.__init__(\n\u001b[0m\u001b[0;32m     94\u001b[0m                 \u001b[0mself\u001b[0m\u001b[1;33m,\u001b[0m\u001b[1;33m\u001b[0m\u001b[1;33m\u001b[0m\u001b[0m\n\u001b[0;32m     95\u001b[0m                 command_executor=ChromiumRemoteConnection(\n",
      "\u001b[1;32m~\\anaconda3\\lib\\site-packages\\selenium\\webdriver\\remote\\webdriver.py\u001b[0m in \u001b[0;36m__init__\u001b[1;34m(self, command_executor, desired_capabilities, browser_profile, proxy, keep_alive, file_detector, options)\u001b[0m\n\u001b[0;32m    267\u001b[0m         \u001b[0mself\u001b[0m\u001b[1;33m.\u001b[0m\u001b[0mfile_detector\u001b[0m \u001b[1;33m=\u001b[0m \u001b[0mfile_detector\u001b[0m \u001b[1;32mor\u001b[0m \u001b[0mLocalFileDetector\u001b[0m\u001b[1;33m(\u001b[0m\u001b[1;33m)\u001b[0m\u001b[1;33m\u001b[0m\u001b[1;33m\u001b[0m\u001b[0m\n\u001b[0;32m    268\u001b[0m         \u001b[0mself\u001b[0m\u001b[1;33m.\u001b[0m\u001b[0mstart_client\u001b[0m\u001b[1;33m(\u001b[0m\u001b[1;33m)\u001b[0m\u001b[1;33m\u001b[0m\u001b[1;33m\u001b[0m\u001b[0m\n\u001b[1;32m--> 269\u001b[1;33m         \u001b[0mself\u001b[0m\u001b[1;33m.\u001b[0m\u001b[0mstart_session\u001b[0m\u001b[1;33m(\u001b[0m\u001b[0mcapabilities\u001b[0m\u001b[1;33m,\u001b[0m \u001b[0mbrowser_profile\u001b[0m\u001b[1;33m)\u001b[0m\u001b[1;33m\u001b[0m\u001b[1;33m\u001b[0m\u001b[0m\n\u001b[0m\u001b[0;32m    270\u001b[0m \u001b[1;33m\u001b[0m\u001b[0m\n\u001b[0;32m    271\u001b[0m     \u001b[1;32mdef\u001b[0m \u001b[0m__repr__\u001b[0m\u001b[1;33m(\u001b[0m\u001b[0mself\u001b[0m\u001b[1;33m)\u001b[0m\u001b[1;33m:\u001b[0m\u001b[1;33m\u001b[0m\u001b[1;33m\u001b[0m\u001b[0m\n",
      "\u001b[1;32m~\\anaconda3\\lib\\site-packages\\selenium\\webdriver\\remote\\webdriver.py\u001b[0m in \u001b[0;36mstart_session\u001b[1;34m(self, capabilities, browser_profile)\u001b[0m\n\u001b[0;32m    358\u001b[0m         parameters = {\"capabilities\": w3c_caps,\n\u001b[0;32m    359\u001b[0m                       \"desiredCapabilities\": capabilities}\n\u001b[1;32m--> 360\u001b[1;33m         \u001b[0mresponse\u001b[0m \u001b[1;33m=\u001b[0m \u001b[0mself\u001b[0m\u001b[1;33m.\u001b[0m\u001b[0mexecute\u001b[0m\u001b[1;33m(\u001b[0m\u001b[0mCommand\u001b[0m\u001b[1;33m.\u001b[0m\u001b[0mNEW_SESSION\u001b[0m\u001b[1;33m,\u001b[0m \u001b[0mparameters\u001b[0m\u001b[1;33m)\u001b[0m\u001b[1;33m\u001b[0m\u001b[1;33m\u001b[0m\u001b[0m\n\u001b[0m\u001b[0;32m    361\u001b[0m         \u001b[1;32mif\u001b[0m \u001b[1;34m'sessionId'\u001b[0m \u001b[1;32mnot\u001b[0m \u001b[1;32min\u001b[0m \u001b[0mresponse\u001b[0m\u001b[1;33m:\u001b[0m\u001b[1;33m\u001b[0m\u001b[1;33m\u001b[0m\u001b[0m\n\u001b[0;32m    362\u001b[0m             \u001b[0mresponse\u001b[0m \u001b[1;33m=\u001b[0m \u001b[0mresponse\u001b[0m\u001b[1;33m[\u001b[0m\u001b[1;34m'value'\u001b[0m\u001b[1;33m]\u001b[0m\u001b[1;33m\u001b[0m\u001b[1;33m\u001b[0m\u001b[0m\n",
      "\u001b[1;32m~\\anaconda3\\lib\\site-packages\\selenium\\webdriver\\remote\\webdriver.py\u001b[0m in \u001b[0;36mexecute\u001b[1;34m(self, driver_command, params)\u001b[0m\n\u001b[0;32m    423\u001b[0m         \u001b[0mresponse\u001b[0m \u001b[1;33m=\u001b[0m \u001b[0mself\u001b[0m\u001b[1;33m.\u001b[0m\u001b[0mcommand_executor\u001b[0m\u001b[1;33m.\u001b[0m\u001b[0mexecute\u001b[0m\u001b[1;33m(\u001b[0m\u001b[0mdriver_command\u001b[0m\u001b[1;33m,\u001b[0m \u001b[0mparams\u001b[0m\u001b[1;33m)\u001b[0m\u001b[1;33m\u001b[0m\u001b[1;33m\u001b[0m\u001b[0m\n\u001b[0;32m    424\u001b[0m         \u001b[1;32mif\u001b[0m \u001b[0mresponse\u001b[0m\u001b[1;33m:\u001b[0m\u001b[1;33m\u001b[0m\u001b[1;33m\u001b[0m\u001b[0m\n\u001b[1;32m--> 425\u001b[1;33m             \u001b[0mself\u001b[0m\u001b[1;33m.\u001b[0m\u001b[0merror_handler\u001b[0m\u001b[1;33m.\u001b[0m\u001b[0mcheck_response\u001b[0m\u001b[1;33m(\u001b[0m\u001b[0mresponse\u001b[0m\u001b[1;33m)\u001b[0m\u001b[1;33m\u001b[0m\u001b[1;33m\u001b[0m\u001b[0m\n\u001b[0m\u001b[0;32m    426\u001b[0m             response['value'] = self._unwrap_value(\n\u001b[0;32m    427\u001b[0m                 response.get('value', None))\n",
      "\u001b[1;32m~\\anaconda3\\lib\\site-packages\\selenium\\webdriver\\remote\\errorhandler.py\u001b[0m in \u001b[0;36mcheck_response\u001b[1;34m(self, response)\u001b[0m\n\u001b[0;32m    245\u001b[0m                 \u001b[0malert_text\u001b[0m \u001b[1;33m=\u001b[0m \u001b[0mvalue\u001b[0m\u001b[1;33m[\u001b[0m\u001b[1;34m'alert'\u001b[0m\u001b[1;33m]\u001b[0m\u001b[1;33m.\u001b[0m\u001b[0mget\u001b[0m\u001b[1;33m(\u001b[0m\u001b[1;34m'text'\u001b[0m\u001b[1;33m)\u001b[0m\u001b[1;33m\u001b[0m\u001b[1;33m\u001b[0m\u001b[0m\n\u001b[0;32m    246\u001b[0m             \u001b[1;32mraise\u001b[0m \u001b[0mexception_class\u001b[0m\u001b[1;33m(\u001b[0m\u001b[0mmessage\u001b[0m\u001b[1;33m,\u001b[0m \u001b[0mscreen\u001b[0m\u001b[1;33m,\u001b[0m \u001b[0mstacktrace\u001b[0m\u001b[1;33m,\u001b[0m \u001b[0malert_text\u001b[0m\u001b[1;33m)\u001b[0m  \u001b[1;31m# type: ignore[call-arg]  # mypy is not smart enough here\u001b[0m\u001b[1;33m\u001b[0m\u001b[1;33m\u001b[0m\u001b[0m\n\u001b[1;32m--> 247\u001b[1;33m         \u001b[1;32mraise\u001b[0m \u001b[0mexception_class\u001b[0m\u001b[1;33m(\u001b[0m\u001b[0mmessage\u001b[0m\u001b[1;33m,\u001b[0m \u001b[0mscreen\u001b[0m\u001b[1;33m,\u001b[0m \u001b[0mstacktrace\u001b[0m\u001b[1;33m)\u001b[0m\u001b[1;33m\u001b[0m\u001b[1;33m\u001b[0m\u001b[0m\n\u001b[0m\u001b[0;32m    248\u001b[0m \u001b[1;33m\u001b[0m\u001b[0m\n\u001b[0;32m    249\u001b[0m     \u001b[1;32mdef\u001b[0m \u001b[0m_value_or_default\u001b[0m\u001b[1;33m(\u001b[0m\u001b[0mself\u001b[0m\u001b[1;33m,\u001b[0m \u001b[0mobj\u001b[0m\u001b[1;33m:\u001b[0m \u001b[0mMapping\u001b[0m\u001b[1;33m[\u001b[0m\u001b[0m_KT\u001b[0m\u001b[1;33m,\u001b[0m \u001b[0m_VT\u001b[0m\u001b[1;33m]\u001b[0m\u001b[1;33m,\u001b[0m \u001b[0mkey\u001b[0m\u001b[1;33m:\u001b[0m \u001b[0m_KT\u001b[0m\u001b[1;33m,\u001b[0m \u001b[0mdefault\u001b[0m\u001b[1;33m:\u001b[0m \u001b[0m_VT\u001b[0m\u001b[1;33m)\u001b[0m \u001b[1;33m->\u001b[0m \u001b[0m_VT\u001b[0m\u001b[1;33m:\u001b[0m\u001b[1;33m\u001b[0m\u001b[1;33m\u001b[0m\u001b[0m\n",
      "\u001b[1;31mWebDriverException\u001b[0m: Message: unknown error: Chrome failed to start: exited normally.\n  (unknown error: DevToolsActivePort file doesn't exist)\n  (The process started from chrome location C:\\Program Files\\Google\\Chrome\\Application\\chrome.exe is no longer running, so ChromeDriver is assuming that Chrome has crashed.)\nStacktrace:\nBacktrace:\n\tOrdinal0 [0x004FB8F3+2406643]\n\tOrdinal0 [0x0048AF31+1945393]\n\tOrdinal0 [0x0037C748+837448]\n\tOrdinal0 [0x00399994+956820]\n\tOrdinal0 [0x00395D71+941425]\n\tOrdinal0 [0x003C8EE0+1150688]\n\tOrdinal0 [0x003C8B3A+1149754]\n\tOrdinal0 [0x003C4096+1130646]\n\tOrdinal0 [0x0039E636+976438]\n\tOrdinal0 [0x0039F546+980294]\n\tGetHandleVerifier [0x00769612+2498066]\n\tGetHandleVerifier [0x0075C920+2445600]\n\tGetHandleVerifier [0x00594F2A+579370]\n\tGetHandleVerifier [0x00593D36+574774]\n\tOrdinal0 [0x00491C0B+1973259]\n\tOrdinal0 [0x00496688+1992328]\n\tOrdinal0 [0x00496775+1992565]\n\tOrdinal0 [0x0049F8D1+2029777]\n\tBaseThreadInitThunk [0x75E6FA29+25]\n\tRtlGetAppContainerNamedObjectPath [0x77B87A7E+286]\n\tRtlGetAppContainerNamedObjectPath [0x77B87A4E+238]\n"
     ]
    }
   ],
   "source": [
    "from selenium import webdriver\n",
    "from selenium.webdriver.chrome.options import Options\n",
    "from webdriver_manager.chrome import ChromeDriverManager\n",
    "PATH=ChromeDriverManager().install()\n",
    "driver=webdriver.Chrome(PATH)\n",
    "\n",
    "opciones=Options()\n",
    "\n",
    "opciones.add_experimental_option('excludeSwitches', ['enable-automation'])\n",
    "opciones.add_experimental_option('useAutomationExtension', False)\n",
    "opciones.headless=False\n",
    "opciones.add_argument('--start-maximized')\n",
    "#opciones.add_argument('--incognito')\n",
    "#opciones.add_extension('driver/adblock.crx')       # adblocker\n",
    "\n",
    "\n",
    "#opciones.add_argument('user-data-dir=selenium') \n",
    "#opciones.add_argument('proxy-server=5.152.175.13.2:2580')"
   ]
  },
  {
   "cell_type": "code",
   "execution_count": 138,
   "id": "aa550f31",
   "metadata": {},
   "outputs": [],
   "source": [
    "import  csv\n",
    "from selenium.common.exceptions import TimeoutException\n",
    "from selenium.webdriver.support.ui import WebDriverWait\n",
    "from selenium.webdriver.support import expected_conditions as EC\n",
    "from selenium.webdriver.common.by import By\n",
    "from selenium import webdriver\n",
    "from webdriver_manager.chrome import ChromeDriverManager\n",
    "from selenium.webdriver.chrome.options import Options\n",
    "import re\n",
    "import numpy as np\n",
    "from random import randint\n",
    "import requests as req\n",
    "import pandas as pd\n",
    "import time\n",
    "from time import sleep\n",
    "from bs4 import BeautifulSoup as bs\n",
    "\n",
    "from sklearn.preprocessing import StandardScaler\n",
    "scaler=StandardScaler()"
   ]
  },
  {
   "cell_type": "code",
   "execution_count": 5,
   "id": "1d34c39d",
   "metadata": {},
   "outputs": [],
   "source": [
    "url='https://www.coches.net/'"
   ]
  },
  {
   "cell_type": "code",
   "execution_count": 6,
   "id": "d7063e20",
   "metadata": {},
   "outputs": [],
   "source": [
    "pd.options.display.max_colwidth=100"
   ]
  },
  {
   "cell_type": "code",
   "execution_count": 7,
   "id": "4b16861a",
   "metadata": {},
   "outputs": [
    {
     "name": "stderr",
     "output_type": "stream",
     "text": [
      "\n",
      "\n",
      "====== WebDriver manager ======\n",
      "Current google-chrome version is 101.0.4951\n",
      "Get LATEST chromedriver version for 101.0.4951 google-chrome\n",
      "Driver [C:\\Users\\alima\\.wdm\\drivers\\chromedriver\\win32\\101.0.4951.41\\chromedriver.exe] found in cache\n"
     ]
    }
   ],
   "source": [
    "PATH=ChromeDriverManager().install()"
   ]
  },
  {
   "cell_type": "markdown",
   "id": "44408831",
   "metadata": {},
   "source": [
    "## COCHES.com"
   ]
  },
  {
   "cell_type": "code",
   "execution_count": 5,
   "id": "d460a6bc",
   "metadata": {},
   "outputs": [
    {
     "name": "stderr",
     "output_type": "stream",
     "text": [
      "\n",
      "\n",
      "====== WebDriver manager ======\n",
      "Current google-chrome version is 101.0.4951\n",
      "Get LATEST chromedriver version for 101.0.4951 google-chrome\n",
      "Driver [C:\\Users\\alima\\.wdm\\drivers\\chromedriver\\win32\\101.0.4951.41\\chromedriver.exe] found in cache\n"
     ]
    }
   ],
   "source": [
    "from src.cochescom import *\n",
    "\n"
   ]
  },
  {
   "cell_type": "code",
   "execution_count": 103,
   "id": "ef76aa73",
   "metadata": {},
   "outputs": [],
   "source": [
    "def links(n):\n",
    "    li=[]\n",
    "    pages = np.arange(0, n, 1)\n",
    "    for page in pages:\n",
    "        page='https://www.coches.com/coches-segunda-mano/coches-ocasion.htm?ord[]=fecha_down&page=' + str(page)\n",
    "        html=req.get(page).content\n",
    "\n",
    "\n",
    "        soup = bs(html, 'html.parser')\n",
    "        link=[li.find('a').attrs['href'] for li in soup.find_all(class_='pill-information')]\n",
    "        li.append(link)\n",
    "        flat_list_link = [item for link in li for item in link]\n",
    "        \n",
    "        return flat_list_link"
   ]
  },
  {
   "cell_type": "code",
   "execution_count": 139,
   "id": "8946c7ec",
   "metadata": {
    "scrolled": true
   },
   "outputs": [
    {
     "ename": "ValueError",
     "evalue": "X has 4 features, but DecisionTreeRegressor is expecting 1015 features as input.",
     "output_type": "error",
     "traceback": [
      "\u001b[1;31m---------------------------------------------------------------------------\u001b[0m",
      "\u001b[1;31mValueError\u001b[0m                                Traceback (most recent call last)",
      "\u001b[1;32m~\\AppData\\Local\\Temp/ipykernel_6840/4197089604.py\u001b[0m in \u001b[0;36m<module>\u001b[1;34m\u001b[0m\n\u001b[0;32m      2\u001b[0m \u001b[0mscrapeo\u001b[0m\u001b[1;33m(\u001b[0m\u001b[0murls\u001b[0m\u001b[1;33m)\u001b[0m\u001b[1;33m\u001b[0m\u001b[1;33m\u001b[0m\u001b[0m\n\u001b[0;32m      3\u001b[0m \u001b[0mlimpieza\u001b[0m\u001b[1;33m(\u001b[0m\u001b[1;33m)\u001b[0m\u001b[1;33m\u001b[0m\u001b[1;33m\u001b[0m\u001b[0m\n\u001b[1;32m----> 4\u001b[1;33m \u001b[0mcomparacion\u001b[0m\u001b[1;33m(\u001b[0m\u001b[1;33m)\u001b[0m\u001b[1;33m\u001b[0m\u001b[1;33m\u001b[0m\u001b[0m\n\u001b[0m\u001b[0;32m      5\u001b[0m \u001b[0mtelegram_bot\u001b[0m\u001b[1;33m(\u001b[0m\u001b[1;33m)\u001b[0m\u001b[1;33m\u001b[0m\u001b[1;33m\u001b[0m\u001b[0m\n",
      "\u001b[1;32m~\\AppData\\Local\\Temp/ipykernel_6840/319961347.py\u001b[0m in \u001b[0;36mcomparacion\u001b[1;34m()\u001b[0m\n\u001b[0;32m      7\u001b[0m \u001b[1;33m\u001b[0m\u001b[0m\n\u001b[0;32m      8\u001b[0m     \u001b[0mloaded_model\u001b[0m \u001b[1;33m=\u001b[0m \u001b[0mpickle\u001b[0m\u001b[1;33m.\u001b[0m\u001b[0mload\u001b[0m\u001b[1;33m(\u001b[0m\u001b[0mopen\u001b[0m\u001b[1;33m(\u001b[0m\u001b[1;34m'random_forest.pk'\u001b[0m\u001b[1;33m,\u001b[0m \u001b[1;34m'rb'\u001b[0m\u001b[1;33m)\u001b[0m\u001b[1;33m)\u001b[0m\u001b[1;33m\u001b[0m\u001b[1;33m\u001b[0m\u001b[0m\n\u001b[1;32m----> 9\u001b[1;33m     \u001b[0mresult\u001b[0m \u001b[1;33m=\u001b[0m \u001b[0mloaded_model\u001b[0m\u001b[1;33m.\u001b[0m\u001b[0mpredict\u001b[0m\u001b[1;33m(\u001b[0m\u001b[0mtrain\u001b[0m\u001b[1;33m)\u001b[0m\u001b[1;33m\u001b[0m\u001b[1;33m\u001b[0m\u001b[0m\n\u001b[0m\u001b[0;32m     10\u001b[0m     \u001b[0mdata\u001b[0m\u001b[1;33m=\u001b[0m\u001b[1;33m{\u001b[0m\u001b[1;34m'precio_real'\u001b[0m\u001b[1;33m:\u001b[0m\u001b[0mcoches1\u001b[0m\u001b[1;33m.\u001b[0m\u001b[0mprice\u001b[0m\u001b[1;33m,\u001b[0m \u001b[1;34m'prediccion'\u001b[0m\u001b[1;33m:\u001b[0m\u001b[0mresult\u001b[0m\u001b[1;33m}\u001b[0m\u001b[1;33m\u001b[0m\u001b[1;33m\u001b[0m\u001b[0m\n\u001b[0;32m     11\u001b[0m \u001b[1;33m\u001b[0m\u001b[0m\n",
      "\u001b[1;32m~\\anaconda3\\lib\\site-packages\\sklearn\\ensemble\\_forest.py\u001b[0m in \u001b[0;36mpredict\u001b[1;34m(self, X)\u001b[0m\n\u001b[0;32m    782\u001b[0m         \u001b[0mcheck_is_fitted\u001b[0m\u001b[1;33m(\u001b[0m\u001b[0mself\u001b[0m\u001b[1;33m)\u001b[0m\u001b[1;33m\u001b[0m\u001b[1;33m\u001b[0m\u001b[0m\n\u001b[0;32m    783\u001b[0m         \u001b[1;31m# Check data\u001b[0m\u001b[1;33m\u001b[0m\u001b[1;33m\u001b[0m\u001b[0m\n\u001b[1;32m--> 784\u001b[1;33m         \u001b[0mX\u001b[0m \u001b[1;33m=\u001b[0m \u001b[0mself\u001b[0m\u001b[1;33m.\u001b[0m\u001b[0m_validate_X_predict\u001b[0m\u001b[1;33m(\u001b[0m\u001b[0mX\u001b[0m\u001b[1;33m)\u001b[0m\u001b[1;33m\u001b[0m\u001b[1;33m\u001b[0m\u001b[0m\n\u001b[0m\u001b[0;32m    785\u001b[0m \u001b[1;33m\u001b[0m\u001b[0m\n\u001b[0;32m    786\u001b[0m         \u001b[1;31m# Assign chunk of trees to jobs\u001b[0m\u001b[1;33m\u001b[0m\u001b[1;33m\u001b[0m\u001b[0m\n",
      "\u001b[1;32m~\\anaconda3\\lib\\site-packages\\sklearn\\ensemble\\_forest.py\u001b[0m in \u001b[0;36m_validate_X_predict\u001b[1;34m(self, X)\u001b[0m\n\u001b[0;32m    420\u001b[0m         \u001b[0mcheck_is_fitted\u001b[0m\u001b[1;33m(\u001b[0m\u001b[0mself\u001b[0m\u001b[1;33m)\u001b[0m\u001b[1;33m\u001b[0m\u001b[1;33m\u001b[0m\u001b[0m\n\u001b[0;32m    421\u001b[0m \u001b[1;33m\u001b[0m\u001b[0m\n\u001b[1;32m--> 422\u001b[1;33m         \u001b[1;32mreturn\u001b[0m \u001b[0mself\u001b[0m\u001b[1;33m.\u001b[0m\u001b[0mestimators_\u001b[0m\u001b[1;33m[\u001b[0m\u001b[1;36m0\u001b[0m\u001b[1;33m]\u001b[0m\u001b[1;33m.\u001b[0m\u001b[0m_validate_X_predict\u001b[0m\u001b[1;33m(\u001b[0m\u001b[0mX\u001b[0m\u001b[1;33m,\u001b[0m \u001b[0mcheck_input\u001b[0m\u001b[1;33m=\u001b[0m\u001b[1;32mTrue\u001b[0m\u001b[1;33m)\u001b[0m\u001b[1;33m\u001b[0m\u001b[1;33m\u001b[0m\u001b[0m\n\u001b[0m\u001b[0;32m    423\u001b[0m \u001b[1;33m\u001b[0m\u001b[0m\n\u001b[0;32m    424\u001b[0m     \u001b[1;33m@\u001b[0m\u001b[0mproperty\u001b[0m\u001b[1;33m\u001b[0m\u001b[1;33m\u001b[0m\u001b[0m\n",
      "\u001b[1;32m~\\anaconda3\\lib\\site-packages\\sklearn\\tree\\_classes.py\u001b[0m in \u001b[0;36m_validate_X_predict\u001b[1;34m(self, X, check_input)\u001b[0m\n\u001b[0;32m    405\u001b[0m         \u001b[1;34m\"\"\"Validate the training data on predict (probabilities).\"\"\"\u001b[0m\u001b[1;33m\u001b[0m\u001b[1;33m\u001b[0m\u001b[0m\n\u001b[0;32m    406\u001b[0m         \u001b[1;32mif\u001b[0m \u001b[0mcheck_input\u001b[0m\u001b[1;33m:\u001b[0m\u001b[1;33m\u001b[0m\u001b[1;33m\u001b[0m\u001b[0m\n\u001b[1;32m--> 407\u001b[1;33m             X = self._validate_data(X, dtype=DTYPE, accept_sparse=\"csr\",\n\u001b[0m\u001b[0;32m    408\u001b[0m                                     reset=False)\n\u001b[0;32m    409\u001b[0m             if issparse(X) and (X.indices.dtype != np.intc or\n",
      "\u001b[1;32m~\\anaconda3\\lib\\site-packages\\sklearn\\base.py\u001b[0m in \u001b[0;36m_validate_data\u001b[1;34m(self, X, y, reset, validate_separately, **check_params)\u001b[0m\n\u001b[0;32m    435\u001b[0m \u001b[1;33m\u001b[0m\u001b[0m\n\u001b[0;32m    436\u001b[0m         \u001b[1;32mif\u001b[0m \u001b[0mcheck_params\u001b[0m\u001b[1;33m.\u001b[0m\u001b[0mget\u001b[0m\u001b[1;33m(\u001b[0m\u001b[1;34m'ensure_2d'\u001b[0m\u001b[1;33m,\u001b[0m \u001b[1;32mTrue\u001b[0m\u001b[1;33m)\u001b[0m\u001b[1;33m:\u001b[0m\u001b[1;33m\u001b[0m\u001b[1;33m\u001b[0m\u001b[0m\n\u001b[1;32m--> 437\u001b[1;33m             \u001b[0mself\u001b[0m\u001b[1;33m.\u001b[0m\u001b[0m_check_n_features\u001b[0m\u001b[1;33m(\u001b[0m\u001b[0mX\u001b[0m\u001b[1;33m,\u001b[0m \u001b[0mreset\u001b[0m\u001b[1;33m=\u001b[0m\u001b[0mreset\u001b[0m\u001b[1;33m)\u001b[0m\u001b[1;33m\u001b[0m\u001b[1;33m\u001b[0m\u001b[0m\n\u001b[0m\u001b[0;32m    438\u001b[0m \u001b[1;33m\u001b[0m\u001b[0m\n\u001b[0;32m    439\u001b[0m         \u001b[1;32mreturn\u001b[0m \u001b[0mout\u001b[0m\u001b[1;33m\u001b[0m\u001b[1;33m\u001b[0m\u001b[0m\n",
      "\u001b[1;32m~\\anaconda3\\lib\\site-packages\\sklearn\\base.py\u001b[0m in \u001b[0;36m_check_n_features\u001b[1;34m(self, X, reset)\u001b[0m\n\u001b[0;32m    363\u001b[0m \u001b[1;33m\u001b[0m\u001b[0m\n\u001b[0;32m    364\u001b[0m         \u001b[1;32mif\u001b[0m \u001b[0mn_features\u001b[0m \u001b[1;33m!=\u001b[0m \u001b[0mself\u001b[0m\u001b[1;33m.\u001b[0m\u001b[0mn_features_in_\u001b[0m\u001b[1;33m:\u001b[0m\u001b[1;33m\u001b[0m\u001b[1;33m\u001b[0m\u001b[0m\n\u001b[1;32m--> 365\u001b[1;33m             raise ValueError(\n\u001b[0m\u001b[0;32m    366\u001b[0m                 \u001b[1;34mf\"X has {n_features} features, but {self.__class__.__name__} \"\u001b[0m\u001b[1;33m\u001b[0m\u001b[1;33m\u001b[0m\u001b[0m\n\u001b[0;32m    367\u001b[0m                 f\"is expecting {self.n_features_in_} features as input.\")\n",
      "\u001b[1;31mValueError\u001b[0m: X has 4 features, but DecisionTreeRegressor is expecting 1015 features as input."
     ]
    }
   ],
   "source": [
    "urls=links(3)\n",
    "scrapeo(urls)\n",
    "limpieza()\n",
    "comparacion()\n",
    "telegram_bot()"
   ]
  },
  {
   "cell_type": "code",
   "execution_count": 133,
   "id": "ccd4d1ff",
   "metadata": {},
   "outputs": [],
   "source": [
    "def scrapeo(urls):\n",
    "\n",
    "\n",
    "    \n",
    "    maker=[]\n",
    "    model=[]\n",
    "    price=[]\n",
    "    gas=[]\n",
    "    year=[]\n",
    "    kms=[]\n",
    "    power=[]\n",
    "    doors=[]\n",
    "    shift=[]\n",
    "    is_professional=[]\n",
    "    province=[]\n",
    "    link=[]\n",
    "    #coches=pd.read_csv('data/coches-de-segunda-mano-sample.csv')\n",
    "    for url in urls:\n",
    "\n",
    "        html=req.get(url).content\n",
    "        soup = bs(html, 'html.parser')\n",
    "        try:\n",
    "            modelo =[\" \".join(e.text.split('\\n')).rsplit(' ', 1)[0] for e in soup.find(class_='index-card__make-model')]\n",
    "            marca = [\" \".join(e.text.split('\\n')).rsplit(' ', 1)[0] for e in soup.find(class_='index-card__make-model')]\n",
    "            l=[\" \".join(e.text.split('\\n')).rsplit(' ', 1)[0] for e in soup.find_all(id='trackingIndexCardPrice')]\n",
    "            l=str(l).split('\\\\t')[-1]\n",
    "\n",
    "            precio=re.findall('(\\d+.+?\\d+)', l )\n",
    "            precio=int(float(precio[0])*1000)\n",
    "\n",
    "            año=[\" \".join(e.text.split('\\n')).rsplit(' ', 1)[0] for e in soup.find_all(id='trackingIndexCardYear')]\n",
    "            año=str(año).split('\\\\t')[-1]\n",
    "            año=re.findall('(\\d+.+?\\d+)', año )\n",
    "\n",
    "            año=año[-1].split('/')\n",
    "            año=int(año[-1])\n",
    "\n",
    "            fuel=[\" \".join(e.text.split('\\n')).rsplit(' ', 1)[0] for e in soup.find_all(id='trackingIndexCardFuel')]\n",
    "            fuel=str(fuel).split('\\\\t')[-1]\n",
    "\n",
    "            fuel=re.findall('(\\w+)', fuel )\n",
    "            fuel=fuel[0]\n",
    "\n",
    "            km=[\" \".join(e.text.split('\\n')).rsplit(' ', 1)[0] for e in soup.find_all(id='trackingIndexCardKms')]\n",
    "            km=str(km).split('\\\\t')[-1]\n",
    "            try:\n",
    "                km=re.findall('(\\d+.+?\\d+)', km )\n",
    "                km=int(float(km[0])*1000)\n",
    "            except:\n",
    "                pass\n",
    "            if km==[]:\n",
    "                km=0\n",
    "\n",
    "            cv=[\" \".join(e.text.split('\\n')).rsplit(' ', 1)[0] for e in soup.find_all(id='trackingIndexCardPower')]\n",
    "            cv=str(cv).split('\\\\t')[-1]\n",
    "\n",
    "            cv=re.findall('(\\d+)', cv )\n",
    "\n",
    "            cv=int(cv[0])\n",
    "\n",
    "\n",
    "            l=[\" \".join(e.text.split('\\n')).rsplit(' ', 1)[0] for e in soup.find_all(id='trackingIndexCardDoors')]\n",
    "            l=str(l).split('\\\\t')[-1]\n",
    "\n",
    "            puertas=re.findall('(\\d+)', l )\n",
    "            puertas=int(puertas[0])\n",
    "\n",
    "            l=[\" \".join(e.text.split('\\n')).rsplit(' ', 1)[0] for e in soup.find_all(class_='index-card__technical-data-section')]\n",
    "            l=str(l).split('\\\\t')[-1]\n",
    "\n",
    "\n",
    "            pepe=re.sub('.*Transmisión[ ]*','',l)\n",
    "            trans=re.sub('[ ].*[]]$','',pepe)\n",
    "\n",
    "            l=[\" \".join(e.text.split('\\n')).rsplit(' ', 1)[0] for e in soup.find(class_='index-card__cv-province')]\n",
    "            l=str(l).split('\\\\t')[-1]\n",
    "\n",
    "            sitio=re.sub('.*[ ]en*\\s','',l).strip()\n",
    "            place=re.sub('[ ].*[]]$','',sitio)\n",
    "\n",
    "            if 'Alfa' in modelo[0]:\n",
    "                c=modelo[0].split()[0:2]\n",
    "                maker.append(c[0].upper()+' '+c[1].upper())\n",
    "            elif 'Land' in modelo[0]:\n",
    "                c=modelo[0].split()[0:2]\n",
    "                maker.append(c[0].upper()+' '+c[1].upper())\n",
    "\n",
    "\n",
    "            else: \n",
    "\n",
    "                maker.append(modelo[0].split()[0].upper())\n",
    "            if 'Serie' in modelo[0]: \n",
    "                m=modelo[0].split()[1:3]\n",
    "\n",
    "                model.append(' '.join(m))\n",
    "\n",
    "            elif 'Clase' in modelo[0]:\n",
    "                m=modelo[0].split()[1:3]\n",
    "                model.append(' '.join(m))\n",
    "\n",
    "            elif 'Rover' in modelo[0]:\n",
    "                k=modelo[0].split()[2]\n",
    "                model.append(k)\n",
    "\n",
    "            elif 'Alfa' in modelo[0]:\n",
    "                k=modelo[0].split()[2]\n",
    "                model.append(k)\n",
    "            else: \n",
    "                model.append(modelo[0].split()[1])\n",
    "            price.append(precio)\n",
    "            gas.append(fuel)\n",
    "            year.append(año)\n",
    "            kms.append(km)\n",
    "            power.append(cv)\n",
    "            doors.append(puertas)\n",
    "            shift.append(trans)\n",
    "            is_professional.append('True')\n",
    "            link.append(url)\n",
    "            if '[' in place:\n",
    "                province.append('Unkown')\n",
    "            else:\n",
    "                province.append(place)\n",
    "        except:\n",
    "            pass\n",
    "\n",
    "        data_dict={'make': maker, 'model':model, 'price':price, 'fuel':gas, 'year':year, 'kms':kms, 'power':power, 'doors':doors, \n",
    "                  'shift':shift, 'is_professional':is_professional, 'province':province , 'link': link}\n",
    "        \n",
    "        fecha=datetime.now()\n",
    "        \n",
    "        coches1=pd.DataFrame(data=data_dict,index=[0])\n",
    "        #coches=coches.append(coches1.drop(columns='link'), ignore_index=True)\n",
    "        #coches.to_csv('data/coches-de-segunda-mano-sample.csv', index=False)\n",
    "        coches1.to_csv('scrapeo{fecha}.csv'.format(fecha=fecha.strftime(\"%y-%m-%d\")), index=False)\n",
    "        \n",
    "\n",
    "        \n",
    "        return 'Get data process DONE'\n",
    "    \n",
    "def limpieza():\n",
    "\n",
    "    coches=pd.read_csv('data/coches-de-segunda-mano-sample.csv')\n",
    "    coches1=pd.read_csv('scrapeo{fecha}.csv'.format(fecha=fecha.strftime(\"%y-%m-%d\")))\n",
    "    try:\n",
    "        coches.province=coches.province.replace(',','')\n",
    "        coches['shift']=coches['shift'].replace('Automática', 'Automático')\n",
    "        coches.province=coches.province.replace('Cadiz', 'Cádiz').replace('Malaga', 'Málaga').replace('Almeria','Almería').replace('Castellon','Castellón')\n",
    "\n",
    "        coches.province=coches.province.str.replace(',','')\n",
    "        coches['shift']=coches['shift'].replace('Directo,','Automático')\n",
    "        coches.make=coches.make.replace('MERCEDES','MERCEDES-BENZ')\n",
    "        coches.model=coches.model.str.replace('-','')\n",
    "        coches.fuel=coches.fuel.replace('Diesel','Diésel')\n",
    "        coches.province=coches.province.replace('Coruña', 'A Coruña').replace('Cordoba','Córdoba')\n",
    "        coches.province=coches.province.replace('Leon', 'León').replace('Caceres','Cáceres').replace('Avila','Ávila').replace('Jaen','Jaén')\n",
    "\n",
    "    except:\n",
    "        print('Clean Data')\n",
    "    coches=coches.append(coches1.drop(columns='link'), ignore_index=True)\n",
    "    coches.to_csv('data/coches-de-segunda-mano-sample.csv', index=False)\n",
    "    coches\n",
    "\n",
    "    return 'Clean data process DONE'"
   ]
  },
  {
   "cell_type": "code",
   "execution_count": 10,
   "id": "03a8cde9",
   "metadata": {},
   "outputs": [],
   "source": [
    "import pickle\n",
    "\n",
    "import pandas as pd"
   ]
  },
  {
   "cell_type": "code",
   "execution_count": 136,
   "id": "03e093da",
   "metadata": {
    "scrolled": true
   },
   "outputs": [],
   "source": [
    "def comparacion():\n",
    "    fecha=datetime.now()\n",
    "    coches1=pd.read_csv('scrapeo{fecha}.csv'.format(fecha=fecha.strftime(\"%y-%m-%d\")))\n",
    "    train=coches1.drop(columns=['link', 'price'])\n",
    "    train[['year','kms','power','doors']]=scaler.fit_transform(train[['year','kms','power','doors']])\n",
    "    train=pd.get_dummies(train, columns=['make','model','fuel','shift','is_professional','province'], drop_first=True)\n",
    "    entreno\n",
    "    loaded_model = pickle.load(open('random_forest.pk', 'rb'))\n",
    "    result = loaded_model.predict(train)\n",
    "    data={'precio_real':coches1.price, 'prediccion':result}\n",
    "    \n",
    "    diff=pd.DataFrame(data=data)\n",
    "    \n",
    "    diff['diff']=((diff.prediccion-diff.precio_real)**2)**0.5\n",
    "    \n",
    "    diff.loc[diff['diff'] >= 1000,'SentimentType'] = 'Mal'\n",
    "    diff.loc[diff['diff'] >500,'SentimentType'] = 'Regular'\n",
    "    diff.loc[diff['diff'] < 500,'SentimentType'] = 'Bien'\n",
    "    \n",
    "    indices_mal=diff[diff.SentimentType=='Mal'].index\n",
    "    indices_regular=diff[diff.SentimentType=='Regular'].index\n",
    "    indices_bien=diff[diff.SentimentType=='Bien'].index\n",
    "    \n",
    "    bueno=[]\n",
    "    for i in indices_mal:\n",
    "        bueno.append(coches.iloc[i])\n",
    "        \n",
    "    bueno_df=pd.DataFrame(bueno)\n",
    "    fecha=datetime.now()\n",
    "    bueno_df.to_csv('scrapeo_bueno{fecha}.csv'.format(fecha=fecha.strftime(\"%y-%m-%d\")), index=False)\n",
    "    \n",
    "    \n",
    "    return 'Machine Learning Done'\n",
    "    "
   ]
  },
  {
   "cell_type": "code",
   "execution_count": null,
   "id": "38ddda72",
   "metadata": {},
   "outputs": [],
   "source": [
    "'''A ver, Adrian. Te queda por concatenar la base de datos con los escrapeado en el día. Predecir en funcion del entreno solo los precios de la longitud de lo obtenido el ultimo día, si da el error ese tan esperado toca el \n",
    "except para entrenar de nuevo al RandomForest, por lo que hay que importar librerias y con ello '''"
   ]
  },
  {
   "cell_type": "code",
   "execution_count": 13,
   "id": "188371e4",
   "metadata": {},
   "outputs": [
    {
     "ename": "NameError",
     "evalue": "name 'datetime' is not defined",
     "output_type": "error",
     "traceback": [
      "\u001b[1;31m---------------------------------------------------------------------------\u001b[0m",
      "\u001b[1;31mNameError\u001b[0m                                 Traceback (most recent call last)",
      "\u001b[1;32m~\\AppData\\Local\\Temp/ipykernel_6840/3015733411.py\u001b[0m in \u001b[0;36m<module>\u001b[1;34m\u001b[0m\n\u001b[1;32m----> 1\u001b[1;33m \u001b[0mx\u001b[0m\u001b[1;33m=\u001b[0m\u001b[1;34m'scrapeo {fecha}'\u001b[0m\u001b[1;33m.\u001b[0m\u001b[0mformat\u001b[0m\u001b[1;33m(\u001b[0m\u001b[0mfecha\u001b[0m\u001b[1;33m=\u001b[0m\u001b[0mdatetime\u001b[0m\u001b[1;33m.\u001b[0m\u001b[0mnow\u001b[0m\u001b[1;33m(\u001b[0m\u001b[1;33m)\u001b[0m\u001b[1;33m)\u001b[0m\u001b[1;33m\u001b[0m\u001b[1;33m\u001b[0m\u001b[0m\n\u001b[0m",
      "\u001b[1;31mNameError\u001b[0m: name 'datetime' is not defined"
     ]
    }
   ],
   "source": [
    "x='scrapeo {fecha}'.format(fecha=datetime.now())"
   ]
  },
  {
   "cell_type": "code",
   "execution_count": 25,
   "id": "3a79336e",
   "metadata": {},
   "outputs": [
    {
     "data": {
      "text/plain": [
       "datetime.datetime(2022, 5, 15, 17, 12, 2, 577445)"
      ]
     },
     "execution_count": 25,
     "metadata": {},
     "output_type": "execute_result"
    }
   ],
   "source": [
    "fecha"
   ]
  },
  {
   "cell_type": "code",
   "execution_count": 40,
   "id": "4fe72113",
   "metadata": {},
   "outputs": [
    {
     "name": "stdout",
     "output_type": "stream",
     "text": [
      "22-05-15\n"
     ]
    }
   ],
   "source": [
    "print(fecha.strftime(\"%y-%m-%d\")) "
   ]
  },
  {
   "cell_type": "code",
   "execution_count": null,
   "id": "c94e8c57",
   "metadata": {},
   "outputs": [],
   "source": [
    "'''Crear funcion para comparar los datos sacados de la pagina con el entreno del bosque, calcular diferencias y si son menores de \n",
    "1000$ meterlas en una lista nueva, coger dato a dato de esa lista y meterlo dentro del mensaje de telegram_bot\n",
    "'''"
   ]
  },
  {
   "cell_type": "code",
   "execution_count": 1,
   "id": "a3dc0566",
   "metadata": {},
   "outputs": [
    {
     "name": "stdout",
     "output_type": "stream",
     "text": [
      "Requirement already satisfied: apache-airflow in c:\\users\\alima\\anaconda3\\lib\\site-packages (2.3.0)\n",
      "Requirement already satisfied: pygments>=2.0.1 in c:\\users\\alima\\anaconda3\\lib\\site-packages (from apache-airflow) (2.10.0)\n",
      "Requirement already satisfied: python-daemon>=2.2.4 in c:\\users\\alima\\anaconda3\\lib\\site-packages (from apache-airflow) (2.3.0)\n",
      "Requirement already satisfied: python-slugify>=5.0 in c:\\users\\alima\\anaconda3\\lib\\site-packages (from apache-airflow) (5.0.2)\n",
      "Requirement already satisfied: tabulate>=0.7.5 in c:\\users\\alima\\anaconda3\\lib\\site-packages (from apache-airflow) (0.8.9)\n",
      "Requirement already satisfied: tenacity>=6.2.0 in c:\\users\\alima\\anaconda3\\lib\\site-packages (from apache-airflow) (8.0.1)\n",
      "Requirement already satisfied: apache-airflow-providers-ftp in c:\\users\\alima\\anaconda3\\lib\\site-packages (from apache-airflow) (2.1.2)\n",
      "Requirement already satisfied: apache-airflow-providers-sqlite in c:\\users\\alima\\anaconda3\\lib\\site-packages (from apache-airflow) (2.1.3)\n",
      "Requirement already satisfied: python-nvd3>=0.15.0 in c:\\users\\alima\\anaconda3\\lib\\site-packages (from apache-airflow) (0.15.0)\n",
      "Requirement already satisfied: cattrs!=1.7.*,~=1.1 in c:\\users\\alima\\anaconda3\\lib\\site-packages (from apache-airflow) (1.10.0)\n",
      "Requirement already satisfied: attrs<21.0,>=20.0 in c:\\users\\alima\\anaconda3\\lib\\site-packages (from apache-airflow) (20.3.0)\n",
      "Requirement already satisfied: cryptography>=0.9.3 in c:\\users\\alima\\anaconda3\\lib\\site-packages (from apache-airflow) (3.4.8)\n",
      "Requirement already satisfied: gunicorn>=20.1.0 in c:\\users\\alima\\anaconda3\\lib\\site-packages (from apache-airflow) (20.1.0)\n",
      "Requirement already satisfied: jsonschema<5.0,>=3.2.0 in c:\\users\\alima\\anaconda3\\lib\\site-packages (from apache-airflow) (3.2.0)\n",
      "Requirement already satisfied: termcolor>=1.1.0 in c:\\users\\alima\\anaconda3\\lib\\site-packages (from apache-airflow) (1.1.0)\n",
      "Requirement already satisfied: connexion[flask,swagger-ui]>=2.10.0 in c:\\users\\alima\\anaconda3\\lib\\site-packages (from apache-airflow) (2.13.1)\n",
      "Requirement already satisfied: flask-wtf<0.15,>=0.14.3 in c:\\users\\alima\\anaconda3\\lib\\site-packages (from apache-airflow) (0.14.3)\n",
      "Requirement already satisfied: packaging>=14.0 in c:\\users\\alima\\anaconda3\\lib\\site-packages (from apache-airflow) (21.0)\n",
      "Requirement already satisfied: markdown>=3.0 in c:\\users\\alima\\anaconda3\\lib\\site-packages (from apache-airflow) (3.3.7)\n",
      "Requirement already satisfied: colorlog<5.0,>=4.0.2 in c:\\users\\alima\\anaconda3\\lib\\site-packages (from apache-airflow) (4.8.0)\n",
      "Requirement already satisfied: croniter>=0.3.17 in c:\\users\\alima\\anaconda3\\lib\\site-packages (from apache-airflow) (1.3.4)\n",
      "Requirement already satisfied: deprecated>=1.2.13 in c:\\users\\alima\\anaconda3\\lib\\site-packages (from apache-airflow) (1.2.13)\n",
      "Requirement already satisfied: typing-extensions>=3.7.4 in c:\\users\\alima\\anaconda3\\lib\\site-packages (from apache-airflow) (4.2.0)\n",
      "Requirement already satisfied: psutil>=4.2.0 in c:\\users\\alima\\anaconda3\\lib\\site-packages (from apache-airflow) (5.8.0)\n",
      "Requirement already satisfied: markupsafe<2.1.0,>=1.1.1 in c:\\users\\alima\\anaconda3\\lib\\site-packages (from apache-airflow) (1.1.1)\n",
      "Requirement already satisfied: flask-login<0.5,>=0.3 in c:\\users\\alima\\anaconda3\\lib\\site-packages (from apache-airflow) (0.4.1)\n",
      "Requirement already satisfied: marshmallow-oneofschema>=2.0.1 in c:\\users\\alima\\anaconda3\\lib\\site-packages (from apache-airflow) (3.0.1)\n",
      "Requirement already satisfied: sqlalchemy-jsonfield>=1.0 in c:\\users\\alima\\anaconda3\\lib\\site-packages (from apache-airflow) (1.0.0)\n",
      "Requirement already satisfied: jinja2<3.1,>=2.10.1 in c:\\users\\alima\\anaconda3\\lib\\site-packages (from apache-airflow) (2.11.3)\n",
      "Requirement already satisfied: httpx in c:\\users\\alima\\anaconda3\\lib\\site-packages (from apache-airflow) (0.22.0)\n",
      "Requirement already satisfied: werkzeug>=1.0.1,~=1.0 in c:\\users\\alima\\anaconda3\\lib\\site-packages (from apache-airflow) (1.0.1)\n",
      "Requirement already satisfied: cron-descriptor>=1.2.24 in c:\\users\\alima\\anaconda3\\lib\\site-packages (from apache-airflow) (1.2.24)\n",
      "Requirement already satisfied: python-dateutil>=2.3 in c:\\users\\alima\\anaconda3\\lib\\site-packages (from apache-airflow) (2.8.2)\n",
      "Requirement already satisfied: lockfile>=0.12.2 in c:\\users\\alima\\anaconda3\\lib\\site-packages (from apache-airflow) (0.12.2)\n",
      "Requirement already satisfied: unicodecsv>=0.14.1 in c:\\users\\alima\\anaconda3\\lib\\site-packages (from apache-airflow) (0.14.1)\n",
      "Requirement already satisfied: apache-airflow-providers-http in c:\\users\\alima\\anaconda3\\lib\\site-packages (from apache-airflow) (2.1.2)\n",
      "Requirement already satisfied: argcomplete>=1.10 in c:\\users\\alima\\anaconda3\\lib\\site-packages (from apache-airflow) (1.12.3)\n",
      "Requirement already satisfied: sqlalchemy<1.4.10,>=1.4 in c:\\users\\alima\\anaconda3\\lib\\site-packages (from apache-airflow) (1.4.9)\n",
      "Requirement already satisfied: itsdangerous<2.0,>=1.1.0 in c:\\users\\alima\\anaconda3\\lib\\site-packages (from apache-airflow) (1.1.0)\n",
      "Requirement already satisfied: blinker in c:\\users\\alima\\anaconda3\\lib\\site-packages (from apache-airflow) (1.4)\n",
      "Requirement already satisfied: pluggy>=1.0 in c:\\users\\alima\\anaconda3\\lib\\site-packages (from apache-airflow) (1.0.0)\n",
      "Requirement already satisfied: flask-caching<2.0.0,>=1.5.0 in c:\\users\\alima\\anaconda3\\lib\\site-packages (from apache-airflow) (1.10.1)\n",
      "Requirement already satisfied: rich>=12.3.0 in c:\\users\\alima\\anaconda3\\lib\\site-packages (from apache-airflow) (12.4.1)\n",
      "Requirement already satisfied: flask<2.0,>=1.1.0 in c:\\users\\alima\\anaconda3\\lib\\site-packages (from apache-airflow) (1.1.2)\n",
      "Requirement already satisfied: pendulum>=2.0 in c:\\users\\alima\\anaconda3\\lib\\site-packages (from apache-airflow) (2.1.2)\n",
      "Requirement already satisfied: flask-appbuilder==3.4.5 in c:\\users\\alima\\anaconda3\\lib\\site-packages (from apache-airflow) (3.4.5)\n",
      "Requirement already satisfied: flask-session<=0.4.0,>=0.3.1 in c:\\users\\alima\\anaconda3\\lib\\site-packages (from apache-airflow) (0.4.0)\n",
      "Requirement already satisfied: setproctitle>=1.1.8 in c:\\users\\alima\\anaconda3\\lib\\site-packages (from apache-airflow) (1.2.3)\n",
      "Requirement already satisfied: lazy-object-proxy in c:\\users\\alima\\anaconda3\\lib\\site-packages (from apache-airflow) (1.6.0)\n",
      "Requirement already satisfied: pathspec~=0.9.0 in c:\\users\\alima\\anaconda3\\lib\\site-packages (from apache-airflow) (0.9.0)\n",
      "Requirement already satisfied: graphviz>=0.12 in c:\\users\\alima\\anaconda3\\lib\\site-packages (from apache-airflow) (0.20)\n",
      "Requirement already satisfied: dill>=0.2.2 in c:\\users\\alima\\anaconda3\\lib\\site-packages (from apache-airflow) (0.3.4)\n",
      "Requirement already satisfied: apache-airflow-providers-imap in c:\\users\\alima\\anaconda3\\lib\\site-packages (from apache-airflow) (2.2.3)\n",
      "Requirement already satisfied: alembic<2.0,>=1.5.1 in c:\\users\\alima\\anaconda3\\lib\\site-packages (from apache-airflow) (1.7.7)\n",
      "Requirement already satisfied: sqlalchemy-utils<1,>=0.32.21 in c:\\users\\alima\\anaconda3\\lib\\site-packages (from flask-appbuilder==3.4.5->apache-airflow) (0.38.2)\n",
      "Requirement already satisfied: marshmallow-enum<2,>=1.5.1 in c:\\users\\alima\\anaconda3\\lib\\site-packages (from flask-appbuilder==3.4.5->apache-airflow) (1.5.1)\n",
      "Requirement already satisfied: Flask-SQLAlchemy<3,>=2.4 in c:\\users\\alima\\anaconda3\\lib\\site-packages (from flask-appbuilder==3.4.5->apache-airflow) (2.5.1)\n",
      "Requirement already satisfied: prison<1.0.0,>=0.2.1 in c:\\users\\alima\\anaconda3\\lib\\site-packages (from flask-appbuilder==3.4.5->apache-airflow) (0.2.1)\n",
      "Requirement already satisfied: email-validator<2,>=1.0.5 in c:\\users\\alima\\anaconda3\\lib\\site-packages (from flask-appbuilder==3.4.5->apache-airflow) (1.2.1)\n",
      "Requirement already satisfied: marshmallow<4,>=3 in c:\\users\\alima\\anaconda3\\lib\\site-packages (from flask-appbuilder==3.4.5->apache-airflow) (3.15.0)\n",
      "Requirement already satisfied: PyJWT<2.0.0,>=1.7.1 in c:\\users\\alima\\anaconda3\\lib\\site-packages (from flask-appbuilder==3.4.5->apache-airflow) (1.7.1)\n",
      "Requirement already satisfied: click<9,>=6.7 in c:\\users\\alima\\anaconda3\\lib\\site-packages (from flask-appbuilder==3.4.5->apache-airflow) (8.0.3)\n",
      "Requirement already satisfied: WTForms<3.0.0 in c:\\users\\alima\\anaconda3\\lib\\site-packages (from flask-appbuilder==3.4.5->apache-airflow) (2.3.3)\n",
      "Requirement already satisfied: marshmallow-sqlalchemy<0.27.0,>=0.22.0 in c:\\users\\alima\\anaconda3\\lib\\site-packages (from flask-appbuilder==3.4.5->apache-airflow) (0.26.1)\n",
      "Requirement already satisfied: Flask-JWT-Extended<4,>=3.18 in c:\\users\\alima\\anaconda3\\lib\\site-packages (from flask-appbuilder==3.4.5->apache-airflow) (3.25.1)\n",
      "Requirement already satisfied: colorama<1,>=0.3.9 in c:\\users\\alima\\anaconda3\\lib\\site-packages (from flask-appbuilder==3.4.5->apache-airflow) (0.4.4)\n",
      "Requirement already satisfied: Flask-OpenID<2,>=1.2.5 in c:\\users\\alima\\anaconda3\\lib\\site-packages (from flask-appbuilder==3.4.5->apache-airflow) (1.3.0)\n",
      "Requirement already satisfied: apispec[yaml]<4,>=3.3 in c:\\users\\alima\\anaconda3\\lib\\site-packages (from flask-appbuilder==3.4.5->apache-airflow) (3.3.2)\n",
      "Requirement already satisfied: Flask-Babel<3,>=1 in c:\\users\\alima\\anaconda3\\lib\\site-packages (from flask-appbuilder==3.4.5->apache-airflow) (2.0.0)\n",
      "Requirement already satisfied: Mako in c:\\users\\alima\\anaconda3\\lib\\site-packages (from alembic<2.0,>=1.5.1->apache-airflow) (1.2.0)\n",
      "Requirement already satisfied: PyYAML>=3.10 in c:\\users\\alima\\anaconda3\\lib\\site-packages (from apispec[yaml]<4,>=3.3->flask-appbuilder==3.4.5->apache-airflow) (5.4.1)\n",
      "Requirement already satisfied: inflection<0.6,>=0.3.1 in c:\\users\\alima\\anaconda3\\lib\\site-packages (from connexion[flask,swagger-ui]>=2.10.0->apache-airflow) (0.5.1)\n",
      "Requirement already satisfied: requests<3,>=2.9.1 in c:\\users\\alima\\anaconda3\\lib\\site-packages (from connexion[flask,swagger-ui]>=2.10.0->apache-airflow) (2.26.0)\n",
      "Requirement already satisfied: clickclick<21,>=1.2 in c:\\users\\alima\\anaconda3\\lib\\site-packages (from connexion[flask,swagger-ui]>=2.10.0->apache-airflow) (20.10.2)\n",
      "Requirement already satisfied: swagger-ui-bundle<0.1,>=0.0.2 in c:\\users\\alima\\anaconda3\\lib\\site-packages (from connexion[flask,swagger-ui]>=2.10.0->apache-airflow) (0.0.9)\n",
      "Requirement already satisfied: cffi>=1.12 in c:\\users\\alima\\anaconda3\\lib\\site-packages (from cryptography>=0.9.3->apache-airflow) (1.14.6)\n",
      "Requirement already satisfied: pycparser in c:\\users\\alima\\anaconda3\\lib\\site-packages (from cffi>=1.12->cryptography>=0.9.3->apache-airflow) (2.20)\n",
      "Requirement already satisfied: wrapt<2,>=1.10 in c:\\users\\alima\\anaconda3\\lib\\site-packages (from deprecated>=1.2.13->apache-airflow) (1.12.1)\n",
      "Requirement already satisfied: idna>=2.0.0 in c:\\users\\alima\\anaconda3\\lib\\site-packages (from email-validator<2,>=1.0.5->flask-appbuilder==3.4.5->apache-airflow) (3.2)\n",
      "Requirement already satisfied: dnspython>=1.15.0 in c:\\users\\alima\\anaconda3\\lib\\site-packages (from email-validator<2,>=1.0.5->flask-appbuilder==3.4.5->apache-airflow) (2.2.1)\n",
      "Requirement already satisfied: Babel>=2.3 in c:\\users\\alima\\anaconda3\\lib\\site-packages (from Flask-Babel<3,>=1->flask-appbuilder==3.4.5->apache-airflow) (2.9.1)\n",
      "Requirement already satisfied: pytz in c:\\users\\alima\\anaconda3\\lib\\site-packages (from Flask-Babel<3,>=1->flask-appbuilder==3.4.5->apache-airflow) (2021.3)\n",
      "Requirement already satisfied: six in c:\\users\\alima\\anaconda3\\lib\\site-packages (from Flask-JWT-Extended<4,>=3.18->flask-appbuilder==3.4.5->apache-airflow) (1.16.0)\n",
      "Requirement already satisfied: python3-openid>=2.0 in c:\\users\\alima\\anaconda3\\lib\\site-packages (from Flask-OpenID<2,>=1.2.5->flask-appbuilder==3.4.5->apache-airflow) (3.2.0)\n",
      "Requirement already satisfied: cachelib in c:\\users\\alima\\anaconda3\\lib\\site-packages (from flask-session<=0.4.0,>=0.3.1->apache-airflow) (0.6.0)\n",
      "Requirement already satisfied: setuptools>=3.0 in c:\\users\\alima\\anaconda3\\lib\\site-packages (from gunicorn>=20.1.0->apache-airflow) (58.0.4)\n",
      "Requirement already satisfied: pyrsistent>=0.14.0 in c:\\users\\alima\\anaconda3\\lib\\site-packages (from jsonschema<5.0,>=3.2.0->apache-airflow) (0.18.0)\n",
      "Requirement already satisfied: importlib-metadata>=4.4 in c:\\users\\alima\\anaconda3\\lib\\site-packages (from markdown>=3.0->apache-airflow) (4.8.1)\n",
      "Requirement already satisfied: zipp>=0.5 in c:\\users\\alima\\anaconda3\\lib\\site-packages (from importlib-metadata>=4.4->markdown>=3.0->apache-airflow) (3.6.0)\n",
      "Requirement already satisfied: pyparsing>=2.0.2 in c:\\users\\alima\\anaconda3\\lib\\site-packages (from packaging>=14.0->apache-airflow) (3.0.4)\n",
      "Requirement already satisfied: pytzdata>=2020.1 in c:\\users\\alima\\anaconda3\\lib\\site-packages (from pendulum>=2.0->apache-airflow) (2020.1)\n",
      "Requirement already satisfied: docutils in c:\\users\\alima\\anaconda3\\lib\\site-packages (from python-daemon>=2.2.4->apache-airflow) (0.17.1)\n",
      "Requirement already satisfied: text-unidecode>=1.3 in c:\\users\\alima\\anaconda3\\lib\\site-packages (from python-slugify>=5.0->apache-airflow) (1.3)\n",
      "Requirement already satisfied: defusedxml in c:\\users\\alima\\anaconda3\\lib\\site-packages (from python3-openid>=2.0->Flask-OpenID<2,>=1.2.5->flask-appbuilder==3.4.5->apache-airflow) (0.7.1)\n",
      "Requirement already satisfied: charset-normalizer~=2.0.0 in c:\\users\\alima\\anaconda3\\lib\\site-packages (from requests<3,>=2.9.1->connexion[flask,swagger-ui]>=2.10.0->apache-airflow) (2.0.4)\n",
      "Requirement already satisfied: certifi>=2017.4.17 in c:\\users\\alima\\anaconda3\\lib\\site-packages (from requests<3,>=2.9.1->connexion[flask,swagger-ui]>=2.10.0->apache-airflow) (2021.10.8)\n",
      "Requirement already satisfied: urllib3<1.27,>=1.21.1 in c:\\users\\alima\\anaconda3\\lib\\site-packages (from requests<3,>=2.9.1->connexion[flask,swagger-ui]>=2.10.0->apache-airflow) (1.26.7)\n",
      "Requirement already satisfied: commonmark<0.10.0,>=0.9.0 in c:\\users\\alima\\anaconda3\\lib\\site-packages (from rich>=12.3.0->apache-airflow) (0.9.1)\n",
      "Requirement already satisfied: greenlet!=0.4.17 in c:\\users\\alima\\anaconda3\\lib\\site-packages (from sqlalchemy<1.4.10,>=1.4->apache-airflow) (1.1.1)\n",
      "Requirement already satisfied: rfc3986[idna2008]<2,>=1.3 in c:\\users\\alima\\anaconda3\\lib\\site-packages (from httpx->apache-airflow) (1.5.0)\n",
      "Requirement already satisfied: sniffio in c:\\users\\alima\\anaconda3\\lib\\site-packages (from httpx->apache-airflow) (1.2.0)\n",
      "Requirement already satisfied: httpcore<0.15.0,>=0.14.5 in c:\\users\\alima\\anaconda3\\lib\\site-packages (from httpx->apache-airflow) (0.14.7)\n",
      "Requirement already satisfied: anyio==3.* in c:\\users\\alima\\anaconda3\\lib\\site-packages (from httpcore<0.15.0,>=0.14.5->httpx->apache-airflow) (3.6.1)\n",
      "Requirement already satisfied: h11<0.13,>=0.11 in c:\\users\\alima\\anaconda3\\lib\\site-packages (from httpcore<0.15.0,>=0.14.5->httpx->apache-airflow) (0.12.0)\n"
     ]
    },
    {
     "name": "stdout",
     "output_type": "stream",
     "text": [
      "Requirement already satisfied: apache-airflow[gcp,postgres,telegram] in c:\\users\\alima\\anaconda3\\lib\\site-packages (2.3.0)\n",
      "Requirement already satisfied: gunicorn>=20.1.0 in c:\\users\\alima\\anaconda3\\lib\\site-packages (from apache-airflow[gcp,postgres,telegram]) (20.1.0)\n",
      "Requirement already satisfied: attrs<21.0,>=20.0 in c:\\users\\alima\\anaconda3\\lib\\site-packages (from apache-airflow[gcp,postgres,telegram]) (20.3.0)\n",
      "Requirement already satisfied: pluggy>=1.0 in c:\\users\\alima\\anaconda3\\lib\\site-packages (from apache-airflow[gcp,postgres,telegram]) (1.0.0)\n",
      "Requirement already satisfied: psutil>=4.2.0 in c:\\users\\alima\\anaconda3\\lib\\site-packages (from apache-airflow[gcp,postgres,telegram]) (5.8.0)\n",
      "Requirement already satisfied: graphviz>=0.12 in c:\\users\\alima\\anaconda3\\lib\\site-packages (from apache-airflow[gcp,postgres,telegram]) (0.20)\n",
      "Requirement already satisfied: colorlog<5.0,>=4.0.2 in c:\\users\\alima\\anaconda3\\lib\\site-packages (from apache-airflow[gcp,postgres,telegram]) (4.8.0)\n",
      "Requirement already satisfied: deprecated>=1.2.13 in c:\\users\\alima\\anaconda3\\lib\\site-packages (from apache-airflow[gcp,postgres,telegram]) (1.2.13)\n",
      "Requirement already satisfied: flask-appbuilder==3.4.5 in c:\\users\\alima\\anaconda3\\lib\\site-packages (from apache-airflow[gcp,postgres,telegram]) (3.4.5)\n",
      "Requirement already satisfied: python-daemon>=2.2.4 in c:\\users\\alima\\anaconda3\\lib\\site-packages (from apache-airflow[gcp,postgres,telegram]) (2.3.0)\n",
      "Requirement already satisfied: python-nvd3>=0.15.0 in c:\\users\\alima\\anaconda3\\lib\\site-packages (from apache-airflow[gcp,postgres,telegram]) (0.15.0)\n",
      "Requirement already satisfied: rich>=12.3.0 in c:\\users\\alima\\anaconda3\\lib\\site-packages (from apache-airflow[gcp,postgres,telegram]) (12.4.1)\n",
      "Requirement already satisfied: jsonschema<5.0,>=3.2.0 in c:\\users\\alima\\anaconda3\\lib\\site-packages (from apache-airflow[gcp,postgres,telegram]) (3.2.0)\n",
      "Requirement already satisfied: flask-session<=0.4.0,>=0.3.1 in c:\\users\\alima\\anaconda3\\lib\\site-packages (from apache-airflow[gcp,postgres,telegram]) (0.4.0)\n",
      "Requirement already satisfied: pygments>=2.0.1 in c:\\users\\alima\\anaconda3\\lib\\site-packages (from apache-airflow[gcp,postgres,telegram]) (2.10.0)\n",
      "Requirement already satisfied: connexion[flask,swagger-ui]>=2.10.0 in c:\\users\\alima\\anaconda3\\lib\\site-packages (from apache-airflow[gcp,postgres,telegram]) (2.13.1)\n",
      "Requirement already satisfied: flask-wtf<0.15,>=0.14.3 in c:\\users\\alima\\anaconda3\\lib\\site-packages (from apache-airflow[gcp,postgres,telegram]) (0.14.3)\n",
      "Requirement already satisfied: markdown>=3.0 in c:\\users\\alima\\anaconda3\\lib\\site-packages (from apache-airflow[gcp,postgres,telegram]) (3.3.7)\n",
      "Requirement already satisfied: sqlalchemy<1.4.10,>=1.4 in c:\\users\\alima\\anaconda3\\lib\\site-packages (from apache-airflow[gcp,postgres,telegram]) (1.4.9)\n",
      "Requirement already satisfied: apache-airflow-providers-ftp in c:\\users\\alima\\anaconda3\\lib\\site-packages (from apache-airflow[gcp,postgres,telegram]) (2.1.2)\n",
      "Requirement already satisfied: tabulate>=0.7.5 in c:\\users\\alima\\anaconda3\\lib\\site-packages (from apache-airflow[gcp,postgres,telegram]) (0.8.9)\n",
      "Requirement already satisfied: lazy-object-proxy in c:\\users\\alima\\anaconda3\\lib\\site-packages (from apache-airflow[gcp,postgres,telegram]) (1.6.0)\n",
      "Requirement already satisfied: lockfile>=0.12.2 in c:\\users\\alima\\anaconda3\\lib\\site-packages (from apache-airflow[gcp,postgres,telegram]) (0.12.2)\n",
      "Requirement already satisfied: termcolor>=1.1.0 in c:\\users\\alima\\anaconda3\\lib\\site-packages (from apache-airflow[gcp,postgres,telegram]) (1.1.0)\n",
      "Requirement already satisfied: tenacity>=6.2.0 in c:\\users\\alima\\anaconda3\\lib\\site-packages (from apache-airflow[gcp,postgres,telegram]) (8.0.1)\n",
      "Requirement already satisfied: flask-login<0.5,>=0.3 in c:\\users\\alima\\anaconda3\\lib\\site-packages (from apache-airflow[gcp,postgres,telegram]) (0.4.1)\n",
      "Requirement already satisfied: apache-airflow-providers-sqlite in c:\\users\\alima\\anaconda3\\lib\\site-packages (from apache-airflow[gcp,postgres,telegram]) (2.1.3)\n",
      "Requirement already satisfied: dill>=0.2.2 in c:\\users\\alima\\anaconda3\\lib\\site-packages (from apache-airflow[gcp,postgres,telegram]) (0.3.4)\n",
      "Requirement already satisfied: pendulum>=2.0 in c:\\users\\alima\\anaconda3\\lib\\site-packages (from apache-airflow[gcp,postgres,telegram]) (2.1.2)\n",
      "Requirement already satisfied: alembic<2.0,>=1.5.1 in c:\\users\\alima\\anaconda3\\lib\\site-packages (from apache-airflow[gcp,postgres,telegram]) (1.7.7)\n",
      "Requirement already satisfied: argcomplete>=1.10 in c:\\users\\alima\\anaconda3\\lib\\site-packages (from apache-airflow[gcp,postgres,telegram]) (1.12.3)\n",
      "Requirement already satisfied: cron-descriptor>=1.2.24 in c:\\users\\alima\\anaconda3\\lib\\site-packages (from apache-airflow[gcp,postgres,telegram]) (1.2.24)\n",
      "Requirement already satisfied: flask-caching<2.0.0,>=1.5.0 in c:\\users\\alima\\anaconda3\\lib\\site-packages (from apache-airflow[gcp,postgres,telegram]) (1.10.1)\n",
      "Requirement already satisfied: httpx in c:\\users\\alima\\anaconda3\\lib\\site-packages (from apache-airflow[gcp,postgres,telegram]) (0.22.0)\n",
      "Requirement already satisfied: pathspec~=0.9.0 in c:\\users\\alima\\anaconda3\\lib\\site-packages (from apache-airflow[gcp,postgres,telegram]) (0.9.0)\n",
      "Requirement already satisfied: setproctitle>=1.1.8 in c:\\users\\alima\\anaconda3\\lib\\site-packages (from apache-airflow[gcp,postgres,telegram]) (1.2.3)\n",
      "Requirement already satisfied: jinja2<3.1,>=2.10.1 in c:\\users\\alima\\anaconda3\\lib\\site-packages (from apache-airflow[gcp,postgres,telegram]) (2.11.3)\n",
      "Requirement already satisfied: apache-airflow-providers-imap in c:\\users\\alima\\anaconda3\\lib\\site-packages (from apache-airflow[gcp,postgres,telegram]) (2.2.3)\n",
      "Requirement already satisfied: python-slugify>=5.0 in c:\\users\\alima\\anaconda3\\lib\\site-packages (from apache-airflow[gcp,postgres,telegram]) (5.0.2)\n",
      "Requirement already satisfied: markupsafe<2.1.0,>=1.1.1 in c:\\users\\alima\\anaconda3\\lib\\site-packages (from apache-airflow[gcp,postgres,telegram]) (1.1.1)\n",
      "Requirement already satisfied: croniter>=0.3.17 in c:\\users\\alima\\anaconda3\\lib\\site-packages (from apache-airflow[gcp,postgres,telegram]) (1.3.4)\n",
      "Requirement already satisfied: marshmallow-oneofschema>=2.0.1 in c:\\users\\alima\\anaconda3\\lib\\site-packages (from apache-airflow[gcp,postgres,telegram]) (3.0.1)\n",
      "Requirement already satisfied: flask<2.0,>=1.1.0 in c:\\users\\alima\\anaconda3\\lib\\site-packages (from apache-airflow[gcp,postgres,telegram]) (1.1.2)\n",
      "Requirement already satisfied: blinker in c:\\users\\alima\\anaconda3\\lib\\site-packages (from apache-airflow[gcp,postgres,telegram]) (1.4)\n",
      "Requirement already satisfied: itsdangerous<2.0,>=1.1.0 in c:\\users\\alima\\anaconda3\\lib\\site-packages (from apache-airflow[gcp,postgres,telegram]) (1.1.0)\n",
      "Requirement already satisfied: packaging>=14.0 in c:\\users\\alima\\anaconda3\\lib\\site-packages (from apache-airflow[gcp,postgres,telegram]) (21.0)\n",
      "Requirement already satisfied: python-dateutil>=2.3 in c:\\users\\alima\\anaconda3\\lib\\site-packages (from apache-airflow[gcp,postgres,telegram]) (2.8.2)\n",
      "Requirement already satisfied: werkzeug>=1.0.1,~=1.0 in c:\\users\\alima\\anaconda3\\lib\\site-packages (from apache-airflow[gcp,postgres,telegram]) (1.0.1)\n",
      "Requirement already satisfied: apache-airflow-providers-http in c:\\users\\alima\\anaconda3\\lib\\site-packages (from apache-airflow[gcp,postgres,telegram]) (2.1.2)\n",
      "Requirement already satisfied: cattrs!=1.7.*,~=1.1 in c:\\users\\alima\\anaconda3\\lib\\site-packages (from apache-airflow[gcp,postgres,telegram]) (1.10.0)\n",
      "Requirement already satisfied: cryptography>=0.9.3 in c:\\users\\alima\\anaconda3\\lib\\site-packages (from apache-airflow[gcp,postgres,telegram]) (3.4.8)\n",
      "Requirement already satisfied: sqlalchemy-jsonfield>=1.0 in c:\\users\\alima\\anaconda3\\lib\\site-packages (from apache-airflow[gcp,postgres,telegram]) (1.0.0)\n",
      "Requirement already satisfied: typing-extensions>=3.7.4 in c:\\users\\alima\\anaconda3\\lib\\site-packages (from apache-airflow[gcp,postgres,telegram]) (4.2.0)\n",
      "Requirement already satisfied: unicodecsv>=0.14.1 in c:\\users\\alima\\anaconda3\\lib\\site-packages (from apache-airflow[gcp,postgres,telegram]) (0.14.1)\n",
      "Requirement already satisfied: apache-airflow-providers-google in c:\\users\\alima\\anaconda3\\lib\\site-packages (from apache-airflow[gcp,postgres,telegram]) (6.8.0)\n",
      "Requirement already satisfied: apache-airflow-providers-telegram in c:\\users\\alima\\anaconda3\\lib\\site-packages (from apache-airflow[gcp,postgres,telegram]) (2.0.4)\n",
      "Requirement already satisfied: apache-airflow-providers-postgres in c:\\users\\alima\\anaconda3\\lib\\site-packages (from apache-airflow[gcp,postgres,telegram]) (4.1.0)\n",
      "Requirement already satisfied: WTForms<3.0.0 in c:\\users\\alima\\anaconda3\\lib\\site-packages (from flask-appbuilder==3.4.5->apache-airflow[gcp,postgres,telegram]) (2.3.3)\n",
      "Requirement already satisfied: colorama<1,>=0.3.9 in c:\\users\\alima\\anaconda3\\lib\\site-packages (from flask-appbuilder==3.4.5->apache-airflow[gcp,postgres,telegram]) (0.4.4)\n",
      "Requirement already satisfied: Flask-SQLAlchemy<3,>=2.4 in c:\\users\\alima\\anaconda3\\lib\\site-packages (from flask-appbuilder==3.4.5->apache-airflow[gcp,postgres,telegram]) (2.5.1)\n",
      "Requirement already satisfied: marshmallow<4,>=3 in c:\\users\\alima\\anaconda3\\lib\\site-packages (from flask-appbuilder==3.4.5->apache-airflow[gcp,postgres,telegram]) (3.15.0)\n",
      "Requirement already satisfied: marshmallow-enum<2,>=1.5.1 in c:\\users\\alima\\anaconda3\\lib\\site-packages (from flask-appbuilder==3.4.5->apache-airflow[gcp,postgres,telegram]) (1.5.1)\n",
      "Requirement already satisfied: marshmallow-sqlalchemy<0.27.0,>=0.22.0 in c:\\users\\alima\\anaconda3\\lib\\site-packages (from flask-appbuilder==3.4.5->apache-airflow[gcp,postgres,telegram]) (0.26.1)\n",
      "Requirement already satisfied: email-validator<2,>=1.0.5 in c:\\users\\alima\\anaconda3\\lib\\site-packages (from flask-appbuilder==3.4.5->apache-airflow[gcp,postgres,telegram]) (1.2.1)\n",
      "Requirement already satisfied: Flask-OpenID<2,>=1.2.5 in c:\\users\\alima\\anaconda3\\lib\\site-packages (from flask-appbuilder==3.4.5->apache-airflow[gcp,postgres,telegram]) (1.3.0)\n",
      "Requirement already satisfied: Flask-JWT-Extended<4,>=3.18 in c:\\users\\alima\\anaconda3\\lib\\site-packages (from flask-appbuilder==3.4.5->apache-airflow[gcp,postgres,telegram]) (3.25.1)\n",
      "Requirement already satisfied: Flask-Babel<3,>=1 in c:\\users\\alima\\anaconda3\\lib\\site-packages (from flask-appbuilder==3.4.5->apache-airflow[gcp,postgres,telegram]) (2.0.0)\n",
      "Requirement already satisfied: click<9,>=6.7 in c:\\users\\alima\\anaconda3\\lib\\site-packages (from flask-appbuilder==3.4.5->apache-airflow[gcp,postgres,telegram]) (8.0.3)\n",
      "Requirement already satisfied: sqlalchemy-utils<1,>=0.32.21 in c:\\users\\alima\\anaconda3\\lib\\site-packages (from flask-appbuilder==3.4.5->apache-airflow[gcp,postgres,telegram]) (0.38.2)\n",
      "Requirement already satisfied: apispec[yaml]<4,>=3.3 in c:\\users\\alima\\anaconda3\\lib\\site-packages (from flask-appbuilder==3.4.5->apache-airflow[gcp,postgres,telegram]) (3.3.2)\n",
      "Requirement already satisfied: PyJWT<2.0.0,>=1.7.1 in c:\\users\\alima\\anaconda3\\lib\\site-packages (from flask-appbuilder==3.4.5->apache-airflow[gcp,postgres,telegram]) (1.7.1)\n",
      "Requirement already satisfied: prison<1.0.0,>=0.2.1 in c:\\users\\alima\\anaconda3\\lib\\site-packages (from flask-appbuilder==3.4.5->apache-airflow[gcp,postgres,telegram]) (0.2.1)\n",
      "Requirement already satisfied: Mako in c:\\users\\alima\\anaconda3\\lib\\site-packages (from alembic<2.0,>=1.5.1->apache-airflow[gcp,postgres,telegram]) (1.2.0)\n",
      "Requirement already satisfied: PyYAML>=3.10 in c:\\users\\alima\\anaconda3\\lib\\site-packages (from apispec[yaml]<4,>=3.3->flask-appbuilder==3.4.5->apache-airflow[gcp,postgres,telegram]) (5.4.1)\n",
      "Requirement already satisfied: inflection<0.6,>=0.3.1 in c:\\users\\alima\\anaconda3\\lib\\site-packages (from connexion[flask,swagger-ui]>=2.10.0->apache-airflow[gcp,postgres,telegram]) (0.5.1)\n",
      "Requirement already satisfied: requests<3,>=2.9.1 in c:\\users\\alima\\anaconda3\\lib\\site-packages (from connexion[flask,swagger-ui]>=2.10.0->apache-airflow[gcp,postgres,telegram]) (2.26.0)\n",
      "Requirement already satisfied: clickclick<21,>=1.2 in c:\\users\\alima\\anaconda3\\lib\\site-packages (from connexion[flask,swagger-ui]>=2.10.0->apache-airflow[gcp,postgres,telegram]) (20.10.2)\n",
      "Requirement already satisfied: swagger-ui-bundle<0.1,>=0.0.2 in c:\\users\\alima\\anaconda3\\lib\\site-packages (from connexion[flask,swagger-ui]>=2.10.0->apache-airflow[gcp,postgres,telegram]) (0.0.9)\n",
      "Requirement already satisfied: cffi>=1.12 in c:\\users\\alima\\anaconda3\\lib\\site-packages (from cryptography>=0.9.3->apache-airflow[gcp,postgres,telegram]) (1.14.6)\n",
      "Requirement already satisfied: pycparser in c:\\users\\alima\\anaconda3\\lib\\site-packages (from cffi>=1.12->cryptography>=0.9.3->apache-airflow[gcp,postgres,telegram]) (2.20)\n",
      "Requirement already satisfied: wrapt<2,>=1.10 in c:\\users\\alima\\anaconda3\\lib\\site-packages (from deprecated>=1.2.13->apache-airflow[gcp,postgres,telegram]) (1.12.1)\n",
      "Requirement already satisfied: idna>=2.0.0 in c:\\users\\alima\\anaconda3\\lib\\site-packages (from email-validator<2,>=1.0.5->flask-appbuilder==3.4.5->apache-airflow[gcp,postgres,telegram]) (3.2)\n",
      "Requirement already satisfied: dnspython>=1.15.0 in c:\\users\\alima\\anaconda3\\lib\\site-packages (from email-validator<2,>=1.0.5->flask-appbuilder==3.4.5->apache-airflow[gcp,postgres,telegram]) (2.2.1)\n",
      "Requirement already satisfied: Babel>=2.3 in c:\\users\\alima\\anaconda3\\lib\\site-packages (from Flask-Babel<3,>=1->flask-appbuilder==3.4.5->apache-airflow[gcp,postgres,telegram]) (2.9.1)\n",
      "Requirement already satisfied: pytz in c:\\users\\alima\\anaconda3\\lib\\site-packages (from Flask-Babel<3,>=1->flask-appbuilder==3.4.5->apache-airflow[gcp,postgres,telegram]) (2021.3)\n",
      "Requirement already satisfied: six in c:\\users\\alima\\anaconda3\\lib\\site-packages (from Flask-JWT-Extended<4,>=3.18->flask-appbuilder==3.4.5->apache-airflow[gcp,postgres,telegram]) (1.16.0)\n",
      "Requirement already satisfied: python3-openid>=2.0 in c:\\users\\alima\\anaconda3\\lib\\site-packages (from Flask-OpenID<2,>=1.2.5->flask-appbuilder==3.4.5->apache-airflow[gcp,postgres,telegram]) (3.2.0)\n",
      "Requirement already satisfied: cachelib in c:\\users\\alima\\anaconda3\\lib\\site-packages (from flask-session<=0.4.0,>=0.3.1->apache-airflow[gcp,postgres,telegram]) (0.6.0)\n",
      "Requirement already satisfied: setuptools>=3.0 in c:\\users\\alima\\anaconda3\\lib\\site-packages (from gunicorn>=20.1.0->apache-airflow[gcp,postgres,telegram]) (58.0.4)\n",
      "Requirement already satisfied: pyrsistent>=0.14.0 in c:\\users\\alima\\anaconda3\\lib\\site-packages (from jsonschema<5.0,>=3.2.0->apache-airflow[gcp,postgres,telegram]) (0.18.0)\n",
      "Requirement already satisfied: importlib-metadata>=4.4 in c:\\users\\alima\\anaconda3\\lib\\site-packages (from markdown>=3.0->apache-airflow[gcp,postgres,telegram]) (4.8.1)\n",
      "Requirement already satisfied: zipp>=0.5 in c:\\users\\alima\\anaconda3\\lib\\site-packages (from importlib-metadata>=4.4->markdown>=3.0->apache-airflow[gcp,postgres,telegram]) (3.6.0)\n",
      "Requirement already satisfied: pyparsing>=2.0.2 in c:\\users\\alima\\anaconda3\\lib\\site-packages (from packaging>=14.0->apache-airflow[gcp,postgres,telegram]) (3.0.4)\n",
      "Requirement already satisfied: pytzdata>=2020.1 in c:\\users\\alima\\anaconda3\\lib\\site-packages (from pendulum>=2.0->apache-airflow[gcp,postgres,telegram]) (2020.1)\n",
      "Requirement already satisfied: docutils in c:\\users\\alima\\anaconda3\\lib\\site-packages (from python-daemon>=2.2.4->apache-airflow[gcp,postgres,telegram]) (0.17.1)\n",
      "Requirement already satisfied: text-unidecode>=1.3 in c:\\users\\alima\\anaconda3\\lib\\site-packages (from python-slugify>=5.0->apache-airflow[gcp,postgres,telegram]) (1.3)\n",
      "Requirement already satisfied: defusedxml in c:\\users\\alima\\anaconda3\\lib\\site-packages (from python3-openid>=2.0->Flask-OpenID<2,>=1.2.5->flask-appbuilder==3.4.5->apache-airflow[gcp,postgres,telegram]) (0.7.1)\n",
      "Requirement already satisfied: urllib3<1.27,>=1.21.1 in c:\\users\\alima\\anaconda3\\lib\\site-packages (from requests<3,>=2.9.1->connexion[flask,swagger-ui]>=2.10.0->apache-airflow[gcp,postgres,telegram]) (1.26.7)\n",
      "Requirement already satisfied: certifi>=2017.4.17 in c:\\users\\alima\\anaconda3\\lib\\site-packages (from requests<3,>=2.9.1->connexion[flask,swagger-ui]>=2.10.0->apache-airflow[gcp,postgres,telegram]) (2021.10.8)\n",
      "Requirement already satisfied: charset-normalizer~=2.0.0 in c:\\users\\alima\\anaconda3\\lib\\site-packages (from requests<3,>=2.9.1->connexion[flask,swagger-ui]>=2.10.0->apache-airflow[gcp,postgres,telegram]) (2.0.4)\n",
      "Requirement already satisfied: commonmark<0.10.0,>=0.9.0 in c:\\users\\alima\\anaconda3\\lib\\site-packages (from rich>=12.3.0->apache-airflow[gcp,postgres,telegram]) (0.9.1)\n",
      "Requirement already satisfied: greenlet!=0.4.17 in c:\\users\\alima\\anaconda3\\lib\\site-packages (from sqlalchemy<1.4.10,>=1.4->apache-airflow[gcp,postgres,telegram]) (1.1.1)\n",
      "Requirement already satisfied: google-cloud-translate<2.0.0,>=1.5.0 in c:\\users\\alima\\anaconda3\\lib\\site-packages (from apache-airflow-providers-google->apache-airflow[gcp,postgres,telegram]) (1.7.1)\n",
      "Requirement already satisfied: json-merge-patch>=0.2 in c:\\users\\alima\\anaconda3\\lib\\site-packages (from apache-airflow-providers-google->apache-airflow[gcp,postgres,telegram]) (0.2)\n",
      "Requirement already satisfied: sqlalchemy-bigquery>=1.2.1 in c:\\users\\alima\\anaconda3\\lib\\site-packages (from apache-airflow-providers-google->apache-airflow[gcp,postgres,telegram]) (1.4.3)\n",
      "Requirement already satisfied: google-cloud-storage<2.0.0,>=1.30 in c:\\users\\alima\\anaconda3\\lib\\site-packages (from apache-airflow-providers-google->apache-airflow[gcp,postgres,telegram]) (1.44.0)\n",
      "Requirement already satisfied: grpcio-gcp>=0.2.2 in c:\\users\\alima\\anaconda3\\lib\\site-packages (from apache-airflow-providers-google->apache-airflow[gcp,postgres,telegram]) (0.2.2)\n",
      "Requirement already satisfied: google-api-core<3.0.0,>=1.25.1 in c:\\users\\alima\\anaconda3\\lib\\site-packages (from apache-airflow-providers-google->apache-airflow[gcp,postgres,telegram]) (2.7.3)\n",
      "Requirement already satisfied: google-cloud-speech<2.0.0,>=0.36.3 in c:\\users\\alima\\anaconda3\\lib\\site-packages (from apache-airflow-providers-google->apache-airflow[gcp,postgres,telegram]) (1.3.3)\n",
      "Requirement already satisfied: google-cloud-bigquery-datatransfer>=3.0.0 in c:\\users\\alima\\anaconda3\\lib\\site-packages (from apache-airflow-providers-google->apache-airflow[gcp,postgres,telegram]) (3.6.1)\n",
      "Requirement already satisfied: google-cloud-spanner<2.0.0,>=1.10.0 in c:\\users\\alima\\anaconda3\\lib\\site-packages (from apache-airflow-providers-google->apache-airflow[gcp,postgres,telegram]) (1.19.2)\n",
      "Requirement already satisfied: google-cloud-workflows<2.0.0,>=0.1.0 in c:\\users\\alima\\anaconda3\\lib\\site-packages (from apache-airflow-providers-google->apache-airflow[gcp,postgres,telegram]) (1.6.1)\n",
      "Requirement already satisfied: google-auth-httplib2>=0.0.1 in c:\\users\\alima\\anaconda3\\lib\\site-packages (from apache-airflow-providers-google->apache-airflow[gcp,postgres,telegram]) (0.1.0)\n",
      "Requirement already satisfied: google-api-python-client<2.0.0,>=1.6.0 in c:\\users\\alima\\anaconda3\\lib\\site-packages (from apache-airflow-providers-google->apache-airflow[gcp,postgres,telegram]) (1.12.11)\n",
      "Requirement already satisfied: google-cloud-language<2.0.0,>=1.1.1 in c:\\users\\alima\\anaconda3\\lib\\site-packages (from apache-airflow-providers-google->apache-airflow[gcp,postgres,telegram]) (1.3.1)\n",
      "Requirement already satisfied: google-cloud-dataplex>=0.1.0 in c:\\users\\alima\\anaconda3\\lib\\site-packages (from apache-airflow-providers-google->apache-airflow[gcp,postgres,telegram]) (1.0.0)\n"
     ]
    },
    {
     "name": "stdout",
     "output_type": "stream",
     "text": [
      "Requirement already satisfied: google-cloud-pubsub>=2.0.0 in c:\\users\\alima\\anaconda3\\lib\\site-packages (from apache-airflow-providers-google->apache-airflow[gcp,postgres,telegram]) (2.12.1)\n",
      "Requirement already satisfied: google-cloud-logging>=2.1.1 in c:\\users\\alima\\anaconda3\\lib\\site-packages (from apache-airflow-providers-google->apache-airflow[gcp,postgres,telegram]) (3.0.0)\n",
      "Requirement already satisfied: PyOpenSSL in c:\\users\\alima\\anaconda3\\lib\\site-packages (from apache-airflow-providers-google->apache-airflow[gcp,postgres,telegram]) (21.0.0)\n",
      "Requirement already satisfied: google-cloud-tasks>=2.0.0 in c:\\users\\alima\\anaconda3\\lib\\site-packages (from apache-airflow-providers-google->apache-airflow[gcp,postgres,telegram]) (2.9.0)\n",
      "Requirement already satisfied: google-cloud-monitoring>=2.0.0 in c:\\users\\alima\\anaconda3\\lib\\site-packages (from apache-airflow-providers-google->apache-airflow[gcp,postgres,telegram]) (2.9.1)\n",
      "Requirement already satisfied: google-cloud-memcache>=0.2.0 in c:\\users\\alima\\anaconda3\\lib\\site-packages (from apache-airflow-providers-google->apache-airflow[gcp,postgres,telegram]) (1.3.1)\n",
      "Requirement already satisfied: pandas-gbq in c:\\users\\alima\\anaconda3\\lib\\site-packages (from apache-airflow-providers-google->apache-airflow[gcp,postgres,telegram]) (0.17.4)\n",
      "Requirement already satisfied: google-cloud-videointelligence<2.0.0,>=1.7.0 in c:\\users\\alima\\anaconda3\\lib\\site-packages (from apache-airflow-providers-google->apache-airflow[gcp,postgres,telegram]) (1.16.2)\n",
      "Requirement already satisfied: google-cloud-os-login>=2.0.0 in c:\\users\\alima\\anaconda3\\lib\\site-packages (from apache-airflow-providers-google->apache-airflow[gcp,postgres,telegram]) (2.6.1)\n",
      "Requirement already satisfied: google-cloud-secret-manager<2.0.0,>=0.2.0 in c:\\users\\alima\\anaconda3\\lib\\site-packages (from apache-airflow-providers-google->apache-airflow[gcp,postgres,telegram]) (1.0.1)\n",
      "Requirement already satisfied: google-cloud-kms>=2.0.0 in c:\\users\\alima\\anaconda3\\lib\\site-packages (from apache-airflow-providers-google->apache-airflow[gcp,postgres,telegram]) (2.11.1)\n",
      "Requirement already satisfied: google-cloud-automl>=2.1.0 in c:\\users\\alima\\anaconda3\\lib\\site-packages (from apache-airflow-providers-google->apache-airflow[gcp,postgres,telegram]) (2.7.2)\n",
      "Requirement already satisfied: google-cloud-container<2.0.0,>=0.1.1 in c:\\users\\alima\\anaconda3\\lib\\site-packages (from apache-airflow-providers-google->apache-airflow[gcp,postgres,telegram]) (1.0.2)\n",
      "Requirement already satisfied: google-cloud-dlp<2.0.0,>=0.11.0 in c:\\users\\alima\\anaconda3\\lib\\site-packages (from apache-airflow-providers-google->apache-airflow[gcp,postgres,telegram]) (1.0.1)\n",
      "Requirement already satisfied: google-cloud-vision<2.0.0,>=0.35.2 in c:\\users\\alima\\anaconda3\\lib\\site-packages (from apache-airflow-providers-google->apache-airflow[gcp,postgres,telegram]) (1.0.1)\n",
      "Requirement already satisfied: pandas>=0.17.1 in c:\\users\\alima\\anaconda3\\lib\\site-packages (from apache-airflow-providers-google->apache-airflow[gcp,postgres,telegram]) (1.3.4)\n",
      "Requirement already satisfied: google-cloud-redis>=2.0.0 in c:\\users\\alima\\anaconda3\\lib\\site-packages (from apache-airflow-providers-google->apache-airflow[gcp,postgres,telegram]) (2.8.0)\n",
      "Requirement already satisfied: google-cloud-build>=3.0.0 in c:\\users\\alima\\anaconda3\\lib\\site-packages (from apache-airflow-providers-google->apache-airflow[gcp,postgres,telegram]) (3.8.2)\n",
      "Requirement already satisfied: looker-sdk>=22.2.0 in c:\\users\\alima\\anaconda3\\lib\\site-packages (from apache-airflow-providers-google->apache-airflow[gcp,postgres,telegram]) (22.4.0)\n",
      "Requirement already satisfied: google-cloud-bigtable<2.0.0,>=1.0.0 in c:\\users\\alima\\anaconda3\\lib\\site-packages (from apache-airflow-providers-google->apache-airflow[gcp,postgres,telegram]) (1.7.1)\n",
      "Requirement already satisfied: google-cloud-orchestration-airflow<2.0.0,>=1.0.0 in c:\\users\\alima\\anaconda3\\lib\\site-packages (from apache-airflow-providers-google->apache-airflow[gcp,postgres,telegram]) (1.3.1)\n",
      "Requirement already satisfied: google-auth>=1.0.0 in c:\\users\\alima\\anaconda3\\lib\\site-packages (from apache-airflow-providers-google->apache-airflow[gcp,postgres,telegram]) (2.6.6)\n",
      "Requirement already satisfied: google-cloud-aiplatform<2.0.0,>=1.7.1 in c:\\users\\alima\\anaconda3\\lib\\site-packages (from apache-airflow-providers-google->apache-airflow[gcp,postgres,telegram]) (1.13.0)\n",
      "Requirement already satisfied: google-cloud-dataproc-metastore<2.0.0,>=1.2.0 in c:\\users\\alima\\anaconda3\\lib\\site-packages (from apache-airflow-providers-google->apache-airflow[gcp,postgres,telegram]) (1.5.0)\n",
      "Requirement already satisfied: google-cloud-texttospeech<2.0.0,>=0.4.0 in c:\\users\\alima\\anaconda3\\lib\\site-packages (from apache-airflow-providers-google->apache-airflow[gcp,postgres,telegram]) (1.0.2)\n",
      "Requirement already satisfied: google-cloud-dataproc>=3.1.0 in c:\\users\\alima\\anaconda3\\lib\\site-packages (from apache-airflow-providers-google->apache-airflow[gcp,postgres,telegram]) (4.0.2)\n",
      "Requirement already satisfied: google-ads<14.0.1,>=12.0.0 in c:\\users\\alima\\anaconda3\\lib\\site-packages (from apache-airflow-providers-google->apache-airflow[gcp,postgres,telegram]) (14.0.0)\n",
      "Requirement already satisfied: google-cloud-datacatalog>=3.0.0 in c:\\users\\alima\\anaconda3\\lib\\site-packages (from apache-airflow-providers-google->apache-airflow[gcp,postgres,telegram]) (3.7.1)\n",
      "Requirement already satisfied: googleapis-common-protos<2.0.0,>=1.5.8 in c:\\users\\alima\\anaconda3\\lib\\site-packages (from google-ads<14.0.1,>=12.0.0->apache-airflow-providers-google->apache-airflow[gcp,postgres,telegram]) (1.56.1)\n",
      "Requirement already satisfied: nox==2020.12.31 in c:\\users\\alima\\anaconda3\\lib\\site-packages (from google-ads<14.0.1,>=12.0.0->apache-airflow-providers-google->apache-airflow[gcp,postgres,telegram]) (2020.12.31)\n",
      "Requirement already satisfied: grpcio<2.0.0,>=1.38.1 in c:\\users\\alima\\anaconda3\\lib\\site-packages (from google-ads<14.0.1,>=12.0.0->apache-airflow-providers-google->apache-airflow[gcp,postgres,telegram]) (1.46.1)\n",
      "Requirement already satisfied: proto-plus==1.18.1 in c:\\users\\alima\\anaconda3\\lib\\site-packages (from google-ads<14.0.1,>=12.0.0->apache-airflow-providers-google->apache-airflow[gcp,postgres,telegram]) (1.18.1)\n",
      "Requirement already satisfied: google-auth-oauthlib<1.0.0,>=0.3.0 in c:\\users\\alima\\anaconda3\\lib\\site-packages (from google-ads<14.0.1,>=12.0.0->apache-airflow-providers-google->apache-airflow[gcp,postgres,telegram]) (0.4.6)\n",
      "Requirement already satisfied: virtualenv>=14.0.0 in c:\\users\\alima\\anaconda3\\lib\\site-packages (from nox==2020.12.31->google-ads<14.0.1,>=12.0.0->apache-airflow-providers-google->apache-airflow[gcp,postgres,telegram]) (20.14.1)\n",
      "Requirement already satisfied: py<2.0.0,>=1.4.0 in c:\\users\\alima\\anaconda3\\lib\\site-packages (from nox==2020.12.31->google-ads<14.0.1,>=12.0.0->apache-airflow-providers-google->apache-airflow[gcp,postgres,telegram]) (1.10.0)\n",
      "Requirement already satisfied: protobuf>=3.12.0 in c:\\users\\alima\\anaconda3\\lib\\site-packages (from proto-plus==1.18.1->google-ads<14.0.1,>=12.0.0->apache-airflow-providers-google->apache-airflow[gcp,postgres,telegram]) (3.20.0)\n",
      "Requirement already satisfied: httplib2<1dev,>=0.15.0 in c:\\users\\alima\\anaconda3\\lib\\site-packages (from google-api-python-client<2.0.0,>=1.6.0->apache-airflow-providers-google->apache-airflow[gcp,postgres,telegram]) (0.20.4)\n",
      "Requirement already satisfied: uritemplate<4dev,>=3.0.0 in c:\\users\\alima\\anaconda3\\lib\\site-packages (from google-api-python-client<2.0.0,>=1.6.0->apache-airflow-providers-google->apache-airflow[gcp,postgres,telegram]) (3.0.1)\n",
      "Requirement already satisfied: cachetools<6.0,>=2.0.0 in c:\\users\\alima\\anaconda3\\lib\\site-packages (from google-auth>=1.0.0->apache-airflow-providers-google->apache-airflow[gcp,postgres,telegram]) (4.2.2)\n",
      "Requirement already satisfied: pyasn1-modules>=0.2.1 in c:\\users\\alima\\anaconda3\\lib\\site-packages (from google-auth>=1.0.0->apache-airflow-providers-google->apache-airflow[gcp,postgres,telegram]) (0.2.8)\n",
      "Requirement already satisfied: rsa<5,>=3.1.4 in c:\\users\\alima\\anaconda3\\lib\\site-packages (from google-auth>=1.0.0->apache-airflow-providers-google->apache-airflow[gcp,postgres,telegram]) (4.8)\n",
      "Requirement already satisfied: requests-oauthlib>=0.7.0 in c:\\users\\alima\\anaconda3\\lib\\site-packages (from google-auth-oauthlib<1.0.0,>=0.3.0->google-ads<14.0.1,>=12.0.0->apache-airflow-providers-google->apache-airflow[gcp,postgres,telegram]) (1.3.1)\n",
      "Requirement already satisfied: google-cloud-resource-manager<3.0.0dev,>=1.3.3 in c:\\users\\alima\\anaconda3\\lib\\site-packages (from google-cloud-aiplatform<2.0.0,>=1.7.1->apache-airflow-providers-google->apache-airflow[gcp,postgres,telegram]) (1.4.1)\n",
      "Requirement already satisfied: google-cloud-bigquery<3.0.0dev,>=1.15.0 in c:\\users\\alima\\anaconda3\\lib\\site-packages (from google-cloud-aiplatform<2.0.0,>=1.7.1->apache-airflow-providers-google->apache-airflow[gcp,postgres,telegram]) (2.34.3)\n",
      "Requirement already satisfied: grpcio-status<2.0dev,>=1.33.2 in c:\\users\\alima\\anaconda3\\lib\\site-packages (from google-api-core<3.0.0,>=1.25.1->apache-airflow-providers-google->apache-airflow[gcp,postgres,telegram]) (1.46.1)\n",
      "Requirement already satisfied: google-cloud-core<3.0.0dev,>=1.4.1 in c:\\users\\alima\\anaconda3\\lib\\site-packages (from google-cloud-bigquery<3.0.0dev,>=1.15.0->google-cloud-aiplatform<2.0.0,>=1.7.1->apache-airflow-providers-google->apache-airflow[gcp,postgres,telegram]) (2.3.0)\n",
      "Requirement already satisfied: google-resumable-media<3.0dev,>=0.6.0 in c:\\users\\alima\\anaconda3\\lib\\site-packages (from google-cloud-bigquery<3.0.0dev,>=1.15.0->google-cloud-aiplatform<2.0.0,>=1.7.1->apache-airflow-providers-google->apache-airflow[gcp,postgres,telegram]) (2.3.2)\n",
      "Requirement already satisfied: grpc-google-iam-v1<0.13dev,>=0.12.3 in c:\\users\\alima\\anaconda3\\lib\\site-packages (from google-cloud-bigtable<2.0.0,>=1.0.0->apache-airflow-providers-google->apache-airflow[gcp,postgres,telegram]) (0.12.4)\n",
      "Requirement already satisfied: google-cloud-audit-log<1.0.0dev,>=0.1.0 in c:\\users\\alima\\anaconda3\\lib\\site-packages (from google-cloud-logging>=2.1.1->apache-airflow-providers-google->apache-airflow[gcp,postgres,telegram]) (0.2.0)\n",
      "Requirement already satisfied: google-cloud-appengine-logging<2.0.0dev,>=0.1.0 in c:\\users\\alima\\anaconda3\\lib\\site-packages (from google-cloud-logging>=2.1.1->apache-airflow-providers-google->apache-airflow[gcp,postgres,telegram]) (1.1.1)\n",
      "Requirement already satisfied: google-crc32c<2.0dev,>=1.0 in c:\\users\\alima\\anaconda3\\lib\\site-packages (from google-resumable-media<3.0dev,>=0.6.0->google-cloud-bigquery<3.0.0dev,>=1.15.0->google-cloud-aiplatform<2.0.0,>=1.7.1->apache-airflow-providers-google->apache-airflow[gcp,postgres,telegram]) (1.3.0)\n",
      "Requirement already satisfied: numpy>=1.17.3 in c:\\users\\alima\\anaconda3\\lib\\site-packages (from pandas>=0.17.1->apache-airflow-providers-google->apache-airflow[gcp,postgres,telegram]) (1.20.3)\n",
      "Requirement already satisfied: pyasn1<0.5.0,>=0.4.6 in c:\\users\\alima\\anaconda3\\lib\\site-packages (from pyasn1-modules>=0.2.1->google-auth>=1.0.0->apache-airflow-providers-google->apache-airflow[gcp,postgres,telegram]) (0.4.8)\n",
      "Requirement already satisfied: oauthlib>=3.0.0 in c:\\users\\alima\\anaconda3\\lib\\site-packages (from requests-oauthlib>=0.7.0->google-auth-oauthlib<1.0.0,>=0.3.0->google-ads<14.0.1,>=12.0.0->apache-airflow-providers-google->apache-airflow[gcp,postgres,telegram]) (3.2.0)\n",
      "Requirement already satisfied: pyarrow<7.0dev,>=3.0.0 in c:\\users\\alima\\anaconda3\\lib\\site-packages (from sqlalchemy-bigquery>=1.2.1->apache-airflow-providers-google->apache-airflow[gcp,postgres,telegram]) (6.0.1)\n",
      "Requirement already satisfied: google-cloud-bigquery-storage<3.0.0dev,>=2.0.0 in c:\\users\\alima\\anaconda3\\lib\\site-packages (from sqlalchemy-bigquery>=1.2.1->apache-airflow-providers-google->apache-airflow[gcp,postgres,telegram]) (2.13.1)\n",
      "Requirement already satisfied: future in c:\\users\\alima\\anaconda3\\lib\\site-packages (from sqlalchemy-bigquery>=1.2.1->apache-airflow-providers-google->apache-airflow[gcp,postgres,telegram]) (0.18.2)\n",
      "Requirement already satisfied: platformdirs<3,>=2 in c:\\users\\alima\\anaconda3\\lib\\site-packages (from virtualenv>=14.0.0->nox==2020.12.31->google-ads<14.0.1,>=12.0.0->apache-airflow-providers-google->apache-airflow[gcp,postgres,telegram]) (2.5.2)\n",
      "Requirement already satisfied: filelock<4,>=3.2 in c:\\users\\alima\\anaconda3\\lib\\site-packages (from virtualenv>=14.0.0->nox==2020.12.31->google-ads<14.0.1,>=12.0.0->apache-airflow-providers-google->apache-airflow[gcp,postgres,telegram]) (3.3.1)\n",
      "Requirement already satisfied: distlib<1,>=0.3.1 in c:\\users\\alima\\anaconda3\\lib\\site-packages (from virtualenv>=14.0.0->nox==2020.12.31->google-ads<14.0.1,>=12.0.0->apache-airflow-providers-google->apache-airflow[gcp,postgres,telegram]) (0.3.4)\n",
      "Requirement already satisfied: psycopg2-binary>=2.7.4 in c:\\users\\alima\\anaconda3\\lib\\site-packages (from apache-airflow-providers-postgres->apache-airflow[gcp,postgres,telegram]) (2.9.3)\n",
      "Requirement already satisfied: python-telegram-bot>=13.0 in c:\\users\\alima\\anaconda3\\lib\\site-packages (from apache-airflow-providers-telegram->apache-airflow[gcp,postgres,telegram]) (13.11)\n",
      "Requirement already satisfied: APScheduler==3.6.3 in c:\\users\\alima\\anaconda3\\lib\\site-packages (from python-telegram-bot>=13.0->apache-airflow-providers-telegram->apache-airflow[gcp,postgres,telegram]) (3.6.3)\n",
      "Requirement already satisfied: tornado>=6.1 in c:\\users\\alima\\anaconda3\\lib\\site-packages (from python-telegram-bot>=13.0->apache-airflow-providers-telegram->apache-airflow[gcp,postgres,telegram]) (6.1)\n",
      "Requirement already satisfied: tzlocal>=1.2 in c:\\users\\alima\\anaconda3\\lib\\site-packages (from APScheduler==3.6.3->python-telegram-bot>=13.0->apache-airflow-providers-telegram->apache-airflow[gcp,postgres,telegram]) (4.2)\n",
      "Requirement already satisfied: pytz-deprecation-shim in c:\\users\\alima\\anaconda3\\lib\\site-packages (from tzlocal>=1.2->APScheduler==3.6.3->python-telegram-bot>=13.0->apache-airflow-providers-telegram->apache-airflow[gcp,postgres,telegram]) (0.1.0.post0)\n",
      "Requirement already satisfied: tzdata in c:\\users\\alima\\anaconda3\\lib\\site-packages (from tzlocal>=1.2->APScheduler==3.6.3->python-telegram-bot>=13.0->apache-airflow-providers-telegram->apache-airflow[gcp,postgres,telegram]) (2022.1)\n",
      "Requirement already satisfied: sniffio in c:\\users\\alima\\anaconda3\\lib\\site-packages (from httpx->apache-airflow[gcp,postgres,telegram]) (1.2.0)\n",
      "Requirement already satisfied: httpcore<0.15.0,>=0.14.5 in c:\\users\\alima\\anaconda3\\lib\\site-packages (from httpx->apache-airflow[gcp,postgres,telegram]) (0.14.7)\n",
      "Requirement already satisfied: rfc3986[idna2008]<2,>=1.3 in c:\\users\\alima\\anaconda3\\lib\\site-packages (from httpx->apache-airflow[gcp,postgres,telegram]) (1.5.0)\n",
      "Requirement already satisfied: h11<0.13,>=0.11 in c:\\users\\alima\\anaconda3\\lib\\site-packages (from httpcore<0.15.0,>=0.14.5->httpx->apache-airflow[gcp,postgres,telegram]) (0.12.0)\n",
      "Requirement already satisfied: anyio==3.* in c:\\users\\alima\\anaconda3\\lib\\site-packages (from httpcore<0.15.0,>=0.14.5->httpx->apache-airflow[gcp,postgres,telegram]) (3.6.1)\n",
      "Requirement already satisfied: pydata-google-auth in c:\\users\\alima\\anaconda3\\lib\\site-packages (from pandas-gbq->apache-airflow-providers-google->apache-airflow[gcp,postgres,telegram]) (1.4.0)\n",
      "Requirement already satisfied: db-dtypes<2.0.0,>=0.3.1 in c:\\users\\alima\\anaconda3\\lib\\site-packages (from pandas-gbq->apache-airflow-providers-google->apache-airflow[gcp,postgres,telegram]) (1.0.1)\n"
     ]
    }
   ],
   "source": [
    "!pip install apache-airflow\n",
    "\n",
    "!pip install apache-airflow[gcp,postgres,telegram]"
   ]
  },
  {
   "cell_type": "code",
   "execution_count": 22,
   "id": "170a21b1",
   "metadata": {},
   "outputs": [
    {
     "data": {
      "text/plain": [
       "'BMW'"
      ]
     },
     "execution_count": 22,
     "metadata": {},
     "output_type": "execute_result"
    }
   ],
   "source": [
    "\n",
    "coches=pd.read_csv('prueba_viernes_scrapeo3.csv')\n",
    "coches.iloc[0][0]"
   ]
  },
  {
   "cell_type": "code",
   "execution_count": 11,
   "id": "0b292b35",
   "metadata": {},
   "outputs": [
    {
     "name": "stderr",
     "output_type": "stream",
     "text": [
      "WARNING:root:OSError while attempting to symlink the latest log directory\n"
     ]
    },
    {
     "data": {
      "text/html": [
       "<pre style=\"white-space:pre;overflow-x:auto;line-height:normal;font-family:Menlo,'DejaVu Sans Mono',consolas,'Courier New',monospace\"><span style=\"color: #808000; text-decoration-color: #808000; font-weight: bold\">C:\\Users\\alima\\AppData\\Local\\Temp/ipykernel_1724/</span><span style=\"color: #808000; text-decoration-color: #808000; font-weight: bold\">86142749.</span><span style=\"color: #808000; text-decoration-color: #808000; font-weight: bold\">py:</span><span style=\"color: #808000; text-decoration-color: #808000; font-weight: bold\">2</span><span style=\"color: #808000; text-decoration-color: #808000; font-weight: bold\"> DeprecationWarning</span><span style=\"color: #808000; text-decoration-color: #808000\">: This module is deprecated. Please use `airflow.operators.empty`.</span>\n",
       "</pre>\n"
      ],
      "text/plain": [
       "\u001b[1;33mC:\\Users\\alima\\AppData\\Local\\Temp/ipykernel_1724/\u001b[0m\u001b[1;33m86142749.\u001b[0m\u001b[1;33mpy:\u001b[0m\u001b[1;33m2\u001b[0m\u001b[1;33m DeprecationWarning\u001b[0m\u001b[33m: This module is deprecated. Please use `airflow.operators.empty`.\u001b[0m\n"
      ]
     },
     "metadata": {},
     "output_type": "display_data"
    }
   ],
   "source": [
    "from airflow import DAG\n",
    "from airflow.operators.dummy import DummyOperator\n",
    "from airflow.operators.python import PythonOperator\n",
    "import os\n",
    "\n",
    "from datetime import datetime, timedelta"
   ]
  },
  {
   "cell_type": "code",
   "execution_count": 15,
   "id": "c17ce09c",
   "metadata": {
    "scrolled": true
   },
   "outputs": [
    {
     "name": "stderr",
     "output_type": "stream",
     "text": [
      "WARNING:root:OSError while attempting to symlink the latest log directory\n",
      "Traceback (most recent call last):\n",
      "  File \"C:\\Users\\alima\\anaconda3\\lib\\runpy.py\", line 197, in _run_module_as_main\n",
      "    return _run_code(code, main_globals, None,\n",
      "  File \"C:\\Users\\alima\\anaconda3\\lib\\runpy.py\", line 87, in _run_code\n",
      "    exec(code, run_globals)\n",
      "  File \"C:\\Users\\alima\\anaconda3\\Scripts\\airflow.exe\\__main__.py\", line 7, in <module>\n",
      "  File \"C:\\Users\\alima\\anaconda3\\lib\\site-packages\\airflow\\__main__.py\", line 38, in main\n",
      "    args.func(args)\n",
      "  File \"C:\\Users\\alima\\anaconda3\\lib\\site-packages\\airflow\\cli\\cli_parser.py\", line 50, in command\n",
      "    func = import_string(import_path)\n",
      "  File \"C:\\Users\\alima\\anaconda3\\lib\\site-packages\\airflow\\utils\\module_loading.py\", line 32, in import_string\n",
      "    module = import_module(module_path)\n",
      "  File \"C:\\Users\\alima\\anaconda3\\lib\\importlib\\__init__.py\", line 127, in import_module\n",
      "    return _bootstrap._gcd_import(name[level:], package, level)\n",
      "  File \"<frozen importlib._bootstrap>\", line 1030, in _gcd_import\n",
      "  File \"<frozen importlib._bootstrap>\", line 1007, in _find_and_load\n",
      "  File \"<frozen importlib._bootstrap>\", line 986, in _find_and_load_unlocked\n",
      "  File \"<frozen importlib._bootstrap>\", line 680, in _load_unlocked\n",
      "  File \"<frozen importlib._bootstrap_external>\", line 850, in exec_module\n",
      "  File \"<frozen importlib._bootstrap>\", line 228, in _call_with_frames_removed\n",
      "  File \"C:\\Users\\alima\\anaconda3\\lib\\site-packages\\airflow\\cli\\commands\\user_command.py\", line 33, in <module>\n",
      "    from airflow.www.app import cached_app\n",
      "  File \"C:\\Users\\alima\\anaconda3\\lib\\site-packages\\airflow\\www\\app.py\", line 43, in <module>\n",
      "    from airflow.www.extensions.init_views import (\n",
      "  File \"C:\\Users\\alima\\anaconda3\\lib\\site-packages\\airflow\\www\\extensions\\init_views.py\", line 28, in <module>\n",
      "    from airflow.www.views import lazy_add_provider_discovered_options_to_connection_form\n",
      "  File \"C:\\Users\\alima\\anaconda3\\lib\\site-packages\\airflow\\www\\views.py\", line 130, in <module>\n",
      "    from airflow.www import auth, utils as wwwutils\n",
      "  File \"C:\\Users\\alima\\anaconda3\\lib\\site-packages\\airflow\\www\\utils.py\", line 24, in <module>\n",
      "    import markdown\n",
      "  File \"C:\\Users\\alima\\anaconda3\\lib\\site-packages\\markdown\\__init__.py\", line 29, in <module>\n",
      "    from .core import Markdown, markdown, markdownFromFile  # noqa: E402\n",
      "  File \"C:\\Users\\alima\\anaconda3\\lib\\site-packages\\markdown\\core.py\", line 26, in <module>\n",
      "    from . import util\n",
      "  File \"C:\\Users\\alima\\anaconda3\\lib\\site-packages\\markdown\\util.py\", line 88, in <module>\n",
      "    INSTALLED_EXTENSIONS = metadata.entry_points(group='markdown.extensions')\n",
      "  File \"C:\\Users\\alima\\anaconda3\\lib\\site-packages\\importlib_metadata\\__init__.py\", line 1019, in entry_points\n",
      "    return SelectableGroups.load(eps).select(**params)\n",
      "  File \"C:\\Users\\alima\\anaconda3\\lib\\site-packages\\importlib_metadata\\__init__.py\", line 472, in load\n",
      "    ordered = sorted(eps, key=by_group)\n",
      "  File \"C:\\Users\\alima\\anaconda3\\lib\\site-packages\\importlib_metadata\\__init__.py\", line 1016, in <genexpr>\n",
      "    eps = itertools.chain.from_iterable(\n",
      "  File \"C:\\Users\\alima\\anaconda3\\lib\\site-packages\\importlib_metadata\\_itertools.py\", line 16, in unique_everseen\n",
      "    k = key(element)\n",
      "  File \"C:\\Users\\alima\\anaconda3\\lib\\site-packages\\importlib_metadata\\__init__.py\", line 951, in _normalized_name\n",
      "    return self._name_from_stem(stem) or super()._normalized_name\n",
      "  File \"C:\\Users\\alima\\anaconda3\\lib\\site-packages\\importlib_metadata\\__init__.py\", line 635, in _normalized_name\n",
      "    return Prepared.normalize(self.name)\n",
      "  File \"C:\\Users\\alima\\anaconda3\\lib\\site-packages\\importlib_metadata\\__init__.py\", line 875, in normalize\n",
      "    return re.sub(r\"[-_.]+\", \"-\", name).lower().replace('-', '_')\n",
      "  File \"C:\\Users\\alima\\anaconda3\\lib\\re.py\", line 210, in sub\n",
      "    return _compile(pattern, flags).sub(repl, string, count)\n",
      "TypeError: expected string or bytes-like object\n"
     ]
    }
   ],
   "source": [
    "!airflow users create -r Admin -u adrian -e adrianpradomart@gmail.com -p password -f adrian -l prado"
   ]
  },
  {
   "cell_type": "code",
   "execution_count": 16,
   "id": "c6fcc9c5",
   "metadata": {},
   "outputs": [
    {
     "name": "stdout",
     "output_type": "stream",
     "text": [
      "DB: sqlite:///C:\\Users\\alima/airflow/airflow.db\n",
      "[\u001b[34m2022-05-16 15:52:56,554\u001b[0m] {\u001b[34mdb.py:\u001b[0m1410} INFO\u001b[0m - Creating tables\u001b[0m\n"
     ]
    },
    {
     "name": "stderr",
     "output_type": "stream",
     "text": [
      "WARNING:root:OSError while attempting to symlink the latest log directory\n",
      "INFO  [alembic.runtime.migration] Context impl SQLiteImpl.\n",
      "INFO  [alembic.runtime.migration] Will assume non-transactional DDL.\n",
      "Traceback (most recent call last):\n",
      "  File \"C:\\Users\\alima\\anaconda3\\lib\\runpy.py\", line 197, in _run_module_as_main\n",
      "    return _run_code(code, main_globals, None,\n",
      "  File \"C:\\Users\\alima\\anaconda3\\lib\\runpy.py\", line 87, in _run_code\n",
      "    exec(code, run_globals)\n",
      "  File \"C:\\Users\\alima\\anaconda3\\Scripts\\airflow.exe\\__main__.py\", line 7, in <module>\n",
      "  File \"C:\\Users\\alima\\anaconda3\\lib\\site-packages\\airflow\\__main__.py\", line 38, in main\n",
      "    args.func(args)\n",
      "  File \"C:\\Users\\alima\\anaconda3\\lib\\site-packages\\airflow\\cli\\cli_parser.py\", line 51, in command\n",
      "    return func(*args, **kwargs)\n",
      "  File \"C:\\Users\\alima\\anaconda3\\lib\\site-packages\\airflow\\cli\\commands\\db_command.py\", line 35, in initdb\n",
      "    db.initdb()\n",
      "  File \"C:\\Users\\alima\\anaconda3\\lib\\site-packages\\airflow\\utils\\session.py\", line 71, in wrapper\n",
      "    return func(*args, session=session, **kwargs)\n",
      "  File \"C:\\Users\\alima\\anaconda3\\lib\\site-packages\\airflow\\utils\\db.py\", line 645, in initdb\n",
      "    upgradedb(session=session)\n",
      "  File \"C:\\Users\\alima\\anaconda3\\lib\\site-packages\\airflow\\utils\\session.py\", line 68, in wrapper\n",
      "    return func(*args, **kwargs)\n",
      "  File \"C:\\Users\\alima\\anaconda3\\lib\\site-packages\\airflow\\utils\\db.py\", line 1411, in upgradedb\n",
      "    command.upgrade(config, revision=to_revision or 'heads')\n",
      "  File \"C:\\Users\\alima\\anaconda3\\lib\\site-packages\\alembic\\command.py\", line 320, in upgrade\n",
      "    script.run_env()\n",
      "  File \"C:\\Users\\alima\\anaconda3\\lib\\site-packages\\alembic\\script\\base.py\", line 563, in run_env\n",
      "    util.load_python_file(self.dir, \"env.py\")\n",
      "  File \"C:\\Users\\alima\\anaconda3\\lib\\site-packages\\alembic\\util\\pyfiles.py\", line 92, in load_python_file\n",
      "    module = load_module_py(module_id, path)\n",
      "  File \"C:\\Users\\alima\\anaconda3\\lib\\site-packages\\alembic\\util\\pyfiles.py\", line 108, in load_module_py\n",
      "    spec.loader.exec_module(module)  # type: ignore\n",
      "  File \"<frozen importlib._bootstrap_external>\", line 850, in exec_module\n",
      "  File \"<frozen importlib._bootstrap>\", line 228, in _call_with_frames_removed\n",
      "  File \"C:\\Users\\alima\\anaconda3\\lib\\site-packages\\airflow\\migrations\\env.py\", line 107, in <module>\n",
      "    run_migrations_online()\n",
      "  File \"C:\\Users\\alima\\anaconda3\\lib\\site-packages\\airflow\\migrations\\env.py\", line 101, in run_migrations_online\n",
      "    context.run_migrations()\n",
      "  File \"<string>\", line 8, in run_migrations\n",
      "  File \"C:\\Users\\alima\\anaconda3\\lib\\site-packages\\alembic\\runtime\\environment.py\", line 851, in run_migrations\n",
      "    self.get_context().run_migrations(**kw)\n",
      "  File \"C:\\Users\\alima\\anaconda3\\lib\\site-packages\\alembic\\runtime\\migration.py\", line 608, in run_migrations\n",
      "    for step in self._migrations_fn(heads, self):\n",
      "  File \"C:\\Users\\alima\\anaconda3\\lib\\site-packages\\alembic\\command.py\", line 309, in upgrade\n",
      "    return script._upgrade_revs(revision, rev)\n",
      "  File \"C:\\Users\\alima\\anaconda3\\lib\\site-packages\\alembic\\script\\base.py\", line 439, in _upgrade_revs\n",
      "    for script in reversed(list(revs))\n",
      "  File \"C:\\Users\\alima\\anaconda3\\lib\\site-packages\\alembic\\script\\revision.py\", line 789, in iterate_revisions\n",
      "    revisions, heads = fn(\n",
      "  File \"C:\\Users\\alima\\anaconda3\\lib\\site-packages\\alembic\\script\\revision.py\", line 1389, in _collect_upgrade_revisions\n",
      "    targets: Collection[\"Revision\"] = self._parse_upgrade_target(\n",
      "  File \"C:\\Users\\alima\\anaconda3\\lib\\site-packages\\alembic\\script\\revision.py\", line 1189, in _parse_upgrade_target\n",
      "    return self.get_revisions(target)\n",
      "  File \"C:\\Users\\alima\\anaconda3\\lib\\site-packages\\alembic\\script\\revision.py\", line 527, in get_revisions\n",
      "    resolved_id, branch_label = self._resolve_revision_number(\n",
      "  File \"C:\\Users\\alima\\anaconda3\\lib\\site-packages\\alembic\\script\\revision.py\", line 743, in _resolve_revision_number\n",
      "    self._revision_map\n",
      "  File \"C:\\Users\\alima\\anaconda3\\lib\\site-packages\\sqlalchemy\\util\\langhelpers.py\", line 1093, in __get__\n",
      "    obj.__dict__[self.__name__] = result = self.fget(obj)\n",
      "  File \"C:\\Users\\alima\\anaconda3\\lib\\site-packages\\alembic\\script\\revision.py\", line 189, in _revision_map\n",
      "    for revision in self._generator():\n",
      "  File \"C:\\Users\\alima\\anaconda3\\lib\\site-packages\\alembic\\script\\base.py\", line 136, in _load_revisions\n",
      "    script = Script._from_filename(self, vers, file_)\n",
      "  File \"C:\\Users\\alima\\anaconda3\\lib\\site-packages\\alembic\\script\\base.py\", line 999, in _from_filename\n",
      "    module = util.load_python_file(dir_, filename)\n",
      "  File \"C:\\Users\\alima\\anaconda3\\lib\\site-packages\\alembic\\util\\pyfiles.py\", line 92, in load_python_file\n",
      "    module = load_module_py(module_id, path)\n",
      "  File \"C:\\Users\\alima\\anaconda3\\lib\\site-packages\\alembic\\util\\pyfiles.py\", line 108, in load_module_py\n",
      "    spec.loader.exec_module(module)  # type: ignore\n",
      "  File \"<frozen importlib._bootstrap_external>\", line 850, in exec_module\n",
      "  File \"<frozen importlib._bootstrap>\", line 228, in _call_with_frames_removed\n",
      "  File \"C:\\Users\\alima\\anaconda3\\lib\\site-packages\\airflow\\migrations\\versions\\0074_2c6edca13270_resource_based_permissions.py\", line 29, in <module>\n",
      "    from airflow.www.app import create_app\n",
      "  File \"C:\\Users\\alima\\anaconda3\\lib\\site-packages\\airflow\\www\\app.py\", line 43, in <module>\n",
      "    from airflow.www.extensions.init_views import (\n",
      "  File \"C:\\Users\\alima\\anaconda3\\lib\\site-packages\\airflow\\www\\extensions\\init_views.py\", line 28, in <module>\n",
      "    from airflow.www.views import lazy_add_provider_discovered_options_to_connection_form\n",
      "  File \"C:\\Users\\alima\\anaconda3\\lib\\site-packages\\airflow\\www\\views.py\", line 130, in <module>\n",
      "    from airflow.www import auth, utils as wwwutils\n",
      "  File \"C:\\Users\\alima\\anaconda3\\lib\\site-packages\\airflow\\www\\utils.py\", line 24, in <module>\n",
      "    import markdown\n",
      "  File \"C:\\Users\\alima\\anaconda3\\lib\\site-packages\\markdown\\__init__.py\", line 29, in <module>\n",
      "    from .core import Markdown, markdown, markdownFromFile  # noqa: E402\n",
      "  File \"C:\\Users\\alima\\anaconda3\\lib\\site-packages\\markdown\\core.py\", line 26, in <module>\n",
      "    from . import util\n",
      "  File \"C:\\Users\\alima\\anaconda3\\lib\\site-packages\\markdown\\util.py\", line 88, in <module>\n",
      "    INSTALLED_EXTENSIONS = metadata.entry_points(group='markdown.extensions')\n",
      "  File \"C:\\Users\\alima\\anaconda3\\lib\\site-packages\\importlib_metadata\\__init__.py\", line 1019, in entry_points\n",
      "    return SelectableGroups.load(eps).select(**params)\n",
      "  File \"C:\\Users\\alima\\anaconda3\\lib\\site-packages\\importlib_metadata\\__init__.py\", line 472, in load\n",
      "    ordered = sorted(eps, key=by_group)\n",
      "  File \"C:\\Users\\alima\\anaconda3\\lib\\site-packages\\importlib_metadata\\__init__.py\", line 1016, in <genexpr>\n",
      "    eps = itertools.chain.from_iterable(\n",
      "  File \"C:\\Users\\alima\\anaconda3\\lib\\site-packages\\importlib_metadata\\_itertools.py\", line 16, in unique_everseen\n",
      "    k = key(element)\n",
      "  File \"C:\\Users\\alima\\anaconda3\\lib\\site-packages\\importlib_metadata\\__init__.py\", line 951, in _normalized_name\n",
      "    return self._name_from_stem(stem) or super()._normalized_name\n",
      "  File \"C:\\Users\\alima\\anaconda3\\lib\\site-packages\\importlib_metadata\\__init__.py\", line 635, in _normalized_name\n",
      "    return Prepared.normalize(self.name)\n",
      "  File \"C:\\Users\\alima\\anaconda3\\lib\\site-packages\\importlib_metadata\\__init__.py\", line 875, in normalize\n",
      "    return re.sub(r\"[-_.]+\", \"-\", name).lower().replace('-', '_')\n",
      "  File \"C:\\Users\\alima\\anaconda3\\lib\\re.py\", line 210, in sub\n",
      "    return _compile(pattern, flags).sub(repl, string, count)\n",
      "TypeError: expected string or bytes-like object\n",
      "WARNING:root:OSError while attempting to symlink the latest log directory\n",
      "Traceback (most recent call last):\n",
      "  File \"C:\\Users\\alima\\anaconda3\\lib\\runpy.py\", line 197, in _run_module_as_main\n",
      "    return _run_code(code, main_globals, None,\n",
      "  File \"C:\\Users\\alima\\anaconda3\\lib\\runpy.py\", line 87, in _run_code\n",
      "    exec(code, run_globals)\n",
      "  File \"C:\\Users\\alima\\anaconda3\\Scripts\\airflow.exe\\__main__.py\", line 7, in <module>\n",
      "  File \"C:\\Users\\alima\\anaconda3\\lib\\site-packages\\airflow\\__main__.py\", line 38, in main\n",
      "    args.func(args)\n",
      "  File \"C:\\Users\\alima\\anaconda3\\lib\\site-packages\\airflow\\cli\\cli_parser.py\", line 50, in command\n",
      "    func = import_string(import_path)\n",
      "  File \"C:\\Users\\alima\\anaconda3\\lib\\site-packages\\airflow\\utils\\module_loading.py\", line 32, in import_string\n",
      "    module = import_module(module_path)\n",
      "  File \"C:\\Users\\alima\\anaconda3\\lib\\importlib\\__init__.py\", line 127, in import_module\n",
      "    return _bootstrap._gcd_import(name[level:], package, level)\n",
      "  File \"<frozen importlib._bootstrap>\", line 1030, in _gcd_import\n",
      "  File \"<frozen importlib._bootstrap>\", line 1007, in _find_and_load\n",
      "  File \"<frozen importlib._bootstrap>\", line 986, in _find_and_load_unlocked\n",
      "  File \"<frozen importlib._bootstrap>\", line 680, in _load_unlocked\n",
      "  File \"<frozen importlib._bootstrap_external>\", line 850, in exec_module\n",
      "  File \"<frozen importlib._bootstrap>\", line 228, in _call_with_frames_removed\n",
      "  File \"C:\\Users\\alima\\anaconda3\\lib\\site-packages\\airflow\\cli\\commands\\webserver_command.py\", line 31, in <module>\n",
      "    import daemon\n",
      "  File \"C:\\Users\\alima\\anaconda3\\lib\\site-packages\\daemon\\__init__.py\", line 38, in <module>\n",
      "    from .daemon import DaemonContext\n",
      "  File \"C:\\Users\\alima\\anaconda3\\lib\\site-packages\\daemon\\daemon.py\", line 18, in <module>\n",
      "    import pwd\n",
      "ModuleNotFoundError: No module named 'pwd'\n"
     ]
    },
    {
     "name": "stderr",
     "output_type": "stream",
     "text": [
      "WARNING:root:OSError while attempting to symlink the latest log directory\n",
      "Traceback (most recent call last):\n",
      "  File \"C:\\Users\\alima\\anaconda3\\lib\\runpy.py\", line 197, in _run_module_as_main\n",
      "    return _run_code(code, main_globals, None,\n",
      "  File \"C:\\Users\\alima\\anaconda3\\lib\\runpy.py\", line 87, in _run_code\n",
      "    exec(code, run_globals)\n",
      "  File \"C:\\Users\\alima\\anaconda3\\Scripts\\airflow.exe\\__main__.py\", line 7, in <module>\n",
      "  File \"C:\\Users\\alima\\anaconda3\\lib\\site-packages\\airflow\\__main__.py\", line 38, in main\n",
      "    args.func(args)\n",
      "  File \"C:\\Users\\alima\\anaconda3\\lib\\site-packages\\airflow\\cli\\cli_parser.py\", line 50, in command\n",
      "    func = import_string(import_path)\n",
      "  File \"C:\\Users\\alima\\anaconda3\\lib\\site-packages\\airflow\\utils\\module_loading.py\", line 32, in import_string\n",
      "    module = import_module(module_path)\n",
      "  File \"C:\\Users\\alima\\anaconda3\\lib\\importlib\\__init__.py\", line 127, in import_module\n",
      "    return _bootstrap._gcd_import(name[level:], package, level)\n",
      "  File \"<frozen importlib._bootstrap>\", line 1030, in _gcd_import\n",
      "  File \"<frozen importlib._bootstrap>\", line 1007, in _find_and_load\n",
      "  File \"<frozen importlib._bootstrap>\", line 986, in _find_and_load_unlocked\n",
      "  File \"<frozen importlib._bootstrap>\", line 680, in _load_unlocked\n",
      "  File \"<frozen importlib._bootstrap_external>\", line 850, in exec_module\n",
      "  File \"<frozen importlib._bootstrap>\", line 228, in _call_with_frames_removed\n",
      "  File \"C:\\Users\\alima\\anaconda3\\lib\\site-packages\\airflow\\cli\\commands\\scheduler_command.py\", line 23, in <module>\n",
      "    import daemon\n",
      "  File \"C:\\Users\\alima\\anaconda3\\lib\\site-packages\\daemon\\__init__.py\", line 38, in <module>\n",
      "    from .daemon import DaemonContext\n",
      "  File \"C:\\Users\\alima\\anaconda3\\lib\\site-packages\\daemon\\daemon.py\", line 18, in <module>\n",
      "    import pwd\n",
      "ModuleNotFoundError: No module named 'pwd'\n"
     ]
    }
   ],
   "source": [
    "#!export AIRFLOW_HOME=~/airflow\n",
    "\n",
    "# initialize the database\n",
    "!airflow db init\n",
    "\n",
    "# start the web server, default port is 8080\n",
    "!airflow webserver -p 8080\n",
    "\n",
    "# start the scheduler\n",
    "!airflow scheduler\n"
   ]
  },
  {
   "cell_type": "code",
   "execution_count": 7,
   "id": "8ca20d4d",
   "metadata": {},
   "outputs": [],
   "source": [
    "import pandas as pd"
   ]
  },
  {
   "cell_type": "code",
   "execution_count": 32,
   "id": "584dfe6b",
   "metadata": {},
   "outputs": [
    {
     "name": "stdout",
     "output_type": "stream",
     "text": [
      "Collecting telegram-send\n",
      "  Downloading telegram_send-0.34-py3-none-any.whl (25 kB)\n",
      "Requirement already satisfied: appdirs in c:\\users\\alima\\anaconda3\\lib\\site-packages (from telegram-send) (1.4.4)\n",
      "Requirement already satisfied: colorama in c:\\users\\alima\\anaconda3\\lib\\site-packages (from telegram-send) (0.4.4)\n",
      "Requirement already satisfied: python-telegram-bot>=13.0 in c:\\users\\alima\\anaconda3\\lib\\site-packages (from telegram-send) (13.11)\n",
      "Requirement already satisfied: certifi in c:\\users\\alima\\anaconda3\\lib\\site-packages (from python-telegram-bot>=13.0->telegram-send) (2021.10.8)\n",
      "Requirement already satisfied: APScheduler==3.6.3 in c:\\users\\alima\\anaconda3\\lib\\site-packages (from python-telegram-bot>=13.0->telegram-send) (3.6.3)\n",
      "Requirement already satisfied: tornado>=6.1 in c:\\users\\alima\\anaconda3\\lib\\site-packages (from python-telegram-bot>=13.0->telegram-send) (6.1)\n",
      "Requirement already satisfied: pytz>=2018.6 in c:\\users\\alima\\anaconda3\\lib\\site-packages (from python-telegram-bot>=13.0->telegram-send) (2021.3)\n",
      "Requirement already satisfied: cachetools==4.2.2 in c:\\users\\alima\\anaconda3\\lib\\site-packages (from python-telegram-bot>=13.0->telegram-send) (4.2.2)\n",
      "Requirement already satisfied: six>=1.4.0 in c:\\users\\alima\\anaconda3\\lib\\site-packages (from APScheduler==3.6.3->python-telegram-bot>=13.0->telegram-send) (1.16.0)\n",
      "Requirement already satisfied: tzlocal>=1.2 in c:\\users\\alima\\anaconda3\\lib\\site-packages (from APScheduler==3.6.3->python-telegram-bot>=13.0->telegram-send) (4.2)\n",
      "Requirement already satisfied: setuptools>=0.7 in c:\\users\\alima\\anaconda3\\lib\\site-packages (from APScheduler==3.6.3->python-telegram-bot>=13.0->telegram-send) (58.0.4)\n",
      "Requirement already satisfied: tzdata in c:\\users\\alima\\anaconda3\\lib\\site-packages (from tzlocal>=1.2->APScheduler==3.6.3->python-telegram-bot>=13.0->telegram-send) (2022.1)\n",
      "Requirement already satisfied: pytz-deprecation-shim in c:\\users\\alima\\anaconda3\\lib\\site-packages (from tzlocal>=1.2->APScheduler==3.6.3->python-telegram-bot>=13.0->telegram-send) (0.1.0.post0)\n",
      "Installing collected packages: telegram-send\n",
      "Successfully installed telegram-send-0.34\n"
     ]
    }
   ],
   "source": [
    "!pip install telegram-send\n",
    "\n"
   ]
  },
  {
   "cell_type": "code",
   "execution_count": 8,
   "id": "a95ab92f",
   "metadata": {},
   "outputs": [
    {
     "data": {
      "text/plain": [
       "[10]"
      ]
     },
     "execution_count": 8,
     "metadata": {},
     "output_type": "execute_result"
    }
   ],
   "source": [
    "import telegram_send\n",
    "telegram_send.send(messages=[\"Wow that was {easy}!\".format(easy='sergio es un caraculo')])"
   ]
  },
  {
   "cell_type": "code",
   "execution_count": null,
   "id": "00b41494",
   "metadata": {
    "scrolled": true
   },
   "outputs": [],
   "source": [
    "''' leer el csv diario con los anuncios interesantes para pasarlo por un bucle y mandar los diferentes anuncios, puto Bill Gates'''"
   ]
  },
  {
   "cell_type": "code",
   "execution_count": 83,
   "id": "693910f9",
   "metadata": {},
   "outputs": [],
   "source": [
    "telegram_chatid = 672110772 \n",
    "telegram_token = '5384268185:AAGZi1ZOR2a8v_IHGBYyFWwU1lA_QQvUOYE'\n",
    "probando='prueba'\n",
    "tu_cara='e'\n",
    "update_date= pd.to_datetime('today').strftime('%Y-%m-%d')\n",
    "def telegram_bot(probando, tu_cara):\n",
    "    \n",
    "    message =[ '''\n",
    "    anuncio de coche - {update_date} \n",
    "    adrian news News\n",
    "    Anuncio: {anuncio}\n",
    "    Link: {link} \n",
    "    \n",
    "    '''.format(anuncio=probando, link=tu_cara, update_date= pd.to_datetime('today').strftime('%Y-%m-%d'))]\n",
    "    \n",
    " # Send text message\n",
    "    bot_token = telegram_token\n",
    "    bot_chatID = str(telegram_chatid)\n",
    "    send_text = 'https://api.telegram.org/bot'+bot_token+'/sendMessage?chat_id='+bot_chatID+'&parse_mode=Markdown&text='+message\n",
    "    print(send_text)\n",
    "    req.get(send_text)\n",
    "\n"
   ]
  },
  {
   "cell_type": "code",
   "execution_count": 102,
   "id": "ad6ca012",
   "metadata": {},
   "outputs": [
    {
     "name": "stdout",
     "output_type": "stream",
     "text": [
      "0                          Bmw\n",
      "model                    Serie\n",
      "price                     11.9\n",
      "fuel                    Diesel\n",
      "year                      2008\n",
      "kms                    201.000\n",
      "power                      245\n",
      "doors                        2\n",
      "is_professional    Profesional\n",
      "province                Murcia\n",
      "Name: 0, dtype: object\n"
     ]
    }
   ],
   "source": [
    "prueba=pd.read_csv('result.csv')\n",
    "print(prueba.iloc[0])"
   ]
  },
  {
   "cell_type": "code",
   "execution_count": 16,
   "id": "8cd9fba8",
   "metadata": {},
   "outputs": [],
   "source": [
    "def telegram_bot():\n",
    "    fecha=pd.to_datetime('today').strftime('%Y-%m-%d')\n",
    "    prueba=pd.read_csv('scrapeo_bueno{fecha}.csv'.format(fecha=fecha.strftime(\"%y-%m-%d\")))\n",
    "    \n",
    "    message = ['''\n",
    "    \n",
    "    adrian news News\n",
    "    Anuncio: {anuncio}\n",
    "    Link: {link} \n",
    "    \n",
    "    '''.format(anuncio='probando', link='tu_cara')]\n",
    "    \n",
    "    telegram_send.send(messages= [message])"
   ]
  },
  {
   "cell_type": "code",
   "execution_count": 17,
   "id": "ccdff567",
   "metadata": {},
   "outputs": [
    {
     "ename": "FileNotFoundError",
     "evalue": "[Errno 2] No such file or directory: 'scrapeo_bueno22-05-16.csv'",
     "output_type": "error",
     "traceback": [
      "\u001b[1;31m---------------------------------------------------------------------------\u001b[0m",
      "\u001b[1;31mFileNotFoundError\u001b[0m                         Traceback (most recent call last)",
      "\u001b[1;32m~\\AppData\\Local\\Temp/ipykernel_1724/3029598772.py\u001b[0m in \u001b[0;36m<module>\u001b[1;34m\u001b[0m\n\u001b[1;32m----> 1\u001b[1;33m \u001b[0mtelegram_bot\u001b[0m\u001b[1;33m(\u001b[0m\u001b[1;33m)\u001b[0m\u001b[1;33m\u001b[0m\u001b[1;33m\u001b[0m\u001b[0m\n\u001b[0m",
      "\u001b[1;32m~\\AppData\\Local\\Temp/ipykernel_1724/4046191541.py\u001b[0m in \u001b[0;36mtelegram_bot\u001b[1;34m()\u001b[0m\n\u001b[0;32m      1\u001b[0m \u001b[1;32mdef\u001b[0m \u001b[0mtelegram_bot\u001b[0m\u001b[1;33m(\u001b[0m\u001b[1;33m)\u001b[0m\u001b[1;33m:\u001b[0m\u001b[1;33m\u001b[0m\u001b[1;33m\u001b[0m\u001b[0m\n\u001b[0;32m      2\u001b[0m     \u001b[0mfecha\u001b[0m\u001b[1;33m=\u001b[0m\u001b[0mpd\u001b[0m\u001b[1;33m.\u001b[0m\u001b[0mto_datetime\u001b[0m\u001b[1;33m(\u001b[0m\u001b[1;34m'today'\u001b[0m\u001b[1;33m)\u001b[0m\u001b[1;33m\u001b[0m\u001b[1;33m\u001b[0m\u001b[0m\n\u001b[1;32m----> 3\u001b[1;33m     \u001b[0mprueba\u001b[0m\u001b[1;33m=\u001b[0m\u001b[0mpd\u001b[0m\u001b[1;33m.\u001b[0m\u001b[0mread_csv\u001b[0m\u001b[1;33m(\u001b[0m\u001b[1;34m'scrapeo_bueno{fecha}.csv'\u001b[0m\u001b[1;33m.\u001b[0m\u001b[0mformat\u001b[0m\u001b[1;33m(\u001b[0m\u001b[0mfecha\u001b[0m\u001b[1;33m=\u001b[0m\u001b[1;34m'22-05-16'\u001b[0m\u001b[1;33m)\u001b[0m\u001b[1;33m)\u001b[0m\u001b[1;33m\u001b[0m\u001b[1;33m\u001b[0m\u001b[0m\n\u001b[0m\u001b[0;32m      4\u001b[0m \u001b[1;33m\u001b[0m\u001b[0m\n\u001b[0;32m      5\u001b[0m     message = ['''\n",
      "\u001b[1;32m~\\anaconda3\\lib\\site-packages\\pandas\\util\\_decorators.py\u001b[0m in \u001b[0;36mwrapper\u001b[1;34m(*args, **kwargs)\u001b[0m\n\u001b[0;32m    309\u001b[0m                     \u001b[0mstacklevel\u001b[0m\u001b[1;33m=\u001b[0m\u001b[0mstacklevel\u001b[0m\u001b[1;33m,\u001b[0m\u001b[1;33m\u001b[0m\u001b[1;33m\u001b[0m\u001b[0m\n\u001b[0;32m    310\u001b[0m                 )\n\u001b[1;32m--> 311\u001b[1;33m             \u001b[1;32mreturn\u001b[0m \u001b[0mfunc\u001b[0m\u001b[1;33m(\u001b[0m\u001b[1;33m*\u001b[0m\u001b[0margs\u001b[0m\u001b[1;33m,\u001b[0m \u001b[1;33m**\u001b[0m\u001b[0mkwargs\u001b[0m\u001b[1;33m)\u001b[0m\u001b[1;33m\u001b[0m\u001b[1;33m\u001b[0m\u001b[0m\n\u001b[0m\u001b[0;32m    312\u001b[0m \u001b[1;33m\u001b[0m\u001b[0m\n\u001b[0;32m    313\u001b[0m         \u001b[1;32mreturn\u001b[0m \u001b[0mwrapper\u001b[0m\u001b[1;33m\u001b[0m\u001b[1;33m\u001b[0m\u001b[0m\n",
      "\u001b[1;32m~\\anaconda3\\lib\\site-packages\\pandas\\io\\parsers\\readers.py\u001b[0m in \u001b[0;36mread_csv\u001b[1;34m(filepath_or_buffer, sep, delimiter, header, names, index_col, usecols, squeeze, prefix, mangle_dupe_cols, dtype, engine, converters, true_values, false_values, skipinitialspace, skiprows, skipfooter, nrows, na_values, keep_default_na, na_filter, verbose, skip_blank_lines, parse_dates, infer_datetime_format, keep_date_col, date_parser, dayfirst, cache_dates, iterator, chunksize, compression, thousands, decimal, lineterminator, quotechar, quoting, doublequote, escapechar, comment, encoding, encoding_errors, dialect, error_bad_lines, warn_bad_lines, on_bad_lines, delim_whitespace, low_memory, memory_map, float_precision, storage_options)\u001b[0m\n\u001b[0;32m    584\u001b[0m     \u001b[0mkwds\u001b[0m\u001b[1;33m.\u001b[0m\u001b[0mupdate\u001b[0m\u001b[1;33m(\u001b[0m\u001b[0mkwds_defaults\u001b[0m\u001b[1;33m)\u001b[0m\u001b[1;33m\u001b[0m\u001b[1;33m\u001b[0m\u001b[0m\n\u001b[0;32m    585\u001b[0m \u001b[1;33m\u001b[0m\u001b[0m\n\u001b[1;32m--> 586\u001b[1;33m     \u001b[1;32mreturn\u001b[0m \u001b[0m_read\u001b[0m\u001b[1;33m(\u001b[0m\u001b[0mfilepath_or_buffer\u001b[0m\u001b[1;33m,\u001b[0m \u001b[0mkwds\u001b[0m\u001b[1;33m)\u001b[0m\u001b[1;33m\u001b[0m\u001b[1;33m\u001b[0m\u001b[0m\n\u001b[0m\u001b[0;32m    587\u001b[0m \u001b[1;33m\u001b[0m\u001b[0m\n\u001b[0;32m    588\u001b[0m \u001b[1;33m\u001b[0m\u001b[0m\n",
      "\u001b[1;32m~\\anaconda3\\lib\\site-packages\\pandas\\io\\parsers\\readers.py\u001b[0m in \u001b[0;36m_read\u001b[1;34m(filepath_or_buffer, kwds)\u001b[0m\n\u001b[0;32m    480\u001b[0m \u001b[1;33m\u001b[0m\u001b[0m\n\u001b[0;32m    481\u001b[0m     \u001b[1;31m# Create the parser.\u001b[0m\u001b[1;33m\u001b[0m\u001b[1;33m\u001b[0m\u001b[0m\n\u001b[1;32m--> 482\u001b[1;33m     \u001b[0mparser\u001b[0m \u001b[1;33m=\u001b[0m \u001b[0mTextFileReader\u001b[0m\u001b[1;33m(\u001b[0m\u001b[0mfilepath_or_buffer\u001b[0m\u001b[1;33m,\u001b[0m \u001b[1;33m**\u001b[0m\u001b[0mkwds\u001b[0m\u001b[1;33m)\u001b[0m\u001b[1;33m\u001b[0m\u001b[1;33m\u001b[0m\u001b[0m\n\u001b[0m\u001b[0;32m    483\u001b[0m \u001b[1;33m\u001b[0m\u001b[0m\n\u001b[0;32m    484\u001b[0m     \u001b[1;32mif\u001b[0m \u001b[0mchunksize\u001b[0m \u001b[1;32mor\u001b[0m \u001b[0miterator\u001b[0m\u001b[1;33m:\u001b[0m\u001b[1;33m\u001b[0m\u001b[1;33m\u001b[0m\u001b[0m\n",
      "\u001b[1;32m~\\anaconda3\\lib\\site-packages\\pandas\\io\\parsers\\readers.py\u001b[0m in \u001b[0;36m__init__\u001b[1;34m(self, f, engine, **kwds)\u001b[0m\n\u001b[0;32m    809\u001b[0m             \u001b[0mself\u001b[0m\u001b[1;33m.\u001b[0m\u001b[0moptions\u001b[0m\u001b[1;33m[\u001b[0m\u001b[1;34m\"has_index_names\"\u001b[0m\u001b[1;33m]\u001b[0m \u001b[1;33m=\u001b[0m \u001b[0mkwds\u001b[0m\u001b[1;33m[\u001b[0m\u001b[1;34m\"has_index_names\"\u001b[0m\u001b[1;33m]\u001b[0m\u001b[1;33m\u001b[0m\u001b[1;33m\u001b[0m\u001b[0m\n\u001b[0;32m    810\u001b[0m \u001b[1;33m\u001b[0m\u001b[0m\n\u001b[1;32m--> 811\u001b[1;33m         \u001b[0mself\u001b[0m\u001b[1;33m.\u001b[0m\u001b[0m_engine\u001b[0m \u001b[1;33m=\u001b[0m \u001b[0mself\u001b[0m\u001b[1;33m.\u001b[0m\u001b[0m_make_engine\u001b[0m\u001b[1;33m(\u001b[0m\u001b[0mself\u001b[0m\u001b[1;33m.\u001b[0m\u001b[0mengine\u001b[0m\u001b[1;33m)\u001b[0m\u001b[1;33m\u001b[0m\u001b[1;33m\u001b[0m\u001b[0m\n\u001b[0m\u001b[0;32m    812\u001b[0m \u001b[1;33m\u001b[0m\u001b[0m\n\u001b[0;32m    813\u001b[0m     \u001b[1;32mdef\u001b[0m \u001b[0mclose\u001b[0m\u001b[1;33m(\u001b[0m\u001b[0mself\u001b[0m\u001b[1;33m)\u001b[0m\u001b[1;33m:\u001b[0m\u001b[1;33m\u001b[0m\u001b[1;33m\u001b[0m\u001b[0m\n",
      "\u001b[1;32m~\\anaconda3\\lib\\site-packages\\pandas\\io\\parsers\\readers.py\u001b[0m in \u001b[0;36m_make_engine\u001b[1;34m(self, engine)\u001b[0m\n\u001b[0;32m   1038\u001b[0m             )\n\u001b[0;32m   1039\u001b[0m         \u001b[1;31m# error: Too many arguments for \"ParserBase\"\u001b[0m\u001b[1;33m\u001b[0m\u001b[1;33m\u001b[0m\u001b[0m\n\u001b[1;32m-> 1040\u001b[1;33m         \u001b[1;32mreturn\u001b[0m \u001b[0mmapping\u001b[0m\u001b[1;33m[\u001b[0m\u001b[0mengine\u001b[0m\u001b[1;33m]\u001b[0m\u001b[1;33m(\u001b[0m\u001b[0mself\u001b[0m\u001b[1;33m.\u001b[0m\u001b[0mf\u001b[0m\u001b[1;33m,\u001b[0m \u001b[1;33m**\u001b[0m\u001b[0mself\u001b[0m\u001b[1;33m.\u001b[0m\u001b[0moptions\u001b[0m\u001b[1;33m)\u001b[0m  \u001b[1;31m# type: ignore[call-arg]\u001b[0m\u001b[1;33m\u001b[0m\u001b[1;33m\u001b[0m\u001b[0m\n\u001b[0m\u001b[0;32m   1041\u001b[0m \u001b[1;33m\u001b[0m\u001b[0m\n\u001b[0;32m   1042\u001b[0m     \u001b[1;32mdef\u001b[0m \u001b[0m_failover_to_python\u001b[0m\u001b[1;33m(\u001b[0m\u001b[0mself\u001b[0m\u001b[1;33m)\u001b[0m\u001b[1;33m:\u001b[0m\u001b[1;33m\u001b[0m\u001b[1;33m\u001b[0m\u001b[0m\n",
      "\u001b[1;32m~\\anaconda3\\lib\\site-packages\\pandas\\io\\parsers\\c_parser_wrapper.py\u001b[0m in \u001b[0;36m__init__\u001b[1;34m(self, src, **kwds)\u001b[0m\n\u001b[0;32m     49\u001b[0m \u001b[1;33m\u001b[0m\u001b[0m\n\u001b[0;32m     50\u001b[0m         \u001b[1;31m# open handles\u001b[0m\u001b[1;33m\u001b[0m\u001b[1;33m\u001b[0m\u001b[0m\n\u001b[1;32m---> 51\u001b[1;33m         \u001b[0mself\u001b[0m\u001b[1;33m.\u001b[0m\u001b[0m_open_handles\u001b[0m\u001b[1;33m(\u001b[0m\u001b[0msrc\u001b[0m\u001b[1;33m,\u001b[0m \u001b[0mkwds\u001b[0m\u001b[1;33m)\u001b[0m\u001b[1;33m\u001b[0m\u001b[1;33m\u001b[0m\u001b[0m\n\u001b[0m\u001b[0;32m     52\u001b[0m         \u001b[1;32massert\u001b[0m \u001b[0mself\u001b[0m\u001b[1;33m.\u001b[0m\u001b[0mhandles\u001b[0m \u001b[1;32mis\u001b[0m \u001b[1;32mnot\u001b[0m \u001b[1;32mNone\u001b[0m\u001b[1;33m\u001b[0m\u001b[1;33m\u001b[0m\u001b[0m\n\u001b[0;32m     53\u001b[0m \u001b[1;33m\u001b[0m\u001b[0m\n",
      "\u001b[1;32m~\\anaconda3\\lib\\site-packages\\pandas\\io\\parsers\\base_parser.py\u001b[0m in \u001b[0;36m_open_handles\u001b[1;34m(self, src, kwds)\u001b[0m\n\u001b[0;32m    220\u001b[0m         \u001b[0mLet\u001b[0m \u001b[0mthe\u001b[0m \u001b[0mreaders\u001b[0m \u001b[0mopen\u001b[0m \u001b[0mIOHandles\u001b[0m \u001b[0mafter\u001b[0m \u001b[0mthey\u001b[0m \u001b[0mare\u001b[0m \u001b[0mdone\u001b[0m \u001b[1;32mwith\u001b[0m \u001b[0mtheir\u001b[0m \u001b[0mpotential\u001b[0m \u001b[0mraises\u001b[0m\u001b[1;33m.\u001b[0m\u001b[1;33m\u001b[0m\u001b[1;33m\u001b[0m\u001b[0m\n\u001b[0;32m    221\u001b[0m         \"\"\"\n\u001b[1;32m--> 222\u001b[1;33m         self.handles = get_handle(\n\u001b[0m\u001b[0;32m    223\u001b[0m             \u001b[0msrc\u001b[0m\u001b[1;33m,\u001b[0m\u001b[1;33m\u001b[0m\u001b[1;33m\u001b[0m\u001b[0m\n\u001b[0;32m    224\u001b[0m             \u001b[1;34m\"r\"\u001b[0m\u001b[1;33m,\u001b[0m\u001b[1;33m\u001b[0m\u001b[1;33m\u001b[0m\u001b[0m\n",
      "\u001b[1;32m~\\anaconda3\\lib\\site-packages\\pandas\\io\\common.py\u001b[0m in \u001b[0;36mget_handle\u001b[1;34m(path_or_buf, mode, encoding, compression, memory_map, is_text, errors, storage_options)\u001b[0m\n\u001b[0;32m    700\u001b[0m         \u001b[1;32mif\u001b[0m \u001b[0mioargs\u001b[0m\u001b[1;33m.\u001b[0m\u001b[0mencoding\u001b[0m \u001b[1;32mand\u001b[0m \u001b[1;34m\"b\"\u001b[0m \u001b[1;32mnot\u001b[0m \u001b[1;32min\u001b[0m \u001b[0mioargs\u001b[0m\u001b[1;33m.\u001b[0m\u001b[0mmode\u001b[0m\u001b[1;33m:\u001b[0m\u001b[1;33m\u001b[0m\u001b[1;33m\u001b[0m\u001b[0m\n\u001b[0;32m    701\u001b[0m             \u001b[1;31m# Encoding\u001b[0m\u001b[1;33m\u001b[0m\u001b[1;33m\u001b[0m\u001b[0m\n\u001b[1;32m--> 702\u001b[1;33m             handle = open(\n\u001b[0m\u001b[0;32m    703\u001b[0m                 \u001b[0mhandle\u001b[0m\u001b[1;33m,\u001b[0m\u001b[1;33m\u001b[0m\u001b[1;33m\u001b[0m\u001b[0m\n\u001b[0;32m    704\u001b[0m                 \u001b[0mioargs\u001b[0m\u001b[1;33m.\u001b[0m\u001b[0mmode\u001b[0m\u001b[1;33m,\u001b[0m\u001b[1;33m\u001b[0m\u001b[1;33m\u001b[0m\u001b[0m\n",
      "\u001b[1;31mFileNotFoundError\u001b[0m: [Errno 2] No such file or directory: 'scrapeo_bueno22-05-16.csv'"
     ]
    }
   ],
   "source": [
    "telegram_bot()\n"
   ]
  },
  {
   "cell_type": "code",
   "execution_count": 4,
   "id": "21e313f4",
   "metadata": {},
   "outputs": [
    {
     "ename": "KeyError",
     "evalue": "'i'",
     "output_type": "error",
     "traceback": [
      "\u001b[1;31m---------------------------------------------------------------------------\u001b[0m",
      "\u001b[1;31mKeyError\u001b[0m                                  Traceback (most recent call last)",
      "\u001b[1;32m~\\AppData\\Local\\Temp/ipykernel_1724/839009771.py\u001b[0m in \u001b[0;36m<module>\u001b[1;34m\u001b[0m\n\u001b[0;32m      4\u001b[0m \u001b[1;33m\u001b[0m\u001b[0m\n\u001b[0;32m      5\u001b[0m     \u001b[1;32mif\u001b[0m \u001b[0mi\u001b[0m \u001b[1;33m%\u001b[0m \u001b[1;36m100\u001b[0m \u001b[1;33m==\u001b[0m \u001b[1;36m0\u001b[0m\u001b[1;33m:\u001b[0m\u001b[1;33m\u001b[0m\u001b[1;33m\u001b[0m\u001b[0m\n\u001b[1;32m----> 6\u001b[1;33m         \u001b[0mmessage\u001b[0m \u001b[1;33m=\u001b[0m \u001b[1;34m'Completed {i}/{total_items}'\u001b[0m\u001b[1;33m.\u001b[0m\u001b[0mformat\u001b[0m\u001b[1;33m(\u001b[0m\u001b[1;33m)\u001b[0m\u001b[1;33m\u001b[0m\u001b[1;33m\u001b[0m\u001b[0m\n\u001b[0m\u001b[0;32m      7\u001b[0m         \u001b[1;32mtry\u001b[0m\u001b[1;33m:\u001b[0m\u001b[1;33m\u001b[0m\u001b[1;33m\u001b[0m\u001b[0m\n\u001b[0;32m      8\u001b[0m              \u001b[0mtelegram_send\u001b[0m\u001b[1;33m.\u001b[0m\u001b[0msend\u001b[0m\u001b[1;33m(\u001b[0m\u001b[0mmessages\u001b[0m\u001b[1;33m=\u001b[0m\u001b[1;33m[\u001b[0m\u001b[0mmessage\u001b[0m\u001b[1;33m]\u001b[0m\u001b[1;33m)\u001b[0m\u001b[1;33m\u001b[0m\u001b[1;33m\u001b[0m\u001b[0m\n",
      "\u001b[1;31mKeyError\u001b[0m: 'i'"
     ]
    }
   ],
   "source": [
    "my_list=[1,2,3,4,5]\n",
    "total_items = len(my_list)\n",
    "for i, item in enumerate(my_list):\n",
    "    \n",
    "    if i % 100 == 0:\n",
    "        message = 'Completed {i}/{total_items}'.format()\n",
    "        try:\n",
    "             telegram_send.send(messages=[message])\n",
    "        except Exception as e:\n",
    "             print(\"Unable to send\", e)"
   ]
  },
  {
   "cell_type": "code",
   "execution_count": 30,
   "id": "d8ab9670",
   "metadata": {},
   "outputs": [],
   "source": [
    "dir_path = '/Users/alima/anaconda3/airflow'\n",
    "current_date = pd.to_datetime('today').strftime('%Y-%m-%d')"
   ]
  },
  {
   "cell_type": "code",
   "execution_count": 41,
   "id": "456d8fba",
   "metadata": {},
   "outputs": [
    {
     "data": {
      "text/html": [
       "<pre style=\"white-space:pre;overflow-x:auto;line-height:normal;font-family:Menlo,'DejaVu Sans Mono',consolas,'Courier New',monospace\"><span style=\"color: #808000; text-decoration-color: #808000; font-weight: bold\">C:\\Users\\alima\\AppData\\Local\\Temp/ipykernel_14128/</span><span style=\"color: #808000; text-decoration-color: #808000; font-weight: bold\">857421914.</span><span style=\"color: #808000; text-decoration-color: #808000; font-weight: bold\">py:</span><span style=\"color: #808000; text-decoration-color: #808000; font-weight: bold\">26</span><span style=\"color: #808000; text-decoration-color: #808000; font-weight: bold\"> DeprecationWarning</span><span style=\"color: #808000; text-decoration-color: #808000\">: provide_context is deprecated as of </span><span style=\"color: #808000; text-decoration-color: #808000; font-weight: bold\">2.0</span><span style=\"color: #808000; text-decoration-color: #808000\"> and is no longer required</span>\n",
       "</pre>\n"
      ],
      "text/plain": [
       "\u001b[1;33mC:\\Users\\alima\\AppData\\Local\\Temp/ipykernel_14128/\u001b[0m\u001b[1;33m857421914.\u001b[0m\u001b[1;33mpy:\u001b[0m\u001b[1;33m26\u001b[0m\u001b[1;33m DeprecationWarning\u001b[0m\u001b[33m: provide_context is deprecated as of \u001b[0m\u001b[1;33m2.0\u001b[0m\u001b[33m and is no longer required\u001b[0m\n"
      ]
     },
     "metadata": {},
     "output_type": "display_data"
    },
    {
     "data": {
      "text/plain": [
       "<Task(PythonOperator): send_telegram>"
      ]
     },
     "execution_count": 41,
     "metadata": {},
     "output_type": "execute_result"
    }
   ],
   "source": [
    "default_args = {\n",
    "    'owner': 'adrian',\n",
    "    'depends_on_past': False,\n",
    "    'start_date': datetime(2022, 5, 14),\n",
    "    'email': ['adrianpradomart@gmail.com'],\n",
    "    'email_on_failure': False,\n",
    "    'email_on_retry': False,\n",
    "    'email_on_success': True,\n",
    "    'retries': 2,\n",
    "    'retry_delay': timedelta(hours=1),\n",
    "}\n",
    "\n",
    "dag = DAG(\n",
    "    'coches_scrap',\n",
    "    description='coches price scraping',\n",
    "    schedule_interval='*/0 * * * *',   # cada hora (https://en.wikipedia.org/wiki/Cron#CRON_expression)\n",
    "    default_args=default_args,\n",
    "    catchup=False,\n",
    ")\n",
    "\n",
    "tarea1=PythonOperator(task_id='links', python_callable=links, dag=dag)\n",
    "tarea2=PythonOperator(task_id='scrapeo', python_callable=scrapeo, dag=dag)\n",
    "\n",
    "tarea3=PythonOperator(task_id='limpieza', python_callable=limpieza, dag=dag)\n",
    "\n",
    "send_telegram = PythonOperator(\n",
    "    task_id = 'send_telegram',\n",
    "    python_callable = telegram_bot,\n",
    "    provide_context = True,\n",
    "    dag = dag\n",
    ")\n",
    "\n",
    "# secuencia de tareas\n",
    "tarea1 >> tarea2 >> tarea3 >> send_telegram"
   ]
  },
  {
   "cell_type": "code",
   "execution_count": 35,
   "id": "1a4db57f",
   "metadata": {},
   "outputs": [
    {
     "name": "stderr",
     "output_type": "stream",
     "text": [
      "C:\\Users\\alima\\anaconda3\\python.exe: can't find '__main__' module in 'C:\\\\Users\\\\alima\\\\airflow'\n"
     ]
    }
   ],
   "source": [
    "!python /Users/alima/airflow"
   ]
  },
  {
   "cell_type": "code",
   "execution_count": null,
   "id": "b24ed6a7",
   "metadata": {},
   "outputs": [],
   "source": [
    "\n"
   ]
  },
  {
   "cell_type": "code",
   "execution_count": null,
   "id": "4bfd83e5",
   "metadata": {},
   "outputs": [],
   "source": []
  }
 ],
 "metadata": {
  "kernelspec": {
   "display_name": "Python 3 (ipykernel)",
   "language": "python",
   "name": "python3"
  },
  "language_info": {
   "codemirror_mode": {
    "name": "ipython",
    "version": 3
   },
   "file_extension": ".py",
   "mimetype": "text/x-python",
   "name": "python",
   "nbconvert_exporter": "python",
   "pygments_lexer": "ipython3",
   "version": "3.9.7"
  }
 },
 "nbformat": 4,
 "nbformat_minor": 5
}
