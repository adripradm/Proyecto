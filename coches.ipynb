{
 "cells": [
  {
   "cell_type": "code",
   "execution_count": 1,
   "id": "0392b9d2",
   "metadata": {},
   "outputs": [
    {
     "name": "stdout",
     "output_type": "stream",
     "text": [
      "Requirement already satisfied: selenium in c:\\users\\alima\\anaconda3\\lib\\site-packages (4.1.3)\n",
      "Requirement already satisfied: trio~=0.17 in c:\\users\\alima\\anaconda3\\lib\\site-packages (from selenium) (0.20.0)\n",
      "Requirement already satisfied: urllib3[secure,socks]~=1.26 in c:\\users\\alima\\anaconda3\\lib\\site-packages (from selenium) (1.26.7)\n",
      "Requirement already satisfied: trio-websocket~=0.9 in c:\\users\\alima\\anaconda3\\lib\\site-packages (from selenium) (0.9.2)\n",
      "Requirement already satisfied: idna in c:\\users\\alima\\anaconda3\\lib\\site-packages (from trio~=0.17->selenium) (3.2)\n",
      "Requirement already satisfied: attrs>=19.2.0 in c:\\users\\alima\\anaconda3\\lib\\site-packages (from trio~=0.17->selenium) (21.2.0)\n",
      "Requirement already satisfied: outcome in c:\\users\\alima\\anaconda3\\lib\\site-packages (from trio~=0.17->selenium) (1.1.0)\n",
      "Requirement already satisfied: sniffio in c:\\users\\alima\\anaconda3\\lib\\site-packages (from trio~=0.17->selenium) (1.2.0)\n",
      "Requirement already satisfied: cffi>=1.14 in c:\\users\\alima\\anaconda3\\lib\\site-packages (from trio~=0.17->selenium) (1.14.6)\n",
      "Requirement already satisfied: sortedcontainers in c:\\users\\alima\\anaconda3\\lib\\site-packages (from trio~=0.17->selenium) (2.4.0)\n",
      "Requirement already satisfied: async-generator>=1.9 in c:\\users\\alima\\anaconda3\\lib\\site-packages (from trio~=0.17->selenium) (1.10)\n",
      "Requirement already satisfied: pycparser in c:\\users\\alima\\anaconda3\\lib\\site-packages (from cffi>=1.14->trio~=0.17->selenium) (2.20)\n",
      "Requirement already satisfied: wsproto>=0.14 in c:\\users\\alima\\anaconda3\\lib\\site-packages (from trio-websocket~=0.9->selenium) (1.1.0)\n",
      "Requirement already satisfied: PySocks!=1.5.7,<2.0,>=1.5.6 in c:\\users\\alima\\anaconda3\\lib\\site-packages (from urllib3[secure,socks]~=1.26->selenium) (1.7.1)\n",
      "Requirement already satisfied: pyOpenSSL>=0.14 in c:\\users\\alima\\anaconda3\\lib\\site-packages (from urllib3[secure,socks]~=1.26->selenium) (21.0.0)\n",
      "Requirement already satisfied: cryptography>=1.3.4 in c:\\users\\alima\\anaconda3\\lib\\site-packages (from urllib3[secure,socks]~=1.26->selenium) (3.4.8)\n",
      "Requirement already satisfied: certifi in c:\\users\\alima\\anaconda3\\lib\\site-packages (from urllib3[secure,socks]~=1.26->selenium) (2021.10.8)\n",
      "Requirement already satisfied: six>=1.5.2 in c:\\users\\alima\\anaconda3\\lib\\site-packages (from pyOpenSSL>=0.14->urllib3[secure,socks]~=1.26->selenium) (1.16.0)\n",
      "Requirement already satisfied: h11<1,>=0.9.0 in c:\\users\\alima\\anaconda3\\lib\\site-packages (from wsproto>=0.14->trio-websocket~=0.9->selenium) (0.13.0)\n",
      "Note: you may need to restart the kernel to use updated packages.\n",
      "Requirement already satisfied: webdriver-manager in c:\\users\\alima\\anaconda3\\lib\\site-packages (3.5.4)\n",
      "Requirement already satisfied: requests in c:\\users\\alima\\anaconda3\\lib\\site-packages (from webdriver-manager) (2.26.0)\n",
      "Requirement already satisfied: charset-normalizer~=2.0.0 in c:\\users\\alima\\anaconda3\\lib\\site-packages (from requests->webdriver-manager) (2.0.4)\n",
      "Requirement already satisfied: certifi>=2017.4.17 in c:\\users\\alima\\anaconda3\\lib\\site-packages (from requests->webdriver-manager) (2021.10.8)\n",
      "Requirement already satisfied: urllib3<1.27,>=1.21.1 in c:\\users\\alima\\anaconda3\\lib\\site-packages (from requests->webdriver-manager) (1.26.7)\n",
      "Requirement already satisfied: idna<4,>=2.5 in c:\\users\\alima\\anaconda3\\lib\\site-packages (from requests->webdriver-manager) (3.2)\n",
      "Note: you may need to restart the kernel to use updated packages.\n",
      "Requirement already satisfied: beautifulsoup4 in c:\\users\\alima\\anaconda3\\lib\\site-packages (4.10.0)\n",
      "Requirement already satisfied: soupsieve>1.2 in c:\\users\\alima\\anaconda3\\lib\\site-packages (from beautifulsoup4) (2.2.1)\n",
      "Note: you may need to restart the kernel to use updated packages.\n"
     ]
    }
   ],
   "source": [
    "%pip install selenium\n",
    "%pip install webdriver-manager\n",
    "%pip install beautifulsoup4"
   ]
  },
  {
   "cell_type": "code",
   "execution_count": 2,
   "id": "4ce4aba7",
   "metadata": {},
   "outputs": [
    {
     "name": "stdout",
     "output_type": "stream",
     "text": [
      "Requirement already satisfied: fake-useragent in c:\\users\\alima\\anaconda3\\lib\\site-packages (0.1.11)\n",
      "Note: you may need to restart the kernel to use updated packages.\n"
     ]
    }
   ],
   "source": [
    "%pip install fake-useragent"
   ]
  },
  {
   "cell_type": "code",
   "execution_count": 1,
   "id": "97bd4c54",
   "metadata": {},
   "outputs": [
    {
     "name": "stderr",
     "output_type": "stream",
     "text": [
      "\n",
      "\n",
      "====== WebDriver manager ======\n",
      "Current google-chrome version is 101.0.4951\n",
      "Get LATEST chromedriver version for 101.0.4951 google-chrome\n",
      "Trying to download new driver from https://chromedriver.storage.googleapis.com/101.0.4951.41/chromedriver_win32.zip\n",
      "Driver has been saved in cache [C:\\Users\\alima\\.wdm\\drivers\\chromedriver\\win32\\101.0.4951.41]\n"
     ]
    },
    {
     "name": "stdout",
     "output_type": "stream",
     "text": [
      "Mozilla/5.0 (Windows NT 5.1) AppleWebKit/537.36 (KHTML, like Gecko) Chrome/27.0.1453.93 Safari/537.36\n"
     ]
    }
   ],
   "source": [
    "from fake_useragent import UserAgent\n",
    "from selenium.webdriver.common.by import By\n",
    "from selenium.webdriver.support.ui import WebDriverWait as wait\n",
    "from selenium.webdriver.support import expected_conditions as EC\n",
    "import sys\n",
    "import src\n",
    "from src import wallapop as w\n",
    "import os\n",
    "\n",
    "# Module for reading JSON file\n",
    "import json\n",
    "\n",
    "usuario=UserAgent().random\n",
    "\n",
    "print(usuario)"
   ]
  },
  {
   "cell_type": "code",
   "execution_count": 12,
   "id": "b578e7b3",
   "metadata": {},
   "outputs": [
    {
     "ename": "ModuleNotFoundError",
     "evalue": "No module named 'pwd'",
     "output_type": "error",
     "traceback": [
      "\u001b[1;31m---------------------------------------------------------------------------\u001b[0m",
      "\u001b[1;31mModuleNotFoundError\u001b[0m                       Traceback (most recent call last)",
      "\u001b[1;32m~\\AppData\\Local\\Temp/ipykernel_14128/3822350802.py\u001b[0m in \u001b[0;36m<module>\u001b[1;34m\u001b[0m\n\u001b[1;32m----> 1\u001b[1;33m \u001b[1;32mimport\u001b[0m \u001b[0mpwd\u001b[0m\u001b[1;33m\u001b[0m\u001b[1;33m\u001b[0m\u001b[0m\n\u001b[0m",
      "\u001b[1;31mModuleNotFoundError\u001b[0m: No module named 'pwd'"
     ]
    }
   ],
   "source": [
    "import pwd"
   ]
  },
  {
   "cell_type": "code",
   "execution_count": 2,
   "id": "e6a5a85f",
   "metadata": {},
   "outputs": [
    {
     "name": "stderr",
     "output_type": "stream",
     "text": [
      "\n",
      "\n",
      "====== WebDriver manager ======\n",
      "Current google-chrome version is 101.0.4951\n",
      "Get LATEST chromedriver version for 101.0.4951 google-chrome\n",
      "Driver [C:\\Users\\alima\\.wdm\\drivers\\chromedriver\\win32\\101.0.4951.41\\chromedriver.exe] found in cache\n",
      "C:\\Users\\alima\\AppData\\Local\\Temp/ipykernel_6840/4228707673.py:5: DeprecationWarning: executable_path has been deprecated, please pass in a Service object\n",
      "  driver=webdriver.Chrome(PATH)\n"
     ]
    },
    {
     "ename": "WebDriverException",
     "evalue": "Message: unknown error: Chrome failed to start: exited normally.\n  (unknown error: DevToolsActivePort file doesn't exist)\n  (The process started from chrome location C:\\Program Files\\Google\\Chrome\\Application\\chrome.exe is no longer running, so ChromeDriver is assuming that Chrome has crashed.)\nStacktrace:\nBacktrace:\n\tOrdinal0 [0x004FB8F3+2406643]\n\tOrdinal0 [0x0048AF31+1945393]\n\tOrdinal0 [0x0037C748+837448]\n\tOrdinal0 [0x00399994+956820]\n\tOrdinal0 [0x00395D71+941425]\n\tOrdinal0 [0x003C8EE0+1150688]\n\tOrdinal0 [0x003C8B3A+1149754]\n\tOrdinal0 [0x003C4096+1130646]\n\tOrdinal0 [0x0039E636+976438]\n\tOrdinal0 [0x0039F546+980294]\n\tGetHandleVerifier [0x00769612+2498066]\n\tGetHandleVerifier [0x0075C920+2445600]\n\tGetHandleVerifier [0x00594F2A+579370]\n\tGetHandleVerifier [0x00593D36+574774]\n\tOrdinal0 [0x00491C0B+1973259]\n\tOrdinal0 [0x00496688+1992328]\n\tOrdinal0 [0x00496775+1992565]\n\tOrdinal0 [0x0049F8D1+2029777]\n\tBaseThreadInitThunk [0x75E6FA29+25]\n\tRtlGetAppContainerNamedObjectPath [0x77B87A7E+286]\n\tRtlGetAppContainerNamedObjectPath [0x77B87A4E+238]\n",
     "output_type": "error",
     "traceback": [
      "\u001b[1;31m---------------------------------------------------------------------------\u001b[0m",
      "\u001b[1;31mWebDriverException\u001b[0m                        Traceback (most recent call last)",
      "\u001b[1;32m~\\AppData\\Local\\Temp/ipykernel_6840/4228707673.py\u001b[0m in \u001b[0;36m<module>\u001b[1;34m\u001b[0m\n\u001b[0;32m      3\u001b[0m \u001b[1;32mfrom\u001b[0m \u001b[0mwebdriver_manager\u001b[0m\u001b[1;33m.\u001b[0m\u001b[0mchrome\u001b[0m \u001b[1;32mimport\u001b[0m \u001b[0mChromeDriverManager\u001b[0m\u001b[1;33m\u001b[0m\u001b[1;33m\u001b[0m\u001b[0m\n\u001b[0;32m      4\u001b[0m \u001b[0mPATH\u001b[0m\u001b[1;33m=\u001b[0m\u001b[0mChromeDriverManager\u001b[0m\u001b[1;33m(\u001b[0m\u001b[1;33m)\u001b[0m\u001b[1;33m.\u001b[0m\u001b[0minstall\u001b[0m\u001b[1;33m(\u001b[0m\u001b[1;33m)\u001b[0m\u001b[1;33m\u001b[0m\u001b[1;33m\u001b[0m\u001b[0m\n\u001b[1;32m----> 5\u001b[1;33m \u001b[0mdriver\u001b[0m\u001b[1;33m=\u001b[0m\u001b[0mwebdriver\u001b[0m\u001b[1;33m.\u001b[0m\u001b[0mChrome\u001b[0m\u001b[1;33m(\u001b[0m\u001b[0mPATH\u001b[0m\u001b[1;33m)\u001b[0m\u001b[1;33m\u001b[0m\u001b[1;33m\u001b[0m\u001b[0m\n\u001b[0m\u001b[0;32m      6\u001b[0m \u001b[1;33m\u001b[0m\u001b[0m\n\u001b[0;32m      7\u001b[0m \u001b[0mopciones\u001b[0m\u001b[1;33m=\u001b[0m\u001b[0mOptions\u001b[0m\u001b[1;33m(\u001b[0m\u001b[1;33m)\u001b[0m\u001b[1;33m\u001b[0m\u001b[1;33m\u001b[0m\u001b[0m\n",
      "\u001b[1;32m~\\anaconda3\\lib\\site-packages\\selenium\\webdriver\\chrome\\webdriver.py\u001b[0m in \u001b[0;36m__init__\u001b[1;34m(self, executable_path, port, options, service_args, desired_capabilities, service_log_path, chrome_options, service, keep_alive)\u001b[0m\n\u001b[0;32m     68\u001b[0m             \u001b[0mservice\u001b[0m \u001b[1;33m=\u001b[0m \u001b[0mService\u001b[0m\u001b[1;33m(\u001b[0m\u001b[0mexecutable_path\u001b[0m\u001b[1;33m,\u001b[0m \u001b[0mport\u001b[0m\u001b[1;33m,\u001b[0m \u001b[0mservice_args\u001b[0m\u001b[1;33m,\u001b[0m \u001b[0mservice_log_path\u001b[0m\u001b[1;33m)\u001b[0m\u001b[1;33m\u001b[0m\u001b[1;33m\u001b[0m\u001b[0m\n\u001b[0;32m     69\u001b[0m \u001b[1;33m\u001b[0m\u001b[0m\n\u001b[1;32m---> 70\u001b[1;33m         super(WebDriver, self).__init__(DesiredCapabilities.CHROME['browserName'], \"goog\",\n\u001b[0m\u001b[0;32m     71\u001b[0m                                         \u001b[0mport\u001b[0m\u001b[1;33m,\u001b[0m \u001b[0moptions\u001b[0m\u001b[1;33m,\u001b[0m\u001b[1;33m\u001b[0m\u001b[1;33m\u001b[0m\u001b[0m\n\u001b[0;32m     72\u001b[0m                                         \u001b[0mservice_args\u001b[0m\u001b[1;33m,\u001b[0m \u001b[0mdesired_capabilities\u001b[0m\u001b[1;33m,\u001b[0m\u001b[1;33m\u001b[0m\u001b[1;33m\u001b[0m\u001b[0m\n",
      "\u001b[1;32m~\\anaconda3\\lib\\site-packages\\selenium\\webdriver\\chromium\\webdriver.py\u001b[0m in \u001b[0;36m__init__\u001b[1;34m(self, browser_name, vendor_prefix, port, options, service_args, desired_capabilities, service_log_path, service, keep_alive)\u001b[0m\n\u001b[0;32m     91\u001b[0m \u001b[1;33m\u001b[0m\u001b[0m\n\u001b[0;32m     92\u001b[0m         \u001b[1;32mtry\u001b[0m\u001b[1;33m:\u001b[0m\u001b[1;33m\u001b[0m\u001b[1;33m\u001b[0m\u001b[0m\n\u001b[1;32m---> 93\u001b[1;33m             RemoteWebDriver.__init__(\n\u001b[0m\u001b[0;32m     94\u001b[0m                 \u001b[0mself\u001b[0m\u001b[1;33m,\u001b[0m\u001b[1;33m\u001b[0m\u001b[1;33m\u001b[0m\u001b[0m\n\u001b[0;32m     95\u001b[0m                 command_executor=ChromiumRemoteConnection(\n",
      "\u001b[1;32m~\\anaconda3\\lib\\site-packages\\selenium\\webdriver\\remote\\webdriver.py\u001b[0m in \u001b[0;36m__init__\u001b[1;34m(self, command_executor, desired_capabilities, browser_profile, proxy, keep_alive, file_detector, options)\u001b[0m\n\u001b[0;32m    267\u001b[0m         \u001b[0mself\u001b[0m\u001b[1;33m.\u001b[0m\u001b[0mfile_detector\u001b[0m \u001b[1;33m=\u001b[0m \u001b[0mfile_detector\u001b[0m \u001b[1;32mor\u001b[0m \u001b[0mLocalFileDetector\u001b[0m\u001b[1;33m(\u001b[0m\u001b[1;33m)\u001b[0m\u001b[1;33m\u001b[0m\u001b[1;33m\u001b[0m\u001b[0m\n\u001b[0;32m    268\u001b[0m         \u001b[0mself\u001b[0m\u001b[1;33m.\u001b[0m\u001b[0mstart_client\u001b[0m\u001b[1;33m(\u001b[0m\u001b[1;33m)\u001b[0m\u001b[1;33m\u001b[0m\u001b[1;33m\u001b[0m\u001b[0m\n\u001b[1;32m--> 269\u001b[1;33m         \u001b[0mself\u001b[0m\u001b[1;33m.\u001b[0m\u001b[0mstart_session\u001b[0m\u001b[1;33m(\u001b[0m\u001b[0mcapabilities\u001b[0m\u001b[1;33m,\u001b[0m \u001b[0mbrowser_profile\u001b[0m\u001b[1;33m)\u001b[0m\u001b[1;33m\u001b[0m\u001b[1;33m\u001b[0m\u001b[0m\n\u001b[0m\u001b[0;32m    270\u001b[0m \u001b[1;33m\u001b[0m\u001b[0m\n\u001b[0;32m    271\u001b[0m     \u001b[1;32mdef\u001b[0m \u001b[0m__repr__\u001b[0m\u001b[1;33m(\u001b[0m\u001b[0mself\u001b[0m\u001b[1;33m)\u001b[0m\u001b[1;33m:\u001b[0m\u001b[1;33m\u001b[0m\u001b[1;33m\u001b[0m\u001b[0m\n",
      "\u001b[1;32m~\\anaconda3\\lib\\site-packages\\selenium\\webdriver\\remote\\webdriver.py\u001b[0m in \u001b[0;36mstart_session\u001b[1;34m(self, capabilities, browser_profile)\u001b[0m\n\u001b[0;32m    358\u001b[0m         parameters = {\"capabilities\": w3c_caps,\n\u001b[0;32m    359\u001b[0m                       \"desiredCapabilities\": capabilities}\n\u001b[1;32m--> 360\u001b[1;33m         \u001b[0mresponse\u001b[0m \u001b[1;33m=\u001b[0m \u001b[0mself\u001b[0m\u001b[1;33m.\u001b[0m\u001b[0mexecute\u001b[0m\u001b[1;33m(\u001b[0m\u001b[0mCommand\u001b[0m\u001b[1;33m.\u001b[0m\u001b[0mNEW_SESSION\u001b[0m\u001b[1;33m,\u001b[0m \u001b[0mparameters\u001b[0m\u001b[1;33m)\u001b[0m\u001b[1;33m\u001b[0m\u001b[1;33m\u001b[0m\u001b[0m\n\u001b[0m\u001b[0;32m    361\u001b[0m         \u001b[1;32mif\u001b[0m \u001b[1;34m'sessionId'\u001b[0m \u001b[1;32mnot\u001b[0m \u001b[1;32min\u001b[0m \u001b[0mresponse\u001b[0m\u001b[1;33m:\u001b[0m\u001b[1;33m\u001b[0m\u001b[1;33m\u001b[0m\u001b[0m\n\u001b[0;32m    362\u001b[0m             \u001b[0mresponse\u001b[0m \u001b[1;33m=\u001b[0m \u001b[0mresponse\u001b[0m\u001b[1;33m[\u001b[0m\u001b[1;34m'value'\u001b[0m\u001b[1;33m]\u001b[0m\u001b[1;33m\u001b[0m\u001b[1;33m\u001b[0m\u001b[0m\n",
      "\u001b[1;32m~\\anaconda3\\lib\\site-packages\\selenium\\webdriver\\remote\\webdriver.py\u001b[0m in \u001b[0;36mexecute\u001b[1;34m(self, driver_command, params)\u001b[0m\n\u001b[0;32m    423\u001b[0m         \u001b[0mresponse\u001b[0m \u001b[1;33m=\u001b[0m \u001b[0mself\u001b[0m\u001b[1;33m.\u001b[0m\u001b[0mcommand_executor\u001b[0m\u001b[1;33m.\u001b[0m\u001b[0mexecute\u001b[0m\u001b[1;33m(\u001b[0m\u001b[0mdriver_command\u001b[0m\u001b[1;33m,\u001b[0m \u001b[0mparams\u001b[0m\u001b[1;33m)\u001b[0m\u001b[1;33m\u001b[0m\u001b[1;33m\u001b[0m\u001b[0m\n\u001b[0;32m    424\u001b[0m         \u001b[1;32mif\u001b[0m \u001b[0mresponse\u001b[0m\u001b[1;33m:\u001b[0m\u001b[1;33m\u001b[0m\u001b[1;33m\u001b[0m\u001b[0m\n\u001b[1;32m--> 425\u001b[1;33m             \u001b[0mself\u001b[0m\u001b[1;33m.\u001b[0m\u001b[0merror_handler\u001b[0m\u001b[1;33m.\u001b[0m\u001b[0mcheck_response\u001b[0m\u001b[1;33m(\u001b[0m\u001b[0mresponse\u001b[0m\u001b[1;33m)\u001b[0m\u001b[1;33m\u001b[0m\u001b[1;33m\u001b[0m\u001b[0m\n\u001b[0m\u001b[0;32m    426\u001b[0m             response['value'] = self._unwrap_value(\n\u001b[0;32m    427\u001b[0m                 response.get('value', None))\n",
      "\u001b[1;32m~\\anaconda3\\lib\\site-packages\\selenium\\webdriver\\remote\\errorhandler.py\u001b[0m in \u001b[0;36mcheck_response\u001b[1;34m(self, response)\u001b[0m\n\u001b[0;32m    245\u001b[0m                 \u001b[0malert_text\u001b[0m \u001b[1;33m=\u001b[0m \u001b[0mvalue\u001b[0m\u001b[1;33m[\u001b[0m\u001b[1;34m'alert'\u001b[0m\u001b[1;33m]\u001b[0m\u001b[1;33m.\u001b[0m\u001b[0mget\u001b[0m\u001b[1;33m(\u001b[0m\u001b[1;34m'text'\u001b[0m\u001b[1;33m)\u001b[0m\u001b[1;33m\u001b[0m\u001b[1;33m\u001b[0m\u001b[0m\n\u001b[0;32m    246\u001b[0m             \u001b[1;32mraise\u001b[0m \u001b[0mexception_class\u001b[0m\u001b[1;33m(\u001b[0m\u001b[0mmessage\u001b[0m\u001b[1;33m,\u001b[0m \u001b[0mscreen\u001b[0m\u001b[1;33m,\u001b[0m \u001b[0mstacktrace\u001b[0m\u001b[1;33m,\u001b[0m \u001b[0malert_text\u001b[0m\u001b[1;33m)\u001b[0m  \u001b[1;31m# type: ignore[call-arg]  # mypy is not smart enough here\u001b[0m\u001b[1;33m\u001b[0m\u001b[1;33m\u001b[0m\u001b[0m\n\u001b[1;32m--> 247\u001b[1;33m         \u001b[1;32mraise\u001b[0m \u001b[0mexception_class\u001b[0m\u001b[1;33m(\u001b[0m\u001b[0mmessage\u001b[0m\u001b[1;33m,\u001b[0m \u001b[0mscreen\u001b[0m\u001b[1;33m,\u001b[0m \u001b[0mstacktrace\u001b[0m\u001b[1;33m)\u001b[0m\u001b[1;33m\u001b[0m\u001b[1;33m\u001b[0m\u001b[0m\n\u001b[0m\u001b[0;32m    248\u001b[0m \u001b[1;33m\u001b[0m\u001b[0m\n\u001b[0;32m    249\u001b[0m     \u001b[1;32mdef\u001b[0m \u001b[0m_value_or_default\u001b[0m\u001b[1;33m(\u001b[0m\u001b[0mself\u001b[0m\u001b[1;33m,\u001b[0m \u001b[0mobj\u001b[0m\u001b[1;33m:\u001b[0m \u001b[0mMapping\u001b[0m\u001b[1;33m[\u001b[0m\u001b[0m_KT\u001b[0m\u001b[1;33m,\u001b[0m \u001b[0m_VT\u001b[0m\u001b[1;33m]\u001b[0m\u001b[1;33m,\u001b[0m \u001b[0mkey\u001b[0m\u001b[1;33m:\u001b[0m \u001b[0m_KT\u001b[0m\u001b[1;33m,\u001b[0m \u001b[0mdefault\u001b[0m\u001b[1;33m:\u001b[0m \u001b[0m_VT\u001b[0m\u001b[1;33m)\u001b[0m \u001b[1;33m->\u001b[0m \u001b[0m_VT\u001b[0m\u001b[1;33m:\u001b[0m\u001b[1;33m\u001b[0m\u001b[1;33m\u001b[0m\u001b[0m\n",
      "\u001b[1;31mWebDriverException\u001b[0m: Message: unknown error: Chrome failed to start: exited normally.\n  (unknown error: DevToolsActivePort file doesn't exist)\n  (The process started from chrome location C:\\Program Files\\Google\\Chrome\\Application\\chrome.exe is no longer running, so ChromeDriver is assuming that Chrome has crashed.)\nStacktrace:\nBacktrace:\n\tOrdinal0 [0x004FB8F3+2406643]\n\tOrdinal0 [0x0048AF31+1945393]\n\tOrdinal0 [0x0037C748+837448]\n\tOrdinal0 [0x00399994+956820]\n\tOrdinal0 [0x00395D71+941425]\n\tOrdinal0 [0x003C8EE0+1150688]\n\tOrdinal0 [0x003C8B3A+1149754]\n\tOrdinal0 [0x003C4096+1130646]\n\tOrdinal0 [0x0039E636+976438]\n\tOrdinal0 [0x0039F546+980294]\n\tGetHandleVerifier [0x00769612+2498066]\n\tGetHandleVerifier [0x0075C920+2445600]\n\tGetHandleVerifier [0x00594F2A+579370]\n\tGetHandleVerifier [0x00593D36+574774]\n\tOrdinal0 [0x00491C0B+1973259]\n\tOrdinal0 [0x00496688+1992328]\n\tOrdinal0 [0x00496775+1992565]\n\tOrdinal0 [0x0049F8D1+2029777]\n\tBaseThreadInitThunk [0x75E6FA29+25]\n\tRtlGetAppContainerNamedObjectPath [0x77B87A7E+286]\n\tRtlGetAppContainerNamedObjectPath [0x77B87A4E+238]\n"
     ]
    }
   ],
   "source": [
    "from selenium import webdriver\n",
    "from selenium.webdriver.chrome.options import Options\n",
    "from webdriver_manager.chrome import ChromeDriverManager\n",
    "PATH=ChromeDriverManager().install()\n",
    "driver=webdriver.Chrome(PATH)\n",
    "\n",
    "opciones=Options()\n",
    "\n",
    "opciones.add_experimental_option('excludeSwitches', ['enable-automation'])\n",
    "opciones.add_experimental_option('useAutomationExtension', False)\n",
    "opciones.headless=False\n",
    "opciones.add_argument('--start-maximized')\n",
    "#opciones.add_argument('--incognito')\n",
    "#opciones.add_extension('driver/adblock.crx')       # adblocker\n",
    "\n",
    "\n",
    "#opciones.add_argument('user-data-dir=selenium') \n",
    "#opciones.add_argument('proxy-server=5.152.175.13.2:2580')"
   ]
  },
  {
   "cell_type": "code",
   "execution_count": 268,
   "id": "aa550f31",
   "metadata": {},
   "outputs": [],
   "source": [
    "import  csv\n",
    "from selenium.common.exceptions import TimeoutException\n",
    "from selenium.webdriver.support.ui import WebDriverWait\n",
    "from selenium.webdriver.support import expected_conditions as EC\n",
    "from selenium.webdriver.common.by import By\n",
    "from selenium import webdriver\n",
    "from webdriver_manager.chrome import ChromeDriverManager\n",
    "from selenium.webdriver.chrome.options import Options\n",
    "import re\n",
    "import numpy as np\n",
    "from random import randint\n",
    "import requests as req\n",
    "import pandas as pd\n",
    "import time\n",
    "from time import sleep\n",
    "from bs4 import BeautifulSoup as bs\n",
    "import os\n",
    "from sklearn.ensemble import RandomForestRegressor as RFR\n",
    "from datetime import datetime, timedelta\n",
    "import time\n",
    "from time import sleep\n",
    "from sklearn.preprocessing import StandardScaler\n",
    "import pickle\n",
    "import json\n",
    "scaler=StandardScaler()"
   ]
  },
  {
   "cell_type": "code",
   "execution_count": 2,
   "id": "1d34c39d",
   "metadata": {},
   "outputs": [],
   "source": [
    "url='https://www.coches.net/'"
   ]
  },
  {
   "cell_type": "code",
   "execution_count": 3,
   "id": "d7063e20",
   "metadata": {},
   "outputs": [],
   "source": [
    "pd.options.display.max_colwidth=100"
   ]
  },
  {
   "cell_type": "code",
   "execution_count": 4,
   "id": "4b16861a",
   "metadata": {},
   "outputs": [
    {
     "name": "stderr",
     "output_type": "stream",
     "text": [
      "\n",
      "\n",
      "====== WebDriver manager ======\n",
      "Current google-chrome version is 101.0.4951\n",
      "Get LATEST chromedriver version for 101.0.4951 google-chrome\n",
      "Trying to download new driver from https://chromedriver.storage.googleapis.com/101.0.4951.41/chromedriver_win32.zip\n",
      "Driver has been saved in cache [C:\\Users\\alima\\.wdm\\drivers\\chromedriver\\win32\\101.0.4951.41]\n"
     ]
    }
   ],
   "source": [
    "PATH=ChromeDriverManager().install()"
   ]
  },
  {
   "cell_type": "markdown",
   "id": "44408831",
   "metadata": {},
   "source": [
    "## COCHES.com"
   ]
  },
  {
   "cell_type": "code",
   "execution_count": 5,
   "id": "d460a6bc",
   "metadata": {},
   "outputs": [
    {
     "name": "stderr",
     "output_type": "stream",
     "text": [
      "\n",
      "\n",
      "====== WebDriver manager ======\n",
      "Current google-chrome version is 101.0.4951\n",
      "Get LATEST chromedriver version for 101.0.4951 google-chrome\n",
      "Driver [C:\\Users\\alima\\.wdm\\drivers\\chromedriver\\win32\\101.0.4951.41\\chromedriver.exe] found in cache\n"
     ]
    }
   ],
   "source": [
    "from src.cochescom import *\n",
    "\n"
   ]
  },
  {
   "cell_type": "code",
   "execution_count": 95,
   "id": "ef76aa73",
   "metadata": {},
   "outputs": [],
   "source": [
    "import numpy as np\n",
    "def links(i):\n",
    "    li=[]\n",
    "    flat_list_link=[]\n",
    "    \n",
    "\n",
    "    page='https://www.coches.com/coches-segunda-mano/coches-ocasion.htm?ord[]=fecha_down&page=' + str(i)\n",
    "    html=req.get(page).content\n",
    "\n",
    "    \n",
    "\n",
    "    soup = bs(html, 'html.parser')\n",
    "    link=[li.find('a').attrs['href'] for li in soup.find_all(class_='pill-information')]\n",
    "    \n",
    "    li.append(link)\n",
    "    \n",
    "    flat_list_link = [item for link in li for item in link]\n",
    "    \n",
    "    return flat_list_link"
   ]
  },
  {
   "cell_type": "code",
   "execution_count": 96,
   "id": "f6a8554d",
   "metadata": {},
   "outputs": [],
   "source": [
    "def desenredar():\n",
    "    links_buenos=[]\n",
    "    for i in range(10):\n",
    "\n",
    "        links_buenos.append(links(i))\n",
    "        flaco=[item for link in links_buenos for item in link]\n",
    "\n",
    "        return flaco"
   ]
  },
  {
   "cell_type": "code",
   "execution_count": 98,
   "id": "7e5f7609",
   "metadata": {},
   "outputs": [
    {
     "data": {
      "text/plain": [
       "['https://www.coches.com/coches-segunda-mano/ocasion-skoda-scala-10-tsi-ambition-dsg--81kw-en-cantabria.htm?id=6918161',\n",
       " 'https://www.coches.com/coches-segunda-mano/ocasion-nissan-qashqai-15dci-acenta-4x2-85kw-en-madrid.htm?id=6873984',\n",
       " 'https://www.coches.com/coches-segunda-mano/ocasion-hyundai-tucson-16crdi-48v-nline-x-4x2-dt-en-madrid.htm?id=6407987',\n",
       " 'https://www.coches.com/coches-segunda-mano/ocasion-mazda-mazda6-w-22de-style-en-madrid.htm?id=6873976',\n",
       " 'https://www.coches.com/coches-segunda-mano/ocasion-seat-leon-10-ecotsi-s_s-reference-115-en-madrid.htm?id=6873944',\n",
       " 'https://www.coches.com/coches-segunda-mano/ocasion-toyota-auris-hybrid-140h-feel-edition-en-madrid.htm?id=6873952',\n",
       " 'https://www.coches.com/coches-segunda-mano/ocasion-hyundai-ioniq-hev-16-gdi-tecno-en-madrid.htm?id=6873950',\n",
       " 'https://www.coches.com/coches-segunda-mano/ocasion-hyundai-santa+fe-22crdi-tecno-7pl-2wd-8dct-en-madrid.htm?id=6874038',\n",
       " 'https://www.coches.com/coches-segunda-mano/ocasion-audi-a1-sportback-25-tfsi-en-madrid.htm?id=6873994',\n",
       " 'https://www.coches.com/km0/seminuevo-hyundai-tucson-16-tgdi-phev-tecno-sky-at-en-madrid.htm?id=6874128',\n",
       " 'https://www.coches.com/coches-segunda-mano/ocasion-hyundai-ioniq-hev-16-gdi-tecno-en-madrid.htm?id=6874032',\n",
       " 'https://www.coches.com/coches-segunda-mano/ocasion-bmw-serie+4-420ia-gran-coupe-en-madrid.htm?id=6874024',\n",
       " 'https://www.coches.com/coches-segunda-mano/ocasion-hyundai-kona-10-tgdi-klass-4x2-en-madrid.htm?id=6873990',\n",
       " 'https://www.coches.com/coches-segunda-mano/ocasion-hyundai-tucson-16crdi-48v-nline-4x2-en-madrid.htm?id=6874146',\n",
       " 'https://www.coches.com/coches-segunda-mano/ocasion-hyundai-tucson-16-tgdi-hev-maxx-at-en-madrid.htm?id=6874136',\n",
       " 'https://www.coches.com/coches-segunda-mano/ocasion-hyundai-i20-10-tgdi-klass-100-en-madrid.htm?id=6918159',\n",
       " 'https://www.coches.com/coches-segunda-mano/ocasion-honda-jazz-13-i-vtec-elegance-navi-en-madrid.htm?id=6881902',\n",
       " 'https://www.coches.com/coches-segunda-mano/ocasion-hyundai-i20-14-mpi-link-aut-en-madrid.htm?id=6898324',\n",
       " 'https://www.coches.com/coches-segunda-mano/ocasion-volkswagen-golf-10-tsi-ready2go-85kw-en-madrid.htm?id=6881910',\n",
       " 'https://www.coches.com/coches-segunda-mano/ocasion-hyundai-ioniq-hev-16-gdi-style-en-madrid.htm?id=6881906']"
      ]
     },
     "execution_count": 98,
     "metadata": {},
     "output_type": "execute_result"
    }
   ],
   "source": [
    "links_buenos=[]\n",
    "for i in range(10):\n",
    "\n",
    "    links_buenos.append(links(i))\n",
    "    flaco=[item for link in links_buenos for item in link]\n",
    "\n",
    "flaco"
   ]
  },
  {
   "cell_type": "code",
   "execution_count": 18,
   "id": "60fa4e2b",
   "metadata": {},
   "outputs": [],
   "source": [
    "coches=pd.read_csv('data/coches-de-segunda-mano-sample.csv')\n",
    "coches\n",
    "columnas=['make', 'model', 'price', 'fuel', 'year', 'kms', 'power', 'doors','shift', 'is_professional', 'province']\n",
    "datos=coches[columnas]\n",
    "datos.to_csv('data/base_de_datos.csv', index=False)"
   ]
  },
  {
   "cell_type": "code",
   "execution_count": 142,
   "id": "8946c7ec",
   "metadata": {
    "scrolled": true
   },
   "outputs": [
    {
     "data": {
      "text/plain": [
       "'Machine Learning Done'"
      ]
     },
     "execution_count": 142,
     "metadata": {},
     "output_type": "execute_result"
    }
   ],
   "source": [
    "comparacion()\n",
    "\n",
    "\n"
   ]
  },
  {
   "cell_type": "code",
   "execution_count": 57,
   "id": "db4864fb",
   "metadata": {},
   "outputs": [
    {
     "data": {
      "text/plain": [
       "['https://www.coches.com/coches-segunda-mano/ocasion-peugeot-2008-16-e-hdi-allure-115-en-tarragona.htm?id=6918099',\n",
       " 'https://www.coches.com/coches-segunda-mano/ocasion-citroen-berlingo-multispace-16bluehdi-live-75-en-sevilla.htm?id=6279141',\n",
       " 'https://www.coches.com/coches-segunda-mano/ocasion-fiat-talento-fg-20-mjt-s_s-corto-12-88kw-en-madrid.htm?id=6918097',\n",
       " 'https://www.coches.com/coches-segunda-mano/ocasion-audi-a5-coupe-20tdi-advanced-ed-multitronic-en-madrid.htm?id=6918093',\n",
       " 'https://www.coches.com/coches-segunda-mano/ocasion-peugeot-expert-fg-standard-16bluehdi-premium-95-en-navarra.htm?id=6918095',\n",
       " 'https://www.coches.com/km0/seminuevo-mazda-mazda3-20-e-skyactiv-g-zenith-90kw-en-pontevedra.htm?id=6846005',\n",
       " 'https://www.coches.com/coches-segunda-mano/ocasion-mercedes-clase+c-c-220d-en-sevilla.htm?id=6918091',\n",
       " 'https://www.coches.com/coches-segunda-mano/ocasion-audi-a6-40-tdi-s-tronic-sport-en-pontevedra.htm?id=6918089',\n",
       " 'https://www.coches.com/coches-segunda-mano/ocasion-peugeot-partner-p-tepee-16bluehdi-dangel-trek-4x2-100-en-tenerife.htm?id=6918087',\n",
       " 'https://www.coches.com/coches-segunda-mano/ocasion-audi-a5-sportback-20tdi-190-en-granada.htm?id=6918085',\n",
       " 'https://www.coches.com/km0/seminuevo-volkswagen-t-roc-10-tsi-edition-81kw-en-alicante.htm?id=5956063',\n",
       " 'https://www.coches.com/coches-segunda-mano/ocasion-porsche-macan-gts-aut-en-pontevedra.htm?id=6918083',\n",
       " 'https://www.coches.com/coches-segunda-mano/ocasion-peugeot-partner-tepee-16hdi-outdoor-92-en-tenerife.htm?id=6918081',\n",
       " 'https://www.coches.com/coches-segunda-mano/ocasion-bmw-x1-sdrive-18da-en-malaga.htm?id=6901984',\n",
       " 'https://www.coches.com/coches-segunda-mano/ocasion-renault-master-fg-dci-120-p-energy-tt-l3h2-3500-en-alicante.htm?id=6918079',\n",
       " 'https://www.coches.com/coches-segunda-mano/ocasion-seat-ibiza-sc-14-tsi-cupra-dsg-en-girona.htm?id=6918077',\n",
       " 'https://www.coches.com/km0/seminuevo-kia-sportage-16-t-gdi-mhev-drive-en-avila.htm?id=6882814',\n",
       " 'https://www.coches.com/km0/seminuevo-kia-sportage-16-t-gdi-mhev-drive-en-avila.htm?id=6882734',\n",
       " 'https://www.coches.com/km0/seminuevo-seat-leon-15-tsi-s_s-fr-150-en-asturias.htm?id=6918075',\n",
       " 'https://www.coches.com/coches-segunda-mano/ocasion-porsche-cayenne-diesel-245-aut-en-barcelona.htm?id=6736146']"
      ]
     },
     "execution_count": 57,
     "metadata": {},
     "output_type": "execute_result"
    }
   ],
   "source": [
    "urls=links()\n",
    "urls"
   ]
  },
  {
   "cell_type": "code",
   "execution_count": 102,
   "id": "ba97f73f",
   "metadata": {},
   "outputs": [],
   "source": [
    "maker=[]\n",
    "model=[]\n",
    "price=[]\n",
    "gas=[]\n",
    "year=[]\n",
    "kms=[]\n",
    "power=[]\n",
    "doors=[]\n",
    "shift=[]\n",
    "is_professional=[]\n",
    "province=[]\n",
    "link=[]\n",
    "#coches=pd.read_csv('data/coches-de-segunda-mano-sample.csv')\n",
    "for url in flaco:\n",
    "\n",
    "    html=req.get(url).content\n",
    "    soup = bs(html, 'html.parser')\n",
    "    try:\n",
    "        modelo =[\" \".join(e.text.split('\\n')).rsplit(' ', 1)[0] for e in soup.find(class_='index-card__make-model')]\n",
    "        marca = [\" \".join(e.text.split('\\n')).rsplit(' ', 1)[0] for e in soup.find(class_='index-card__make-model')]\n",
    "        l=[\" \".join(e.text.split('\\n')).rsplit(' ', 1)[0] for e in soup.find_all(id='trackingIndexCardPrice')]\n",
    "        l=str(l).split('\\\\t')[-1]\n",
    "\n",
    "        precio=re.findall('(\\d+.+?\\d+)', l )\n",
    "        precio=int(float(precio[0])*1000)\n",
    "\n",
    "        año=[\" \".join(e.text.split('\\n')).rsplit(' ', 1)[0] for e in soup.find_all(id='trackingIndexCardYear')]\n",
    "        año=str(año).split('\\\\t')[-1]\n",
    "        año=re.findall('(\\d+.+?\\d+)', año )\n",
    "\n",
    "        año=año[-1].split('/')\n",
    "        año=int(año[-1])\n",
    "\n",
    "        fuel=[\" \".join(e.text.split('\\n')).rsplit(' ', 1)[0] for e in soup.find_all(id='trackingIndexCardFuel')]\n",
    "        fuel=str(fuel).split('\\\\t')[-1]\n",
    "\n",
    "        fuel=re.findall('(\\w+)', fuel )\n",
    "        fuel=fuel[0]\n",
    "\n",
    "        km=[\" \".join(e.text.split('\\n')).rsplit(' ', 1)[0] for e in soup.find_all(id='trackingIndexCardKms')]\n",
    "        km=str(km).split('\\\\t')[-1]\n",
    "        try:\n",
    "            km=re.findall('(\\d+.+?\\d+)', km )\n",
    "            km=int(float(km[0])*1000)\n",
    "        except:\n",
    "            pass\n",
    "        if km==[]:\n",
    "            km=0\n",
    "\n",
    "        cv=[\" \".join(e.text.split('\\n')).rsplit(' ', 1)[0] for e in soup.find_all(id='trackingIndexCardPower')]\n",
    "        cv=str(cv).split('\\\\t')[-1]\n",
    "\n",
    "        cv=re.findall('(\\d+)', cv )\n",
    "\n",
    "        cv=int(cv[0])\n",
    "\n",
    "\n",
    "        l=[\" \".join(e.text.split('\\n')).rsplit(' ', 1)[0] for e in soup.find_all(id='trackingIndexCardDoors')]\n",
    "        l=str(l).split('\\\\t')[-1]\n",
    "\n",
    "        puertas=re.findall('(\\d+)', l )\n",
    "        puertas=int(puertas[0])\n",
    "\n",
    "        l=[\" \".join(e.text.split('\\n')).rsplit(' ', 1)[0] for e in soup.find_all(class_='index-card__technical-data-section')]\n",
    "        l=str(l).split('\\\\t')[-1]\n",
    "\n",
    "\n",
    "        pepe=re.sub('.*Transmisión[ ]*','',l)\n",
    "        trans=re.sub('[ ].*[]]$','',pepe)\n",
    "\n",
    "        l=[\" \".join(e.text.split('\\n')).rsplit(' ', 1)[0] for e in soup.find(class_='index-card__cv-province')]\n",
    "        l=str(l).split('\\\\t')[-1]\n",
    "\n",
    "        sitio=re.sub('.*[ ]en*\\s','',l).strip()\n",
    "        place=re.sub('[ ].*[]]$','',sitio)\n",
    "\n",
    "        if 'Alfa' in modelo[0]:\n",
    "            c=modelo[0].split()[0:2]\n",
    "            maker.append(c[0].upper()+' '+c[1].upper())\n",
    "        elif 'Land' in modelo[0]:\n",
    "            c=modelo[0].split()[0:2]\n",
    "            maker.append(c[0].upper()+' '+c[1].upper())\n",
    "\n",
    "\n",
    "        else: \n",
    "\n",
    "            maker.append(modelo[0].split()[0].upper())\n",
    "        if 'Serie' in modelo[0]: \n",
    "            m=modelo[0].split()[1:3]\n",
    "\n",
    "            model.append(' '.join(m))\n",
    "\n",
    "        elif 'Clase' in modelo[0]:\n",
    "            m=modelo[0].split()[1:3]\n",
    "            model.append(' '.join(m))\n",
    "\n",
    "        elif 'Rover' in modelo[0]:\n",
    "            k=modelo[0].split()[2]\n",
    "            model.append(k)\n",
    "\n",
    "        elif 'Alfa' in modelo[0]:\n",
    "            k=modelo[0].split()[2]\n",
    "            model.append(k)\n",
    "        else: \n",
    "            model.append(modelo[0].split()[1])\n",
    "        price.append(precio)\n",
    "        gas.append(fuel)\n",
    "        year.append(año)\n",
    "        kms.append(km)\n",
    "        power.append(cv)\n",
    "        doors.append(puertas)\n",
    "        shift.append(trans)\n",
    "        is_professional.append('True')\n",
    "        link.append(url)\n",
    "        if '[' in place:\n",
    "            province.append('Unkown')\n",
    "        else:\n",
    "            province.append(place)\n",
    "    except:\n",
    "        pass\n",
    "\n",
    "    data_dict={'make': maker, 'model':model, 'price':price, 'fuel':gas, 'year':year, 'kms':kms, 'power':power, 'doors':doors, \n",
    "              'shift':shift, 'is_professional':is_professional, 'province':province , 'link': link}\n",
    "\n",
    "    fecha=datetime.now()\n",
    "\n",
    "    coches1=pd.DataFrame(data=data_dict)\n",
    "    #coches=coches.append(coches1.drop(columns='link'), ignore_index=True)\n",
    "    #coches.to_csv('data/coches-de-segunda-mano-sample.csv', index=False)\n",
    "    coches1.to_csv('data/scrapeos/scrapeo{fecha}.csv'.format(fecha=fecha.strftime(\"%y-%m-%d\")), index=False)"
   ]
  },
  {
   "cell_type": "code",
   "execution_count": 50,
   "id": "ccd4d1ff",
   "metadata": {},
   "outputs": [],
   "source": [
    "def scrapeo(urls):\n",
    "\n",
    "\n",
    "    \n",
    "    maker=[]\n",
    "    model=[]\n",
    "    price=[]\n",
    "    gas=[]\n",
    "    year=[]\n",
    "    kms=[]\n",
    "    power=[]\n",
    "    doors=[]\n",
    "    shift=[]\n",
    "    is_professional=[]\n",
    "    province=[]\n",
    "    link=[]\n",
    "    #coches=pd.read_csv('data/coches-de-segunda-mano-sample.csv')\n",
    "    for url in urls:\n",
    "\n",
    "        html=req.get(url).content\n",
    "        soup = bs(html, 'html.parser')\n",
    "        try:\n",
    "            modelo =[\" \".join(e.text.split('\\n')).rsplit(' ', 1)[0] for e in soup.find(class_='index-card__make-model')]\n",
    "            marca = [\" \".join(e.text.split('\\n')).rsplit(' ', 1)[0] for e in soup.find(class_='index-card__make-model')]\n",
    "            l=[\" \".join(e.text.split('\\n')).rsplit(' ', 1)[0] for e in soup.find_all(id='trackingIndexCardPrice')]\n",
    "            l=str(l).split('\\\\t')[-1]\n",
    "\n",
    "            precio=re.findall('(\\d+.+?\\d+)', l )\n",
    "            precio=int(float(precio[0])*1000)\n",
    "\n",
    "            año=[\" \".join(e.text.split('\\n')).rsplit(' ', 1)[0] for e in soup.find_all(id='trackingIndexCardYear')]\n",
    "            año=str(año).split('\\\\t')[-1]\n",
    "            año=re.findall('(\\d+.+?\\d+)', año )\n",
    "\n",
    "            año=año[-1].split('/')\n",
    "            año=int(año[-1])\n",
    "\n",
    "            fuel=[\" \".join(e.text.split('\\n')).rsplit(' ', 1)[0] for e in soup.find_all(id='trackingIndexCardFuel')]\n",
    "            fuel=str(fuel).split('\\\\t')[-1]\n",
    "\n",
    "            fuel=re.findall('(\\w+)', fuel )\n",
    "            fuel=fuel[0]\n",
    "\n",
    "            km=[\" \".join(e.text.split('\\n')).rsplit(' ', 1)[0] for e in soup.find_all(id='trackingIndexCardKms')]\n",
    "            km=str(km).split('\\\\t')[-1]\n",
    "            try:\n",
    "                km=re.findall('(\\d+.+?\\d+)', km )\n",
    "                km=int(float(km[0])*1000)\n",
    "            except:\n",
    "                pass\n",
    "            if km==[]:\n",
    "                km=0\n",
    "\n",
    "            cv=[\" \".join(e.text.split('\\n')).rsplit(' ', 1)[0] for e in soup.find_all(id='trackingIndexCardPower')]\n",
    "            cv=str(cv).split('\\\\t')[-1]\n",
    "\n",
    "            cv=re.findall('(\\d+)', cv )\n",
    "\n",
    "            cv=int(cv[0])\n",
    "\n",
    "\n",
    "            l=[\" \".join(e.text.split('\\n')).rsplit(' ', 1)[0] for e in soup.find_all(id='trackingIndexCardDoors')]\n",
    "            l=str(l).split('\\\\t')[-1]\n",
    "\n",
    "            puertas=re.findall('(\\d+)', l )\n",
    "            puertas=int(puertas[0])\n",
    "\n",
    "            l=[\" \".join(e.text.split('\\n')).rsplit(' ', 1)[0] for e in soup.find_all(class_='index-card__technical-data-section')]\n",
    "            l=str(l).split('\\\\t')[-1]\n",
    "\n",
    "\n",
    "            pepe=re.sub('.*Transmisión[ ]*','',l)\n",
    "            trans=re.sub('[ ].*[]]$','',pepe)\n",
    "\n",
    "            l=[\" \".join(e.text.split('\\n')).rsplit(' ', 1)[0] for e in soup.find(class_='index-card__cv-province')]\n",
    "            l=str(l).split('\\\\t')[-1]\n",
    "\n",
    "            sitio=re.sub('.*[ ]en*\\s','',l).strip()\n",
    "            place=re.sub('[ ].*[]]$','',sitio)\n",
    "\n",
    "            if 'Alfa' in modelo[0]:\n",
    "                c=modelo[0].split()[0:2]\n",
    "                maker.append(c[0].upper()+' '+c[1].upper())\n",
    "            elif 'Land' in modelo[0]:\n",
    "                c=modelo[0].split()[0:2]\n",
    "                maker.append(c[0].upper()+' '+c[1].upper())\n",
    "\n",
    "\n",
    "            else: \n",
    "\n",
    "                maker.append(modelo[0].split()[0].upper())\n",
    "            if 'Serie' in modelo[0]: \n",
    "                m=modelo[0].split()[1:3]\n",
    "\n",
    "                model.append(' '.join(m))\n",
    "\n",
    "            elif 'Clase' in modelo[0]:\n",
    "                m=modelo[0].split()[1:3]\n",
    "                model.append(' '.join(m))\n",
    "\n",
    "            elif 'Rover' in modelo[0]:\n",
    "                k=modelo[0].split()[2]\n",
    "                model.append(k)\n",
    "\n",
    "            elif 'Alfa' in modelo[0]:\n",
    "                k=modelo[0].split()[2]\n",
    "                model.append(k)\n",
    "            else: \n",
    "                model.append(modelo[0].split()[1])\n",
    "            price.append(precio)\n",
    "            gas.append(fuel)\n",
    "            year.append(año)\n",
    "            kms.append(km)\n",
    "            power.append(cv)\n",
    "            doors.append(puertas)\n",
    "            shift.append(trans)\n",
    "            is_professional.append('True')\n",
    "            link.append(url)\n",
    "            if '[' in place:\n",
    "                province.append('Unkown')\n",
    "            else:\n",
    "                province.append(place)\n",
    "        except:\n",
    "            pass\n",
    "\n",
    "        data_dict={'make': maker, 'model':model, 'price':price, 'fuel':gas, 'year':year, 'kms':kms, 'power':power, 'doors':doors, \n",
    "                  'shift':shift, 'is_professional':is_professional, 'province':province , 'link': link}\n",
    "        \n",
    "        fecha=datetime.now()\n",
    "        \n",
    "        coches1=pd.DataFrame(data=data_dict)\n",
    "        #coches=coches.append(coches1.drop(columns='link'), ignore_index=True)\n",
    "        #coches.to_csv('data/coches-de-segunda-mano-sample.csv', index=False)\n",
    "        coches1.to_csv('data/scrapeos/scrapeo{fecha}.csv'.format(fecha=fecha.strftime(\"%y-%m-%d\")), index=False)\n",
    "        \n",
    "\n",
    "        \n",
    "        return 'Get data process DONE'\n",
    "    \n",
    "def limpieza():\n",
    "    fecha=datetime.now()\n",
    "    coches1=pd.read_csv('data/base_de_datos.csv')\n",
    "    coches=pd.read_csv('data/scrapeos/scrapeo{fecha}.csv'.format(fecha=fecha.strftime(\"%y-%m-%d\")))\n",
    "    try:\n",
    "        coches.province=coches.province.replace(',','')\n",
    "        coches['shift']=coches['shift'].replace('Automática', 'Automático')\n",
    "        coches.province=coches.province.replace('Cadiz', 'Cádiz').replace('Malaga', 'Málaga').replace('Almeria','Almería').replace('Castellon','Castellón')\n",
    "\n",
    "        coches.province=coches.province.str.replace(',','')\n",
    "        coches['shift']=coches['shift'].replace('Directo,','Automático')\n",
    "        coches.make=coches.make.replace('MERCEDES','MERCEDES-BENZ')\n",
    "        coches.model=coches.model.str.replace('-','')\n",
    "        coches.fuel=coches.fuel.replace('Diesel','Diésel')\n",
    "        coches.province=coches.province.replace('Coruña', 'A Coruña').replace('Cordoba','Córdoba')\n",
    "        coches.province=coches.province.replace('Leon', 'León').replace('Caceres','Cáceres').replace('Avila','Ávila').replace('Jaen','Jaén')\n",
    "        coches.to_csv('data/scrapeos/scrapeo{fecha}.csv'.format(fecha=fecha.strftime(\"%y-%m-%d\")), index=False)\n",
    "    except:\n",
    "        print('Clean Data')\n",
    "    coches2=coches1.append(coches.drop(columns='link'), ignore_index=True)\n",
    "    \n",
    "    coches2.to_csv('data/base_de_datos.csv', index=False)\n",
    "    coches\n",
    "\n",
    "    return 'Clean data process DONE'"
   ]
  },
  {
   "cell_type": "code",
   "execution_count": 134,
   "id": "03a8cde9",
   "metadata": {},
   "outputs": [
    {
     "data": {
      "text/plain": [
       "'Machine Learning Done'"
      ]
     },
     "execution_count": 134,
     "metadata": {},
     "output_type": "execute_result"
    }
   ],
   "source": [
    "comparacion()"
   ]
  },
  {
   "cell_type": "code",
   "execution_count": 133,
   "id": "03e093da",
   "metadata": {
    "scrolled": true
   },
   "outputs": [],
   "source": [
    "def comparacion():\n",
    "    fecha=datetime.now()\n",
    "    entreno=pd.read_csv('data/base_de_datos.csv')\n",
    "    coches1=pd.read_csv('data/scrapeos/scrapeo{fecha}.csv'.format(fecha=fecha.strftime(\"%y-%m-%d\")))\n",
    "    train=coches1.drop(columns=['link'])\n",
    "    \n",
    "    buena=pd.concat([entreno,train])\n",
    "    buena=buena.dropna(axis=0)\n",
    "    buena[['year','kms','power','doors']]=scaler.fit_transform(buena[['year','kms','power','doors']])\n",
    "    buena=pd.get_dummies(buena, columns=['make','model','fuel','shift','is_professional','province'], drop_first=True)\n",
    "    buena_=buena.drop(columns=['price'])\n",
    "    loaded_model = pickle.load(open('random_forest.pk', 'rb'))\n",
    "    try:\n",
    "        result = loaded_model.predict(buena[-len(coches1):])\n",
    "        data={'precio_real':coches1.price, 'prediccion':result}\n",
    "\n",
    "        diff=pd.DataFrame(data=data)\n",
    "\n",
    "        diff['diff']=((diff.prediccion-diff.precio_real)**2)**0.5\n",
    "\n",
    "        diff.loc[diff['diff'] >= 1000,'SentimentType'] = 'Mal'\n",
    "        diff.loc[diff['diff'] >500,'SentimentType'] = 'Regular'\n",
    "        diff.loc[diff['diff'] < 500,'SentimentType'] = 'Bien'\n",
    "\n",
    "        indices_mal=diff[diff.SentimentType=='Mal'].index\n",
    "        indices_regular=diff[diff.SentimentType=='Regular'].index\n",
    "        indices_bien=diff[diff.SentimentType=='Bien'].index\n",
    "\n",
    "        bueno=[]\n",
    "        for i in indices_mal:\n",
    "            bueno.append(coches1.iloc[i])\n",
    "\n",
    "        bueno_df=pd.DataFrame(bueno)\n",
    "        fecha=datetime.now()\n",
    "        bueno_df.to_csv('data/telegram/scrapeo_bueno{fecha}.csv'.format(fecha=fecha.strftime(\"%y-%m-%d\")), index=False)\n",
    "    except:\n",
    "        \n",
    "        \n",
    "        X=buena_\n",
    "        y=buena.price\n",
    "        bosque=RFR()\n",
    "        bosque.fit(X,y)\n",
    "        coches1=pd.read_csv('data/scrapeos/scrapeo{fecha}.csv'.format(fecha=fecha.strftime(\"%y-%m-%d\")))\n",
    "        \n",
    "\n",
    "        y_pred=bosque.predict(buena_[-len(coches1):])\n",
    "        data={'precio_real':coches1.price, 'prediccion':y_pred}\n",
    "\n",
    "        diff=pd.DataFrame(data=data)\n",
    "\n",
    "        diff['diff']=((diff.prediccion-diff.precio_real)**2)**0.5\n",
    "\n",
    "        diff.loc[diff['diff'] >= 1000,'SentimentType'] = 'Mal'\n",
    "        diff.loc[diff['diff'] >500,'SentimentType'] = 'Regular'\n",
    "        diff.loc[diff['diff'] < 500,'SentimentType'] = 'Bien'\n",
    "\n",
    "        indices_mal=diff[diff.SentimentType=='Mal'].index\n",
    "        indices_regular=diff[diff.SentimentType=='Regular'].index\n",
    "        indices_bien=diff[diff.SentimentType=='Bien'].index\n",
    "\n",
    "        bueno=[]\n",
    "        for i in indices_mal:\n",
    "            bueno.append(coches1.iloc[i])\n",
    "\n",
    "        bueno_df=pd.DataFrame(bueno)\n",
    "        fecha=datetime.now()\n",
    "        pickle.dump(bosque, open('random_forest.pk', 'wb'))\n",
    "        bueno_df.to_csv('data/telegram/scrapeo_bueno{fecha}.csv'.format(fecha=fecha.strftime(\"%y-%m-%d\")), index=False)\n",
    "\n",
    "    \n",
    "    return 'Machine Learning Done'\n",
    "    "
   ]
  },
  {
   "cell_type": "code",
   "execution_count": 21,
   "id": "38ddda72",
   "metadata": {},
   "outputs": [
    {
     "data": {
      "text/plain": [
       "'A ver, Adrian. Te queda por concatenar la base de datos con los escrapeado en el día. Predecir en funcion del entreno solo los precios de la longitud de lo obtenido el ultimo día, si da el error ese tan esperado toca el \\nexcept para entrenar de nuevo al RandomForest, por lo que hay que importar librerias y con ello '"
      ]
     },
     "execution_count": 21,
     "metadata": {},
     "output_type": "execute_result"
    }
   ],
   "source": [
    "'''A ver, Adrian. Te queda por concatenar la base de datos con los escrapeado en el día. Predecir en funcion del entreno solo los precios de la longitud de lo obtenido el ultimo día, si da el error ese tan esperado toca el \n",
    "except para entrenar de nuevo al RandomForest, por lo que hay que importar librerias y con ello '''"
   ]
  },
  {
   "cell_type": "code",
   "execution_count": 13,
   "id": "188371e4",
   "metadata": {},
   "outputs": [],
   "source": [
    "x='scrapeo {fecha}'.format(fecha=datetime.now())"
   ]
  },
  {
   "cell_type": "code",
   "execution_count": 25,
   "id": "3a79336e",
   "metadata": {},
   "outputs": [
    {
     "data": {
      "text/plain": [
       "datetime.datetime(2022, 5, 15, 17, 12, 2, 577445)"
      ]
     },
     "execution_count": 25,
     "metadata": {},
     "output_type": "execute_result"
    }
   ],
   "source": [
    "fecha"
   ]
  },
  {
   "cell_type": "code",
   "execution_count": 40,
   "id": "4fe72113",
   "metadata": {},
   "outputs": [
    {
     "name": "stdout",
     "output_type": "stream",
     "text": [
      "22-05-15\n"
     ]
    }
   ],
   "source": [
    "print(fecha.strftime(\"%y-%m-%d\")) "
   ]
  },
  {
   "cell_type": "code",
   "execution_count": null,
   "id": "c94e8c57",
   "metadata": {},
   "outputs": [],
   "source": [
    "'''Crear funcion para comparar los datos sacados de la pagina con el entreno del bosque, calcular diferencias y si son menores de \n",
    "1000$ meterlas en una lista nueva, coger dato a dato de esa lista y meterlo dentro del mensaje de telegram_bot\n",
    "'''"
   ]
  },
  {
   "cell_type": "code",
   "execution_count": null,
   "id": "a3dc0566",
   "metadata": {},
   "outputs": [],
   "source": []
  },
  {
   "cell_type": "code",
   "execution_count": 22,
   "id": "170a21b1",
   "metadata": {},
   "outputs": [
    {
     "data": {
      "text/plain": [
       "'BMW'"
      ]
     },
     "execution_count": 22,
     "metadata": {},
     "output_type": "execute_result"
    }
   ],
   "source": [
    "\n",
    "coches=pd.read_csv('prueba_viernes_scrapeo3.csv')\n",
    "coches.iloc[0][0]"
   ]
  },
  {
   "cell_type": "code",
   "execution_count": 11,
   "id": "0b292b35",
   "metadata": {},
   "outputs": [
    {
     "name": "stderr",
     "output_type": "stream",
     "text": [
      "WARNING:root:OSError while attempting to symlink the latest log directory\n"
     ]
    },
    {
     "data": {
      "text/html": [
       "<pre style=\"white-space:pre;overflow-x:auto;line-height:normal;font-family:Menlo,'DejaVu Sans Mono',consolas,'Courier New',monospace\"><span style=\"color: #808000; text-decoration-color: #808000; font-weight: bold\">C:\\Users\\alima\\AppData\\Local\\Temp/ipykernel_1724/</span><span style=\"color: #808000; text-decoration-color: #808000; font-weight: bold\">86142749.</span><span style=\"color: #808000; text-decoration-color: #808000; font-weight: bold\">py:</span><span style=\"color: #808000; text-decoration-color: #808000; font-weight: bold\">2</span><span style=\"color: #808000; text-decoration-color: #808000; font-weight: bold\"> DeprecationWarning</span><span style=\"color: #808000; text-decoration-color: #808000\">: This module is deprecated. Please use `airflow.operators.empty`.</span>\n",
       "</pre>\n"
      ],
      "text/plain": [
       "\u001b[1;33mC:\\Users\\alima\\AppData\\Local\\Temp/ipykernel_1724/\u001b[0m\u001b[1;33m86142749.\u001b[0m\u001b[1;33mpy:\u001b[0m\u001b[1;33m2\u001b[0m\u001b[1;33m DeprecationWarning\u001b[0m\u001b[33m: This module is deprecated. Please use `airflow.operators.empty`.\u001b[0m\n"
      ]
     },
     "metadata": {},
     "output_type": "display_data"
    }
   ],
   "source": [
    "from airflow import DAG\n",
    "from airflow.operators.dummy import DummyOperator\n",
    "from airflow.operators.python import PythonOperator\n",
    "import os\n",
    "\n",
    "from datetime import datetime, timedelta"
   ]
  },
  {
   "cell_type": "code",
   "execution_count": null,
   "id": "c17ce09c",
   "metadata": {
    "scrolled": true
   },
   "outputs": [],
   "source": []
  },
  {
   "cell_type": "code",
   "execution_count": null,
   "id": "c6fcc9c5",
   "metadata": {},
   "outputs": [],
   "source": [
    "\n"
   ]
  },
  {
   "cell_type": "code",
   "execution_count": 7,
   "id": "8ca20d4d",
   "metadata": {},
   "outputs": [],
   "source": [
    "import pandas as pd"
   ]
  },
  {
   "cell_type": "code",
   "execution_count": 32,
   "id": "584dfe6b",
   "metadata": {},
   "outputs": [
    {
     "name": "stdout",
     "output_type": "stream",
     "text": [
      "Collecting telegram-send\n",
      "  Downloading telegram_send-0.34-py3-none-any.whl (25 kB)\n",
      "Requirement already satisfied: appdirs in c:\\users\\alima\\anaconda3\\lib\\site-packages (from telegram-send) (1.4.4)\n",
      "Requirement already satisfied: colorama in c:\\users\\alima\\anaconda3\\lib\\site-packages (from telegram-send) (0.4.4)\n",
      "Requirement already satisfied: python-telegram-bot>=13.0 in c:\\users\\alima\\anaconda3\\lib\\site-packages (from telegram-send) (13.11)\n",
      "Requirement already satisfied: certifi in c:\\users\\alima\\anaconda3\\lib\\site-packages (from python-telegram-bot>=13.0->telegram-send) (2021.10.8)\n",
      "Requirement already satisfied: APScheduler==3.6.3 in c:\\users\\alima\\anaconda3\\lib\\site-packages (from python-telegram-bot>=13.0->telegram-send) (3.6.3)\n",
      "Requirement already satisfied: tornado>=6.1 in c:\\users\\alima\\anaconda3\\lib\\site-packages (from python-telegram-bot>=13.0->telegram-send) (6.1)\n",
      "Requirement already satisfied: pytz>=2018.6 in c:\\users\\alima\\anaconda3\\lib\\site-packages (from python-telegram-bot>=13.0->telegram-send) (2021.3)\n",
      "Requirement already satisfied: cachetools==4.2.2 in c:\\users\\alima\\anaconda3\\lib\\site-packages (from python-telegram-bot>=13.0->telegram-send) (4.2.2)\n",
      "Requirement already satisfied: six>=1.4.0 in c:\\users\\alima\\anaconda3\\lib\\site-packages (from APScheduler==3.6.3->python-telegram-bot>=13.0->telegram-send) (1.16.0)\n",
      "Requirement already satisfied: tzlocal>=1.2 in c:\\users\\alima\\anaconda3\\lib\\site-packages (from APScheduler==3.6.3->python-telegram-bot>=13.0->telegram-send) (4.2)\n",
      "Requirement already satisfied: setuptools>=0.7 in c:\\users\\alima\\anaconda3\\lib\\site-packages (from APScheduler==3.6.3->python-telegram-bot>=13.0->telegram-send) (58.0.4)\n",
      "Requirement already satisfied: tzdata in c:\\users\\alima\\anaconda3\\lib\\site-packages (from tzlocal>=1.2->APScheduler==3.6.3->python-telegram-bot>=13.0->telegram-send) (2022.1)\n",
      "Requirement already satisfied: pytz-deprecation-shim in c:\\users\\alima\\anaconda3\\lib\\site-packages (from tzlocal>=1.2->APScheduler==3.6.3->python-telegram-bot>=13.0->telegram-send) (0.1.0.post0)\n",
      "Installing collected packages: telegram-send\n",
      "Successfully installed telegram-send-0.34\n"
     ]
    }
   ],
   "source": [
    "!pip install telegram-send\n",
    "\n"
   ]
  },
  {
   "cell_type": "code",
   "execution_count": 231,
   "id": "a95ab92f",
   "metadata": {},
   "outputs": [
    {
     "data": {
      "text/plain": [
       "[19]"
      ]
     },
     "execution_count": 231,
     "metadata": {},
     "output_type": "execute_result"
    }
   ],
   "source": [
    "import telegram_send\n",
    "telegram_send.send(messages=[\"Wow that was {easy}!\".format(easy='Scala , https://www.coches.com/coches-segunda-mano/ocasion-skoda-scala-10-tsi-ambition-dsg--81kw-en-cantabria.htm?id=6918161,18900')])"
   ]
  },
  {
   "cell_type": "code",
   "execution_count": null,
   "id": "00b41494",
   "metadata": {
    "scrolled": true
   },
   "outputs": [],
   "source": [
    "''' leer el csv diario con los anuncios interesantes para pasarlo por un bucle y mandar los diferentes anuncios, puto Bill Gates'''"
   ]
  },
  {
   "cell_type": "code",
   "execution_count": 30,
   "id": "693910f9",
   "metadata": {},
   "outputs": [
    {
     "ename": "IndentationError",
     "evalue": "unexpected indent (Temp/ipykernel_9280/2002387430.py, line 14)",
     "output_type": "error",
     "traceback": [
      "\u001b[1;36m  File \u001b[1;32m\"C:\\Users\\alima\\AppData\\Local\\Temp/ipykernel_9280/2002387430.py\"\u001b[1;36m, line \u001b[1;32m14\u001b[0m\n\u001b[1;33m    '''.format(anuncio=probando, link=tu_cara, update_date= pd.to_datetime('today').strftime('%Y-%m-%d'))]\u001b[0m\n\u001b[1;37m    ^\u001b[0m\n\u001b[1;31mIndentationError\u001b[0m\u001b[1;31m:\u001b[0m unexpected indent\n"
     ]
    }
   ],
   "source": [
    "'''telegram_chatid = 672110772 \n",
    "telegram_token = '5384268185:AAGZi1ZOR2a8v_IHGBYyFWwU1lA_QQvUOYE'\n",
    "probando='prueba'\n",
    "tu_cara='e'\n",
    "update_date= pd.to_datetime('today').strftime('%Y-%m-%d')\n",
    "def telegram_bot(probando, tu_cara):\n",
    "    \n",
    "    message =[ '''\n",
    "'''    anuncio de coche - {update_date} \n",
    "    adrian news News\n",
    "    Anuncio: {anuncio}\n",
    "    Link: {link} '''\n",
    "    \n",
    "    '''.format(anuncio=probando, link=tu_cara, update_date= pd.to_datetime('today').strftime('%Y-%m-%d'))]\n",
    "    \n",
    " # Send text message\n",
    "    bot_token = telegram_token\n",
    "    bot_chatID = str(telegram_chatid)\n",
    "    send_text = 'https://api.telegram.org/bot'+bot_token+'/sendMessage?chat_id='+bot_chatID+'&parse_mode=Markdown&text='+message\n",
    "    print(send_text)\n",
    "    req.get(send_text)\n",
    "\n",
    "'''"
   ]
  },
  {
   "cell_type": "code",
   "execution_count": 44,
   "id": "ad6ca012",
   "metadata": {},
   "outputs": [],
   "source": [
    "columnas\n",
    "import telegram_send"
   ]
  },
  {
   "cell_type": "code",
   "execution_count": 45,
   "id": "8cd9fba8",
   "metadata": {},
   "outputs": [
    {
     "ename": "SyntaxError",
     "evalue": "invalid syntax (Temp/ipykernel_9280/1498147918.py, line 4)",
     "output_type": "error",
     "traceback": [
      "\u001b[1;36m  File \u001b[1;32m\"C:\\Users\\alima\\AppData\\Local\\Temp/ipykernel_9280/1498147918.py\"\u001b[1;36m, line \u001b[1;32m4\u001b[0m\n\u001b[1;33m    for i in len(prueba):\u001b[0m\n\u001b[1;37m                        ^\u001b[0m\n\u001b[1;31mSyntaxError\u001b[0m\u001b[1;31m:\u001b[0m invalid syntax\n"
     ]
    }
   ],
   "source": [
    "def telegram_bot():\n",
    "    fecha=pd.to_datetime('today').strftime('%Y-%m-%d')\n",
    "    prueba=pd.read_csv('data/telegram/scrapeo_bueno{fecha}.csv'.format(fecha=fecha.strftime(\"%y-%m-%d\"))\n",
    "    for i in len(prueba):\n",
    "\n",
    "\n",
    "        telegram_send.send(messages= ['''\n",
    "\n",
    "        adrian news News\n",
    "        Anuncio: {anuncio}\n",
    "        Link: {link} \n",
    "\n",
    "        '''.format(anuncio=prueba[i][0:2], link=prueba[i][-1])])"
   ]
  },
  {
   "cell_type": "code",
   "execution_count": 266,
   "id": "f0c08845",
   "metadata": {},
   "outputs": [],
   "source": [
    "def telegram_bot():\n",
    "    fecha=pd.to_datetime('today').strftime('%Y-%m-%d')\n",
    "    prueba=pd.read_csv('data/scrapeos/scrapeo22-05-19.csv')\n",
    "    for i in range(10):\n",
    "        telegram_send.send(messages= ['''\n",
    "\n",
    "        adrian news News\n",
    "        Anuncio: {anuncio}\n",
    "        Link: {link} \n",
    "\n",
    "        '''.format(anuncio=prueba[i][0:2], link=prueba[i][-1])])"
   ]
  },
  {
   "cell_type": "code",
   "execution_count": 267,
   "id": "855ad6f7",
   "metadata": {},
   "outputs": [
    {
     "ename": "KeyError",
     "evalue": "0",
     "output_type": "error",
     "traceback": [
      "\u001b[1;31m---------------------------------------------------------------------------\u001b[0m",
      "\u001b[1;31mKeyError\u001b[0m                                  Traceback (most recent call last)",
      "\u001b[1;32m~\\anaconda3\\lib\\site-packages\\pandas\\core\\indexes\\base.py\u001b[0m in \u001b[0;36mget_loc\u001b[1;34m(self, key, method, tolerance)\u001b[0m\n\u001b[0;32m   3360\u001b[0m             \u001b[1;32mtry\u001b[0m\u001b[1;33m:\u001b[0m\u001b[1;33m\u001b[0m\u001b[1;33m\u001b[0m\u001b[0m\n\u001b[1;32m-> 3361\u001b[1;33m                 \u001b[1;32mreturn\u001b[0m \u001b[0mself\u001b[0m\u001b[1;33m.\u001b[0m\u001b[0m_engine\u001b[0m\u001b[1;33m.\u001b[0m\u001b[0mget_loc\u001b[0m\u001b[1;33m(\u001b[0m\u001b[0mcasted_key\u001b[0m\u001b[1;33m)\u001b[0m\u001b[1;33m\u001b[0m\u001b[1;33m\u001b[0m\u001b[0m\n\u001b[0m\u001b[0;32m   3362\u001b[0m             \u001b[1;32mexcept\u001b[0m \u001b[0mKeyError\u001b[0m \u001b[1;32mas\u001b[0m \u001b[0merr\u001b[0m\u001b[1;33m:\u001b[0m\u001b[1;33m\u001b[0m\u001b[1;33m\u001b[0m\u001b[0m\n",
      "\u001b[1;32m~\\anaconda3\\lib\\site-packages\\pandas\\_libs\\index.pyx\u001b[0m in \u001b[0;36mpandas._libs.index.IndexEngine.get_loc\u001b[1;34m()\u001b[0m\n",
      "\u001b[1;32m~\\anaconda3\\lib\\site-packages\\pandas\\_libs\\index.pyx\u001b[0m in \u001b[0;36mpandas._libs.index.IndexEngine.get_loc\u001b[1;34m()\u001b[0m\n",
      "\u001b[1;32mpandas\\_libs\\hashtable_class_helper.pxi\u001b[0m in \u001b[0;36mpandas._libs.hashtable.PyObjectHashTable.get_item\u001b[1;34m()\u001b[0m\n",
      "\u001b[1;32mpandas\\_libs\\hashtable_class_helper.pxi\u001b[0m in \u001b[0;36mpandas._libs.hashtable.PyObjectHashTable.get_item\u001b[1;34m()\u001b[0m\n",
      "\u001b[1;31mKeyError\u001b[0m: 0",
      "\nThe above exception was the direct cause of the following exception:\n",
      "\u001b[1;31mKeyError\u001b[0m                                  Traceback (most recent call last)",
      "\u001b[1;32m~\\AppData\\Local\\Temp/ipykernel_9280/2989918219.py\u001b[0m in \u001b[0;36m<module>\u001b[1;34m\u001b[0m\n\u001b[1;32m----> 1\u001b[1;33m \u001b[0mtelegram_bot\u001b[0m\u001b[1;33m(\u001b[0m\u001b[1;33m)\u001b[0m\u001b[1;33m\u001b[0m\u001b[1;33m\u001b[0m\u001b[0m\n\u001b[0m",
      "\u001b[1;32m~\\AppData\\Local\\Temp/ipykernel_9280/1253299332.py\u001b[0m in \u001b[0;36mtelegram_bot\u001b[1;34m()\u001b[0m\n\u001b[0;32m      9\u001b[0m         \u001b[0mLink\u001b[0m\u001b[1;33m:\u001b[0m \u001b[1;33m{\u001b[0m\u001b[0mlink\u001b[0m\u001b[1;33m}\u001b[0m\u001b[1;33m\u001b[0m\u001b[1;33m\u001b[0m\u001b[0m\n\u001b[0;32m     10\u001b[0m \u001b[1;33m\u001b[0m\u001b[0m\n\u001b[1;32m---> 11\u001b[1;33m         '''.format(anuncio=prueba[i][0:2], link=prueba[i][-1])])\n\u001b[0m",
      "\u001b[1;32m~\\anaconda3\\lib\\site-packages\\pandas\\core\\frame.py\u001b[0m in \u001b[0;36m__getitem__\u001b[1;34m(self, key)\u001b[0m\n\u001b[0;32m   3456\u001b[0m             \u001b[1;32mif\u001b[0m \u001b[0mself\u001b[0m\u001b[1;33m.\u001b[0m\u001b[0mcolumns\u001b[0m\u001b[1;33m.\u001b[0m\u001b[0mnlevels\u001b[0m \u001b[1;33m>\u001b[0m \u001b[1;36m1\u001b[0m\u001b[1;33m:\u001b[0m\u001b[1;33m\u001b[0m\u001b[1;33m\u001b[0m\u001b[0m\n\u001b[0;32m   3457\u001b[0m                 \u001b[1;32mreturn\u001b[0m \u001b[0mself\u001b[0m\u001b[1;33m.\u001b[0m\u001b[0m_getitem_multilevel\u001b[0m\u001b[1;33m(\u001b[0m\u001b[0mkey\u001b[0m\u001b[1;33m)\u001b[0m\u001b[1;33m\u001b[0m\u001b[1;33m\u001b[0m\u001b[0m\n\u001b[1;32m-> 3458\u001b[1;33m             \u001b[0mindexer\u001b[0m \u001b[1;33m=\u001b[0m \u001b[0mself\u001b[0m\u001b[1;33m.\u001b[0m\u001b[0mcolumns\u001b[0m\u001b[1;33m.\u001b[0m\u001b[0mget_loc\u001b[0m\u001b[1;33m(\u001b[0m\u001b[0mkey\u001b[0m\u001b[1;33m)\u001b[0m\u001b[1;33m\u001b[0m\u001b[1;33m\u001b[0m\u001b[0m\n\u001b[0m\u001b[0;32m   3459\u001b[0m             \u001b[1;32mif\u001b[0m \u001b[0mis_integer\u001b[0m\u001b[1;33m(\u001b[0m\u001b[0mindexer\u001b[0m\u001b[1;33m)\u001b[0m\u001b[1;33m:\u001b[0m\u001b[1;33m\u001b[0m\u001b[1;33m\u001b[0m\u001b[0m\n\u001b[0;32m   3460\u001b[0m                 \u001b[0mindexer\u001b[0m \u001b[1;33m=\u001b[0m \u001b[1;33m[\u001b[0m\u001b[0mindexer\u001b[0m\u001b[1;33m]\u001b[0m\u001b[1;33m\u001b[0m\u001b[1;33m\u001b[0m\u001b[0m\n",
      "\u001b[1;32m~\\anaconda3\\lib\\site-packages\\pandas\\core\\indexes\\base.py\u001b[0m in \u001b[0;36mget_loc\u001b[1;34m(self, key, method, tolerance)\u001b[0m\n\u001b[0;32m   3361\u001b[0m                 \u001b[1;32mreturn\u001b[0m \u001b[0mself\u001b[0m\u001b[1;33m.\u001b[0m\u001b[0m_engine\u001b[0m\u001b[1;33m.\u001b[0m\u001b[0mget_loc\u001b[0m\u001b[1;33m(\u001b[0m\u001b[0mcasted_key\u001b[0m\u001b[1;33m)\u001b[0m\u001b[1;33m\u001b[0m\u001b[1;33m\u001b[0m\u001b[0m\n\u001b[0;32m   3362\u001b[0m             \u001b[1;32mexcept\u001b[0m \u001b[0mKeyError\u001b[0m \u001b[1;32mas\u001b[0m \u001b[0merr\u001b[0m\u001b[1;33m:\u001b[0m\u001b[1;33m\u001b[0m\u001b[1;33m\u001b[0m\u001b[0m\n\u001b[1;32m-> 3363\u001b[1;33m                 \u001b[1;32mraise\u001b[0m \u001b[0mKeyError\u001b[0m\u001b[1;33m(\u001b[0m\u001b[0mkey\u001b[0m\u001b[1;33m)\u001b[0m \u001b[1;32mfrom\u001b[0m \u001b[0merr\u001b[0m\u001b[1;33m\u001b[0m\u001b[1;33m\u001b[0m\u001b[0m\n\u001b[0m\u001b[0;32m   3364\u001b[0m \u001b[1;33m\u001b[0m\u001b[0m\n\u001b[0;32m   3365\u001b[0m         \u001b[1;32mif\u001b[0m \u001b[0mis_scalar\u001b[0m\u001b[1;33m(\u001b[0m\u001b[0mkey\u001b[0m\u001b[1;33m)\u001b[0m \u001b[1;32mand\u001b[0m \u001b[0misna\u001b[0m\u001b[1;33m(\u001b[0m\u001b[0mkey\u001b[0m\u001b[1;33m)\u001b[0m \u001b[1;32mand\u001b[0m \u001b[1;32mnot\u001b[0m \u001b[0mself\u001b[0m\u001b[1;33m.\u001b[0m\u001b[0mhasnans\u001b[0m\u001b[1;33m:\u001b[0m\u001b[1;33m\u001b[0m\u001b[1;33m\u001b[0m\u001b[0m\n",
      "\u001b[1;31mKeyError\u001b[0m: 0"
     ]
    }
   ],
   "source": [
    "telegram_bot()"
   ]
  },
  {
   "cell_type": "code",
   "execution_count": 263,
   "id": "8185e84e",
   "metadata": {},
   "outputs": [],
   "source": [
    "import json\n"
   ]
  },
  {
   "cell_type": "code",
   "execution_count": 265,
   "id": "cb8103e4",
   "metadata": {},
   "outputs": [
    {
     "ename": "TypeError",
     "evalue": "Object of type Series is not JSON serializable",
     "output_type": "error",
     "traceback": [
      "\u001b[1;31m---------------------------------------------------------------------------\u001b[0m",
      "\u001b[1;31mTypeError\u001b[0m                                 Traceback (most recent call last)",
      "\u001b[1;32m~\\AppData\\Local\\Temp/ipykernel_9280/1503587755.py\u001b[0m in \u001b[0;36m<module>\u001b[1;34m\u001b[0m\n\u001b[0;32m      7\u001b[0m \u001b[1;33m\u001b[0m\u001b[0m\n\u001b[0;32m      8\u001b[0m     \u001b[0manuncio\u001b[0m\u001b[1;33m.\u001b[0m\u001b[0mappend\u001b[0m\u001b[1;33m(\u001b[0m\u001b[0mprueba\u001b[0m\u001b[1;33m.\u001b[0m\u001b[0miloc\u001b[0m\u001b[1;33m[\u001b[0m\u001b[0mi\u001b[0m\u001b[1;33m]\u001b[0m\u001b[1;33m)\u001b[0m\u001b[1;33m\u001b[0m\u001b[1;33m\u001b[0m\u001b[0m\n\u001b[1;32m----> 9\u001b[1;33m     \u001b[0manuncio\u001b[0m\u001b[1;33m=\u001b[0m\u001b[0mjson\u001b[0m\u001b[1;33m.\u001b[0m\u001b[0mdumps\u001b[0m\u001b[1;33m(\u001b[0m\u001b[0manuncio\u001b[0m\u001b[1;33m)\u001b[0m\u001b[1;33m\u001b[0m\u001b[1;33m\u001b[0m\u001b[0m\n\u001b[0m\u001b[0;32m     10\u001b[0m     \u001b[0mtelegram_send\u001b[0m\u001b[1;33m.\u001b[0m\u001b[0msend\u001b[0m\u001b[1;33m(\u001b[0m\u001b[0mmessages\u001b[0m\u001b[1;33m=\u001b[0m\u001b[1;33m[\u001b[0m\u001b[0manuncio\u001b[0m\u001b[1;33m[\u001b[0m\u001b[0mi\u001b[0m\u001b[1;33m]\u001b[0m\u001b[1;33m]\u001b[0m\u001b[1;33m)\u001b[0m\u001b[1;33m\u001b[0m\u001b[1;33m\u001b[0m\u001b[0m\n\u001b[0;32m     11\u001b[0m \u001b[1;33m\u001b[0m\u001b[0m\n",
      "\u001b[1;32m~\\anaconda3\\lib\\json\\__init__.py\u001b[0m in \u001b[0;36mdumps\u001b[1;34m(obj, skipkeys, ensure_ascii, check_circular, allow_nan, cls, indent, separators, default, sort_keys, **kw)\u001b[0m\n\u001b[0;32m    229\u001b[0m         \u001b[0mcls\u001b[0m \u001b[1;32mis\u001b[0m \u001b[1;32mNone\u001b[0m \u001b[1;32mand\u001b[0m \u001b[0mindent\u001b[0m \u001b[1;32mis\u001b[0m \u001b[1;32mNone\u001b[0m \u001b[1;32mand\u001b[0m \u001b[0mseparators\u001b[0m \u001b[1;32mis\u001b[0m \u001b[1;32mNone\u001b[0m \u001b[1;32mand\u001b[0m\u001b[1;33m\u001b[0m\u001b[1;33m\u001b[0m\u001b[0m\n\u001b[0;32m    230\u001b[0m         default is None and not sort_keys and not kw):\n\u001b[1;32m--> 231\u001b[1;33m         \u001b[1;32mreturn\u001b[0m \u001b[0m_default_encoder\u001b[0m\u001b[1;33m.\u001b[0m\u001b[0mencode\u001b[0m\u001b[1;33m(\u001b[0m\u001b[0mobj\u001b[0m\u001b[1;33m)\u001b[0m\u001b[1;33m\u001b[0m\u001b[1;33m\u001b[0m\u001b[0m\n\u001b[0m\u001b[0;32m    232\u001b[0m     \u001b[1;32mif\u001b[0m \u001b[0mcls\u001b[0m \u001b[1;32mis\u001b[0m \u001b[1;32mNone\u001b[0m\u001b[1;33m:\u001b[0m\u001b[1;33m\u001b[0m\u001b[1;33m\u001b[0m\u001b[0m\n\u001b[0;32m    233\u001b[0m         \u001b[0mcls\u001b[0m \u001b[1;33m=\u001b[0m \u001b[0mJSONEncoder\u001b[0m\u001b[1;33m\u001b[0m\u001b[1;33m\u001b[0m\u001b[0m\n",
      "\u001b[1;32m~\\anaconda3\\lib\\json\\encoder.py\u001b[0m in \u001b[0;36mencode\u001b[1;34m(self, o)\u001b[0m\n\u001b[0;32m    197\u001b[0m         \u001b[1;31m# exceptions aren't as detailed.  The list call should be roughly\u001b[0m\u001b[1;33m\u001b[0m\u001b[1;33m\u001b[0m\u001b[0m\n\u001b[0;32m    198\u001b[0m         \u001b[1;31m# equivalent to the PySequence_Fast that ''.join() would do.\u001b[0m\u001b[1;33m\u001b[0m\u001b[1;33m\u001b[0m\u001b[0m\n\u001b[1;32m--> 199\u001b[1;33m         \u001b[0mchunks\u001b[0m \u001b[1;33m=\u001b[0m \u001b[0mself\u001b[0m\u001b[1;33m.\u001b[0m\u001b[0miterencode\u001b[0m\u001b[1;33m(\u001b[0m\u001b[0mo\u001b[0m\u001b[1;33m,\u001b[0m \u001b[0m_one_shot\u001b[0m\u001b[1;33m=\u001b[0m\u001b[1;32mTrue\u001b[0m\u001b[1;33m)\u001b[0m\u001b[1;33m\u001b[0m\u001b[1;33m\u001b[0m\u001b[0m\n\u001b[0m\u001b[0;32m    200\u001b[0m         \u001b[1;32mif\u001b[0m \u001b[1;32mnot\u001b[0m \u001b[0misinstance\u001b[0m\u001b[1;33m(\u001b[0m\u001b[0mchunks\u001b[0m\u001b[1;33m,\u001b[0m \u001b[1;33m(\u001b[0m\u001b[0mlist\u001b[0m\u001b[1;33m,\u001b[0m \u001b[0mtuple\u001b[0m\u001b[1;33m)\u001b[0m\u001b[1;33m)\u001b[0m\u001b[1;33m:\u001b[0m\u001b[1;33m\u001b[0m\u001b[1;33m\u001b[0m\u001b[0m\n\u001b[0;32m    201\u001b[0m             \u001b[0mchunks\u001b[0m \u001b[1;33m=\u001b[0m \u001b[0mlist\u001b[0m\u001b[1;33m(\u001b[0m\u001b[0mchunks\u001b[0m\u001b[1;33m)\u001b[0m\u001b[1;33m\u001b[0m\u001b[1;33m\u001b[0m\u001b[0m\n",
      "\u001b[1;32m~\\anaconda3\\lib\\json\\encoder.py\u001b[0m in \u001b[0;36miterencode\u001b[1;34m(self, o, _one_shot)\u001b[0m\n\u001b[0;32m    255\u001b[0m                 \u001b[0mself\u001b[0m\u001b[1;33m.\u001b[0m\u001b[0mkey_separator\u001b[0m\u001b[1;33m,\u001b[0m \u001b[0mself\u001b[0m\u001b[1;33m.\u001b[0m\u001b[0mitem_separator\u001b[0m\u001b[1;33m,\u001b[0m \u001b[0mself\u001b[0m\u001b[1;33m.\u001b[0m\u001b[0msort_keys\u001b[0m\u001b[1;33m,\u001b[0m\u001b[1;33m\u001b[0m\u001b[1;33m\u001b[0m\u001b[0m\n\u001b[0;32m    256\u001b[0m                 self.skipkeys, _one_shot)\n\u001b[1;32m--> 257\u001b[1;33m         \u001b[1;32mreturn\u001b[0m \u001b[0m_iterencode\u001b[0m\u001b[1;33m(\u001b[0m\u001b[0mo\u001b[0m\u001b[1;33m,\u001b[0m \u001b[1;36m0\u001b[0m\u001b[1;33m)\u001b[0m\u001b[1;33m\u001b[0m\u001b[1;33m\u001b[0m\u001b[0m\n\u001b[0m\u001b[0;32m    258\u001b[0m \u001b[1;33m\u001b[0m\u001b[0m\n\u001b[0;32m    259\u001b[0m def _make_iterencode(markers, _default, _encoder, _indent, _floatstr,\n",
      "\u001b[1;32m~\\anaconda3\\lib\\json\\encoder.py\u001b[0m in \u001b[0;36mdefault\u001b[1;34m(self, o)\u001b[0m\n\u001b[0;32m    177\u001b[0m \u001b[1;33m\u001b[0m\u001b[0m\n\u001b[0;32m    178\u001b[0m         \"\"\"\n\u001b[1;32m--> 179\u001b[1;33m         raise TypeError(f'Object of type {o.__class__.__name__} '\n\u001b[0m\u001b[0;32m    180\u001b[0m                         f'is not JSON serializable')\n\u001b[0;32m    181\u001b[0m \u001b[1;33m\u001b[0m\u001b[0m\n",
      "\u001b[1;31mTypeError\u001b[0m: Object of type Series is not JSON serializable"
     ]
    }
   ],
   "source": [
    "prueba=pd.read_csv('data/scrapeos/scrapeo22-05-19.csv')\n",
    "columnis=['link', 'make', 'model', 'price']\n",
    "prueba=prueba[columnis]\n",
    "anuncio=[]\n",
    "\n",
    "for i in range(10):\n",
    "   \n",
    "    anuncio.append(prueba.iloc[i])\n",
    "    anuncio=json.dumps(anuncio)\n",
    "    telegram_send.send(messages=[anuncio[i]])\n",
    "\n"
   ]
  },
  {
   "cell_type": "code",
   "execution_count": 235,
   "id": "17abddab",
   "metadata": {},
   "outputs": [
    {
     "data": {
      "text/plain": [
       "{'https://www.coches.com/coches-segunda-mano/ocasion-skoda-scala-10-tsi-ambition-dsg--81kw-en-cantabria.htm?id=6918161': ['Scala',\n",
       "  18900],\n",
       " 'https://www.coches.com/coches-segunda-mano/ocasion-nissan-qashqai-15dci-acenta-4x2-85kw-en-madrid.htm?id=6873984': ['Qashqai',\n",
       "  17900],\n",
       " 'https://www.coches.com/coches-segunda-mano/ocasion-hyundai-tucson-16crdi-48v-nline-x-4x2-dt-en-madrid.htm?id=6407987': ['Tucson',\n",
       "  27900],\n",
       " 'https://www.coches.com/coches-segunda-mano/ocasion-mazda-mazda6-w-22de-style-en-madrid.htm?id=6873976': ['Mazda6',\n",
       "  14900],\n",
       " 'https://www.coches.com/coches-segunda-mano/ocasion-seat-leon-10-ecotsi-s_s-reference-115-en-madrid.htm?id=6873944': ['León',\n",
       "  14900],\n",
       " 'https://www.coches.com/coches-segunda-mano/ocasion-toyota-auris-hybrid-140h-feel-edition-en-madrid.htm?id=6873952': ['Auris',\n",
       "  15490],\n",
       " 'https://www.coches.com/coches-segunda-mano/ocasion-hyundai-ioniq-hev-16-gdi-tecno-en-madrid.htm?id=6873950': ['Ioniq',\n",
       "  17900],\n",
       " 'https://www.coches.com/coches-segunda-mano/ocasion-hyundai-santa+fe-22crdi-tecno-7pl-2wd-8dct-en-madrid.htm?id=6874038': ['Santa',\n",
       "  43490],\n",
       " 'https://www.coches.com/coches-segunda-mano/ocasion-audi-a1-sportback-25-tfsi-en-madrid.htm?id=6873994': ['A1',\n",
       "  19990],\n",
       " 'https://www.coches.com/km0/seminuevo-hyundai-tucson-16-tgdi-phev-tecno-sky-at-en-madrid.htm?id=6874128': ['Tucson',\n",
       "  42490],\n",
       " 'https://www.coches.com/coches-segunda-mano/ocasion-hyundai-ioniq-hev-16-gdi-tecno-en-madrid.htm?id=6874032': ['Ioniq',\n",
       "  17490],\n",
       " 'https://www.coches.com/coches-segunda-mano/ocasion-bmw-serie+4-420ia-gran-coupe-en-madrid.htm?id=6874024': ['Serie 4',\n",
       "  31900],\n",
       " 'https://www.coches.com/coches-segunda-mano/ocasion-hyundai-kona-10-tgdi-klass-4x2-en-madrid.htm?id=6873990': ['Kona',\n",
       "  13990],\n",
       " 'https://www.coches.com/coches-segunda-mano/ocasion-hyundai-tucson-16crdi-48v-nline-4x2-en-madrid.htm?id=6874146': ['Tucson',\n",
       "  27490],\n",
       " 'https://www.coches.com/coches-segunda-mano/ocasion-hyundai-tucson-16-tgdi-hev-maxx-at-en-madrid.htm?id=6874136': ['Tucson',\n",
       "  32490],\n",
       " 'https://www.coches.com/coches-segunda-mano/ocasion-hyundai-i20-10-tgdi-klass-100-en-madrid.htm?id=6918159': ['I20',\n",
       "  13490],\n",
       " 'https://www.coches.com/coches-segunda-mano/ocasion-honda-jazz-13-i-vtec-elegance-navi-en-madrid.htm?id=6881902': ['Jazz',\n",
       "  12990],\n",
       " 'https://www.coches.com/coches-segunda-mano/ocasion-hyundai-i20-14-mpi-link-aut-en-madrid.htm?id=6898324': ['I20',\n",
       "  11900],\n",
       " 'https://www.coches.com/coches-segunda-mano/ocasion-volkswagen-golf-10-tsi-ready2go-85kw-en-madrid.htm?id=6881910': ['Golf',\n",
       "  14490],\n",
       " 'https://www.coches.com/coches-segunda-mano/ocasion-hyundai-ioniq-hev-16-gdi-style-en-madrid.htm?id=6881906': ['Ioniq',\n",
       "  16490],\n",
       " 'https://www.coches.com/coches-segunda-mano/ocasion-seat-ibiza-sc-10-ecotsi-s_s-reference-95-en-guadalajara.htm?id=6792692': ['Ibiza',\n",
       "  9900],\n",
       " 'https://www.coches.com/coches-segunda-mano/ocasion-bmw-serie+3-320da-gran-turismo-luxury-en-madrid.htm?id=6820077': ['Serie 3',\n",
       "  20900],\n",
       " 'https://www.coches.com/coches-segunda-mano/ocasion-seat-arona-10-tsi-ecomotive-s_s-style-95-en-palmas+las.htm?id=6918157': ['Arona',\n",
       "  16900],\n",
       " 'https://www.coches.com/coches-segunda-mano/ocasion-mini-countryman-mini--cooper-sd-all4-en-madrid.htm?id=6836879': ['Countryman',\n",
       "  15900],\n",
       " 'https://www.coches.com/km0/seminuevo-citroen-c3+aircross-bluehdi-s_s-shine-eat6-120-en-burgos.htm?id=6918155': ['C3',\n",
       "  22200],\n",
       " 'https://www.coches.com/coches-segunda-mano/ocasion-mitsubishi-outlander-220di-d-motion-2wd-7pl-en-madrid.htm?id=6918153': ['Outlander',\n",
       "  15900],\n",
       " 'https://www.coches.com/coches-segunda-mano/ocasion-seat-arona-10-tsi-ecomotive-s_s-style-115-en-malaga.htm?id=6918151': ['Arona',\n",
       "  19999],\n",
       " 'https://www.coches.com/km0/seminuevo-skoda-octavia-14tsi-phev-style-dsg-en-cantabria.htm?id=6918149': ['Octavia',\n",
       "  30900],\n",
       " 'https://www.coches.com/coches-segunda-mano/ocasion-volkswagen-t-roc-15-tsi-advance-dsg7-en-barcelona.htm?id=6758875': ['T-Roc',\n",
       "  22500],\n",
       " 'https://www.coches.com/coches-segunda-mano/ocasion-peugeot-508-16-puretech-s_s-allure-eat8-180-en-madrid.htm?id=6918147': ['508',\n",
       "  26990],\n",
       " 'https://www.coches.com/coches-segunda-mano/ocasion-skoda-fabia-10-tsi-ambition-plus-70kw-en-cantabria.htm?id=6918145': ['Fabia',\n",
       "  13100],\n",
       " 'https://www.coches.com/coches-segunda-mano/ocasion-bmw-serie+3-318d-en-pontevedra.htm?id=6918143': ['Serie 3',\n",
       "  18300],\n",
       " 'https://www.coches.com/coches-segunda-mano/ocasion-skoda-fabia-10-mpi-like-55kw-en-cantabria.htm?id=6918141': ['Fabia',\n",
       "  11900],\n",
       " 'https://www.coches.com/coches-segunda-mano/ocasion-audi-tt-s-coupe-20-tfsi-quattro-s-tronic-en-madrid.htm?id=6718974': ['Tt',\n",
       "  36490],\n",
       " 'https://www.coches.com/coches-segunda-mano/ocasion-alfa+romeo-stelvio-22-executive-awd-190-aut-en-madrid.htm?id=6918139': ['Stelvio',\n",
       "  30900],\n",
       " 'https://www.coches.com/coches-segunda-mano/ocasion-seat-ibiza-12-reference-70-en-girona.htm?id=6918137': ['Ibiza',\n",
       "  7500],\n",
       " 'https://www.coches.com/coches-segunda-mano/ocasion-peugeot-2008-16-e-hdi-allure-115-en-tarragona.htm?id=6918099': ['2008',\n",
       "  12500],\n",
       " 'https://www.coches.com/coches-segunda-mano/ocasion-skoda-kamiq-10-tsi-ambition-70kw-en-cantabria.htm?id=6918135': ['Kamiq',\n",
       "  16900],\n",
       " 'https://www.coches.com/coches-segunda-mano/ocasion-nissan-micra-12-visia-plus-en-barcelona.htm?id=6918133': ['Micra',\n",
       "  2900],\n",
       " 'https://www.coches.com/coches-segunda-mano/ocasion-volkswagen-golf-20-tsi-gti-clubsport-dsg-265-en-pontevedra.htm?id=6918129': ['Golf',\n",
       "  32990],\n",
       " 'https://www.coches.com/coches-segunda-mano/ocasion-fiat-doblo-cargo-13mjt-sx-70kw-en-madrid.htm?id=6918127': ['Dobló',\n",
       "  15900],\n",
       " 'https://www.coches.com/km0/seminuevo-kia-xceed-10-t-gdi-eco-dynamics-drive-en-avila.htm?id=6527493': ['Xceed',\n",
       "  19990],\n",
       " 'https://www.coches.com/coches-segunda-mano/ocasion-land+rover-range+rover+velar-20d-s-4wd-aut-240-en-sevilla.htm?id=6918125': ['Range',\n",
       "  49990],\n",
       " 'https://www.coches.com/coches-segunda-mano/ocasion-mercedes-clase+glc-glc-220d-4matic-aut-en-albacete.htm?id=6918123': ['Clase Glc',\n",
       "  27990],\n",
       " 'https://www.coches.com/coches-segunda-mano/ocasion-kia-sorento-22-crdi-emotion-aut-en-valencia.htm?id=6918121': ['Sorento',\n",
       "  15900],\n",
       " 'https://www.coches.com/coches-segunda-mano/ocasion-ford-mustang-convertible-50-ti-vct-gt-aut-en-madrid.htm?id=6908248': ['Mustang',\n",
       "  48000],\n",
       " 'https://www.coches.com/km0/seminuevo-kia-xceed-10-t-gdi-eco-dynamics-drive-en-avila.htm?id=6685624': ['Xceed',\n",
       "  19790],\n",
       " 'https://www.coches.com/coches-segunda-mano/ocasion-honda-civic-18-i-vtec-sport-en-madrid.htm?id=6918119': ['Civic',\n",
       "  5800],\n",
       " 'https://www.coches.com/coches-segunda-mano/ocasion-renault-talisman-st-16dci-energy-limited-96kw-en-salamanca.htm?id=6918117': ['Talisman',\n",
       "  14990],\n",
       " 'https://www.coches.com/coches-segunda-mano/ocasion-audi-a3-20tdi-ambition-en-lugo.htm?id=6918115': ['A3',\n",
       "  5900],\n",
       " 'https://www.coches.com/km0/seminuevo-seat-leon-15-tsi-s_s-fr-150-en-asturias.htm?id=6918075': ['León',\n",
       "  25900],\n",
       " 'https://www.coches.com/coches-segunda-mano/ocasion-fiat-panda-13-mjt-climbing-4x4-e5+-en-madrid.htm?id=6918113': ['Panda',\n",
       "  8900],\n",
       " 'https://www.coches.com/coches-segunda-mano/ocasion-audi-q3-sportback-35-tfsi-black-line-en-palmas+las.htm?id=6918111': ['Q3',\n",
       "  34990],\n",
       " 'https://www.coches.com/coches-segunda-mano/ocasion-hyundai-i10-10-klass-en-huelva.htm?id=6841396': ['I10',\n",
       "  8950],\n",
       " 'https://www.coches.com/coches-segunda-mano/ocasion-bmw-i3-94ah-bev-en-madrid.htm?id=6914231': ['I3',\n",
       "  22900],\n",
       " 'https://www.coches.com/coches-segunda-mano/ocasion-seat-leon-st-18-tsi-s_s-fr-180-en-barcelona.htm?id=6904688': ['León',\n",
       "  22000],\n",
       " 'https://www.coches.com/coches-segunda-mano/ocasion-mini-countryman-mini--one-d-en-huelva.htm?id=6906224': ['Countryman',\n",
       "  18900],\n",
       " 'https://www.coches.com/coches-segunda-mano/ocasion-opel-corsa-14-color-edition-90-475-en-huelva.htm?id=6878368': ['Corsa',\n",
       "  12950],\n",
       " 'https://www.coches.com/coches-segunda-mano/ocasion-mercedes-clase+cla-cla-200d-en-madrid.htm?id=6875404': ['Clase Cla',\n",
       "  20390],\n",
       " 'https://www.coches.com/km0/seminuevo-peugeot-308-15-bluehdi-s_s-gt-eat8-130-en-madrid.htm?id=6869072': ['308',\n",
       "  24890],\n",
       " 'https://www.coches.com/km0/seminuevo-skoda-karoq-15-tsi-scout-act-dsg-en-madrid.htm?id=6054098': ['Karoq',\n",
       "  25190],\n",
       " 'https://www.coches.com/coches-segunda-mano/ocasion-nissan-juke-10-dig-t-n-connecta-4x2-114-en-madrid.htm?id=6889940': ['Juke',\n",
       "  17590],\n",
       " 'https://www.coches.com/coches-segunda-mano/ocasion-mazda-mazda3-20-e-skyactiv-g-zenith-90kw-en-madrid.htm?id=6889942': ['Mazda3',\n",
       "  17390],\n",
       " 'https://www.coches.com/coches-segunda-mano/ocasion-opel-insignia-15-t-xft-s_s-ultimate-aut-165-en-madrid.htm?id=6889938': ['Insignia',\n",
       "  17390],\n",
       " 'https://www.coches.com/coches-segunda-mano/ocasion-mini-countryman-mini--cooper-d-en-madrid.htm?id=6881774': ['Countryman',\n",
       "  18990],\n",
       " 'https://www.coches.com/coches-segunda-mano/ocasion-jaguar-f-pace-20i4d-portfolio-aut-awd-240-en-madrid.htm?id=6881772': ['F-Pace',\n",
       "  37790],\n",
       " 'https://www.coches.com/km0/seminuevo-kia-xceed-10-t-gdi-eco-dynamics-drive-en-avila.htm?id=6811079': ['Xceed',\n",
       "  19790],\n",
       " 'https://www.coches.com/coches-segunda-mano/ocasion-peugeot-308-16-bluehdi-business-line-100-en-madrid.htm?id=6889956': ['308',\n",
       "  9990],\n",
       " 'https://www.coches.com/coches-segunda-mano/ocasion-fiat-tipo-16-multijet-ii-business-en-madrid.htm?id=6889950': ['Tipo',\n",
       "  8590],\n",
       " 'https://www.coches.com/coches-segunda-mano/ocasion-audi-q3-20tdi-sport-edition-88kw-en-madrid.htm?id=6889948': ['Q3',\n",
       "  20390],\n",
       " 'https://www.coches.com/coches-segunda-mano/ocasion-peugeot-308-15bluehdi-s_s-allure-130-en-madrid.htm?id=6889946': ['308',\n",
       "  13390],\n",
       " 'https://www.coches.com/coches-segunda-mano/ocasion-renault-clio-sport-tourer-15dci-energy-limited-55kw-en-madrid.htm?id=6889944': ['Clio',\n",
       "  8990],\n",
       " 'https://www.coches.com/coches-segunda-mano/ocasion-nissan-x-trail-16-dci-acenta-4x4-i-en-madrid.htm?id=6889966': ['X-Trail',\n",
       "  14790],\n",
       " 'https://www.coches.com/coches-segunda-mano/ocasion-ford-c-max-15tdci-trend+-120-en-madrid.htm?id=6889968': ['C-Max',\n",
       "  10890],\n",
       " 'https://www.coches.com/coches-segunda-mano/ocasion-kia-xceed-16-crdi-eco-dynamics-emotion-115-en-madrid.htm?id=6889964': ['Xceed',\n",
       "  19890],\n",
       " 'https://www.coches.com/coches-segunda-mano/ocasion-volkswagen-tiguan-20tdi-advance-85kw-en-madrid.htm?id=6889962': ['Tiguan',\n",
       "  22190],\n",
       " 'https://www.coches.com/coches-segunda-mano/ocasion-renault-captur-15dci-limited-66kw-en-madrid.htm?id=6889958': ['Captur',\n",
       "  12590],\n",
       " 'https://www.coches.com/coches-segunda-mano/ocasion-volkswagen-polo-16tdi-edition-59kw-en-madrid.htm?id=6889980': ['Polo',\n",
       "  12890],\n",
       " 'https://www.coches.com/coches-segunda-mano/ocasion-peugeot-3008-15bluehdi-allure-s_s-130-en-madrid.htm?id=6889978': ['3008',\n",
       "  17390],\n",
       " 'https://www.coches.com/coches-segunda-mano/ocasion-peugeot-5008-20bluehdi-s_s-gt-eat8-180-en-madrid.htm?id=6889976': ['5008',\n",
       "  23590],\n",
       " 'https://www.coches.com/coches-segunda-mano/ocasion-ford-focus-15tdci-trend+-120-en-madrid.htm?id=6889970': ['Focus',\n",
       "  10890],\n",
       " 'https://www.coches.com/coches-segunda-mano/ocasion-toyota-yaris-100h-15-feel-en-madrid.htm?id=6889994': ['Yaris',\n",
       "  15390],\n",
       " 'https://www.coches.com/coches-segunda-mano/ocasion-honda-civic-18-i-vtec-sport-navi-pack1-en-madrid.htm?id=6889992': ['Civic',\n",
       "  12690],\n",
       " 'https://www.coches.com/coches-segunda-mano/ocasion-peugeot-3008-12-s_s-puretech-allure-130-en-madrid.htm?id=6889990': ['3008',\n",
       "  18990],\n",
       " 'https://www.coches.com/coches-segunda-mano/ocasion-ford-kuga-20tdci-auto-s_s-titanium-4x2-150-en-madrid.htm?id=6889986': ['Kuga',\n",
       "  14290],\n",
       " 'https://www.coches.com/coches-segunda-mano/ocasion-mercedes-clase+c-c-estate-220d-7g-plus-en-madrid.htm?id=6889984': ['Clase C',\n",
       "  21790],\n",
       " 'https://www.coches.com/coches-segunda-mano/ocasion-skoda-octavia-16tdi-cr-ambition-en-madrid.htm?id=6889982': ['Octavia',\n",
       "  10190],\n",
       " 'https://www.coches.com/coches-segunda-mano/ocasion-volkswagen-t-cross-10-tsi-advance-dsg7-81kw-en-barcelona.htm?id=6765621': ['T-Cross',\n",
       "  22400],\n",
       " 'https://www.coches.com/coches-segunda-mano/ocasion-nissan-qashqai-15dci-acenta-4x2-en-madrid.htm?id=6890018': ['Qashqai',\n",
       "  12790],\n",
       " 'https://www.coches.com/coches-segunda-mano/ocasion-peugeot-208-16bluehdi-access-75-en-madrid.htm?id=6890014': ['208',\n",
       "  7290],\n",
       " 'https://www.coches.com/coches-segunda-mano/ocasion-citroen-c4-16bluehdi-live-edition-100-en-madrid.htm?id=6890006': ['C4',\n",
       "  7990],\n",
       " 'https://www.coches.com/coches-segunda-mano/ocasion-ford-focus-sportbreak-10-ecoboost-st-line-en-madrid.htm?id=6890000': ['Focus',\n",
       "  16590],\n",
       " 'https://www.coches.com/coches-segunda-mano/ocasion-bmw-serie+1-m135ia-xdrive-en-madrid.htm?id=6889998': ['Serie 1',\n",
       "  21890],\n",
       " 'https://www.coches.com/coches-segunda-mano/ocasion-peugeot-308-16-bluehdi-style-120-en-madrid.htm?id=6890030': ['308',\n",
       "  10590],\n",
       " 'https://www.coches.com/coches-segunda-mano/ocasion-mini-countryman-mini--one-d-en-madrid.htm?id=6890028': ['Countryman',\n",
       "  12890],\n",
       " 'https://www.coches.com/coches-segunda-mano/ocasion-peugeot-2008-12-puretech-s_s-gt-line-130-en-madrid.htm?id=6890026': ['2008',\n",
       "  12790],\n",
       " 'https://www.coches.com/coches-segunda-mano/ocasion-ford-tourneo+courier-15tdci-titanium-95-en-madrid.htm?id=6890024': ['Tourneo',\n",
       "  11190],\n",
       " 'https://www.coches.com/coches-segunda-mano/ocasion-audi-q3-20tdi-sport-edition-110kw-en-madrid.htm?id=6890042': ['Q3',\n",
       "  18990],\n",
       " 'https://www.coches.com/coches-segunda-mano/ocasion-honda-civic-16-i-dtec-elegance-navi-en-madrid.htm?id=6890046': ['Civic',\n",
       "  16990],\n",
       " 'https://www.coches.com/coches-segunda-mano/ocasion-volkswagen-passat-14-tsi-edition-en-madrid.htm?id=6890044': ['Passat',\n",
       "  13590],\n",
       " 'https://www.coches.com/coches-segunda-mano/ocasion-hyundai-i20-12-klass-en-madrid.htm?id=6890040': ['I20',\n",
       "  9390],\n",
       " 'https://www.coches.com/coches-segunda-mano/ocasion-hyundai-i20-14-klass-aut-en-madrid.htm?id=6890032': ['I20',\n",
       "  10490],\n",
       " 'https://www.coches.com/coches-segunda-mano/ocasion-seat-ibiza-10-tgi-s_s-fr-90-en-madrid.htm?id=6890066': ['Ibiza',\n",
       "  12590],\n",
       " 'https://www.coches.com/coches-segunda-mano/ocasion-volkswagen-polo-14-tdi-bmt-sport-77kw-en-madrid.htm?id=6890062': ['Polo',\n",
       "  13590],\n",
       " 'https://www.coches.com/coches-segunda-mano/ocasion-peugeot-208-12-puretech-s_s-allure-eat8-100-en-madrid.htm?id=6890060': ['208',\n",
       "  16490],\n",
       " 'https://www.coches.com/coches-segunda-mano/ocasion-opel-astra-st-16cdti-ss-dynamic-136-en-madrid.htm?id=6890056': ['Astra',\n",
       "  12290],\n",
       " 'https://www.coches.com/coches-segunda-mano/ocasion-volkswagen-passat-15-tsi-act-advance-110kw-en-madrid.htm?id=6890054': ['Passat',\n",
       "  17390],\n",
       " 'https://www.coches.com/coches-segunda-mano/ocasion-lexus-es-300h-eco-en-madrid.htm?id=6890076': ['Es',\n",
       "  30290],\n",
       " 'https://www.coches.com/coches-segunda-mano/ocasion-seat-leon-14-tsi-act-s_s-fr-dsg-150-en-madrid.htm?id=6890904': ['León',\n",
       "  17590],\n",
       " 'https://www.coches.com/coches-segunda-mano/ocasion-renault-megane-15dci-energy-zen-81kw-en-madrid.htm?id=6890562': ['Mégane',\n",
       "  12290],\n",
       " 'https://www.coches.com/coches-segunda-mano/ocasion-kia-sportage-16-mhev-gt-line-essential-4x2-136-en-madrid.htm?id=6890078': ['Sportage',\n",
       "  23290],\n",
       " 'https://www.coches.com/coches-segunda-mano/ocasion-toyota-corolla-125h-business-en-madrid.htm?id=6890070': ['Corolla',\n",
       "  19890],\n",
       " 'https://www.coches.com/coches-segunda-mano/ocasion-peugeot-partner-furgon-16hdi-confort-l1-90-en-madrid.htm?id=6891006': ['Partner',\n",
       "  8790],\n",
       " 'https://www.coches.com/coches-segunda-mano/ocasion-mercedes-clase+c-c-250-7g-plus-en-madrid.htm?id=6891002': ['Clase C',\n",
       "  23690],\n",
       " 'https://www.coches.com/coches-segunda-mano/ocasion-renault-megane-15dci-energy-zen-81kw-en-madrid.htm?id=6891000': ['Mégane',\n",
       "  13990],\n",
       " 'https://www.coches.com/coches-segunda-mano/ocasion-volkswagen-passat-20tdi-bit-sport-4m-dsg-176kw-en-madrid.htm?id=6890916': ['Passat',\n",
       "  20290],\n",
       " 'https://www.coches.com/coches-segunda-mano/ocasion-alfa+romeo-stelvio-22-super-rwd-190-aut-en-madrid.htm?id=6890908': ['Stelvio',\n",
       "  30690],\n",
       " 'https://www.coches.com/coches-segunda-mano/ocasion-peugeot-208-gt-electrico-100kw-en-madrid.htm?id=6891180': ['208',\n",
       "  22690],\n",
       " 'https://www.coches.com/coches-segunda-mano/ocasion-seat-mii-10-ecofuel-gnc-s_s-style-68-en-madrid.htm?id=6891164': ['Mii',\n",
       "  8990],\n",
       " 'https://www.coches.com/coches-segunda-mano/ocasion-dacia-dokker-van-15blue-dci-essential-70kw-en-madrid.htm?id=6891158': ['Dokker',\n",
       "  10790],\n",
       " 'https://www.coches.com/coches-segunda-mano/ocasion-volvo-v60-d6-plug-in-hybrid-awd-aut-en-madrid.htm?id=6891056': ['V60',\n",
       "  18490],\n",
       " 'https://www.coches.com/coches-segunda-mano/ocasion-mercedes-citan-tourer-109cdi-select-en-valencia.htm?id=6683608': ['Citan',\n",
       "  17970],\n",
       " 'https://www.coches.com/coches-segunda-mano/ocasion-citroen-berlingo-multispace-mixto-16bluehdi-largo-100-en-valencia.htm?id=6685620': ['Berlingo',\n",
       "  15970],\n",
       " 'https://www.coches.com/coches-segunda-mano/ocasion-toyota-aygo-70-x-play-en-valencia.htm?id=6674802': ['Aygo',\n",
       "  11970],\n",
       " 'https://www.coches.com/coches-segunda-mano/ocasion-ford-tourneo+courier-15tdci-trend-75-en-valencia.htm?id=6053786': ['Tourneo',\n",
       "  14970],\n",
       " 'https://www.coches.com/coches-segunda-mano/ocasion-mini-mini-one-d-en-valencia.htm?id=5977017': ['Mini',\n",
       "  15970],\n",
       " 'https://www.coches.com/coches-segunda-mano/ocasion-skoda-fabia-10-mpi-like-55kw-en-valencia.htm?id=6741909': ['Fabia',\n",
       "  12970],\n",
       " 'https://www.coches.com/coches-segunda-mano/ocasion-land+rover-discovery+sport-20td4-se-4x4-aut-150-en-valencia.htm?id=6692210': ['Discovery',\n",
       "  27970],\n",
       " 'https://www.coches.com/coches-segunda-mano/ocasion-mini-mini-cooper-aut-en-valencia.htm?id=6657280': ['Mini',\n",
       "  21970],\n",
       " 'https://www.coches.com/coches-segunda-mano/ocasion-dacia-sandero-09-tce-glp-stepway-66kw-en-valencia.htm?id=6656252': ['Sandero',\n",
       "  13970],\n",
       " 'https://www.coches.com/coches-segunda-mano/ocasion-citroen-c3-12-puretech-glp-feel-82-en-valencia.htm?id=6653036': ['C3',\n",
       "  13970],\n",
       " 'https://www.coches.com/coches-segunda-mano/ocasion-volkswagen-polo-10-bmt-advance-55kw-en-valencia.htm?id=6768556': ['Polo',\n",
       "  9970],\n",
       " 'https://www.coches.com/km0/seminuevo-dacia-sandero-09-tce-stepway-comfort-66kw-en-valencia.htm?id=6853558': ['Sandero',\n",
       "  14970],\n",
       " 'https://www.coches.com/coches-segunda-mano/ocasion-smart-forfour-66-en-valencia.htm?id=6794906': ['Forfour',\n",
       "  9970],\n",
       " 'https://www.coches.com/coches-segunda-mano/ocasion-citroen-berlingo-multispace-16bluehdi-feel-100-en-valencia.htm?id=6761222': ['Berlingo',\n",
       "  27970],\n",
       " 'https://www.coches.com/coches-segunda-mano/ocasion-audi-a1-sportback-10-tfsi-attracted-en-valencia.htm?id=6749659': ['A1',\n",
       "  16970],\n",
       " 'https://www.coches.com/coches-segunda-mano/ocasion-audi-a3-16tdi-design-edition-85kw-en-salamanca.htm?id=6918109': ['A3',\n",
       "  21500],\n",
       " 'https://www.coches.com/coches-segunda-mano/ocasion-citroen-c3-12-puretech-s_s-feel-83-en-valencia.htm?id=6857096': ['C3',\n",
       "  13970],\n",
       " 'https://www.coches.com/coches-segunda-mano/ocasion-citroen-jumpy-fg-bluehdi-talla-m-club-115-s_s-en-valencia.htm?id=6860150': ['Jumpy',\n",
       "  19970],\n",
       " 'https://www.coches.com/coches-segunda-mano/ocasion-peugeot-308-15bluehdi-s_s-tech-edition-130-en-valencia.htm?id=6857092': ['308',\n",
       "  17970],\n",
       " 'https://www.coches.com/coches-segunda-mano/ocasion-ford-s-max-20tdci-trend-150-en-madrid.htm?id=6749115': ['S-Max',\n",
       "  14490],\n",
       " 'https://www.coches.com/coches-segunda-mano/ocasion-ford-transit+courier-van-15tdci-trend-95-en-madrid.htm?id=6749087': ['Transit',\n",
       "  9390],\n",
       " 'https://www.coches.com/coches-segunda-mano/ocasion-peugeot-308-sw-12-puretech-s_s-gt-line-130-en-madrid.htm?id=6843403': ['308',\n",
       "  9690],\n",
       " 'https://www.coches.com/coches-segunda-mano/ocasion-peugeot-boxer-furgon-22hdi-330-l1h1-130-en-madrid.htm?id=6806665': ['Boxer',\n",
       "  16490],\n",
       " 'https://www.coches.com/coches-segunda-mano/ocasion-nissan-qashqai-15dci-n-connecta-4x2-en-madrid.htm?id=6800302': ['Qashqai',\n",
       "  16390],\n",
       " 'https://www.coches.com/coches-segunda-mano/ocasion-mitsubishi-space+star-120-mpi-kaiteki-en-madrid.htm?id=6787340': ['Space',\n",
       "  8990],\n",
       " 'https://www.coches.com/coches-segunda-mano/ocasion-peugeot-308-15bluehdi-s_s-business-line-130-en-madrid.htm?id=6869020': ['308',\n",
       "  11590],\n",
       " 'https://www.coches.com/coches-segunda-mano/ocasion-peugeot-3008-15bluehdi-gt-line-s_s-130-en-madrid.htm?id=6854996': ['3008',\n",
       "  20790],\n",
       " 'https://www.coches.com/coches-segunda-mano/ocasion-peugeot-2008-15-bluehdi-s_s-allure-100-en-madrid.htm?id=6854960': ['2008',\n",
       "  19590],\n",
       " 'https://www.coches.com/coches-segunda-mano/ocasion-volkswagen-golf-16tdi-cr-bmt-advance-110-en-madrid.htm?id=6848455': ['Golf',\n",
       "  11690],\n",
       " 'https://www.coches.com/coches-segunda-mano/ocasion-nissan-x-trail-16-dci-tekna-4x2-xtronic-en-madrid.htm?id=6848343': ['X-Trail',\n",
       "  18090],\n",
       " 'https://www.coches.com/coches-segunda-mano/ocasion-peugeot-508-sw-hybrid-225-gt-line-e-eat8-en-madrid.htm?id=6889932': ['508',\n",
       "  25990],\n",
       " 'https://www.coches.com/coches-segunda-mano/ocasion-opel-corsa-13cdti-business75-en-madrid.htm?id=6889934': ['Corsa',\n",
       "  7890],\n",
       " 'https://www.coches.com/coches-segunda-mano/ocasion-renault-kadjar-15dci-energy-business-edc-81kw-en-madrid.htm?id=6889928': ['Kadjar',\n",
       "  15090],\n",
       " 'https://www.coches.com/coches-segunda-mano/ocasion-kia-venga-14-cvvt-basic-en-madrid.htm?id=6881282': ['Venga',\n",
       "  8790],\n",
       " 'https://www.coches.com/coches-segunda-mano/ocasion-volkswagen-crafter-ch-dcb-20tdi-scr-35-bm-l3-103kw-en-madrid.htm?id=6764479': ['Crafter',\n",
       "  25190],\n",
       " 'https://www.coches.com/coches-segunda-mano/ocasion-peugeot-407-22-st-sport-en-vizcaya.htm?id=6918107': ['407',\n",
       "  5000],\n",
       " 'https://www.coches.com/coches-segunda-mano/ocasion-mercedes-clase+gla-gla-220d-4matic-7g-dct-170-en-madrid.htm?id=6859278': ['Clase Gla',\n",
       "  33900],\n",
       " 'https://www.coches.com/coches-segunda-mano/ocasion-bmw-serie+1-118i-en-madrid.htm?id=6859134': ['Serie 1',\n",
       "  19900],\n",
       " 'https://www.coches.com/coches-segunda-mano/ocasion-volkswagen-polo-10-tsi-advance-70kw-en-madrid.htm?id=6859016': ['Polo',\n",
       "  16900],\n",
       " 'https://www.coches.com/coches-segunda-mano/ocasion-volkswagen-passat-18-tsi-sport-dsg-en-madrid.htm?id=6858618': ['Passat',\n",
       "  25900],\n",
       " 'https://www.coches.com/coches-segunda-mano/ocasion-volkswagen-polo-10-tsi-advance-70kw-en-madrid.htm?id=6858340': ['Polo',\n",
       "  16900],\n",
       " 'https://www.coches.com/coches-segunda-mano/ocasion-honda-hr-v-15-i-vtec-executive-cvt-en-madrid.htm?id=6872958': ['Hr-V',\n",
       "  18900],\n",
       " 'https://www.coches.com/coches-segunda-mano/ocasion-bmw-serie+1-116d-en-madrid.htm?id=6866666': ['Serie 1',\n",
       "  27890],\n",
       " 'https://www.coches.com/coches-segunda-mano/ocasion-ford-mustang-fastback-50-ti-vct-gt-aut-en-madrid.htm?id=6866100': ['Mustang',\n",
       "  42890],\n",
       " 'https://www.coches.com/coches-segunda-mano/ocasion-nissan-leaf-tekna-30kwh-en-madrid.htm?id=6859298': ['Leaf',\n",
       "  13500],\n",
       " 'https://www.coches.com/coches-segunda-mano/ocasion-hyundai-ioniq-hev-16-gdi-tecno-en-madrid.htm?id=6859302': ['Ioniq',\n",
       "  18490],\n",
       " 'https://www.coches.com/km0/seminuevo-ford-mustang+mach-e-awd-rango-extendido-en-madrid.htm?id=6875348': ['Mustang',\n",
       "  64900],\n",
       " 'https://www.coches.com/coches-segunda-mano/ocasion-opel-astra-14t-dynamic-125-en-madrid.htm?id=6875264': ['Astra',\n",
       "  17500],\n",
       " 'https://www.coches.com/coches-segunda-mano/ocasion-bmw-serie+1-118da-en-madrid.htm?id=6875190': ['Serie 1',\n",
       "  30900],\n",
       " 'https://www.coches.com/coches-segunda-mano/ocasion-volkswagen-tiguan-20tdi-sport-4motion-dsg-140kw-en-madrid.htm?id=6870412': ['Tiguan',\n",
       "  28900],\n",
       " 'https://www.coches.com/coches-segunda-mano/ocasion-toyota-rav-4-25-hybrid-2wd-advance-en-madrid.htm?id=6865280': ['Rav-4',\n",
       "  23990],\n",
       " 'https://www.coches.com/coches-segunda-mano/ocasion-honda-crx-16i-16-vti-vtec-en-madrid.htm?id=6861056': ['Crx',\n",
       "  5990],\n",
       " 'https://www.coches.com/km0/seminuevo-seat-leon-10-ecotsi-s_s-reference-90-en-madrid.htm?id=6855306': ['León',\n",
       "  19900],\n",
       " 'https://www.coches.com/coches-segunda-mano/ocasion-opel-astra-17cdti-ss-selective-en-barcelona.htm?id=6820255': ['Astra',\n",
       "  9950],\n",
       " 'https://www.coches.com/coches-segunda-mano/ocasion-seat-leon-19tdi-emocion-en-barcelona.htm?id=6820181': ['León',\n",
       "  6950],\n",
       " 'https://www.coches.com/km0/seminuevo-jeep-wrangler-unlimited-20-4xe-sahara-8atx-en-madrid.htm?id=6843697': ['Wrangler',\n",
       "  65750],\n",
       " 'https://www.coches.com/coches-segunda-mano/ocasion-volkswagen-beetle-cabrio-14-tsi-design-110kw-en-madrid.htm?id=6846243': ['Beetle',\n",
       "  21990],\n",
       " 'https://www.coches.com/km0/seminuevo-jeep-compass-16-mjt-longitude-fwd-en-madrid.htm?id=6853389': ['Compass',\n",
       "  24900],\n",
       " 'https://www.coches.com/coches-segunda-mano/ocasion-peugeot-3008-20-bluehdi-allure-150-en-madrid.htm?id=6828895': ['3008',\n",
       "  11590],\n",
       " 'https://www.coches.com/coches-segunda-mano/ocasion-renault-megane-cc-16-extreme-en-barcelona.htm?id=6833573': ['Mégane',\n",
       "  6500],\n",
       " 'https://www.coches.com/coches-segunda-mano/ocasion-fiat-500-12-mirror-en-madrid.htm?id=6828909': ['500',\n",
       "  10990],\n",
       " 'https://www.coches.com/coches-segunda-mano/ocasion-bmw-x6-xdrive-30da-en-madrid.htm?id=6839857': ['X6',\n",
       "  46900],\n",
       " 'https://www.coches.com/coches-segunda-mano/ocasion-toyota-yaris-15-active-en-valencia.htm?id=6839363': ['Yaris',\n",
       "  11990],\n",
       " 'https://www.coches.com/coches-segunda-mano/ocasion-bmw-x5-sdrive-25da-en-madrid.htm?id=6828923': ['X5',\n",
       "  35900],\n",
       " 'https://www.coches.com/coches-segunda-mano/ocasion-renault-megane-15dci-energy-life-66kw-en-valencia.htm?id=6839361': ['Mégane',\n",
       "  12990],\n",
       " 'https://www.coches.com/km0/seminuevo-skoda-karoq-15-tsi-ambition-act-dsg-en-madrid.htm?id=6822179': ['Karoq',\n",
       "  28555],\n",
       " 'https://www.coches.com/coches-segunda-mano/ocasion-ford-edge-20tdci-titanium-4x4-180-en-vizcaya.htm?id=6801776': ['Edge',\n",
       "  24490],\n",
       " 'https://www.coches.com/coches-segunda-mano/ocasion-nissan-micra-ig-t-acenta-100-en-valencia.htm?id=6737343': ['Micra',\n",
       "  14500],\n",
       " 'https://www.coches.com/km0/seminuevo-hyundai-kona-10-tgdi-klass-4x2-en-madrid.htm?id=6758689': ['Kona',\n",
       "  17200],\n",
       " 'https://www.coches.com/km0/seminuevo-seat-ateca-20tdi-cr-s_s-style-116-en-asturias.htm?id=6672440': ['Ateca',\n",
       "  27500],\n",
       " 'https://www.coches.com/coches-segunda-mano/ocasion-kia-rio-12-cvvt-eco-dynamics-drive-en-madrid.htm?id=6773364': ['Rio',\n",
       "  13200],\n",
       " 'https://www.coches.com/km0/seminuevo-fiat-500-e-70kw-action-en-madrid.htm?id=6754605': ['500',\n",
       "  22600],\n",
       " 'https://www.coches.com/coches-segunda-mano/ocasion-volkswagen-tiguan-15-tsi-advance-dsg-110kw-en-malaga.htm?id=6736983': ['Tiguan',\n",
       "  29900],\n",
       " 'https://www.coches.com/coches-segunda-mano/ocasion-audi-a3-sedan-20tdi-design-edition-s-t-110kw-en-malaga.htm?id=6732286': ['A3',\n",
       "  20810],\n",
       " 'https://www.coches.com/coches-segunda-mano/ocasion-mercedes-clase+glc-glc-coupe-250d-4matic-aut-en-sevilla.htm?id=6765085': ['Clase Glc',\n",
       "  47500],\n",
       " 'https://www.coches.com/coches-segunda-mano/ocasion-hyundai-i10-10-mpi-klass-en-madrid.htm?id=6749791': ['I10',\n",
       "  12400],\n",
       " 'https://www.coches.com/coches-segunda-mano/ocasion-ford-ecosport-10-ecoboost-st-line-125-en-barcelona.htm?id=6564425': ['Ecosport',\n",
       "  14900],\n",
       " 'https://www.coches.com/coches-segunda-mano/ocasion-peugeot-3008-16bluehdi-allure-s_s-eat6-120-en-valencia.htm?id=6724518': ['3008',\n",
       "  21600],\n",
       " 'https://www.coches.com/coches-segunda-mano/ocasion-volkswagen-golf-20-tsi-gti-clubsport-dsg-265-en-barcelona.htm?id=6721070': ['Golf',\n",
       "  28500]}"
      ]
     },
     "execution_count": 235,
     "metadata": {},
     "output_type": "execute_result"
    }
   ],
   "source": [
    "n=prueba.set_index('link').T.to_dict('list')\n",
    "n"
   ]
  },
  {
   "cell_type": "code",
   "execution_count": 252,
   "id": "ccdff567",
   "metadata": {},
   "outputs": [],
   "source": [
    "def on_epoch_end():\n",
    "    for i in range(10):\n",
    "       \n",
    "        \n",
    "        prueba=pd.read_csv('data/scrapeos/scrapeo22-05-19.csv')\n",
    "        n=prueba.set_index('link').T.to_dict('list')\n",
    "\n",
    "        columnis=['link', 'make', 'model', 'price']\n",
    "        prueba=prueba[columnis]\n",
    "        anuncio=[]\n",
    "\n",
    "        for i in range(10):\n",
    "\n",
    "            anuncio.append(prueba.iloc[i])\n",
    "        \n",
    "            telegram_send.send(messages=[dict(anuncio[i])])\n",
    " "
   ]
  },
  {
   "cell_type": "code",
   "execution_count": null,
   "id": "36452bc3",
   "metadata": {},
   "outputs": [],
   "source": []
  },
  {
   "cell_type": "code",
   "execution_count": null,
   "id": "e475772c",
   "metadata": {},
   "outputs": [],
   "source": []
  },
  {
   "cell_type": "code",
   "execution_count": null,
   "id": "21e313f4",
   "metadata": {},
   "outputs": [],
   "source": []
  },
  {
   "cell_type": "code",
   "execution_count": 30,
   "id": "d8ab9670",
   "metadata": {},
   "outputs": [],
   "source": [
    "dir_path = '/Users/alima/anaconda3/airflow'\n",
    "current_date = pd.to_datetime('today').strftime('%Y-%m-%d')"
   ]
  },
  {
   "cell_type": "code",
   "execution_count": 41,
   "id": "456d8fba",
   "metadata": {},
   "outputs": [
    {
     "data": {
      "text/html": [
       "<pre style=\"white-space:pre;overflow-x:auto;line-height:normal;font-family:Menlo,'DejaVu Sans Mono',consolas,'Courier New',monospace\"><span style=\"color: #808000; text-decoration-color: #808000; font-weight: bold\">C:\\Users\\alima\\AppData\\Local\\Temp/ipykernel_14128/</span><span style=\"color: #808000; text-decoration-color: #808000; font-weight: bold\">857421914.</span><span style=\"color: #808000; text-decoration-color: #808000; font-weight: bold\">py:</span><span style=\"color: #808000; text-decoration-color: #808000; font-weight: bold\">26</span><span style=\"color: #808000; text-decoration-color: #808000; font-weight: bold\"> DeprecationWarning</span><span style=\"color: #808000; text-decoration-color: #808000\">: provide_context is deprecated as of </span><span style=\"color: #808000; text-decoration-color: #808000; font-weight: bold\">2.0</span><span style=\"color: #808000; text-decoration-color: #808000\"> and is no longer required</span>\n",
       "</pre>\n"
      ],
      "text/plain": [
       "\u001b[1;33mC:\\Users\\alima\\AppData\\Local\\Temp/ipykernel_14128/\u001b[0m\u001b[1;33m857421914.\u001b[0m\u001b[1;33mpy:\u001b[0m\u001b[1;33m26\u001b[0m\u001b[1;33m DeprecationWarning\u001b[0m\u001b[33m: provide_context is deprecated as of \u001b[0m\u001b[1;33m2.0\u001b[0m\u001b[33m and is no longer required\u001b[0m\n"
      ]
     },
     "metadata": {},
     "output_type": "display_data"
    },
    {
     "data": {
      "text/plain": [
       "<Task(PythonOperator): send_telegram>"
      ]
     },
     "execution_count": 41,
     "metadata": {},
     "output_type": "execute_result"
    }
   ],
   "source": [
    "default_args = {\n",
    "    'owner': 'adrian',\n",
    "    'depends_on_past': False,\n",
    "    'start_date': datetime(2022, 5, 14),\n",
    "    'email': ['adrianpradomart@gmail.com'],\n",
    "    'email_on_failure': False,\n",
    "    'email_on_retry': False,\n",
    "    'email_on_success': True,\n",
    "    'retries': 2,\n",
    "    'retry_delay': timedelta(hours=1),\n",
    "}\n",
    "\n",
    "dag = DAG(\n",
    "    'coches_scrap',\n",
    "    description='coches price scraping',\n",
    "    schedule_interval='*/0 * * * *',   # cada hora (https://en.wikipedia.org/wiki/Cron#CRON_expression)\n",
    "    default_args=default_args,\n",
    "    catchup=False,\n",
    ")\n",
    "\n",
    "tarea1=PythonOperator(task_id='links', python_callable=links, dag=dag)\n",
    "tarea2=PythonOperator(task_id='scrapeo', python_callable=scrapeo, dag=dag)\n",
    "\n",
    "tarea3=PythonOperator(task_id='limpieza', python_callable=limpieza, dag=dag)\n",
    "\n",
    "send_telegram = PythonOperator(\n",
    "    task_id = 'send_telegram',\n",
    "    python_callable = telegram_bot,\n",
    "    provide_context = True,\n",
    "    dag = dag\n",
    ")\n",
    "\n",
    "# secuencia de tareas\n",
    "tarea1 >> tarea2 >> tarea3 >> send_telegram"
   ]
  },
  {
   "cell_type": "code",
   "execution_count": 35,
   "id": "1a4db57f",
   "metadata": {},
   "outputs": [
    {
     "name": "stderr",
     "output_type": "stream",
     "text": [
      "C:\\Users\\alima\\anaconda3\\python.exe: can't find '__main__' module in 'C:\\\\Users\\\\alima\\\\airflow'\n"
     ]
    }
   ],
   "source": [
    "!python /Users/alima/airflow"
   ]
  },
  {
   "cell_type": "code",
   "execution_count": null,
   "id": "b24ed6a7",
   "metadata": {},
   "outputs": [],
   "source": [
    "\n"
   ]
  },
  {
   "cell_type": "code",
   "execution_count": null,
   "id": "4bfd83e5",
   "metadata": {},
   "outputs": [],
   "source": []
  }
 ],
 "metadata": {
  "kernelspec": {
   "display_name": "Python 3 (ipykernel)",
   "language": "python",
   "name": "python3"
  },
  "language_info": {
   "codemirror_mode": {
    "name": "ipython",
    "version": 3
   },
   "file_extension": ".py",
   "mimetype": "text/x-python",
   "name": "python",
   "nbconvert_exporter": "python",
   "pygments_lexer": "ipython3",
   "version": "3.9.7"
  }
 },
 "nbformat": 4,
 "nbformat_minor": 5
}
