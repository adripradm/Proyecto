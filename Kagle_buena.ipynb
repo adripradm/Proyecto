{
 "cells": [
  {
   "cell_type": "code",
   "execution_count": 58,
   "id": "8875a5e2",
   "metadata": {},
   "outputs": [],
   "source": [
    "import pandas as pd\n",
    "import numpy as np\n",
    "from sklearn.ensemble import RandomForestRegressor as RFR\n",
    "%matplotlib inline\n",
    "import pylab as plt\n",
    "import seaborn as sns\n",
    "from sklearn.model_selection import train_test_split as tts\n",
    "from sklearn.preprocessing import StandardScaler\n",
    "from sklearn.cluster import KMeans\n",
    "import h2o\n",
    "from h2o.automl import H2OAutoML\n",
    "scaler=StandardScaler()\n",
    "\n",
    "from sklearn.metrics import mean_squared_error as mse"
   ]
  },
  {
   "cell_type": "code",
   "execution_count": 2,
   "id": "6b0ce77c",
   "metadata": {},
   "outputs": [],
   "source": [
    "data2015=pd.read_csv('data/coches-de-segunda-mano-sample.csv')"
   ]
  },
  {
   "cell_type": "code",
   "execution_count": 132,
   "id": "4406a5f3",
   "metadata": {
    "scrolled": true
   },
   "outputs": [
    {
     "data": {
      "text/html": [
       "<div>\n",
       "<style scoped>\n",
       "    .dataframe tbody tr th:only-of-type {\n",
       "        vertical-align: middle;\n",
       "    }\n",
       "\n",
       "    .dataframe tbody tr th {\n",
       "        vertical-align: top;\n",
       "    }\n",
       "\n",
       "    .dataframe thead th {\n",
       "        text-align: right;\n",
       "    }\n",
       "</style>\n",
       "<table border=\"1\" class=\"dataframe\">\n",
       "  <thead>\n",
       "    <tr style=\"text-align: right;\">\n",
       "      <th></th>\n",
       "      <th>url</th>\n",
       "      <th>company</th>\n",
       "      <th>make</th>\n",
       "      <th>model</th>\n",
       "      <th>version</th>\n",
       "      <th>price</th>\n",
       "      <th>price_financed</th>\n",
       "      <th>fuel</th>\n",
       "      <th>year</th>\n",
       "      <th>kms</th>\n",
       "      <th>...</th>\n",
       "      <th>doors</th>\n",
       "      <th>shift</th>\n",
       "      <th>color</th>\n",
       "      <th>photos</th>\n",
       "      <th>is_professional</th>\n",
       "      <th>dealer</th>\n",
       "      <th>province</th>\n",
       "      <th>country</th>\n",
       "      <th>publish_date</th>\n",
       "      <th>insert_date</th>\n",
       "    </tr>\n",
       "  </thead>\n",
       "  <tbody>\n",
       "    <tr>\n",
       "      <th>0</th>\n",
       "      <td>e158ae0ca53119ca199c28c36b5c2fcd</td>\n",
       "      <td>9881bcdd5a0ad4733037b3fb25e69c3a</td>\n",
       "      <td>SEAT</td>\n",
       "      <td>Toledo</td>\n",
       "      <td>SEAT Toledo  4p.</td>\n",
       "      <td>950</td>\n",
       "      <td>NaN</td>\n",
       "      <td>Diésel</td>\n",
       "      <td>2000.0</td>\n",
       "      <td>227000</td>\n",
       "      <td>...</td>\n",
       "      <td>4</td>\n",
       "      <td>Manual</td>\n",
       "      <td>Verde</td>\n",
       "      <td>5</td>\n",
       "      <td>False</td>\n",
       "      <td>0f4bb8455d27349b8273109b66a847f3</td>\n",
       "      <td>Navarra</td>\n",
       "      <td>Spain</td>\n",
       "      <td>2020-12-18 10:47:13</td>\n",
       "      <td>2021-01-15 00:00:00</td>\n",
       "    </tr>\n",
       "    <tr>\n",
       "      <th>1</th>\n",
       "      <td>ff267ebb7e700246f47f84f3db660b4b</td>\n",
       "      <td>9881bcdd5a0ad4733037b3fb25e69c3a</td>\n",
       "      <td>CITROEN</td>\n",
       "      <td>C1</td>\n",
       "      <td>CITROEN C1 PureTech 60KW 82CV Feel 5p.</td>\n",
       "      <td>6200</td>\n",
       "      <td>NaN</td>\n",
       "      <td>Gasolina</td>\n",
       "      <td>2017.0</td>\n",
       "      <td>50071</td>\n",
       "      <td>...</td>\n",
       "      <td>5</td>\n",
       "      <td>Manual</td>\n",
       "      <td>Blanco</td>\n",
       "      <td>6</td>\n",
       "      <td>True</td>\n",
       "      <td>Autos Raymara</td>\n",
       "      <td>Tenerife</td>\n",
       "      <td>Spain</td>\n",
       "      <td>2021-01-02 11:25:40</td>\n",
       "      <td>2021-01-15 00:00:00</td>\n",
       "    </tr>\n",
       "    <tr>\n",
       "      <th>2</th>\n",
       "      <td>de4b02db28ea7786c622b969be10c7c7</td>\n",
       "      <td>9881bcdd5a0ad4733037b3fb25e69c3a</td>\n",
       "      <td>FORD</td>\n",
       "      <td>Transit Connect</td>\n",
       "      <td>FORD Transit Connect Van 1.5 TDCi 100cv Ambiente 200 L1</td>\n",
       "      <td>7851</td>\n",
       "      <td>7024.0</td>\n",
       "      <td>Diésel</td>\n",
       "      <td>2016.0</td>\n",
       "      <td>103000</td>\n",
       "      <td>...</td>\n",
       "      <td>4</td>\n",
       "      <td>Manual</td>\n",
       "      <td>Blanco</td>\n",
       "      <td>10</td>\n",
       "      <td>True</td>\n",
       "      <td>Auto 96</td>\n",
       "      <td>Barcelona</td>\n",
       "      <td>Spain</td>\n",
       "      <td>2020-12-16 10:51:45</td>\n",
       "      <td>2021-01-15 00:00:00</td>\n",
       "    </tr>\n",
       "    <tr>\n",
       "      <th>3</th>\n",
       "      <td>0449972a4d07594acf92e9a7dd28b39c</td>\n",
       "      <td>9881bcdd5a0ad4733037b3fb25e69c3a</td>\n",
       "      <td>VOLKSWAGEN</td>\n",
       "      <td>Caravelle</td>\n",
       "      <td>VOLKSWAGEN Caravelle Largo 2.0 TDI 140 Comfortlin Edition BMT</td>\n",
       "      <td>19426</td>\n",
       "      <td>NaN</td>\n",
       "      <td>Diésel</td>\n",
       "      <td>2014.0</td>\n",
       "      <td>120000</td>\n",
       "      <td>...</td>\n",
       "      <td>4</td>\n",
       "      <td>Manual</td>\n",
       "      <td>Blanco</td>\n",
       "      <td>9</td>\n",
       "      <td>True</td>\n",
       "      <td>Inniauto</td>\n",
       "      <td>Navarra</td>\n",
       "      <td>Spain</td>\n",
       "      <td>2020-11-25 11:09:14</td>\n",
       "      <td>2021-01-15 00:00:00</td>\n",
       "    </tr>\n",
       "    <tr>\n",
       "      <th>4</th>\n",
       "      <td>12c4fa49bd4fdf23f19ecf396d3f02ef</td>\n",
       "      <td>9881bcdd5a0ad4733037b3fb25e69c3a</td>\n",
       "      <td>FORD</td>\n",
       "      <td>Transit</td>\n",
       "      <td>FORD Transit 350 96kW L4 Ambiente Propulsion Trasera</td>\n",
       "      <td>22850</td>\n",
       "      <td>22800.0</td>\n",
       "      <td>Diésel</td>\n",
       "      <td>2017.0</td>\n",
       "      <td>107000</td>\n",
       "      <td>...</td>\n",
       "      <td>2</td>\n",
       "      <td>Manual</td>\n",
       "      <td>Blanco</td>\n",
       "      <td>4</td>\n",
       "      <td>True</td>\n",
       "      <td>Autofleet España,s.l</td>\n",
       "      <td>Sevilla</td>\n",
       "      <td>Spain</td>\n",
       "      <td>2021-01-12 20:00:34</td>\n",
       "      <td>2021-01-15 00:00:00</td>\n",
       "    </tr>\n",
       "  </tbody>\n",
       "</table>\n",
       "<p>5 rows × 21 columns</p>\n",
       "</div>"
      ],
      "text/plain": [
       "                                url                           company  \\\n",
       "0  e158ae0ca53119ca199c28c36b5c2fcd  9881bcdd5a0ad4733037b3fb25e69c3a   \n",
       "1  ff267ebb7e700246f47f84f3db660b4b  9881bcdd5a0ad4733037b3fb25e69c3a   \n",
       "2  de4b02db28ea7786c622b969be10c7c7  9881bcdd5a0ad4733037b3fb25e69c3a   \n",
       "3  0449972a4d07594acf92e9a7dd28b39c  9881bcdd5a0ad4733037b3fb25e69c3a   \n",
       "4  12c4fa49bd4fdf23f19ecf396d3f02ef  9881bcdd5a0ad4733037b3fb25e69c3a   \n",
       "\n",
       "         make            model  \\\n",
       "0        SEAT           Toledo   \n",
       "1     CITROEN               C1   \n",
       "2        FORD  Transit Connect   \n",
       "3  VOLKSWAGEN        Caravelle   \n",
       "4        FORD          Transit   \n",
       "\n",
       "                                                         version  price  \\\n",
       "0                                               SEAT Toledo  4p.    950   \n",
       "1                         CITROEN C1 PureTech 60KW 82CV Feel 5p.   6200   \n",
       "2        FORD Transit Connect Van 1.5 TDCi 100cv Ambiente 200 L1   7851   \n",
       "3  VOLKSWAGEN Caravelle Largo 2.0 TDI 140 Comfortlin Edition BMT  19426   \n",
       "4           FORD Transit 350 96kW L4 Ambiente Propulsion Trasera  22850   \n",
       "\n",
       "   price_financed      fuel    year     kms  ...  doors   shift   color  \\\n",
       "0             NaN    Diésel  2000.0  227000  ...      4  Manual   Verde   \n",
       "1             NaN  Gasolina  2017.0   50071  ...      5  Manual  Blanco   \n",
       "2          7024.0    Diésel  2016.0  103000  ...      4  Manual  Blanco   \n",
       "3             NaN    Diésel  2014.0  120000  ...      4  Manual  Blanco   \n",
       "4         22800.0    Diésel  2017.0  107000  ...      2  Manual  Blanco   \n",
       "\n",
       "  photos  is_professional                            dealer   province  \\\n",
       "0      5            False  0f4bb8455d27349b8273109b66a847f3    Navarra   \n",
       "1      6             True                     Autos Raymara   Tenerife   \n",
       "2     10             True                           Auto 96  Barcelona   \n",
       "3      9             True                          Inniauto    Navarra   \n",
       "4      4             True              Autofleet España,s.l    Sevilla   \n",
       "\n",
       "  country         publish_date          insert_date  \n",
       "0   Spain  2020-12-18 10:47:13  2021-01-15 00:00:00  \n",
       "1   Spain  2021-01-02 11:25:40  2021-01-15 00:00:00  \n",
       "2   Spain  2020-12-16 10:51:45  2021-01-15 00:00:00  \n",
       "3   Spain  2020-11-25 11:09:14  2021-01-15 00:00:00  \n",
       "4   Spain  2021-01-12 20:00:34  2021-01-15 00:00:00  \n",
       "\n",
       "[5 rows x 21 columns]"
      ]
     },
     "execution_count": 132,
     "metadata": {},
     "output_type": "execute_result"
    }
   ],
   "source": [
    "data2015.head()"
   ]
  },
  {
   "cell_type": "code",
   "execution_count": 137,
   "id": "5b56aa2e",
   "metadata": {},
   "outputs": [
    {
     "data": {
      "text/html": [
       "<div>\n",
       "<style scoped>\n",
       "    .dataframe tbody tr th:only-of-type {\n",
       "        vertical-align: middle;\n",
       "    }\n",
       "\n",
       "    .dataframe tbody tr th {\n",
       "        vertical-align: top;\n",
       "    }\n",
       "\n",
       "    .dataframe thead th {\n",
       "        text-align: right;\n",
       "    }\n",
       "</style>\n",
       "<table border=\"1\" class=\"dataframe\">\n",
       "  <thead>\n",
       "    <tr style=\"text-align: right;\">\n",
       "      <th></th>\n",
       "      <th>url</th>\n",
       "      <th>company</th>\n",
       "      <th>make</th>\n",
       "      <th>model</th>\n",
       "      <th>version</th>\n",
       "      <th>price</th>\n",
       "      <th>price_financed</th>\n",
       "      <th>fuel</th>\n",
       "      <th>year</th>\n",
       "      <th>kms</th>\n",
       "      <th>...</th>\n",
       "      <th>doors</th>\n",
       "      <th>shift</th>\n",
       "      <th>color</th>\n",
       "      <th>photos</th>\n",
       "      <th>is_professional</th>\n",
       "      <th>dealer</th>\n",
       "      <th>province</th>\n",
       "      <th>country</th>\n",
       "      <th>publish_date</th>\n",
       "      <th>insert_date</th>\n",
       "    </tr>\n",
       "  </thead>\n",
       "  <tbody>\n",
       "    <tr>\n",
       "      <th>33</th>\n",
       "      <td>96f6942670d545a38572afacb3e5f5a6</td>\n",
       "      <td>9881bcdd5a0ad4733037b3fb25e69c3a</td>\n",
       "      <td>RENAULT</td>\n",
       "      <td>Captur</td>\n",
       "      <td>RENAULT Captur Zen TCe 66kW 90CV 5p.</td>\n",
       "      <td>14650</td>\n",
       "      <td>14650.0</td>\n",
       "      <td>Gasolina</td>\n",
       "      <td>2019.0</td>\n",
       "      <td>14000</td>\n",
       "      <td>...</td>\n",
       "      <td>5</td>\n",
       "      <td>Manual</td>\n",
       "      <td>Blanco</td>\n",
       "      <td>10</td>\n",
       "      <td>True</td>\n",
       "      <td>Ald Automotive</td>\n",
       "      <td>Madrid</td>\n",
       "      <td>Spain</td>\n",
       "      <td>2020-12-16 15:45:07</td>\n",
       "      <td>2021-01-15 00:00:00</td>\n",
       "    </tr>\n",
       "    <tr>\n",
       "      <th>42</th>\n",
       "      <td>7953b1ccdeeed4cd4ddf310671fa2a27</td>\n",
       "      <td>9881bcdd5a0ad4733037b3fb25e69c3a</td>\n",
       "      <td>RENAULT</td>\n",
       "      <td>Clio</td>\n",
       "      <td>RENAULT Clio Limited 1.2 16v 55kW 75CV 18 5p.</td>\n",
       "      <td>9500</td>\n",
       "      <td>8500.0</td>\n",
       "      <td>Gasolina</td>\n",
       "      <td>2018.0</td>\n",
       "      <td>43543</td>\n",
       "      <td>...</td>\n",
       "      <td>5</td>\n",
       "      <td>Manual</td>\n",
       "      <td>Gris / Plata</td>\n",
       "      <td>22</td>\n",
       "      <td>True</td>\n",
       "      <td>SEAT Barbera, Ripollet, Manresa, Rubi, Sant Cugat</td>\n",
       "      <td>Barcelona</td>\n",
       "      <td>Spain</td>\n",
       "      <td>2021-01-07 11:38:42</td>\n",
       "      <td>2021-01-15 00:00:00</td>\n",
       "    </tr>\n",
       "    <tr>\n",
       "      <th>56</th>\n",
       "      <td>5c626cc6170c9b37907455254279caba</td>\n",
       "      <td>9881bcdd5a0ad4733037b3fb25e69c3a</td>\n",
       "      <td>RENAULT</td>\n",
       "      <td>Mégane</td>\n",
       "      <td>RENAULT Megane Business Energy dCi 66kW 90CV 5p.</td>\n",
       "      <td>10499</td>\n",
       "      <td>9699.0</td>\n",
       "      <td>Diésel</td>\n",
       "      <td>2017.0</td>\n",
       "      <td>47396</td>\n",
       "      <td>...</td>\n",
       "      <td>5</td>\n",
       "      <td>Manual</td>\n",
       "      <td>369 Blanco Glaciar (opaco)</td>\n",
       "      <td>10</td>\n",
       "      <td>True</td>\n",
       "      <td>DriveOn</td>\n",
       "      <td>Sevilla</td>\n",
       "      <td>Spain</td>\n",
       "      <td>2021-01-14 14:59:43</td>\n",
       "      <td>2021-01-15 00:00:00</td>\n",
       "    </tr>\n",
       "    <tr>\n",
       "      <th>60</th>\n",
       "      <td>1dbd0fdd9cf3d804c55c34c498a24866</td>\n",
       "      <td>9881bcdd5a0ad4733037b3fb25e69c3a</td>\n",
       "      <td>RENAULT</td>\n",
       "      <td>Clio</td>\n",
       "      <td>RENAULT Clio Renault Sport 2.0 16v 200CV 3p.</td>\n",
       "      <td>10000</td>\n",
       "      <td>NaN</td>\n",
       "      <td>Gasolina</td>\n",
       "      <td>2008.0</td>\n",
       "      <td>180000</td>\n",
       "      <td>...</td>\n",
       "      <td>3</td>\n",
       "      <td>Manual</td>\n",
       "      <td>Azul</td>\n",
       "      <td>12</td>\n",
       "      <td>False</td>\n",
       "      <td>2e48952f21eceeba209a4f959b44cf39</td>\n",
       "      <td>Burgos</td>\n",
       "      <td>Spain</td>\n",
       "      <td>2020-11-06 07:27:10</td>\n",
       "      <td>2021-01-15 00:00:00</td>\n",
       "    </tr>\n",
       "    <tr>\n",
       "      <th>66</th>\n",
       "      <td>44237706555ac9c8f18fff6f3ad5cc0a</td>\n",
       "      <td>9881bcdd5a0ad4733037b3fb25e69c3a</td>\n",
       "      <td>RENAULT</td>\n",
       "      <td>Clio</td>\n",
       "      <td>RENAULT Clio Zen TCe 74 kW 100CV 5p.</td>\n",
       "      <td>16190</td>\n",
       "      <td>14690.0</td>\n",
       "      <td>Gasolina</td>\n",
       "      <td>2020.0</td>\n",
       "      <td>3239</td>\n",
       "      <td>...</td>\n",
       "      <td>5</td>\n",
       "      <td>Manual</td>\n",
       "      <td>Marrón (MARRON VISON)</td>\n",
       "      <td>17</td>\n",
       "      <td>True</td>\n",
       "      <td>Talleres Clemente</td>\n",
       "      <td>Madrid</td>\n",
       "      <td>Spain</td>\n",
       "      <td>2021-01-11 10:04:56</td>\n",
       "      <td>2021-01-15 00:00:00</td>\n",
       "    </tr>\n",
       "  </tbody>\n",
       "</table>\n",
       "<p>5 rows × 21 columns</p>\n",
       "</div>"
      ],
      "text/plain": [
       "                                 url                           company  \\\n",
       "33  96f6942670d545a38572afacb3e5f5a6  9881bcdd5a0ad4733037b3fb25e69c3a   \n",
       "42  7953b1ccdeeed4cd4ddf310671fa2a27  9881bcdd5a0ad4733037b3fb25e69c3a   \n",
       "56  5c626cc6170c9b37907455254279caba  9881bcdd5a0ad4733037b3fb25e69c3a   \n",
       "60  1dbd0fdd9cf3d804c55c34c498a24866  9881bcdd5a0ad4733037b3fb25e69c3a   \n",
       "66  44237706555ac9c8f18fff6f3ad5cc0a  9881bcdd5a0ad4733037b3fb25e69c3a   \n",
       "\n",
       "       make   model                                           version  price  \\\n",
       "33  RENAULT  Captur              RENAULT Captur Zen TCe 66kW 90CV 5p.  14650   \n",
       "42  RENAULT    Clio     RENAULT Clio Limited 1.2 16v 55kW 75CV 18 5p.   9500   \n",
       "56  RENAULT  Mégane  RENAULT Megane Business Energy dCi 66kW 90CV 5p.  10499   \n",
       "60  RENAULT    Clio      RENAULT Clio Renault Sport 2.0 16v 200CV 3p.  10000   \n",
       "66  RENAULT    Clio              RENAULT Clio Zen TCe 74 kW 100CV 5p.  16190   \n",
       "\n",
       "    price_financed      fuel    year     kms  ...  doors   shift  \\\n",
       "33         14650.0  Gasolina  2019.0   14000  ...      5  Manual   \n",
       "42          8500.0  Gasolina  2018.0   43543  ...      5  Manual   \n",
       "56          9699.0    Diésel  2017.0   47396  ...      5  Manual   \n",
       "60             NaN  Gasolina  2008.0  180000  ...      3  Manual   \n",
       "66         14690.0  Gasolina  2020.0    3239  ...      5  Manual   \n",
       "\n",
       "                         color photos  is_professional  \\\n",
       "33                      Blanco     10             True   \n",
       "42                Gris / Plata     22             True   \n",
       "56  369 Blanco Glaciar (opaco)     10             True   \n",
       "60                        Azul     12            False   \n",
       "66       Marrón (MARRON VISON)     17             True   \n",
       "\n",
       "                                               dealer   province country  \\\n",
       "33                                     Ald Automotive     Madrid   Spain   \n",
       "42  SEAT Barbera, Ripollet, Manresa, Rubi, Sant Cugat  Barcelona   Spain   \n",
       "56                                            DriveOn    Sevilla   Spain   \n",
       "60                   2e48952f21eceeba209a4f959b44cf39     Burgos   Spain   \n",
       "66                                  Talleres Clemente     Madrid   Spain   \n",
       "\n",
       "           publish_date          insert_date  \n",
       "33  2020-12-16 15:45:07  2021-01-15 00:00:00  \n",
       "42  2021-01-07 11:38:42  2021-01-15 00:00:00  \n",
       "56  2021-01-14 14:59:43  2021-01-15 00:00:00  \n",
       "60  2020-11-06 07:27:10  2021-01-15 00:00:00  \n",
       "66  2021-01-11 10:04:56  2021-01-15 00:00:00  \n",
       "\n",
       "[5 rows x 21 columns]"
      ]
     },
     "execution_count": 137,
     "metadata": {},
     "output_type": "execute_result"
    }
   ],
   "source": [
    "data2015[data2015.make=='RENAULT'].head()"
   ]
  },
  {
   "cell_type": "code",
   "execution_count": 142,
   "id": "d88b193f",
   "metadata": {},
   "outputs": [
    {
     "data": {
      "text/plain": [
       "8052.007648183559"
      ]
     },
     "execution_count": 142,
     "metadata": {},
     "output_type": "execute_result"
    }
   ],
   "source": [
    "BI=(18800*.56/(1+0.21+0.0975))\n",
    "BI"
   ]
  },
  {
   "cell_type": "code",
   "execution_count": 4,
   "id": "9e1e210b",
   "metadata": {},
   "outputs": [
    {
     "data": {
      "image/png": "[encoded data removed]",
      "text/plain": [
       "<Figure size 1080x720 with 2 Axes>"
      ]
     },
     "metadata": {
      "needs_background": "light"
     },
     "output_type": "display_data"
    }
   ],
   "source": [
    "plt.figure(figsize=(15, 10))\n",
    "\n",
    "sns.set(style='white')\n",
    "\n",
    "mask=np.triu(np.ones_like(data2015.corr(), dtype=bool))\n",
    "\n",
    "cmap=sns.diverging_palette(0, 10, as_cmap=True)\n",
    "\n",
    "\n",
    "\n",
    "sns.heatmap(data2015.corr(),\n",
    "           mask=mask,\n",
    "          cmap=cmap,\n",
    "          center=0,\n",
    "          square=True,\n",
    "          linewidths=0.5,\n",
    "          cbar_kws={'shrink': 0.5},\n",
    "           annot=True);\n"
   ]
  },
  {
   "cell_type": "code",
   "execution_count": 5,
   "id": "fe2efa49",
   "metadata": {},
   "outputs": [
    {
     "name": "stdout",
     "output_type": "stream",
     "text": [
      "Checking whether there is an H2O instance running at http://localhost:54321 ..... not found.\n",
      "Attempting to start a local H2O server...\n",
      "; Java HotSpot(TM) 64-Bit Server VM (build 18.0.1.1+2-6, mixed mode, sharing)\n",
      "  Starting server from C:\\Users\\alima\\anaconda3\\Lib\\site-packages\\h2o\\backend\\bin\\h2o.jar\n",
      "  Ice root: C:\\Users\\alima\\AppData\\Local\\Temp\\tmphsa0l7g_\n",
      "  JVM stdout: C:\\Users\\alima\\AppData\\Local\\Temp\\tmphsa0l7g_\\h2o_alima_started_from_python.out\n",
      "  JVM stderr: C:\\Users\\alima\\AppData\\Local\\Temp\\tmphsa0l7g_\\h2o_alima_started_from_python.err\n",
      "  Server is running at http://127.0.0.1:54321\n",
      "Connecting to H2O server at http://127.0.0.1:54321 ... successful.\n"
     ]
    },
    {
     "data": {
      "text/html": [
       "<div style=\"overflow:auto\"><table style=\"width:50%\"><tr><td>H2O_cluster_uptime:</td>\n",
       "<td>02 secs</td></tr>\n",
       "<tr><td>H2O_cluster_timezone:</td>\n",
       "<td>Europe/Madrid</td></tr>\n",
       "<tr><td>H2O_data_parsing_timezone:</td>\n",
       "<td>UTC</td></tr>\n",
       "<tr><td>H2O_cluster_version:</td>\n",
       "<td>3.36.1.1</td></tr>\n",
       "<tr><td>H2O_cluster_version_age:</td>\n",
       "<td>27 days </td></tr>\n",
       "<tr><td>H2O_cluster_name:</td>\n",
       "<td>H2O_from_python_alima_2gxycu</td></tr>\n",
       "<tr><td>H2O_cluster_total_nodes:</td>\n",
       "<td>1</td></tr>\n",
       "<tr><td>H2O_cluster_free_memory:</td>\n",
       "<td>2.926 Gb</td></tr>\n",
       "<tr><td>H2O_cluster_total_cores:</td>\n",
       "<td>8</td></tr>\n",
       "<tr><td>H2O_cluster_allowed_cores:</td>\n",
       "<td>8</td></tr>\n",
       "<tr><td>H2O_cluster_status:</td>\n",
       "<td>locked, healthy</td></tr>\n",
       "<tr><td>H2O_connection_url:</td>\n",
       "<td>http://127.0.0.1:54321</td></tr>\n",
       "<tr><td>H2O_connection_proxy:</td>\n",
       "<td>{\"http\": null, \"https\": null}</td></tr>\n",
       "<tr><td>H2O_internal_security:</td>\n",
       "<td>False</td></tr>\n",
       "<tr><td>Python_version:</td>\n",
       "<td>3.9.7 final</td></tr></table></div>"
      ],
      "text/plain": [
       "--------------------------  -----------------------------\n",
       "H2O_cluster_uptime:         02 secs\n",
       "H2O_cluster_timezone:       Europe/Madrid\n",
       "H2O_data_parsing_timezone:  UTC\n",
       "H2O_cluster_version:        3.36.1.1\n",
       "H2O_cluster_version_age:    27 days\n",
       "H2O_cluster_name:           H2O_from_python_alima_2gxycu\n",
       "H2O_cluster_total_nodes:    1\n",
       "H2O_cluster_free_memory:    2.926 Gb\n",
       "H2O_cluster_total_cores:    8\n",
       "H2O_cluster_allowed_cores:  8\n",
       "H2O_cluster_status:         locked, healthy\n",
       "H2O_connection_url:         http://127.0.0.1:54321\n",
       "H2O_connection_proxy:       {\"http\": null, \"https\": null}\n",
       "H2O_internal_security:      False\n",
       "Python_version:             3.9.7 final\n",
       "--------------------------  -----------------------------"
      ]
     },
     "metadata": {},
     "output_type": "display_data"
    }
   ],
   "source": [
    "h2o.init()"
   ]
  },
  {
   "cell_type": "code",
   "execution_count": 6,
   "id": "c1a70ea8",
   "metadata": {},
   "outputs": [],
   "source": [
    "automl=H2OAutoML(max_models=50,\n",
    "                 seed=42,   # random_state\n",
    "                 max_runtime_secs=300,\n",
    "                 sort_metric='RMSE')"
   ]
  },
  {
   "cell_type": "code",
   "execution_count": 7,
   "id": "58bdead3",
   "metadata": {},
   "outputs": [],
   "source": [
    "entreno=data2015.copy()"
   ]
  },
  {
   "cell_type": "code",
   "execution_count": 8,
   "id": "0d57c2f6",
   "metadata": {},
   "outputs": [
    {
     "data": {
      "text/plain": [
       "(array(['SEAT', 'CITROEN', 'FORD', 'VOLKSWAGEN', 'PEUGEOT', 'LAND-ROVER',\n",
       "        'HONDA', 'NISSAN', 'MERCEDES-BENZ', 'FIAT', 'SKODA', 'BMW',\n",
       "        'MAZDA', 'OPEL', 'AUDI', 'VOLVO', 'MITSUBISHI', 'RENAULT', 'KIA',\n",
       "        'DACIA', 'HYUNDAI', 'JEEP', 'SUZUKI', 'CHEVROLET', 'SSANGYONG',\n",
       "        'ABARTH', 'SMART', 'JAGUAR', 'TOYOTA', 'PORSCHE', 'SAAB', 'MINI',\n",
       "        'CHRYSLER', 'MG', 'IVECO', 'DS', 'CADILLAC', 'INFINITI',\n",
       "        'ASTON MARTIN', 'ALFA ROMEO', 'LEXUS', 'DODGE', 'TESLA',\n",
       "        'DR AUTOMOBILES', 'LANCIA', 'SUBARU', 'DAEWOO', 'BENTLEY',\n",
       "        'MASERATI', 'GALLOPER', 'ISUZU', 'ROVER', 'CUPRA', 'VAZ', 'DFSK',\n",
       "        nan, 'PONTIAC', 'FERRARI', 'MAHINDRA', 'TATA', 'CORVETTE',\n",
       "        'ALPINE', 'LAMBORGHINI', 'LOTUS', 'HUMMER', 'SANTANA', 'LADA',\n",
       "        'DAIHATSU', 'UMM', 'AUSTIN', 'MAXUS', 'MORGAN', 'ARO', 'PIAGGIO',\n",
       "        'IVECO-PEGASO', 'LDV'], dtype=object),\n",
       " array(['Toledo', 'C1', 'Transit Connect', 'Caravelle', 'Transit', '3008',\n",
       "        'Discovery Sport', 'Civic', 'Berlingo', 'NOTE', 'Golf', 'Polo',\n",
       "        'Clase CL', 'Panda', 'Octavia', 'Serie 3', 'C-Elysée', 'Mazda5',\n",
       "        'Serie 1', 'Doblò', 'C-Max', 'C3', 'Phaeton', 'Astra', 'A3',\n",
       "        'XC60', 'ASX', 'Focus', '500L', 'S-MAX', 'Captur', 'Ibiza',\n",
       "        'Sportage', 'Serie 5', '508 Hybrid', '308', 'XCeed', 'Insignia',\n",
       "        'Clio', '1007', 'Rifter', 'Golf Sportsvan', 'Crossland X', 'León',\n",
       "        'Clase A', 'C5', 'Clase B', 'Clase E', 'Duster', 'Mégane', 'CC',\n",
       "        'Xantia', 'Clase V', 'A4', '5008', 'GLC Coupé', 'X3', 'Corsa',\n",
       "        'i40', 'i3', 'Fiesta', '406', 'Serie 2', 'JUKE', 'Mondeo',\n",
       "        'Renegade', 'Passat', 'QASHQAI', 'Swift', 'Antara', 'Doblò Cargo',\n",
       "        'CLA', 'Caddy', 'C4', 'Grand Cherokee', 'Arona', 'Rio', 'Cruze',\n",
       "        'Rodius', 'A6', 'Koleos', '500', 'Vivaro', 'Q3', 'TT', 'X1',\n",
       "        'fortwo', 'Scirocco', 'Serie XJ', 'Grand Scénic', 'Tiguan',\n",
       "        'Clase M', 'Clase CLA', 'Clase CLK', 'Zafira', 'Modus', 'Combo',\n",
       "        '2008', 'Transporter', 'Clase S', 'Yaris', 'Q2', 'A5', 'Accord',\n",
       "        'ceed', 'Punto', 'Tipo', '206', 'Touran', 'S60', 'C4 Spacetourer',\n",
       "        'Xsara Picasso', 'Q7', 'Auris', 'Aveo', 'S40', 'Clase R', '208',\n",
       "        'Korando', 'Santa Fe', 'Altea XL', 'Escort', 'TUCSON', 'Mokka X',\n",
       "        '911', 'Córdoba', 'X6', 'Grand Espace', 'Discovery', 'Q5', 'Jumpy',\n",
       "        'C5 Aircross', 'Ducato', 'A1', 'Focus C-MAX', '206 +', 'Serie 4',\n",
       "        'Jimny', 'Ateca', 'Laguna', '309', 'Z4', 'Ulysse', 'Grandland X',\n",
       "        'Clase CLC', 'i20', 'Capri', '508', 'V40', 'Boxer', 'i30', 'C8',\n",
       "        '9-3', 'Kangoo Furgón', 'Clase C', '400', 'Serie 2 Gran Tourer',\n",
       "        'X5', 'C5 Aircross Hybrid', 'C4 Picasso', 'California',\n",
       "        'ceed Sportswagon', '307', 'Clase GLC', 'Kadjar', 'PULSAR', 'X2',\n",
       "        'MINI', 'C-HR', '500C', 'Countryman', 'Outlander', 'V90',\n",
       "        'Partner', 'L200', 'Tahoe', 'Sharan', 'Scénic', 'XC90', '207',\n",
       "        'Beetle', 'Fusion', 'Stonic', 'i8', 'Serie 2 Active Tourer',\n",
       "        'Vito', 'Sprinter', 'Aygo', 'Multivan', 'Range Rover Evoque',\n",
       "        'IONIQ', 'Eos', 'Proace City Verso', 'C3 Picasso', 'Logan',\n",
       "        'PT Cruiser', 'CX-5', 'Macan', 'Serie 6', 'Barchetta', 'Mokka',\n",
       "        'Viano', 'C4 Cactus', 'ZR', 'Espace', 'Grand C4 Picasso', '190',\n",
       "        'ZT', 'Stilo', 'A6 allroad quattro', 'Kuga', 'Cayenne', 'Xsara',\n",
       "        'X4', 'Lodgy', 'GLB', 'Panamera', 'Dokker', 'Clase G', 'Trafic',\n",
       "        'Voyager', 'Daily', 'Cayman', '108', 'Superb', 'Ka+', 'Niro',\n",
       "        '200', 'Rav4', 'Micra', 'DS 7 Crossback', 'Jetta', 'Accent',\n",
       "        'Arteon', 'Almera', '407', 'Octavia Tour', 'ProCeed', 'H-1',\n",
       "        'Escalade', 'NV300', 'V70', 'Explorer', 'Grand Tourneo Connect',\n",
       "        'i10', 'Coupé', 'Montero iO', 'Captiva', 'XE', 'Zafira Tourer',\n",
       "        'Q60', 'Doblò Panorama', 'Bravo', 'Coupe', 'Mazda3', 'Fiorino',\n",
       "        'DS 3 Crossback E-Tense', 'GT86', 'Master', 'Scala', 'EcoSport',\n",
       "        'Pathfinder', 'Talisman', 'Spaceback', 'Grand C-Max', 'ix20',\n",
       "        'Sandero', 'Adam', 'ix35', 'CR-V', 'e-2008', 'A4 Allroad Quattro',\n",
       "        'Avensis', 'Kona', 'Corsa-e', 'V60 Cross Country', '307 SW',\n",
       "        'C3 Aircross', 'Malaga', 'Clase GLA', 'Rexton', 'Carens', 'Camaro',\n",
       "        'Kangoo', 'Freelander', 'DB9', 'Giulietta', 'NV200', 'Optima PHEV',\n",
       "        'Compact', 'Clase SL', 'X-TRAIL', '147', 'Compass', 'Expert',\n",
       "        'Serie 7', 'XF', 'Range Rover Sport', 'Q50', 'Clase SLK', 'NX',\n",
       "        'LEAF', '220', 'Honda e', 'FX', 'Vitara', 'Range Rover Velar',\n",
       "        'Giulia', 'Land Cruiser', 'IS220d', 'Vectra', 'Scudo', 'ALTEA',\n",
       "        'GLA', 'RCZ', 'Prius', 'Mazda6', 'Clase CLS', 'Montero',\n",
       "        'Combo Life', 'Mazda2', 'Grand Vitara', 'e-Niro', 'Range Rover',\n",
       "        'Zoe', 'Tivoli', 'Stelvio', 'B-MAX', 'Allroad Quattro', 'Avenger',\n",
       "        'GTC', '156', 'Clase GLE Coupé', 'Jumper', 'S8', 'Croma',\n",
       "        'Alhambra', 'Model 3', 'Vantage', 'DR3', 'Inca', 'Kamiq',\n",
       "        'CLUBMAN', 'Puma', '300', 'S3', 'Splash', 'E-Pace', 'Kalos',\n",
       "        'Pro Ceed', 'Ypsilon', 'Touareg', 'Outback', 'Saxo', 'Clio III',\n",
       "        'Q30', 'Fluence', 'e-208', '206 SW', 'X-Type', 'Hilux',\n",
       "        'Traveller', 'GR Yaris', 'Verso', 'XC40', 'V60', 'Caliber',\n",
       "        'Optima', 'Forester', nan, 'Musso', 'Twingo', 'Impreza',\n",
       "        'DS 3 Crossback', 'Connect', 'Picanto', 'Boxster', 'Proace',\n",
       "        'ceed Sporty Wagon', 'Galaxy', 'i20 Active', 'Frontera', 'SX4',\n",
       "        'New Beetle', 'A7', 'Kyron', '300M', 'Kadett', 'C70', '500X',\n",
       "        'T-Roc', 'Karl', 'Lupo', 'ion', 'T-Cross', 'Grandis', 'Orlando',\n",
       "        'Talento', 'S-Type', 'Lancer', 'DS 5', 'MiTo', 'Tarraco',\n",
       "        'Cabstar', 'F-Pace', 'Brava', 'Freemont', 'Clase GL', 'SQ5',\n",
       "        'Model S', 'Grande Punto', 'HR-V', 'CLS', 'V90 Cross Country',\n",
       "        'DS5', 'Niro PHEV', '807', 'DS 4', 'Space Star', 'FR-V', 'Omega',\n",
       "        'Corolla', 'forfour', 'KA', 'Evasión', 'F-Type', 'Nemo', 'S4',\n",
       "        'Nubira', 'e-NV200 EVALIA', 'Multipla', 'Kodiaq', 'Arosa', '300C',\n",
       "        'EQC', 'Corolla Verso', 'Golf Plus', 'CX-7', 'MX-5',\n",
       "        'Land Cruiser 90', '3008 Hybrid', 'IS', 'C3 Pluriel', 'GS300',\n",
       "        '944', 'Continental', 'Kangoo Combi', 'Vento', 'S80', 'Camry',\n",
       "        'Passat CC', 'C2', '407 SW', 'Navara', 'CRX', 'Carnival', '107',\n",
       "        'SCross', 'Transit Courier', 'Tourneo Courier', '205', 'R5', '106',\n",
       "        'Crafter', 'SX4 S-Cross', 'RS6', 'C30', 'Manta', 'Fabia',\n",
       "        'Journey', 'MR2', 'Clase GLK', 'Signum', 'Clase GLE', 'Serie 8',\n",
       "        'ix55', 'XM', 'XC70', 'S70', 'V50', 'Mii', 'i-Pace', 'Terrano II',\n",
       "        'Meriva', 'Sorento', 'Clase X', 'Crossland', 'Ghibli', 'Optima SW',\n",
       "        'Corolla Sedán', 'Z3', 'Super Exceed', 'Maxity', 'C-Crosser', 'XJ',\n",
       "        'Clase GLS', 'CX-3', 'Serie N', 'GT', 'Sierra', 'RX400h', 'Edge',\n",
       "        'Getz', 'Ranger', 'Grand Voyager', 'Soul', '306', 'Wrangler',\n",
       "        'Primera', 'Grand Modus', 'Atos Prime', 'Exeo', 'Levante', 'C-15',\n",
       "        '230', 'Carisma', 'Crossfire', 'Cougar', 'Citan', 'Jazz', 'IS200',\n",
       "        'GT-R', 'GS', '159', '75', 'RS4', 'A8', 'Qubo', 'Matiz', 'Matrix',\n",
       "        'Logo', 'S90', 'Thema', 'Eclipse Cross', 'Grand Santa Fe',\n",
       "        'Stinger', 'Primastar', 'Sonata', 'Spark', 'NT400', '19', '100D',\n",
       "        'Colt', 'Vel Satis', 'Prius+', 'Quattroporte', 'Legacy',\n",
       "        'Discovery 4', 'Wrangler Unlimited', 'Fiesta Van', 'S5', 'Tigra',\n",
       "        'Malibu', 'CT', '607', 'Karoq', 'Tourneo Custom', 'Proace Verso',\n",
       "        'SQ7', 'Magentis', 'QASHQAI+2', 'Trax', 'Q8', 'R11', 'Ceed Tourer',\n",
       "        'Spacetourer', 'GLE', 'Clio Campus', '4007', 'Vanette Cargo',\n",
       "        'Mustang', '806', 'CX-30', 'Defender', 'C4 Aircross', 'NV250',\n",
       "        'Movano', 'RS3', 'RX', 'TTS', 'Lanos', 'UX', 'R8', '300 ZX',\n",
       "        'IS300', '4008', 'Serie XK', 'Elantra', 'Transit Custom',\n",
       "        'Corvette', 'Delta', 'A2', 'G3X Justy', 'Linea', 'Massif',\n",
       "        'Cherokee', 'Venga', '260', 'Maverick', 'GS450h', 'Bora', 'DS 3',\n",
       "        'Murano', 'Shuma', '480', 'Tribeca', 'V8 Vantage', '90',\n",
       "        'Land Cruiser 100', 'R4', 'Evanda', 'iX3', 'NP300 Navara', 'Rapid',\n",
       "        'Cerato', 'Volt', 'Grandland X PHEV', 'Supra', 'Brera', 'NV400',\n",
       "        'e-tron', 'Bipper', '718', '111 Stawra', 'Sebring', '323',\n",
       "        'Serie K', 'Commander', '580', 'Pick-up', 'Paceman',\n",
       "        'Grand C4 Spacetourer', '180D', 'Tourneo Connect', 'D2S', 'RX-8',\n",
       "        'QX70', 'GranCabrio', 'Almera Tino', 'Terra', 'BX', 'Firebird',\n",
       "        '350Z', 'Spider', 'Panda Classic', 'WRX STI', '812', 'e-Soul',\n",
       "        'Tiguan Allspace', 'e-up!', 'Soul EV', 'F430', 'BLS', 'MX-30',\n",
       "        'RS Q3', 'Zafira Life', 'C6', 'Goa Pik Up Plus', 'GLS',\n",
       "        'Formentor', '405', 'Punto EVO', '9-5', 'INDICA', 'TT RS',\n",
       "        'Celica', 'Sedici', 'Premacy', 'Altea Freetrack', 'Q3 Sportback',\n",
       "        'Galant', 'XV', 'Roomster', 'Streetwise', 'Goa', 'Dyna',\n",
       "        'DS 4 Crossback', 'Agila', 'Actyon', 'GTV', 'RC', 'Bluebird',\n",
       "        'Courier', 'Rexton II', 'Maxima QX', 'Neon', 'Across', 'Genesis',\n",
       "        'Montero Sport', 'LS460', 'Avensis Verso', 'Atos', 'Trajet',\n",
       "        'Amarok', 'Ampera', 'DS 7 Crossback E-Tense', 'Epica', 'Yeti',\n",
       "        'Patrol', 'Continental GT', 'ID.3', 'X7', '968', 'DS3', 'Ignis',\n",
       "        'ES', 'NT400 Cabstar', 'GLE Coupé', 'SRX', 'LS', 'C-Zero',\n",
       "        'V40 Cross Country', 'Trade', 'Safrane', '33', 'Marbella',\n",
       "        'Insight', 'Citigo', 'Musa', '45', 'XLV', '100', 'Viper', 'Idea',\n",
       "        'Terracan', 'Rapide', 'Space Wagon', 'Partner Origin', 'A110',\n",
       "        'Patriot', 'Kangoo Z.E.', 'Aventador', 'Vaneo', 'Bentayga',\n",
       "        'Corsa Van', '370Z', 'Cabriolet', '300 GT', 'Clase SLC', 'Alto',\n",
       "        'Z1', '207 +', 'DS4', 'Mascott', 'Sebring 200C', 'Elise',\n",
       "        'Lacetti', 'Cabrio', 'Grand Kangoo Combi', 'Uno', '960', 'Q70',\n",
       "        'Grand Vitara XL-7', 'Scout', 'Calibra', 'Serena', '488', 'QX30',\n",
       "        'R21', 'Niro Hïbrido Enchufable', 'Corrado', 'A4 Allroad',\n",
       "        '4Runner', 'RS5', 'Prelude', 'pro_ceed GT', 'Tacuma', 'LT', '240',\n",
       "        'e-NV200', 'Samurai', 'H2', 'Leganza', 'Fengon 5', 'D-Max',\n",
       "        'Express', 'Seicento', 'SLS AMG', 'Terrano', 'CUBE', 'XUV500',\n",
       "        'CX-9', 'up!', '146', 'CR-Z', 'H-1 Travel', 'Fullback', 'S7',\n",
       "        '100 NX', 'Lantra', 'Y10', '458', 'BRZ', '25', 'Anibal', 'ZS',\n",
       "        'Continental GTC', 'Sports Pick Up', 'Previa', 'F355', 'Taycan',\n",
       "        'S6', 'Kangoo Express', 'cabrio', 'Space Gear', 'CAMION', 'Niva',\n",
       "        'El Dorado', 'Clase SL R129', 'IS250', '2CV', 'roadster', 'Spyder',\n",
       "        'Telco', 'H3', 'C4 Sedán', 'Mercedes-AMG GT', 'Exceed', 'AMG GT',\n",
       "        'Latitude', 'ZX', '355', 'Safari', '928', '280', 'Cayenne Coupé',\n",
       "        'Veloster', 'Wagon R+', 'Punto Classic', '740', '140D',\n",
       "        'Cabstar E', 'G', 'Gallardo', 'DS 9', 'GranTurismo', 'Santamo',\n",
       "        'Felicia', 'Probe', 'Model X', 'Phedra', 'Vantage V8',\n",
       "        'Cinquecento', 'Carina E', 'RX300', 'Lybra', 'Baleno',\n",
       "        '124 Spider', 'Terios', 'e-tron Sportback', 'RS7', 'Sephia II',\n",
       "        'Y', 'Regata', 'MGF', 'Land Cruiser 200', 'Wind', 'R6', 'LEVORG',\n",
       "        'Granada', 'EVALIA', 'Mini', 'Huracán', 'Vanette', 'city-coupé',\n",
       "        'M', 'ë-C4', 'TrailBlazer', 'AX', 'Kubistar', 'k2500',\n",
       "        'Korando KJ', '80', 'V70 XC', 'Stratus', 'XG', 'Master Propulsión',\n",
       "        '121', 'Grand California', 'Santana', 'KUV100', 'Patrol GR', 'V80',\n",
       "        'RX350', 'Tiida', 'Grand Safari', 'Swace', 'Land Cruiser 80',\n",
       "        'GTC4', '505', 'Canter', 'Interstar', 'Plus 4', '599', 'Pixo',\n",
       "        'smart', '10', '208 XAD', 'Urban Cruiser', 'Porter', 'Monterey',\n",
       "        'H350', 'iQ', 'Eclipse', 'Liana', 'EX', 'GSA', 'TRANS AM', '600',\n",
       "        'Serie C', 'Twizy', 'Aria', 'CTS', 'Nitro',\n",
       "        'Continental Flying Spur', 'Legend', '164', 'Flying Spur',\n",
       "        'Clio 4', '440', 'Quanto', 'Zafira-e Life', 'Pickup', 'SC430',\n",
       "        'Pregio', 'Dedra', '460', '350', 'Stream', '850', 'Sunny',\n",
       "        'Mondial', '9-3X', 'Ascona', 'Maxus', '626', 'Corvette Stingray',\n",
       "        '360', 'S2000', 'FF', 'Tribute'], dtype=object))"
      ]
     },
     "execution_count": 8,
     "metadata": {},
     "output_type": "execute_result"
    }
   ],
   "source": [
    "entreno.make.unique(), entreno.model.unique()"
   ]
  },
  {
   "cell_type": "code",
   "execution_count": 9,
   "id": "3912900a",
   "metadata": {},
   "outputs": [
    {
     "data": {
      "text/plain": [
       "(Golf             1542\n",
       " Serie 3          1377\n",
       " A4                946\n",
       " A3                865\n",
       " Focus             854\n",
       "                  ... \n",
       " Panda Classic       1\n",
       " DS 9                1\n",
       " GLS                 1\n",
       " 740                 1\n",
       " Tribute             1\n",
       " Name: model, Length: 940, dtype: int64,\n",
       " VOLKSWAGEN        4624\n",
       " BMW               4510\n",
       " MERCEDES-BENZ     4227\n",
       " AUDI              3745\n",
       " PEUGEOT           3314\n",
       "                   ... \n",
       " DAIHATSU             1\n",
       " ALPINE               1\n",
       " VAZ                  1\n",
       " DR AUTOMOBILES       1\n",
       " LDV                  1\n",
       " Name: make, Length: 75, dtype: int64)"
      ]
     },
     "execution_count": 9,
     "metadata": {},
     "output_type": "execute_result"
    }
   ],
   "source": [
    "entreno.model.value_counts(), entreno.make.value_counts()"
   ]
  },
  {
   "cell_type": "code",
   "execution_count": 10,
   "id": "20ade417",
   "metadata": {},
   "outputs": [],
   "source": [
    "X=entreno.drop('price', axis=1)\n",
    "\n",
    "y=entreno.price"
   ]
  },
  {
   "cell_type": "code",
   "execution_count": 11,
   "id": "159b9a15",
   "metadata": {},
   "outputs": [
    {
     "name": "stdout",
     "output_type": "stream",
     "text": [
      "Parse progress: |████████████████████████████████████████████████████████████████| (done) 100%\n",
      "Parse progress: |████████████████████████████████████████████████████████████████| (done) 100%\n"
     ]
    }
   ],
   "source": [
    "#h2train=h2o.H2OFrame(entreno[:4000])\n",
    "#h2test=h2o.H2OFrame(X[4000:5000])"
   ]
  },
  {
   "cell_type": "code",
   "execution_count": 12,
   "id": "6a4adfda",
   "metadata": {},
   "outputs": [
    {
     "name": "stdout",
     "output_type": "stream",
     "text": [
      "AutoML progress: |\n",
      "09:11:22.407: AutoML: XGBoost is not available; skipping it.\n",
      "09:11:22.486: _train param, Dropping bad and constant columns: [country, company, url, insert_date]\n",
      "\n",
      "██████\n",
      "09:11:46.302: _train param, Dropping bad and constant columns: [country, company, url, insert_date]\n",
      "\n",
      "█\n",
      "09:11:51.21: _train param, Dropping bad and constant columns: [country, company, url, insert_date]\n",
      "\n",
      "█ (cancelled)\n"
     ]
    },
    {
     "ename": "H2OJobCancelled",
     "evalue": "Job<$03017f00000132d4ffffffff$_b4b2831486dfc6e120c814e3335142cb> was cancelled by the user.",
     "output_type": "error",
     "traceback": [
      "\u001b[1;31m---------------------------------------------------------------------------\u001b[0m",
      "\u001b[1;31mH2OJobCancelled\u001b[0m                           Traceback (most recent call last)",
      "\u001b[1;32m~\\AppData\\Local\\Temp/ipykernel_13548/2508337927.py\u001b[0m in \u001b[0;36m<module>\u001b[1;34m\u001b[0m\n\u001b[0;32m      1\u001b[0m \u001b[0mX_h\u001b[0m\u001b[1;33m=\u001b[0m\u001b[1;33m[\u001b[0m\u001b[0mc\u001b[0m \u001b[1;32mfor\u001b[0m \u001b[0mc\u001b[0m \u001b[1;32min\u001b[0m \u001b[0mh2train\u001b[0m\u001b[1;33m.\u001b[0m\u001b[0mcolumns\u001b[0m \u001b[1;32mif\u001b[0m \u001b[0mc\u001b[0m\u001b[1;33m!=\u001b[0m\u001b[1;34m'price'\u001b[0m\u001b[1;33m]\u001b[0m\u001b[1;33m\u001b[0m\u001b[1;33m\u001b[0m\u001b[0m\n\u001b[0;32m      2\u001b[0m \u001b[0my_h\u001b[0m\u001b[1;33m=\u001b[0m\u001b[1;34m'price'\u001b[0m\u001b[1;33m\u001b[0m\u001b[1;33m\u001b[0m\u001b[0m\n\u001b[1;32m----> 3\u001b[1;33m automl.train(x=X_h,\n\u001b[0m\u001b[0;32m      4\u001b[0m              \u001b[0my\u001b[0m\u001b[1;33m=\u001b[0m\u001b[0my_h\u001b[0m\u001b[1;33m,\u001b[0m\u001b[1;33m\u001b[0m\u001b[1;33m\u001b[0m\u001b[0m\n\u001b[0;32m      5\u001b[0m              training_frame=h2train)\n",
      "\u001b[1;32m~\\anaconda3\\lib\\site-packages\\h2o\\automl\\_estimator.py\u001b[0m in \u001b[0;36mtrain\u001b[1;34m(self, x, y, training_frame, fold_column, weights_column, validation_frame, leaderboard_frame, blending_frame)\u001b[0m\n\u001b[0;32m    639\u001b[0m         \u001b[0mpoll_updates\u001b[0m \u001b[1;33m=\u001b[0m \u001b[0mft\u001b[0m\u001b[1;33m.\u001b[0m\u001b[0mpartial\u001b[0m\u001b[1;33m(\u001b[0m\u001b[0mself\u001b[0m\u001b[1;33m.\u001b[0m\u001b[0m_poll_training_updates\u001b[0m\u001b[1;33m,\u001b[0m \u001b[0mverbosity\u001b[0m\u001b[1;33m=\u001b[0m\u001b[0mself\u001b[0m\u001b[1;33m.\u001b[0m\u001b[0m_verbosity\u001b[0m\u001b[1;33m,\u001b[0m \u001b[0mstate\u001b[0m\u001b[1;33m=\u001b[0m\u001b[1;33m{\u001b[0m\u001b[1;33m}\u001b[0m\u001b[1;33m)\u001b[0m\u001b[1;33m\u001b[0m\u001b[1;33m\u001b[0m\u001b[0m\n\u001b[0;32m    640\u001b[0m         \u001b[1;32mtry\u001b[0m\u001b[1;33m:\u001b[0m\u001b[1;33m\u001b[0m\u001b[1;33m\u001b[0m\u001b[0m\n\u001b[1;32m--> 641\u001b[1;33m             \u001b[0mself\u001b[0m\u001b[1;33m.\u001b[0m\u001b[0m_job\u001b[0m\u001b[1;33m.\u001b[0m\u001b[0mpoll\u001b[0m\u001b[1;33m(\u001b[0m\u001b[0mpoll_updates\u001b[0m\u001b[1;33m=\u001b[0m\u001b[0mpoll_updates\u001b[0m\u001b[1;33m)\u001b[0m\u001b[1;33m\u001b[0m\u001b[1;33m\u001b[0m\u001b[0m\n\u001b[0m\u001b[0;32m    642\u001b[0m         \u001b[1;32mfinally\u001b[0m\u001b[1;33m:\u001b[0m\u001b[1;33m\u001b[0m\u001b[1;33m\u001b[0m\u001b[0m\n\u001b[0;32m    643\u001b[0m             \u001b[0mpoll_updates\u001b[0m\u001b[1;33m(\u001b[0m\u001b[0mself\u001b[0m\u001b[1;33m.\u001b[0m\u001b[0m_job\u001b[0m\u001b[1;33m,\u001b[0m \u001b[1;36m1\u001b[0m\u001b[1;33m)\u001b[0m\u001b[1;33m\u001b[0m\u001b[1;33m\u001b[0m\u001b[0m\n",
      "\u001b[1;32m~\\anaconda3\\lib\\site-packages\\h2o\\job.py\u001b[0m in \u001b[0;36mpoll\u001b[1;34m(self, poll_updates)\u001b[0m\n\u001b[0;32m     85\u001b[0m         \u001b[1;31m# check if failed... and politely print relevant message\u001b[0m\u001b[1;33m\u001b[0m\u001b[1;33m\u001b[0m\u001b[0m\n\u001b[0;32m     86\u001b[0m         \u001b[1;32mif\u001b[0m \u001b[0mself\u001b[0m\u001b[1;33m.\u001b[0m\u001b[0mstatus\u001b[0m \u001b[1;33m==\u001b[0m \u001b[1;34m\"CANCELLED\"\u001b[0m\u001b[1;33m:\u001b[0m\u001b[1;33m\u001b[0m\u001b[1;33m\u001b[0m\u001b[0m\n\u001b[1;32m---> 87\u001b[1;33m             \u001b[1;32mraise\u001b[0m \u001b[0mH2OJobCancelled\u001b[0m\u001b[1;33m(\u001b[0m\u001b[1;34m\"Job<%s> was cancelled by the user.\"\u001b[0m \u001b[1;33m%\u001b[0m \u001b[0mself\u001b[0m\u001b[1;33m.\u001b[0m\u001b[0mjob_key\u001b[0m\u001b[1;33m)\u001b[0m\u001b[1;33m\u001b[0m\u001b[1;33m\u001b[0m\u001b[0m\n\u001b[0m\u001b[0;32m     88\u001b[0m         \u001b[1;32mif\u001b[0m \u001b[0mself\u001b[0m\u001b[1;33m.\u001b[0m\u001b[0mstatus\u001b[0m \u001b[1;33m==\u001b[0m \u001b[1;34m\"FAILED\"\u001b[0m\u001b[1;33m:\u001b[0m\u001b[1;33m\u001b[0m\u001b[1;33m\u001b[0m\u001b[0m\n\u001b[0;32m     89\u001b[0m             \u001b[1;32mif\u001b[0m \u001b[1;33m(\u001b[0m\u001b[0misinstance\u001b[0m\u001b[1;33m(\u001b[0m\u001b[0mself\u001b[0m\u001b[1;33m.\u001b[0m\u001b[0mjob\u001b[0m\u001b[1;33m,\u001b[0m \u001b[0mdict\u001b[0m\u001b[1;33m)\u001b[0m\u001b[1;33m)\u001b[0m \u001b[1;32mand\u001b[0m \u001b[1;33m(\u001b[0m\u001b[1;34m\"stacktrace\"\u001b[0m \u001b[1;32min\u001b[0m \u001b[0mlist\u001b[0m\u001b[1;33m(\u001b[0m\u001b[0mself\u001b[0m\u001b[1;33m.\u001b[0m\u001b[0mjob\u001b[0m\u001b[1;33m)\u001b[0m\u001b[1;33m)\u001b[0m\u001b[1;33m:\u001b[0m\u001b[1;33m\u001b[0m\u001b[1;33m\u001b[0m\u001b[0m\n",
      "\u001b[1;31mH2OJobCancelled\u001b[0m: Job<$03017f00000132d4ffffffff$_b4b2831486dfc6e120c814e3335142cb> was cancelled by the user."
     ]
    }
   ],
   "source": [
    "#X_h=[c for c in h2train.columns if c!='price']\n",
    "y_h='price'\n",
    "#automl.train(x=X_h,\n",
    "             y=y_h,\n",
    "             training_frame=h2train)"
   ]
  },
  {
   "cell_type": "code",
   "execution_count": 13,
   "id": "17d4bc26",
   "metadata": {},
   "outputs": [
    {
     "name": "stdout",
     "output_type": "stream",
     "text": [
      "[INFO] Leader board:\n"
     ]
    }
   ],
   "source": [
    "print('[INFO] Leader board:')\n",
    "\n",
    "#leader_board=automl.leaderboard\n",
    "\n",
    "#leader_board.head()"
   ]
  },
  {
   "cell_type": "code",
   "execution_count": null,
   "id": "b93e708c",
   "metadata": {},
   "outputs": [],
   "source": [
    "#y_pred=automl.leader.predict(h2test)\n",
    "\n"
   ]
  },
  {
   "cell_type": "code",
   "execution_count": null,
   "id": "ae60c8ec",
   "metadata": {},
   "outputs": [],
   "source": [
    "#pred= h2o.as_list(y_pred)"
   ]
  },
  {
   "cell_type": "code",
   "execution_count": null,
   "id": "e2ec57ff",
   "metadata": {},
   "outputs": [],
   "source": [
    "from sklearn.metrics import mean_squared_error as mse\n",
    "\n",
    "mse(pred, entreno.price[4000:5000], squared=False)"
   ]
  },
  {
   "cell_type": "markdown",
   "id": "03080406",
   "metadata": {},
   "source": [
    "**GOLF**"
   ]
  },
  {
   "cell_type": "code",
   "execution_count": null,
   "id": "25648cfd",
   "metadata": {},
   "outputs": [],
   "source": [
    "GOLF=entreno[entreno.model=='Golf']\n",
    "GOLF.drop(columns='price_financed', inplace=True)"
   ]
  },
  {
   "cell_type": "code",
   "execution_count": null,
   "id": "b8a45947",
   "metadata": {},
   "outputs": [],
   "source": [
    "GOLF.fillna('Unknown')"
   ]
  },
  {
   "cell_type": "code",
   "execution_count": null,
   "id": "eccf1822",
   "metadata": {},
   "outputs": [],
   "source": [
    "GOLF.drop(columns=['url','company','dealer','insert_date'], inplace=True)"
   ]
  },
  {
   "cell_type": "code",
   "execution_count": null,
   "id": "137aa245",
   "metadata": {},
   "outputs": [],
   "source": [
    "['make', 'model', 'version', 'months_old', 'power', 'sale_type',\n",
    "       'num_owners', 'gear_type', 'fuel_type', 'kms', 'price', 'year']"
   ]
  },
  {
   "cell_type": "code",
   "execution_count": null,
   "id": "f4a3193a",
   "metadata": {},
   "outputs": [],
   "source": [
    "plt.figure(figsize=(15, 10))\n",
    "\n",
    "sns.set(style='white')\n",
    "\n",
    "mask=np.triu(np.ones_like(GOLF.corr(), dtype=bool))\n",
    "\n",
    "cmap=sns.diverging_palette(0, 10, as_cmap=True)\n",
    "\n",
    "\n",
    "\n",
    "sns.heatmap(GOLF.corr(),\n",
    "           mask=mask,\n",
    "          cmap=cmap,\n",
    "          center=0,\n",
    "          square=True,\n",
    "          linewidths=0.5,\n",
    "          cbar_kws={'shrink': 0.5},\n",
    "           annot=True);"
   ]
  },
  {
   "cell_type": "markdown",
   "id": "cb658a1a",
   "metadata": {},
   "source": [
    "**LIMPIEZA COLUMNAS**"
   ]
  },
  {
   "cell_type": "code",
   "execution_count": 16,
   "id": "6fe4a0a8",
   "metadata": {},
   "outputs": [
    {
     "data": {
      "text/plain": [
       "Index(['url', 'company', 'make', 'model', 'version', 'price', 'price_financed',\n",
       "       'fuel', 'year', 'kms', 'power', 'doors', 'shift', 'color', 'photos',\n",
       "       'is_professional', 'dealer', 'province', 'country', 'publish_date',\n",
       "       'insert_date'],\n",
       "      dtype='object')"
      ]
     },
     "execution_count": 16,
     "metadata": {},
     "output_type": "execute_result"
    }
   ],
   "source": [
    "columnas=entreno.columns\n",
    "columnas"
   ]
  },
  {
   "cell_type": "code",
   "execution_count": 44,
   "id": "b3e40022",
   "metadata": {},
   "outputs": [],
   "source": [
    "columnas=['make', 'model', 'price',\n",
    "       'fuel', 'year', 'kms', 'power', 'doors', 'shift', \n",
    "       'is_professional', 'province']"
   ]
  },
  {
   "cell_type": "code",
   "execution_count": 45,
   "id": "14a247c6",
   "metadata": {},
   "outputs": [],
   "source": [
    "train=entreno[columnas]\n",
    "X=train.drop('price', axis=1)\n",
    "\n",
    "y=train.price"
   ]
  },
  {
   "cell_type": "code",
   "execution_count": 34,
   "id": "6aca1480",
   "metadata": {},
   "outputs": [
    {
     "name": "stdout",
     "output_type": "stream",
     "text": [
      "Parse progress: |████████████████████████████████████████████████████████████████| (done) 100%\n",
      "Parse progress: |████████████████████████████████████████████████████████████████| (done) 100%\n"
     ]
    }
   ],
   "source": [
    "h2train=h2o.H2OFrame(train[:4000])\n",
    "h2test=h2o.H2OFrame(X[4000:5000])"
   ]
  },
  {
   "cell_type": "code",
   "execution_count": 35,
   "id": "88a4694f",
   "metadata": {},
   "outputs": [
    {
     "name": "stdout",
     "output_type": "stream",
     "text": [
      "AutoML progress: |\n",
      "09:11:22.407: AutoML: XGBoost is not available; skipping it.\n",
      "09:11:22.486: _train param, Dropping bad and constant columns: [country, company, url, insert_date]\n",
      "09:11:46.302: _train param, Dropping bad and constant columns: [country, company, url, insert_date]\n",
      "09:11:51.21: _train param, Dropping bad and constant columns: [country, company, url, insert_date]\n",
      "09:17:10.992: New models will be added to existing leaderboard AutoML_1_20220511_91122@@price (leaderboard frame=null) with already 2 models.\n",
      "09:17:10.992: AutoML: XGBoost is not available; skipping it.\n",
      "09:17:10.995: _train param, Dropping bad and constant columns: [country]\n",
      "09:17:12.714: _train param, Dropping bad and constant columns: [country]\n",
      "09:17:15.86: _train param, Dropping bad and constant columns: [country]\n",
      "09:17:28.368: _train param, Dropping bad and constant columns: [country]\n",
      "09:17:29.766: _train param, Dropping bad and constant columns: [country]\n",
      "09:17:31.482: _train param, Dropping bad and constant columns: [country]\n",
      "09:17:34.343: _train param, Dropping bad and constant columns: [country]\n",
      "09:17:55.518: _train param, Dropping bad and constant columns: [country]\n",
      "09:17:56.866: _train param, Dropping bad and constant columns: [country]\n",
      "09:25:08.771: New models will be added to existing leaderboard AutoML_1_20220511_91122@@price (leaderboard frame=null) with already 28 models.\n",
      "09:25:08.772: AutoML: XGBoost is not available; skipping it.\n",
      "\n",
      "███████████████████████████████████████████████████████████████| (done) 100%\n",
      "Model Details\n",
      "=============\n",
      "H2OGradientBoostingEstimator :  Gradient Boosting Machine\n",
      "Model Key:  GBM_grid_2_AutoML_3_20220511_92508_model_5\n",
      "\n",
      "\n",
      "Model Summary: \n"
     ]
    },
    {
     "data": {
      "text/html": [
       "<div>\n",
       "<style scoped>\n",
       "    .dataframe tbody tr th:only-of-type {\n",
       "        vertical-align: middle;\n",
       "    }\n",
       "\n",
       "    .dataframe tbody tr th {\n",
       "        vertical-align: top;\n",
       "    }\n",
       "\n",
       "    .dataframe thead th {\n",
       "        text-align: right;\n",
       "    }\n",
       "</style>\n",
       "<table border=\"1\" class=\"dataframe\">\n",
       "  <thead>\n",
       "    <tr style=\"text-align: right;\">\n",
       "      <th></th>\n",
       "      <th></th>\n",
       "      <th>number_of_trees</th>\n",
       "      <th>number_of_internal_trees</th>\n",
       "      <th>model_size_in_bytes</th>\n",
       "      <th>min_depth</th>\n",
       "      <th>max_depth</th>\n",
       "      <th>mean_depth</th>\n",
       "      <th>min_leaves</th>\n",
       "      <th>max_leaves</th>\n",
       "      <th>mean_leaves</th>\n",
       "    </tr>\n",
       "  </thead>\n",
       "  <tbody>\n",
       "    <tr>\n",
       "      <th>0</th>\n",
       "      <td></td>\n",
       "      <td>53.0</td>\n",
       "      <td>53.0</td>\n",
       "      <td>249279.0</td>\n",
       "      <td>9.0</td>\n",
       "      <td>9.0</td>\n",
       "      <td>9.0</td>\n",
       "      <td>24.0</td>\n",
       "      <td>237.0</td>\n",
       "      <td>133.43396</td>\n",
       "    </tr>\n",
       "  </tbody>\n",
       "</table>\n",
       "</div>"
      ],
      "text/plain": [
       "     number_of_trees  number_of_internal_trees  model_size_in_bytes  \\\n",
       "0               53.0                      53.0             249279.0   \n",
       "\n",
       "   min_depth  max_depth  mean_depth  min_leaves  max_leaves  mean_leaves  \n",
       "0        9.0        9.0         9.0        24.0       237.0    133.43396  "
      ]
     },
     "metadata": {},
     "output_type": "display_data"
    },
    {
     "name": "stdout",
     "output_type": "stream",
     "text": [
      "\n",
      "\n",
      "ModelMetricsRegression: gbm\n",
      "** Reported on train data. **\n",
      "\n",
      "MSE: 4169037.705419048\n",
      "RMSE: 2041.8221532295727\n",
      "MAE: 558.6368039550781\n",
      "RMSLE: 0.11888779237816127\n",
      "Mean Residual Deviance: 4169037.705419048\n",
      "\n",
      "ModelMetricsRegression: gbm\n",
      "** Reported on cross-validation data. **\n",
      "\n",
      "MSE: 52182550.73888808\n",
      "RMSE: 7223.749077791122\n",
      "MAE: 2597.252879356525\n",
      "RMSLE: 0.3295269992145614\n",
      "Mean Residual Deviance: 52182550.73888808\n",
      "\n",
      "Cross-Validation Metrics Summary: \n"
     ]
    },
    {
     "data": {
      "text/html": [
       "<div>\n",
       "<style scoped>\n",
       "    .dataframe tbody tr th:only-of-type {\n",
       "        vertical-align: middle;\n",
       "    }\n",
       "\n",
       "    .dataframe tbody tr th {\n",
       "        vertical-align: top;\n",
       "    }\n",
       "\n",
       "    .dataframe thead th {\n",
       "        text-align: right;\n",
       "    }\n",
       "</style>\n",
       "<table border=\"1\" class=\"dataframe\">\n",
       "  <thead>\n",
       "    <tr style=\"text-align: right;\">\n",
       "      <th></th>\n",
       "      <th></th>\n",
       "      <th>mean</th>\n",
       "      <th>sd</th>\n",
       "      <th>cv_1_valid</th>\n",
       "      <th>cv_2_valid</th>\n",
       "      <th>cv_3_valid</th>\n",
       "      <th>cv_4_valid</th>\n",
       "      <th>cv_5_valid</th>\n",
       "    </tr>\n",
       "  </thead>\n",
       "  <tbody>\n",
       "    <tr>\n",
       "      <th>0</th>\n",
       "      <td>mae</td>\n",
       "      <td>2.603374e+03</td>\n",
       "      <td>2.041066e+02</td>\n",
       "      <td>2.437302e+03</td>\n",
       "      <td>2.644724e+03</td>\n",
       "      <td>2.930351e+03</td>\n",
       "      <td>2.572891e+03</td>\n",
       "      <td>2.431604e+03</td>\n",
       "    </tr>\n",
       "    <tr>\n",
       "      <th>1</th>\n",
       "      <td>mean_residual_deviance</td>\n",
       "      <td>5.273312e+07</td>\n",
       "      <td>3.969684e+07</td>\n",
       "      <td>2.316409e+07</td>\n",
       "      <td>7.889891e+07</td>\n",
       "      <td>1.100678e+08</td>\n",
       "      <td>2.458050e+07</td>\n",
       "      <td>2.695432e+07</td>\n",
       "    </tr>\n",
       "    <tr>\n",
       "      <th>2</th>\n",
       "      <td>mse</td>\n",
       "      <td>5.273312e+07</td>\n",
       "      <td>3.969684e+07</td>\n",
       "      <td>2.316409e+07</td>\n",
       "      <td>7.889891e+07</td>\n",
       "      <td>1.100678e+08</td>\n",
       "      <td>2.458050e+07</td>\n",
       "      <td>2.695432e+07</td>\n",
       "    </tr>\n",
       "    <tr>\n",
       "      <th>3</th>\n",
       "      <td>r2</td>\n",
       "      <td>8.258705e-01</td>\n",
       "      <td>8.430371e-02</td>\n",
       "      <td>8.989842e-01</td>\n",
       "      <td>7.402650e-01</td>\n",
       "      <td>7.283888e-01</td>\n",
       "      <td>8.909759e-01</td>\n",
       "      <td>8.707387e-01</td>\n",
       "    </tr>\n",
       "    <tr>\n",
       "      <th>4</th>\n",
       "      <td>residual_deviance</td>\n",
       "      <td>5.273312e+07</td>\n",
       "      <td>3.969684e+07</td>\n",
       "      <td>2.316409e+07</td>\n",
       "      <td>7.889891e+07</td>\n",
       "      <td>1.100678e+08</td>\n",
       "      <td>2.458050e+07</td>\n",
       "      <td>2.695432e+07</td>\n",
       "    </tr>\n",
       "    <tr>\n",
       "      <th>5</th>\n",
       "      <td>rmse</td>\n",
       "      <td>6.867272e+03</td>\n",
       "      <td>2.639529e+03</td>\n",
       "      <td>4.812908e+03</td>\n",
       "      <td>8.882506e+03</td>\n",
       "      <td>1.049132e+04</td>\n",
       "      <td>4.957872e+03</td>\n",
       "      <td>5.191755e+03</td>\n",
       "    </tr>\n",
       "    <tr>\n",
       "      <th>6</th>\n",
       "      <td>rmsle</td>\n",
       "      <td>3.272419e-01</td>\n",
       "      <td>2.293994e-02</td>\n",
       "      <td>3.238420e-01</td>\n",
       "      <td>3.370593e-01</td>\n",
       "      <td>3.330357e-01</td>\n",
       "      <td>3.518679e-01</td>\n",
       "      <td>2.904042e-01</td>\n",
       "    </tr>\n",
       "  </tbody>\n",
       "</table>\n",
       "</div>"
      ],
      "text/plain": [
       "                                   mean            sd    cv_1_valid  \\\n",
       "0                     mae  2.603374e+03  2.041066e+02  2.437302e+03   \n",
       "1  mean_residual_deviance  5.273312e+07  3.969684e+07  2.316409e+07   \n",
       "2                     mse  5.273312e+07  3.969684e+07  2.316409e+07   \n",
       "3                      r2  8.258705e-01  8.430371e-02  8.989842e-01   \n",
       "4       residual_deviance  5.273312e+07  3.969684e+07  2.316409e+07   \n",
       "5                    rmse  6.867272e+03  2.639529e+03  4.812908e+03   \n",
       "6                   rmsle  3.272419e-01  2.293994e-02  3.238420e-01   \n",
       "\n",
       "     cv_2_valid    cv_3_valid    cv_4_valid    cv_5_valid  \n",
       "0  2.644724e+03  2.930351e+03  2.572891e+03  2.431604e+03  \n",
       "1  7.889891e+07  1.100678e+08  2.458050e+07  2.695432e+07  \n",
       "2  7.889891e+07  1.100678e+08  2.458050e+07  2.695432e+07  \n",
       "3  7.402650e-01  7.283888e-01  8.909759e-01  8.707387e-01  \n",
       "4  7.889891e+07  1.100678e+08  2.458050e+07  2.695432e+07  \n",
       "5  8.882506e+03  1.049132e+04  4.957872e+03  5.191755e+03  \n",
       "6  3.370593e-01  3.330357e-01  3.518679e-01  2.904042e-01  "
      ]
     },
     "metadata": {},
     "output_type": "display_data"
    },
    {
     "name": "stdout",
     "output_type": "stream",
     "text": [
      "\n",
      "Scoring History: \n"
     ]
    },
    {
     "data": {
      "text/html": [
       "<div>\n",
       "<style scoped>\n",
       "    .dataframe tbody tr th:only-of-type {\n",
       "        vertical-align: middle;\n",
       "    }\n",
       "\n",
       "    .dataframe tbody tr th {\n",
       "        vertical-align: top;\n",
       "    }\n",
       "\n",
       "    .dataframe thead th {\n",
       "        text-align: right;\n",
       "    }\n",
       "</style>\n",
       "<table border=\"1\" class=\"dataframe\">\n",
       "  <thead>\n",
       "    <tr style=\"text-align: right;\">\n",
       "      <th></th>\n",
       "      <th></th>\n",
       "      <th>timestamp</th>\n",
       "      <th>duration</th>\n",
       "      <th>number_of_trees</th>\n",
       "      <th>training_rmse</th>\n",
       "      <th>training_mae</th>\n",
       "      <th>training_deviance</th>\n",
       "    </tr>\n",
       "  </thead>\n",
       "  <tbody>\n",
       "    <tr>\n",
       "      <th>0</th>\n",
       "      <td></td>\n",
       "      <td>2022-05-11 09:26:05</td>\n",
       "      <td>12.266 sec</td>\n",
       "      <td>0.0</td>\n",
       "      <td>16568.595649</td>\n",
       "      <td>9900.386478</td>\n",
       "      <td>2.745184e+08</td>\n",
       "    </tr>\n",
       "    <tr>\n",
       "      <th>1</th>\n",
       "      <td></td>\n",
       "      <td>2022-05-11 09:26:05</td>\n",
       "      <td>12.332 sec</td>\n",
       "      <td>5.0</td>\n",
       "      <td>10828.839966</td>\n",
       "      <td>6065.585713</td>\n",
       "      <td>1.172638e+08</td>\n",
       "    </tr>\n",
       "    <tr>\n",
       "      <th>2</th>\n",
       "      <td></td>\n",
       "      <td>2022-05-11 09:26:05</td>\n",
       "      <td>12.389 sec</td>\n",
       "      <td>10.0</td>\n",
       "      <td>7445.768147</td>\n",
       "      <td>3774.988126</td>\n",
       "      <td>5.543946e+07</td>\n",
       "    </tr>\n",
       "    <tr>\n",
       "      <th>3</th>\n",
       "      <td></td>\n",
       "      <td>2022-05-11 09:26:05</td>\n",
       "      <td>12.453 sec</td>\n",
       "      <td>15.0</td>\n",
       "      <td>5632.112197</td>\n",
       "      <td>2428.338392</td>\n",
       "      <td>3.172069e+07</td>\n",
       "    </tr>\n",
       "    <tr>\n",
       "      <th>4</th>\n",
       "      <td></td>\n",
       "      <td>2022-05-11 09:26:05</td>\n",
       "      <td>12.504 sec</td>\n",
       "      <td>20.0</td>\n",
       "      <td>4449.894389</td>\n",
       "      <td>1648.513389</td>\n",
       "      <td>1.980156e+07</td>\n",
       "    </tr>\n",
       "    <tr>\n",
       "      <th>5</th>\n",
       "      <td></td>\n",
       "      <td>2022-05-11 09:26:05</td>\n",
       "      <td>12.550 sec</td>\n",
       "      <td>25.0</td>\n",
       "      <td>3734.210315</td>\n",
       "      <td>1202.492724</td>\n",
       "      <td>1.394433e+07</td>\n",
       "    </tr>\n",
       "    <tr>\n",
       "      <th>6</th>\n",
       "      <td></td>\n",
       "      <td>2022-05-11 09:26:05</td>\n",
       "      <td>12.597 sec</td>\n",
       "      <td>30.0</td>\n",
       "      <td>3119.790471</td>\n",
       "      <td>936.124676</td>\n",
       "      <td>9.733093e+06</td>\n",
       "    </tr>\n",
       "    <tr>\n",
       "      <th>7</th>\n",
       "      <td></td>\n",
       "      <td>2022-05-11 09:26:05</td>\n",
       "      <td>12.633 sec</td>\n",
       "      <td>35.0</td>\n",
       "      <td>2819.884897</td>\n",
       "      <td>788.499983</td>\n",
       "      <td>7.951751e+06</td>\n",
       "    </tr>\n",
       "    <tr>\n",
       "      <th>8</th>\n",
       "      <td></td>\n",
       "      <td>2022-05-11 09:26:05</td>\n",
       "      <td>12.668 sec</td>\n",
       "      <td>40.0</td>\n",
       "      <td>2507.074055</td>\n",
       "      <td>692.122415</td>\n",
       "      <td>6.285420e+06</td>\n",
       "    </tr>\n",
       "    <tr>\n",
       "      <th>9</th>\n",
       "      <td></td>\n",
       "      <td>2022-05-11 09:26:05</td>\n",
       "      <td>12.705 sec</td>\n",
       "      <td>45.0</td>\n",
       "      <td>2281.922685</td>\n",
       "      <td>617.388855</td>\n",
       "      <td>5.207171e+06</td>\n",
       "    </tr>\n",
       "    <tr>\n",
       "      <th>10</th>\n",
       "      <td></td>\n",
       "      <td>2022-05-11 09:26:05</td>\n",
       "      <td>12.758 sec</td>\n",
       "      <td>50.0</td>\n",
       "      <td>2131.432758</td>\n",
       "      <td>574.138501</td>\n",
       "      <td>4.543006e+06</td>\n",
       "    </tr>\n",
       "    <tr>\n",
       "      <th>11</th>\n",
       "      <td></td>\n",
       "      <td>2022-05-11 09:26:05</td>\n",
       "      <td>12.774 sec</td>\n",
       "      <td>53.0</td>\n",
       "      <td>2041.822153</td>\n",
       "      <td>558.636804</td>\n",
       "      <td>4.169038e+06</td>\n",
       "    </tr>\n",
       "  </tbody>\n",
       "</table>\n",
       "</div>"
      ],
      "text/plain": [
       "                timestamp    duration  number_of_trees  training_rmse  \\\n",
       "0     2022-05-11 09:26:05  12.266 sec              0.0   16568.595649   \n",
       "1     2022-05-11 09:26:05  12.332 sec              5.0   10828.839966   \n",
       "2     2022-05-11 09:26:05  12.389 sec             10.0    7445.768147   \n",
       "3     2022-05-11 09:26:05  12.453 sec             15.0    5632.112197   \n",
       "4     2022-05-11 09:26:05  12.504 sec             20.0    4449.894389   \n",
       "5     2022-05-11 09:26:05  12.550 sec             25.0    3734.210315   \n",
       "6     2022-05-11 09:26:05  12.597 sec             30.0    3119.790471   \n",
       "7     2022-05-11 09:26:05  12.633 sec             35.0    2819.884897   \n",
       "8     2022-05-11 09:26:05  12.668 sec             40.0    2507.074055   \n",
       "9     2022-05-11 09:26:05  12.705 sec             45.0    2281.922685   \n",
       "10    2022-05-11 09:26:05  12.758 sec             50.0    2131.432758   \n",
       "11    2022-05-11 09:26:05  12.774 sec             53.0    2041.822153   \n",
       "\n",
       "    training_mae  training_deviance  \n",
       "0    9900.386478       2.745184e+08  \n",
       "1    6065.585713       1.172638e+08  \n",
       "2    3774.988126       5.543946e+07  \n",
       "3    2428.338392       3.172069e+07  \n",
       "4    1648.513389       1.980156e+07  \n",
       "5    1202.492724       1.394433e+07  \n",
       "6     936.124676       9.733093e+06  \n",
       "7     788.499983       7.951751e+06  \n",
       "8     692.122415       6.285420e+06  \n",
       "9     617.388855       5.207171e+06  \n",
       "10    574.138501       4.543006e+06  \n",
       "11    558.636804       4.169038e+06  "
      ]
     },
     "metadata": {},
     "output_type": "display_data"
    },
    {
     "name": "stdout",
     "output_type": "stream",
     "text": [
      "\n",
      "Variable Importances: \n"
     ]
    },
    {
     "data": {
      "text/html": [
       "<div>\n",
       "<style scoped>\n",
       "    .dataframe tbody tr th:only-of-type {\n",
       "        vertical-align: middle;\n",
       "    }\n",
       "\n",
       "    .dataframe tbody tr th {\n",
       "        vertical-align: top;\n",
       "    }\n",
       "\n",
       "    .dataframe thead th {\n",
       "        text-align: right;\n",
       "    }\n",
       "</style>\n",
       "<table border=\"1\" class=\"dataframe\">\n",
       "  <thead>\n",
       "    <tr style=\"text-align: right;\">\n",
       "      <th></th>\n",
       "      <th>variable</th>\n",
       "      <th>relative_importance</th>\n",
       "      <th>scaled_importance</th>\n",
       "      <th>percentage</th>\n",
       "    </tr>\n",
       "  </thead>\n",
       "  <tbody>\n",
       "    <tr>\n",
       "      <th>0</th>\n",
       "      <td>model</td>\n",
       "      <td>1.714113e+12</td>\n",
       "      <td>1.000000</td>\n",
       "      <td>0.313399</td>\n",
       "    </tr>\n",
       "    <tr>\n",
       "      <th>1</th>\n",
       "      <td>power</td>\n",
       "      <td>1.492078e+12</td>\n",
       "      <td>0.870466</td>\n",
       "      <td>0.272803</td>\n",
       "    </tr>\n",
       "    <tr>\n",
       "      <th>2</th>\n",
       "      <td>year</td>\n",
       "      <td>8.922954e+11</td>\n",
       "      <td>0.520558</td>\n",
       "      <td>0.163142</td>\n",
       "    </tr>\n",
       "    <tr>\n",
       "      <th>3</th>\n",
       "      <td>kms</td>\n",
       "      <td>4.948132e+11</td>\n",
       "      <td>0.288670</td>\n",
       "      <td>0.090469</td>\n",
       "    </tr>\n",
       "    <tr>\n",
       "      <th>4</th>\n",
       "      <td>make</td>\n",
       "      <td>3.415523e+11</td>\n",
       "      <td>0.199259</td>\n",
       "      <td>0.062448</td>\n",
       "    </tr>\n",
       "    <tr>\n",
       "      <th>5</th>\n",
       "      <td>province</td>\n",
       "      <td>2.320687e+11</td>\n",
       "      <td>0.135387</td>\n",
       "      <td>0.042430</td>\n",
       "    </tr>\n",
       "    <tr>\n",
       "      <th>6</th>\n",
       "      <td>is_professional</td>\n",
       "      <td>1.372001e+11</td>\n",
       "      <td>0.080041</td>\n",
       "      <td>0.025085</td>\n",
       "    </tr>\n",
       "    <tr>\n",
       "      <th>7</th>\n",
       "      <td>shift</td>\n",
       "      <td>8.506449e+10</td>\n",
       "      <td>0.049626</td>\n",
       "      <td>0.015553</td>\n",
       "    </tr>\n",
       "    <tr>\n",
       "      <th>8</th>\n",
       "      <td>dealer</td>\n",
       "      <td>4.432083e+10</td>\n",
       "      <td>0.025856</td>\n",
       "      <td>0.008103</td>\n",
       "    </tr>\n",
       "    <tr>\n",
       "      <th>9</th>\n",
       "      <td>fuel</td>\n",
       "      <td>2.069872e+10</td>\n",
       "      <td>0.012075</td>\n",
       "      <td>0.003784</td>\n",
       "    </tr>\n",
       "    <tr>\n",
       "      <th>10</th>\n",
       "      <td>doors</td>\n",
       "      <td>1.078549e+10</td>\n",
       "      <td>0.006292</td>\n",
       "      <td>0.001972</td>\n",
       "    </tr>\n",
       "    <tr>\n",
       "      <th>11</th>\n",
       "      <td>publish_date</td>\n",
       "      <td>4.438302e+09</td>\n",
       "      <td>0.002589</td>\n",
       "      <td>0.000811</td>\n",
       "    </tr>\n",
       "  </tbody>\n",
       "</table>\n",
       "</div>"
      ],
      "text/plain": [
       "           variable  relative_importance  scaled_importance  percentage\n",
       "0             model         1.714113e+12           1.000000    0.313399\n",
       "1             power         1.492078e+12           0.870466    0.272803\n",
       "2              year         8.922954e+11           0.520558    0.163142\n",
       "3               kms         4.948132e+11           0.288670    0.090469\n",
       "4              make         3.415523e+11           0.199259    0.062448\n",
       "5          province         2.320687e+11           0.135387    0.042430\n",
       "6   is_professional         1.372001e+11           0.080041    0.025085\n",
       "7             shift         8.506449e+10           0.049626    0.015553\n",
       "8            dealer         4.432083e+10           0.025856    0.008103\n",
       "9              fuel         2.069872e+10           0.012075    0.003784\n",
       "10            doors         1.078549e+10           0.006292    0.001972\n",
       "11     publish_date         4.438302e+09           0.002589    0.000811"
      ]
     },
     "metadata": {},
     "output_type": "display_data"
    },
    {
     "data": {
      "text/plain": []
     },
     "execution_count": 35,
     "metadata": {},
     "output_type": "execute_result"
    }
   ],
   "source": [
    "X_t=[c for c in h2train.columns if c!='price']\n",
    "y_t='price'\n",
    "automl.train(x=X_t,\n",
    "             y=y_t,\n",
    "             training_frame=h2train)"
   ]
  },
  {
   "cell_type": "code",
   "execution_count": 36,
   "id": "a4aac8ff",
   "metadata": {},
   "outputs": [
    {
     "name": "stdout",
     "output_type": "stream",
     "text": [
      "[INFO] Leader board:\n"
     ]
    },
    {
     "data": {
      "text/html": [
       "<table>\n",
       "<thead>\n",
       "<tr><th>model_id                                   </th><th style=\"text-align: right;\">   rmse</th><th style=\"text-align: right;\">        mse</th><th style=\"text-align: right;\">    mae</th><th style=\"text-align: right;\">     rmsle</th><th style=\"text-align: right;\">  mean_residual_deviance</th></tr>\n",
       "</thead>\n",
       "<tbody>\n",
       "<tr><td>GBM_grid_2_AutoML_3_20220511_92508_model_5 </td><td style=\"text-align: right;\">7223.75</td><td style=\"text-align: right;\">5.21826e+07</td><td style=\"text-align: right;\">2597.25</td><td style=\"text-align: right;\">  0.329527</td><td style=\"text-align: right;\">             5.21826e+07</td></tr>\n",
       "<tr><td>GBM_grid_2_AutoML_3_20220511_92508_model_15</td><td style=\"text-align: right;\">7224.14</td><td style=\"text-align: right;\">5.21881e+07</td><td style=\"text-align: right;\">2539.63</td><td style=\"text-align: right;\">nan       </td><td style=\"text-align: right;\">             5.21881e+07</td></tr>\n",
       "<tr><td>GBM_grid_1_AutoML_2_20220511_91710_model_17</td><td style=\"text-align: right;\">7251.81</td><td style=\"text-align: right;\">5.25887e+07</td><td style=\"text-align: right;\">2676.45</td><td style=\"text-align: right;\">  0.34583 </td><td style=\"text-align: right;\">             5.25887e+07</td></tr>\n",
       "<tr><td>GBM_grid_2_AutoML_3_20220511_92508_model_10</td><td style=\"text-align: right;\">7389.32</td><td style=\"text-align: right;\">5.46021e+07</td><td style=\"text-align: right;\">2590.94</td><td style=\"text-align: right;\">  0.339771</td><td style=\"text-align: right;\">             5.46021e+07</td></tr>\n",
       "<tr><td>GBM_8_AutoML_3_20220511_92508              </td><td style=\"text-align: right;\">7391.8 </td><td style=\"text-align: right;\">5.46387e+07</td><td style=\"text-align: right;\">2633.44</td><td style=\"text-align: right;\">  0.338302</td><td style=\"text-align: right;\">             5.46387e+07</td></tr>\n",
       "<tr><td>DeepLearning_1_AutoML_2_20220511_91710     </td><td style=\"text-align: right;\">7437.71</td><td style=\"text-align: right;\">5.53195e+07</td><td style=\"text-align: right;\">2699.05</td><td style=\"text-align: right;\">nan       </td><td style=\"text-align: right;\">             5.53195e+07</td></tr>\n",
       "<tr><td>DeepLearning_2_AutoML_3_20220511_92508     </td><td style=\"text-align: right;\">7447.23</td><td style=\"text-align: right;\">5.54612e+07</td><td style=\"text-align: right;\">2713.39</td><td style=\"text-align: right;\">nan       </td><td style=\"text-align: right;\">             5.54612e+07</td></tr>\n",
       "<tr><td>GBM_grid_1_AutoML_2_20220511_91710_model_13</td><td style=\"text-align: right;\">7457.59</td><td style=\"text-align: right;\">5.56156e+07</td><td style=\"text-align: right;\">2752.76</td><td style=\"text-align: right;\">nan       </td><td style=\"text-align: right;\">             5.56156e+07</td></tr>\n",
       "<tr><td>GBM_grid_1_AutoML_2_20220511_91710_model_15</td><td style=\"text-align: right;\">7462.09</td><td style=\"text-align: right;\">5.56828e+07</td><td style=\"text-align: right;\">2641.25</td><td style=\"text-align: right;\">  0.348333</td><td style=\"text-align: right;\">             5.56828e+07</td></tr>\n",
       "<tr><td>GBM_grid_2_AutoML_3_20220511_92508_model_4 </td><td style=\"text-align: right;\">7534.82</td><td style=\"text-align: right;\">5.67736e+07</td><td style=\"text-align: right;\">2772.65</td><td style=\"text-align: right;\">  0.365465</td><td style=\"text-align: right;\">             5.67736e+07</td></tr>\n",
       "</tbody>\n",
       "</table>"
      ]
     },
     "metadata": {},
     "output_type": "display_data"
    },
    {
     "data": {
      "text/plain": []
     },
     "execution_count": 36,
     "metadata": {},
     "output_type": "execute_result"
    }
   ],
   "source": [
    "print('[INFO] Leader board:')\n",
    "\n",
    "leader_board=automl.leaderboard\n",
    "\n",
    "leader_board.head()"
   ]
  },
  {
   "cell_type": "code",
   "execution_count": 37,
   "id": "2e031fb4",
   "metadata": {},
   "outputs": [
    {
     "name": "stdout",
     "output_type": "stream",
     "text": [
      "gbm prediction progress: |███████████████████████████████████████████████████████| (done) 100%\n"
     ]
    },
    {
     "name": "stderr",
     "output_type": "stream",
     "text": [
      "C:\\Users\\alima\\anaconda3\\lib\\site-packages\\h2o\\job.py:83: UserWarning: Test/Validation dataset column 'model' has levels not trained on: [\"260\", \"300 ZX\", \"4008\", \"480\", \"806\", \"90\", \"A2\", \"Bora\", \"C4 Aircross\", \"CX-30\", ...24 not listed..., \"Rapid\", \"Serie XK\", \"Shuma\", \"TTS\", \"Transit Custom\", \"Tribeca\", \"UX\", \"V8 Vantage\", \"Venga\", \"iX3\"]\n",
      "  warnings.warn(w)\n",
      "C:\\Users\\alima\\anaconda3\\lib\\site-packages\\h2o\\job.py:83: UserWarning: Test/Validation dataset column 'dealer' has levels not trained on: [\"00c522d9cd35aa577ed68148c75b67e5\", \"01e48b62ea325ee2c4b0afeb1c9dc7b0\", \"02bf688e4450e2d49101d72f1a25e79a\", \"02eb872861779c1851bbc8acf56f1653\", \"03ff4753646da3427418711b0b85983b\", \"0556e99e3574511069cb9a59c928473b\", \"059bf68f71c80fce55214b411dd2280c\", \"08263dcfbd1cb972b935f9f638fa9c4d\", \"09ddb4dabd96dcb59713bf13090d594b\", \"0da74d6413bdf50b81e59b6531ed4de3\", ...442 not listed..., \"f7dddbd71a80cd81298607b8efc8b8cf\", \"f866e632ae10d6db3aac7cb9bed2002e\", \"f926a36ceb86c2cddc2f75b3e425e169\", \"fb9210e18f0b3bc92b22f9e095fda038\", \"fbea6a036692c24f4c6b5c4acde8b1db\", \"fe340f762269a1d248f206e1fdac4bc8\", \"ffbf81ceda96dd19d9dfbd3530a4dc13\", \"fff929e68adc3372579232124b8b5db3\", \"francisco tolivia vega\", \"|SPEC|\"]\n",
      "  warnings.warn(w)\n",
      "C:\\Users\\alima\\anaconda3\\lib\\site-packages\\h2o\\job.py:83: UserWarning: Test/Validation dataset column 'province' has levels not trained on: [\"nan\"]\n",
      "  warnings.warn(w)\n"
     ]
    }
   ],
   "source": [
    "y_pred_lim=automl.leader.predict(h2test)\n",
    "\n"
   ]
  },
  {
   "cell_type": "code",
   "execution_count": 38,
   "id": "6485091a",
   "metadata": {},
   "outputs": [
    {
     "data": {
      "text/plain": [
       "7568.98633839711"
      ]
     },
     "execution_count": 38,
     "metadata": {},
     "output_type": "execute_result"
    }
   ],
   "source": [
    "pred_lim= h2o.as_list(y_pred_lim)\n",
    "from sklearn.metrics import mean_squared_error as mse\n",
    "\n",
    "mse(pred_lim, entreno.price[4000:5000], squared=False)"
   ]
  },
  {
   "cell_type": "code",
   "execution_count": 39,
   "id": "47ca0291",
   "metadata": {},
   "outputs": [
    {
     "data": {
      "text/plain": [
       "0.6684636420335057"
      ]
     },
     "execution_count": 39,
     "metadata": {},
     "output_type": "execute_result"
    }
   ],
   "source": [
    "from sklearn.metrics import r2_score as r2\n",
    "\n",
    "r2(pred_lim, entreno.price[4000:5000])"
   ]
  },
  {
   "cell_type": "markdown",
   "id": "e54f9f0f",
   "metadata": {},
   "source": [
    "**CLUSTER**"
   ]
  },
  {
   "cell_type": "code",
   "execution_count": 40,
   "id": "a67d6dd2",
   "metadata": {},
   "outputs": [],
   "source": [
    "import umap\n",
    "\n",
    "import seaborn as sns"
   ]
  },
  {
   "cell_type": "code",
   "execution_count": 52,
   "id": "14e5c45a",
   "metadata": {},
   "outputs": [
    {
     "name": "stderr",
     "output_type": "stream",
     "text": [
      "C:\\Users\\alima\\anaconda3\\lib\\site-packages\\pandas\\util\\_decorators.py:311: SettingWithCopyWarning: \n",
      "A value is trying to be set on a copy of a slice from a DataFrame\n",
      "\n",
      "See the caveats in the documentation: https://pandas.pydata.org/pandas-docs/stable/user_guide/indexing.html#returning-a-view-versus-a-copy\n",
      "  return func(*args, **kwargs)\n"
     ]
    }
   ],
   "source": [
    "train.dropna(axis=0, inplace=True)"
   ]
  },
  {
   "cell_type": "code",
   "execution_count": 116,
   "id": "9e7ca054",
   "metadata": {},
   "outputs": [
    {
     "data": {
      "text/plain": [
       "array(['Caravelle', 'Polo', 'Golf', 'Golf Sportsvan', 'CC', 'Passat',\n",
       "       'Scirocco', 'Tiguan', 'Transporter', 'Touran', 'Caddy', 'Sharan',\n",
       "       'Beetle', 'Multivan', 'Eos', 'Jetta', 'Arteon', 'Touareg',\n",
       "       'New Beetle', 'T-Roc', 'T-Cross', 'Golf Plus', 'Passat CC',\n",
       "       'Crafter', 'Lupo', 'Tiguan Allspace', 'e-up!', 'Phaeton', 'Bora',\n",
       "       'California', 'Amarok', 'ID.3', 'LT', 'up!', 'Grand California',\n",
       "       'Santana', 'Corrado'], dtype=object)"
      ]
     },
     "execution_count": 116,
     "metadata": {},
     "output_type": "execute_result"
    }
   ],
   "source": [
    "train[train.make=='VOLKSWAGEN'].model.unique()"
   ]
  },
  {
   "cell_type": "code",
   "execution_count": 122,
   "id": "0ea05e53",
   "metadata": {},
   "outputs": [],
   "source": [
    "train_dum=pd.get_dummies(train, columns=['make','model','fuel','shift','is_professional', 'province'], drop_first=True)"
   ]
  },
  {
   "cell_type": "code",
   "execution_count": 123,
   "id": "ad40f7e6",
   "metadata": {},
   "outputs": [
    {
     "data": {
      "text/plain": [
       "(41348, 2)"
      ]
     },
     "execution_count": 123,
     "metadata": {},
     "output_type": "execute_result"
    }
   ],
   "source": [
    "redu=umap.UMAP(n_components=2).fit_transform(train_dum)\n",
    "\n",
    "redu.shape\n",
    "\n"
   ]
  },
  {
   "cell_type": "code",
   "execution_count": 131,
   "id": "8a0514ee",
   "metadata": {},
   "outputs": [
    {
     "ename": "KeyboardInterrupt",
     "evalue": "",
     "output_type": "error",
     "traceback": [
      "\u001b[1;31m---------------------------------------------------------------------------\u001b[0m",
      "\u001b[1;31mKeyboardInterrupt\u001b[0m                         Traceback (most recent call last)",
      "\u001b[1;32m~\\AppData\\Local\\Temp/ipykernel_13548/3303003257.py\u001b[0m in \u001b[0;36m<module>\u001b[1;34m\u001b[0m\n\u001b[0;32m      1\u001b[0m plt.scatter(redu[:,0], # x\n\u001b[0;32m      2\u001b[0m             \u001b[0mredu\u001b[0m\u001b[1;33m[\u001b[0m\u001b[1;33m:\u001b[0m\u001b[1;33m,\u001b[0m \u001b[1;36m1\u001b[0m\u001b[1;33m]\u001b[0m\u001b[1;33m,\u001b[0m\u001b[1;31m# y\u001b[0m\u001b[1;33m\u001b[0m\u001b[1;33m\u001b[0m\u001b[0m\n\u001b[1;32m----> 3\u001b[1;33m             c=[sns.color_palette(\"husl\", 882)[x] for x in cluster.model])\n\u001b[0m\u001b[0;32m      4\u001b[0m \u001b[1;33m\u001b[0m\u001b[0m\n\u001b[0;32m      5\u001b[0m \u001b[1;33m\u001b[0m\u001b[0m\n",
      "\u001b[1;32m~\\AppData\\Local\\Temp/ipykernel_13548/3303003257.py\u001b[0m in \u001b[0;36m<listcomp>\u001b[1;34m(.0)\u001b[0m\n\u001b[0;32m      1\u001b[0m plt.scatter(redu[:,0], # x\n\u001b[0;32m      2\u001b[0m             \u001b[0mredu\u001b[0m\u001b[1;33m[\u001b[0m\u001b[1;33m:\u001b[0m\u001b[1;33m,\u001b[0m \u001b[1;36m1\u001b[0m\u001b[1;33m]\u001b[0m\u001b[1;33m,\u001b[0m\u001b[1;31m# y\u001b[0m\u001b[1;33m\u001b[0m\u001b[1;33m\u001b[0m\u001b[0m\n\u001b[1;32m----> 3\u001b[1;33m             c=[sns.color_palette(\"husl\", 882)[x] for x in cluster.model])\n\u001b[0m\u001b[0;32m      4\u001b[0m \u001b[1;33m\u001b[0m\u001b[0m\n\u001b[0;32m      5\u001b[0m \u001b[1;33m\u001b[0m\u001b[0m\n",
      "\u001b[1;32m~\\anaconda3\\lib\\site-packages\\seaborn\\palettes.py\u001b[0m in \u001b[0;36mcolor_palette\u001b[1;34m(palette, n_colors, desat, as_cmap)\u001b[0m\n\u001b[0;32m    168\u001b[0m         \u001b[1;32melif\u001b[0m \u001b[0mpalette\u001b[0m \u001b[1;33m==\u001b[0m \u001b[1;34m\"husl\"\u001b[0m\u001b[1;33m:\u001b[0m\u001b[1;33m\u001b[0m\u001b[1;33m\u001b[0m\u001b[0m\n\u001b[0;32m    169\u001b[0m             \u001b[1;31m# Evenly spaced colors in cylindrical Lab space\u001b[0m\u001b[1;33m\u001b[0m\u001b[1;33m\u001b[0m\u001b[0m\n\u001b[1;32m--> 170\u001b[1;33m             \u001b[0mpalette\u001b[0m \u001b[1;33m=\u001b[0m \u001b[0mhusl_palette\u001b[0m\u001b[1;33m(\u001b[0m\u001b[0mn_colors\u001b[0m\u001b[1;33m,\u001b[0m \u001b[0mas_cmap\u001b[0m\u001b[1;33m=\u001b[0m\u001b[0mas_cmap\u001b[0m\u001b[1;33m)\u001b[0m\u001b[1;33m\u001b[0m\u001b[1;33m\u001b[0m\u001b[0m\n\u001b[0m\u001b[0;32m    171\u001b[0m \u001b[1;33m\u001b[0m\u001b[0m\n\u001b[0;32m    172\u001b[0m         \u001b[1;32melif\u001b[0m \u001b[0mpalette\u001b[0m\u001b[1;33m.\u001b[0m\u001b[0mlower\u001b[0m\u001b[1;33m(\u001b[0m\u001b[1;33m)\u001b[0m \u001b[1;33m==\u001b[0m \u001b[1;34m\"jet\"\u001b[0m\u001b[1;33m:\u001b[0m\u001b[1;33m\u001b[0m\u001b[1;33m\u001b[0m\u001b[0m\n",
      "\u001b[1;32m~\\anaconda3\\lib\\site-packages\\seaborn\\palettes.py\u001b[0m in \u001b[0;36mhusl_palette\u001b[1;34m(n_colors, h, s, l, as_cmap)\u001b[0m\n\u001b[0;32m    365\u001b[0m     \u001b[0ms\u001b[0m \u001b[1;33m*=\u001b[0m \u001b[1;36m99\u001b[0m\u001b[1;33m\u001b[0m\u001b[1;33m\u001b[0m\u001b[0m\n\u001b[0;32m    366\u001b[0m     \u001b[0ml\u001b[0m \u001b[1;33m*=\u001b[0m \u001b[1;36m99\u001b[0m  \u001b[1;31m# noqa\u001b[0m\u001b[1;33m\u001b[0m\u001b[1;33m\u001b[0m\u001b[0m\n\u001b[1;32m--> 367\u001b[1;33m     \u001b[0mpalette\u001b[0m \u001b[1;33m=\u001b[0m \u001b[1;33m[\u001b[0m\u001b[0m_color_to_rgb\u001b[0m\u001b[1;33m(\u001b[0m\u001b[1;33m(\u001b[0m\u001b[0mh_i\u001b[0m\u001b[1;33m,\u001b[0m \u001b[0ms\u001b[0m\u001b[1;33m,\u001b[0m \u001b[0ml\u001b[0m\u001b[1;33m)\u001b[0m\u001b[1;33m,\u001b[0m \u001b[0minput\u001b[0m\u001b[1;33m=\u001b[0m\u001b[1;34m\"husl\"\u001b[0m\u001b[1;33m)\u001b[0m \u001b[1;32mfor\u001b[0m \u001b[0mh_i\u001b[0m \u001b[1;32min\u001b[0m \u001b[0mhues\u001b[0m\u001b[1;33m]\u001b[0m\u001b[1;33m\u001b[0m\u001b[1;33m\u001b[0m\u001b[0m\n\u001b[0m\u001b[0;32m    368\u001b[0m     \u001b[1;32mif\u001b[0m \u001b[0mas_cmap\u001b[0m\u001b[1;33m:\u001b[0m\u001b[1;33m\u001b[0m\u001b[1;33m\u001b[0m\u001b[0m\n\u001b[0;32m    369\u001b[0m         \u001b[1;32mreturn\u001b[0m \u001b[0mmpl\u001b[0m\u001b[1;33m.\u001b[0m\u001b[0mcolors\u001b[0m\u001b[1;33m.\u001b[0m\u001b[0mListedColormap\u001b[0m\u001b[1;33m(\u001b[0m\u001b[0mpalette\u001b[0m\u001b[1;33m,\u001b[0m \u001b[1;34m\"hsl\"\u001b[0m\u001b[1;33m)\u001b[0m\u001b[1;33m\u001b[0m\u001b[1;33m\u001b[0m\u001b[0m\n",
      "\u001b[1;32m~\\anaconda3\\lib\\site-packages\\seaborn\\palettes.py\u001b[0m in \u001b[0;36m<listcomp>\u001b[1;34m(.0)\u001b[0m\n\u001b[0;32m    365\u001b[0m     \u001b[0ms\u001b[0m \u001b[1;33m*=\u001b[0m \u001b[1;36m99\u001b[0m\u001b[1;33m\u001b[0m\u001b[1;33m\u001b[0m\u001b[0m\n\u001b[0;32m    366\u001b[0m     \u001b[0ml\u001b[0m \u001b[1;33m*=\u001b[0m \u001b[1;36m99\u001b[0m  \u001b[1;31m# noqa\u001b[0m\u001b[1;33m\u001b[0m\u001b[1;33m\u001b[0m\u001b[0m\n\u001b[1;32m--> 367\u001b[1;33m     \u001b[0mpalette\u001b[0m \u001b[1;33m=\u001b[0m \u001b[1;33m[\u001b[0m\u001b[0m_color_to_rgb\u001b[0m\u001b[1;33m(\u001b[0m\u001b[1;33m(\u001b[0m\u001b[0mh_i\u001b[0m\u001b[1;33m,\u001b[0m \u001b[0ms\u001b[0m\u001b[1;33m,\u001b[0m \u001b[0ml\u001b[0m\u001b[1;33m)\u001b[0m\u001b[1;33m,\u001b[0m \u001b[0minput\u001b[0m\u001b[1;33m=\u001b[0m\u001b[1;34m\"husl\"\u001b[0m\u001b[1;33m)\u001b[0m \u001b[1;32mfor\u001b[0m \u001b[0mh_i\u001b[0m \u001b[1;32min\u001b[0m \u001b[0mhues\u001b[0m\u001b[1;33m]\u001b[0m\u001b[1;33m\u001b[0m\u001b[1;33m\u001b[0m\u001b[0m\n\u001b[0m\u001b[0;32m    368\u001b[0m     \u001b[1;32mif\u001b[0m \u001b[0mas_cmap\u001b[0m\u001b[1;33m:\u001b[0m\u001b[1;33m\u001b[0m\u001b[1;33m\u001b[0m\u001b[0m\n\u001b[0;32m    369\u001b[0m         \u001b[1;32mreturn\u001b[0m \u001b[0mmpl\u001b[0m\u001b[1;33m.\u001b[0m\u001b[0mcolors\u001b[0m\u001b[1;33m.\u001b[0m\u001b[0mListedColormap\u001b[0m\u001b[1;33m(\u001b[0m\u001b[0mpalette\u001b[0m\u001b[1;33m,\u001b[0m \u001b[1;34m\"hsl\"\u001b[0m\u001b[1;33m)\u001b[0m\u001b[1;33m\u001b[0m\u001b[1;33m\u001b[0m\u001b[0m\n",
      "\u001b[1;32m~\\anaconda3\\lib\\site-packages\\seaborn\\palettes.py\u001b[0m in \u001b[0;36m_color_to_rgb\u001b[1;34m(color, input)\u001b[0m\n\u001b[0;32m    461\u001b[0m     \u001b[1;32melif\u001b[0m \u001b[0minput\u001b[0m \u001b[1;33m==\u001b[0m \u001b[1;34m\"husl\"\u001b[0m\u001b[1;33m:\u001b[0m\u001b[1;33m\u001b[0m\u001b[1;33m\u001b[0m\u001b[0m\n\u001b[0;32m    462\u001b[0m         \u001b[0mcolor\u001b[0m \u001b[1;33m=\u001b[0m \u001b[0mhusl\u001b[0m\u001b[1;33m.\u001b[0m\u001b[0mhusl_to_rgb\u001b[0m\u001b[1;33m(\u001b[0m\u001b[1;33m*\u001b[0m\u001b[0mcolor\u001b[0m\u001b[1;33m)\u001b[0m\u001b[1;33m\u001b[0m\u001b[1;33m\u001b[0m\u001b[0m\n\u001b[1;32m--> 463\u001b[1;33m         \u001b[0mcolor\u001b[0m \u001b[1;33m=\u001b[0m \u001b[0mtuple\u001b[0m\u001b[1;33m(\u001b[0m\u001b[0mnp\u001b[0m\u001b[1;33m.\u001b[0m\u001b[0mclip\u001b[0m\u001b[1;33m(\u001b[0m\u001b[0mcolor\u001b[0m\u001b[1;33m,\u001b[0m \u001b[1;36m0\u001b[0m\u001b[1;33m,\u001b[0m \u001b[1;36m1\u001b[0m\u001b[1;33m)\u001b[0m\u001b[1;33m)\u001b[0m\u001b[1;33m\u001b[0m\u001b[1;33m\u001b[0m\u001b[0m\n\u001b[0m\u001b[0;32m    464\u001b[0m     \u001b[1;32melif\u001b[0m \u001b[0minput\u001b[0m \u001b[1;33m==\u001b[0m \u001b[1;34m\"xkcd\"\u001b[0m\u001b[1;33m:\u001b[0m\u001b[1;33m\u001b[0m\u001b[1;33m\u001b[0m\u001b[0m\n\u001b[0;32m    465\u001b[0m         \u001b[0mcolor\u001b[0m \u001b[1;33m=\u001b[0m \u001b[0mxkcd_rgb\u001b[0m\u001b[1;33m[\u001b[0m\u001b[0mcolor\u001b[0m\u001b[1;33m]\u001b[0m\u001b[1;33m\u001b[0m\u001b[1;33m\u001b[0m\u001b[0m\n",
      "\u001b[1;32m<__array_function__ internals>\u001b[0m in \u001b[0;36mclip\u001b[1;34m(*args, **kwargs)\u001b[0m\n",
      "\u001b[1;32m~\\anaconda3\\lib\\site-packages\\numpy\\core\\fromnumeric.py\u001b[0m in \u001b[0;36mclip\u001b[1;34m(a, a_min, a_max, out, **kwargs)\u001b[0m\n\u001b[0;32m   2101\u001b[0m \u001b[1;33m\u001b[0m\u001b[0m\n\u001b[0;32m   2102\u001b[0m     \"\"\"\n\u001b[1;32m-> 2103\u001b[1;33m     \u001b[1;32mreturn\u001b[0m \u001b[0m_wrapfunc\u001b[0m\u001b[1;33m(\u001b[0m\u001b[0ma\u001b[0m\u001b[1;33m,\u001b[0m \u001b[1;34m'clip'\u001b[0m\u001b[1;33m,\u001b[0m \u001b[0ma_min\u001b[0m\u001b[1;33m,\u001b[0m \u001b[0ma_max\u001b[0m\u001b[1;33m,\u001b[0m \u001b[0mout\u001b[0m\u001b[1;33m=\u001b[0m\u001b[0mout\u001b[0m\u001b[1;33m,\u001b[0m \u001b[1;33m**\u001b[0m\u001b[0mkwargs\u001b[0m\u001b[1;33m)\u001b[0m\u001b[1;33m\u001b[0m\u001b[1;33m\u001b[0m\u001b[0m\n\u001b[0m\u001b[0;32m   2104\u001b[0m \u001b[1;33m\u001b[0m\u001b[0m\n\u001b[0;32m   2105\u001b[0m \u001b[1;33m\u001b[0m\u001b[0m\n",
      "\u001b[1;32m~\\anaconda3\\lib\\site-packages\\numpy\\core\\fromnumeric.py\u001b[0m in \u001b[0;36m_wrapfunc\u001b[1;34m(obj, method, *args, **kwds)\u001b[0m\n\u001b[0;32m     53\u001b[0m     \u001b[0mbound\u001b[0m \u001b[1;33m=\u001b[0m \u001b[0mgetattr\u001b[0m\u001b[1;33m(\u001b[0m\u001b[0mobj\u001b[0m\u001b[1;33m,\u001b[0m \u001b[0mmethod\u001b[0m\u001b[1;33m,\u001b[0m \u001b[1;32mNone\u001b[0m\u001b[1;33m)\u001b[0m\u001b[1;33m\u001b[0m\u001b[1;33m\u001b[0m\u001b[0m\n\u001b[0;32m     54\u001b[0m     \u001b[1;32mif\u001b[0m \u001b[0mbound\u001b[0m \u001b[1;32mis\u001b[0m \u001b[1;32mNone\u001b[0m\u001b[1;33m:\u001b[0m\u001b[1;33m\u001b[0m\u001b[1;33m\u001b[0m\u001b[0m\n\u001b[1;32m---> 55\u001b[1;33m         \u001b[1;32mreturn\u001b[0m \u001b[0m_wrapit\u001b[0m\u001b[1;33m(\u001b[0m\u001b[0mobj\u001b[0m\u001b[1;33m,\u001b[0m \u001b[0mmethod\u001b[0m\u001b[1;33m,\u001b[0m \u001b[1;33m*\u001b[0m\u001b[0margs\u001b[0m\u001b[1;33m,\u001b[0m \u001b[1;33m**\u001b[0m\u001b[0mkwds\u001b[0m\u001b[1;33m)\u001b[0m\u001b[1;33m\u001b[0m\u001b[1;33m\u001b[0m\u001b[0m\n\u001b[0m\u001b[0;32m     56\u001b[0m \u001b[1;33m\u001b[0m\u001b[0m\n\u001b[0;32m     57\u001b[0m     \u001b[1;32mtry\u001b[0m\u001b[1;33m:\u001b[0m\u001b[1;33m\u001b[0m\u001b[1;33m\u001b[0m\u001b[0m\n",
      "\u001b[1;32m~\\anaconda3\\lib\\site-packages\\numpy\\core\\fromnumeric.py\u001b[0m in \u001b[0;36m_wrapit\u001b[1;34m(obj, method, *args, **kwds)\u001b[0m\n\u001b[0;32m     42\u001b[0m     \u001b[1;32mexcept\u001b[0m \u001b[0mAttributeError\u001b[0m\u001b[1;33m:\u001b[0m\u001b[1;33m\u001b[0m\u001b[1;33m\u001b[0m\u001b[0m\n\u001b[0;32m     43\u001b[0m         \u001b[0mwrap\u001b[0m \u001b[1;33m=\u001b[0m \u001b[1;32mNone\u001b[0m\u001b[1;33m\u001b[0m\u001b[1;33m\u001b[0m\u001b[0m\n\u001b[1;32m---> 44\u001b[1;33m     \u001b[0mresult\u001b[0m \u001b[1;33m=\u001b[0m \u001b[0mgetattr\u001b[0m\u001b[1;33m(\u001b[0m\u001b[0masarray\u001b[0m\u001b[1;33m(\u001b[0m\u001b[0mobj\u001b[0m\u001b[1;33m)\u001b[0m\u001b[1;33m,\u001b[0m \u001b[0mmethod\u001b[0m\u001b[1;33m)\u001b[0m\u001b[1;33m(\u001b[0m\u001b[1;33m*\u001b[0m\u001b[0margs\u001b[0m\u001b[1;33m,\u001b[0m \u001b[1;33m**\u001b[0m\u001b[0mkwds\u001b[0m\u001b[1;33m)\u001b[0m\u001b[1;33m\u001b[0m\u001b[1;33m\u001b[0m\u001b[0m\n\u001b[0m\u001b[0;32m     45\u001b[0m     \u001b[1;32mif\u001b[0m \u001b[0mwrap\u001b[0m\u001b[1;33m:\u001b[0m\u001b[1;33m\u001b[0m\u001b[1;33m\u001b[0m\u001b[0m\n\u001b[0;32m     46\u001b[0m         \u001b[1;32mif\u001b[0m \u001b[1;32mnot\u001b[0m \u001b[0misinstance\u001b[0m\u001b[1;33m(\u001b[0m\u001b[0mresult\u001b[0m\u001b[1;33m,\u001b[0m \u001b[0mmu\u001b[0m\u001b[1;33m.\u001b[0m\u001b[0mndarray\u001b[0m\u001b[1;33m)\u001b[0m\u001b[1;33m:\u001b[0m\u001b[1;33m\u001b[0m\u001b[1;33m\u001b[0m\u001b[0m\n",
      "\u001b[1;32m~\\anaconda3\\lib\\site-packages\\numpy\\core\\_methods.py\u001b[0m in \u001b[0;36m_clip\u001b[1;34m(a, min, max, out, casting, **kwargs)\u001b[0m\n\u001b[0;32m    131\u001b[0m     \u001b[1;32mif\u001b[0m \u001b[1;32mnot\u001b[0m \u001b[0m_clip_dep_is_byte_swapped\u001b[0m\u001b[1;33m(\u001b[0m\u001b[0ma\u001b[0m\u001b[1;33m)\u001b[0m \u001b[1;32mand\u001b[0m \u001b[1;32mnot\u001b[0m \u001b[0m_clip_dep_is_byte_swapped\u001b[0m\u001b[1;33m(\u001b[0m\u001b[0mout\u001b[0m\u001b[1;33m)\u001b[0m\u001b[1;33m:\u001b[0m\u001b[1;33m\u001b[0m\u001b[1;33m\u001b[0m\u001b[0m\n\u001b[0;32m    132\u001b[0m         \u001b[0musing_deprecated_nan\u001b[0m \u001b[1;33m=\u001b[0m \u001b[1;32mFalse\u001b[0m\u001b[1;33m\u001b[0m\u001b[1;33m\u001b[0m\u001b[0m\n\u001b[1;32m--> 133\u001b[1;33m         \u001b[1;32mif\u001b[0m \u001b[0m_clip_dep_is_scalar_nan\u001b[0m\u001b[1;33m(\u001b[0m\u001b[0mmin\u001b[0m\u001b[1;33m)\u001b[0m\u001b[1;33m:\u001b[0m\u001b[1;33m\u001b[0m\u001b[1;33m\u001b[0m\u001b[0m\n\u001b[0m\u001b[0;32m    134\u001b[0m             \u001b[0mmin\u001b[0m \u001b[1;33m=\u001b[0m \u001b[1;33m-\u001b[0m\u001b[0mfloat\u001b[0m\u001b[1;33m(\u001b[0m\u001b[1;34m'inf'\u001b[0m\u001b[1;33m)\u001b[0m\u001b[1;33m\u001b[0m\u001b[1;33m\u001b[0m\u001b[0m\n\u001b[0;32m    135\u001b[0m             \u001b[0musing_deprecated_nan\u001b[0m \u001b[1;33m=\u001b[0m \u001b[1;32mTrue\u001b[0m\u001b[1;33m\u001b[0m\u001b[1;33m\u001b[0m\u001b[0m\n",
      "\u001b[1;32m~\\anaconda3\\lib\\site-packages\\numpy\\core\\_methods.py\u001b[0m in \u001b[0;36m_clip_dep_is_scalar_nan\u001b[1;34m(a)\u001b[0m\n\u001b[0;32m     91\u001b[0m     \u001b[1;31m# guarded to protect circular imports\u001b[0m\u001b[1;33m\u001b[0m\u001b[1;33m\u001b[0m\u001b[0m\n\u001b[0;32m     92\u001b[0m     \u001b[1;32mfrom\u001b[0m \u001b[0mnumpy\u001b[0m\u001b[1;33m.\u001b[0m\u001b[0mcore\u001b[0m\u001b[1;33m.\u001b[0m\u001b[0mfromnumeric\u001b[0m \u001b[1;32mimport\u001b[0m \u001b[0mndim\u001b[0m\u001b[1;33m\u001b[0m\u001b[1;33m\u001b[0m\u001b[0m\n\u001b[1;32m---> 93\u001b[1;33m     \u001b[1;32mif\u001b[0m \u001b[0mndim\u001b[0m\u001b[1;33m(\u001b[0m\u001b[0ma\u001b[0m\u001b[1;33m)\u001b[0m \u001b[1;33m!=\u001b[0m \u001b[1;36m0\u001b[0m\u001b[1;33m:\u001b[0m\u001b[1;33m\u001b[0m\u001b[1;33m\u001b[0m\u001b[0m\n\u001b[0m\u001b[0;32m     94\u001b[0m         \u001b[1;32mreturn\u001b[0m \u001b[1;32mFalse\u001b[0m\u001b[1;33m\u001b[0m\u001b[1;33m\u001b[0m\u001b[0m\n\u001b[0;32m     95\u001b[0m     \u001b[1;32mtry\u001b[0m\u001b[1;33m:\u001b[0m\u001b[1;33m\u001b[0m\u001b[1;33m\u001b[0m\u001b[0m\n",
      "\u001b[1;32m<__array_function__ internals>\u001b[0m in \u001b[0;36mndim\u001b[1;34m(*args, **kwargs)\u001b[0m\n",
      "\u001b[1;32m~\\anaconda3\\lib\\site-packages\\numpy\\core\\fromnumeric.py\u001b[0m in \u001b[0;36mndim\u001b[1;34m(a)\u001b[0m\n\u001b[0;32m   3139\u001b[0m         \u001b[1;32mreturn\u001b[0m \u001b[0ma\u001b[0m\u001b[1;33m.\u001b[0m\u001b[0mndim\u001b[0m\u001b[1;33m\u001b[0m\u001b[1;33m\u001b[0m\u001b[0m\n\u001b[0;32m   3140\u001b[0m     \u001b[1;32mexcept\u001b[0m \u001b[0mAttributeError\u001b[0m\u001b[1;33m:\u001b[0m\u001b[1;33m\u001b[0m\u001b[1;33m\u001b[0m\u001b[0m\n\u001b[1;32m-> 3141\u001b[1;33m         \u001b[1;32mreturn\u001b[0m \u001b[0masarray\u001b[0m\u001b[1;33m(\u001b[0m\u001b[0ma\u001b[0m\u001b[1;33m)\u001b[0m\u001b[1;33m.\u001b[0m\u001b[0mndim\u001b[0m\u001b[1;33m\u001b[0m\u001b[1;33m\u001b[0m\u001b[0m\n\u001b[0m\u001b[0;32m   3142\u001b[0m \u001b[1;33m\u001b[0m\u001b[0m\n\u001b[0;32m   3143\u001b[0m \u001b[1;33m\u001b[0m\u001b[0m\n",
      "\u001b[1;31mKeyboardInterrupt\u001b[0m: "
     ]
    }
   ],
   "source": [
    "plt.scatter(redu[:,0], # x\n",
    "            redu[:, 1],# y \n",
    "            c=[sns.color_palette(\"husl\", 882)[x] for x in cluster.model])\n",
    "\n",
    "\n",
    "plt.gca().set_aspect('equal', 'datalim')\n",
    "plt.title('Proyeccion UMAP');\n",
    "\n"
   ]
  },
  {
   "cell_type": "code",
   "execution_count": 130,
   "id": "ea79c74a",
   "metadata": {},
   "outputs": [
    {
     "data": {
      "text/plain": [
       "882"
      ]
     },
     "execution_count": 130,
     "metadata": {},
     "output_type": "execute_result"
    }
   ],
   "source": [
    "len(cluster.model.unique())"
   ]
  },
  {
   "cell_type": "markdown",
   "id": "ac209143",
   "metadata": {},
   "source": [
    "**2 INTENTO CLUSTER**"
   ]
  },
  {
   "cell_type": "code",
   "execution_count": 59,
   "id": "42233462",
   "metadata": {},
   "outputs": [],
   "source": [
    "cluster=train.copy()"
   ]
  },
  {
   "cell_type": "code",
   "execution_count": 60,
   "id": "fa442549",
   "metadata": {},
   "outputs": [],
   "source": [
    "cluster['model'], model_names=pd.factorize(cluster['model'])"
   ]
  },
  {
   "cell_type": "code",
   "execution_count": 61,
   "id": "0375bde5",
   "metadata": {},
   "outputs": [
    {
     "name": "stdout",
     "output_type": "stream",
     "text": [
      "Index(['C1', 'Transit Connect', 'Caravelle', 'Transit', '3008',\n",
      "       'Discovery Sport', 'Civic', 'Berlingo', 'NOTE', 'Polo',\n",
      "       ...\n",
      "       'Mondial', 'Carisma', 'Maxus', '626', 'Corvette Stingray', '360',\n",
      "       'S2000', 'FF', '600', 'R21'],\n",
      "      dtype='object', length=882)\n",
      "[  0   1   2   3   4   5   6   7   8   9  10  11  12  13  14  15  16  17\n",
      "  18  19  20  21  22  23  24  25  26  27  28  29  30  31  32  33  34  35\n",
      "  36  37  38  39  40  41  42  43  44  45  46  47  48  49  50  51  52  53\n",
      "  54  55  56  57  58  59  60  61  62  63  64  65  66  67  68  69  70  71\n",
      "  72  73  74  75  76  77  78  79  80  81  82  83  84  85  86  87  88  89\n",
      "  90  91  92  93  94  95  96  97  98  99 100 101 102 103 104 105 106 107\n",
      " 108 109 110 111 112 113 114 115 116 117 118 119 120 121 122 123 124 125\n",
      " 126 127 128 129 130 131 132 133 134 135 136 137 138 139 140 141 142 143\n",
      " 144 145 146 147 148 149 150 151 152 153 154 155 156 157 158 159 160 161\n",
      " 162 163 164 165 166 167 168 169 170 171 172 173 174 175 176 177 178 179\n",
      " 180 181 182 183 184 185 186 187 188 189 190 191 192 193 194 195 196 197\n",
      " 198 199 200 201 202 203 204 205 206 207 208 209 210 211 212 213 214 215\n",
      " 216 217 218 219 220 221 222 223 224 225 226 227 228 229 230 231 232 233\n",
      " 234 235 236 237 238 239 240 241 242 243 244 245 246 247 248 249 250 251\n",
      " 252 253 254 255 256 257 258 259 260 261 262 263 264 265 266 267 268 269\n",
      " 270 271 272 273 274 275 276 277 278 279 280 281 282 283 284 285 286 287\n",
      " 288 289 290 291 292 293 294 295 296 297 298 299 300 301 302 303 304 305\n",
      " 306 307 308 309 310 311 312 313 314 315 316 317 318 319 320 321 322 323\n",
      " 324 325 326 327 328 329 330 331 332 333 334 335 336 337 338 339 340 341\n",
      " 342 343 344 345 346 347 348 349 350 351 352 353 354 355 356 357 358 359\n",
      " 360 361 362 363 364 365 366 367 368 369 370 371 372 373 374 375 376 377\n",
      " 378 379 380 381 382 383 384 385 386 387 388 389 390 391 392 393 394 395\n",
      " 396 397 398 399 400 401 402 403 404 405 406 407 408 409 410 411 412 413\n",
      " 414 415 416 417 418 419 420 421 422 423 424 425 426 427 428 429 430 431\n",
      " 432 433 434 435 436 437 438 439 440 441 442 443 444 445 446 447 448 449\n",
      " 450 451 452 453 454 455 456 457 458 459 460 461 462 463 464 465 466 467\n",
      " 468 469 470 471 472 473 474 475 476 477 478 479 480 481 482 483 484 485\n",
      " 486 487 488 489 490 491 492 493 494 495 496 497 498 499 500 501 502 503\n",
      " 504 505 506 507 508 509 510 511 512 513 514 515 516 517 518 519 520 521\n",
      " 522 523 524 525 526 527 528 529 530 531 532 533 534 535 536 537 538 539\n",
      " 540 541 542 543 544 545 546 547 548 549 550 551 552 553 554 555 556 557\n",
      " 558 559 560 561 562 563 564 565 566 567 568 569 570 571 572 573 574 575\n",
      " 576 577 578 579 580 581 582 583 584 585 586 587 588 589 590 591 592 593\n",
      " 594 595 596 597 598 599 600 601 602 603 604 605 606 607 608 609 610 611\n",
      " 612 613 614 615 616 617 618 619 620 621 622 623 624 625 626 627 628 629\n",
      " 630 631 632 633 634 635 636 637 638 639 640 641 642 643 644 645 646 647\n",
      " 648 649 650 651 652 653 654 655 656 657 658 659 660 661 662 663 664 665\n",
      " 666 667 668 669 670 671 672 673 674 675 676 677 678 679 680 681 682 683\n",
      " 684 685 686 687 688 689 690 691 692 693 694 695 696 697 698 699 700 701\n",
      " 702 703 704 705 706 707 708 709 710 711 712 713 714 715 716 717 718 719\n",
      " 720 721 722 723 724 725 726 727 728 729 730 731 732 733 734 735 736 737\n",
      " 738 739 740 741 742 743 744 745 746 747 748 749 750 751 752 753 754 755\n",
      " 756 757 758 759 760 761 762 763 764 765 766 767 768 769 770 771 772 773\n",
      " 774 775 776 777 778 779 780 781 782 783 784 785 786 787 788 789 790 791\n",
      " 792 793 794 795 796 797 798 799 800 801 802 803 804 805 806 807 808 809\n",
      " 810 811 812 813 814 815 816 817 818 819 820 821 822 823 824 825 826 827\n",
      " 828 829 830 831 832 833 834 835 836 837 838 839 840 841 842 843 844 845\n",
      " 846 847 848 849 850 851 852 853 854 855 856 857 858 859 860 861 862 863\n",
      " 864 865 866 867 868 869 870 871 872 873 874 875 876 877 878 879 880 881]\n"
     ]
    }
   ],
   "source": [
    "print(model_names)\n",
    "print(cluster['model'].unique())"
   ]
  },
  {
   "cell_type": "code",
   "execution_count": 64,
   "id": "aaeb6a44",
   "metadata": {},
   "outputs": [
    {
     "name": "stdout",
     "output_type": "stream",
     "text": [
      "<class 'pandas.core.frame.DataFrame'>\n",
      "Int64Index: 41348 entries, 1 to 49999\n",
      "Data columns (total 11 columns):\n",
      " #   Column           Non-Null Count  Dtype  \n",
      "---  ------           --------------  -----  \n",
      " 0   make             41348 non-null  object \n",
      " 1   model            41348 non-null  int64  \n",
      " 2   price            41348 non-null  int64  \n",
      " 3   fuel             41348 non-null  object \n",
      " 4   year             41348 non-null  float64\n",
      " 5   kms              41348 non-null  int64  \n",
      " 6   power            41348 non-null  float64\n",
      " 7   doors            41348 non-null  int64  \n",
      " 8   shift            41348 non-null  object \n",
      " 9   is_professional  41348 non-null  bool   \n",
      " 10  province         41348 non-null  object \n",
      "dtypes: bool(1), float64(2), int64(4), object(4)\n",
      "memory usage: 3.5+ MB\n"
     ]
    }
   ],
   "source": [
    "cluster.info()"
   ]
  },
  {
   "cell_type": "code",
   "execution_count": 76,
   "id": "2fb21956",
   "metadata": {},
   "outputs": [],
   "source": [
    "cluster.make,_=pd.factorize(cluster.make)\n",
    "cluster.fuel,_=pd.factorize(cluster.fuel)\n",
    "cluster['shift'],_=pd.factorize(cluster['shift'])\n",
    "cluster.is_professional,_=pd.factorize(cluster.is_professional)\n",
    "cluster.province,_=pd.factorize(cluster.province)\n"
   ]
  },
  {
   "cell_type": "code",
   "execution_count": 79,
   "id": "f516d2e8",
   "metadata": {},
   "outputs": [
    {
     "data": {
      "text/html": [
       "<div>\n",
       "<style scoped>\n",
       "    .dataframe tbody tr th:only-of-type {\n",
       "        vertical-align: middle;\n",
       "    }\n",
       "\n",
       "    .dataframe tbody tr th {\n",
       "        vertical-align: top;\n",
       "    }\n",
       "\n",
       "    .dataframe thead th {\n",
       "        text-align: right;\n",
       "    }\n",
       "</style>\n",
       "<table border=\"1\" class=\"dataframe\">\n",
       "  <thead>\n",
       "    <tr style=\"text-align: right;\">\n",
       "      <th></th>\n",
       "      <th>make</th>\n",
       "      <th>model</th>\n",
       "      <th>price</th>\n",
       "      <th>fuel</th>\n",
       "      <th>year</th>\n",
       "      <th>kms</th>\n",
       "      <th>power</th>\n",
       "      <th>doors</th>\n",
       "      <th>shift</th>\n",
       "      <th>is_professional</th>\n",
       "      <th>province</th>\n",
       "    </tr>\n",
       "  </thead>\n",
       "  <tbody>\n",
       "    <tr>\n",
       "      <th>49995</th>\n",
       "      <td>19</td>\n",
       "      <td>132</td>\n",
       "      <td>18490</td>\n",
       "      <td>0</td>\n",
       "      <td>2018.0</td>\n",
       "      <td>47000</td>\n",
       "      <td>140.0</td>\n",
       "      <td>5</td>\n",
       "      <td>1</td>\n",
       "      <td>0</td>\n",
       "      <td>8</td>\n",
       "    </tr>\n",
       "    <tr>\n",
       "      <th>49996</th>\n",
       "      <td>15</td>\n",
       "      <td>183</td>\n",
       "      <td>14500</td>\n",
       "      <td>1</td>\n",
       "      <td>2015.0</td>\n",
       "      <td>68750</td>\n",
       "      <td>150.0</td>\n",
       "      <td>2</td>\n",
       "      <td>0</td>\n",
       "      <td>0</td>\n",
       "      <td>8</td>\n",
       "    </tr>\n",
       "    <tr>\n",
       "      <th>49997</th>\n",
       "      <td>3</td>\n",
       "      <td>199</td>\n",
       "      <td>11000</td>\n",
       "      <td>0</td>\n",
       "      <td>2019.0</td>\n",
       "      <td>21422</td>\n",
       "      <td>72.0</td>\n",
       "      <td>5</td>\n",
       "      <td>0</td>\n",
       "      <td>0</td>\n",
       "      <td>34</td>\n",
       "    </tr>\n",
       "    <tr>\n",
       "      <th>49998</th>\n",
       "      <td>12</td>\n",
       "      <td>471</td>\n",
       "      <td>47900</td>\n",
       "      <td>0</td>\n",
       "      <td>2013.0</td>\n",
       "      <td>47900</td>\n",
       "      <td>450.0</td>\n",
       "      <td>5</td>\n",
       "      <td>1</td>\n",
       "      <td>0</td>\n",
       "      <td>11</td>\n",
       "    </tr>\n",
       "    <tr>\n",
       "      <th>49999</th>\n",
       "      <td>0</td>\n",
       "      <td>428</td>\n",
       "      <td>2790</td>\n",
       "      <td>1</td>\n",
       "      <td>2006.0</td>\n",
       "      <td>106000</td>\n",
       "      <td>70.0</td>\n",
       "      <td>3</td>\n",
       "      <td>0</td>\n",
       "      <td>0</td>\n",
       "      <td>1</td>\n",
       "    </tr>\n",
       "  </tbody>\n",
       "</table>\n",
       "</div>"
      ],
      "text/plain": [
       "       make  model  price  fuel    year     kms  power  doors  shift  \\\n",
       "49995    19    132  18490     0  2018.0   47000  140.0      5      1   \n",
       "49996    15    183  14500     1  2015.0   68750  150.0      2      0   \n",
       "49997     3    199  11000     0  2019.0   21422   72.0      5      0   \n",
       "49998    12    471  47900     0  2013.0   47900  450.0      5      1   \n",
       "49999     0    428   2790     1  2006.0  106000   70.0      3      0   \n",
       "\n",
       "       is_professional  province  \n",
       "49995                0         8  \n",
       "49996                0         8  \n",
       "49997                0        34  \n",
       "49998                0        11  \n",
       "49999                0         1  "
      ]
     },
     "execution_count": 79,
     "metadata": {},
     "output_type": "execute_result"
    }
   ],
   "source": [
    "cluster.tail()"
   ]
  },
  {
   "cell_type": "code",
   "execution_count": 80,
   "id": "021a2c14",
   "metadata": {},
   "outputs": [],
   "source": [
    "X_c=cluster\n",
    "y_c=cluster.iloc[:,0]"
   ]
  },
  {
   "cell_type": "code",
   "execution_count": 89,
   "id": "ccb45260",
   "metadata": {},
   "outputs": [
    {
     "data": {
      "text/plain": [
       "KMeans(n_clusters=2, random_state=123)"
      ]
     },
     "execution_count": 89,
     "metadata": {},
     "output_type": "execute_result"
    }
   ],
   "source": [
    "model = KMeans(n_clusters=2,random_state=123)\n",
    "model.fit(X_c)"
   ]
  },
  {
   "cell_type": "code",
   "execution_count": 90,
   "id": "115d07bf",
   "metadata": {},
   "outputs": [
    {
     "data": {
      "text/plain": [
       "array([[1.15240388e+01, 1.50477044e+02, 2.17927027e+04, 8.37887271e-01,\n",
       "        2.01657865e+03, 4.89753965e+04, 1.47171967e+02, 4.61530422e+00,\n",
       "        3.72751027e-01, 1.20418066e-01, 1.26661441e+01],\n",
       "       [1.06415716e+01, 1.58295302e+02, 9.23822613e+03, 8.29166094e-01,\n",
       "        2.00888515e+03, 1.87581233e+05, 1.45132161e+02, 4.35643632e+00,\n",
       "        2.78815771e-01, 3.96620415e-01, 1.38609699e+01]])"
      ]
     },
     "execution_count": 90,
     "metadata": {},
     "output_type": "execute_result"
    }
   ],
   "source": [
    "model.cluster_centers_"
   ]
  },
  {
   "cell_type": "code",
   "execution_count": 91,
   "id": "560cfae4",
   "metadata": {},
   "outputs": [
    {
     "data": {
      "text/plain": [
       "111522090742930.69"
      ]
     },
     "execution_count": 91,
     "metadata": {},
     "output_type": "execute_result"
    }
   ],
   "source": [
    "model.inertia_"
   ]
  },
  {
   "cell_type": "code",
   "execution_count": 92,
   "id": "5f3fd00c",
   "metadata": {},
   "outputs": [
    {
     "name": "stdout",
     "output_type": "stream",
     "text": [
      "Result: 2264 out of 41348 samples were correctly labeled.\n"
     ]
    },
    {
     "data": {
      "text/plain": [
       "0.05475476443842508"
      ]
     },
     "execution_count": 92,
     "metadata": {},
     "output_type": "execute_result"
    }
   ],
   "source": [
    "labels = model.labels_\n",
    "# check how many of the samples were correctly labeled\n",
    "correct_labels = sum(y_c == labels)\n",
    "print(\"Result: %d out of %d samples were correctly labeled.\" % (correct_labels, y_c.size))\n",
    "(correct_labels/ y_c.size)"
   ]
  },
  {
   "cell_type": "code",
   "execution_count": 98,
   "id": "dff77e24",
   "metadata": {},
   "outputs": [
    {
     "name": "stdout",
     "output_type": "stream",
     "text": [
      "k:  1\n",
      "k:  2\n",
      "k:  3\n",
      "k:  4\n",
      "k:  5\n",
      "k:  6\n",
      "k:  7\n",
      "k:  8\n",
      "k:  9\n",
      "k:  10\n",
      "k:  11\n",
      "k:  12\n",
      "k:  13\n",
      "k:  14\n",
      "k:  15\n",
      "k:  16\n",
      "k:  17\n",
      "k:  18\n",
      "k:  19\n"
     ]
    },
    {
     "data": {
      "image/png": "[encoded data removed]",
      "text/plain": [
       "<Figure size 432x288 with 1 Axes>"
      ]
     },
     "metadata": {
      "needs_background": "light"
     },
     "output_type": "display_data"
    }
   ],
   "source": [
    "from mpl_toolkits.mplot3d import Axes3D\n",
    "\n",
    "def elbow_plot(cluster, maxK=71, seed_centroids=None):\n",
    "    \"\"\"\n",
    "        parameters:\n",
    "        - data: pandas DataFrame (data to be fitted)\n",
    "        - maxK (default = 10): integer (maximum number of clusters with which to run k-means)\n",
    "        - seed_centroids (default = None ): float (initial value of centroids for k-means)\n",
    "    \"\"\"\n",
    "    sse = {}\n",
    "    for k in range(1, maxK):\n",
    "        print(\"k: \", k)\n",
    "        if seed_centroids is not None:\n",
    "            seeds = seed_centroids.head(k)\n",
    "            kmeans = KMeans(n_clusters=k, max_iter=500, n_init=100, random_state=0, init=np.reshape(seeds, (k,1))).fit(cluster)\n",
    "            cluster[\"clusters\"] = kmeans.labels_\n",
    "        else:\n",
    "            kmeans = KMeans(n_clusters=k, max_iter=300, n_init=100, random_state=0).fit(cluster)\n",
    "            cluster[\"clusters\"] = kmeans.labels_\n",
    "        # Inertia: Sum of distances of samples to their closest cluster center\n",
    "        sse[k] = kmeans.inertia_\n",
    "    plt.figure()\n",
    "    plt.plot(list(sse.keys()), list(sse.values()))\n",
    "    plt.show()\n",
    "    return\n",
    "\n",
    "elbow_plot(X_c, maxK=20)"
   ]
  },
  {
   "cell_type": "code",
   "execution_count": null,
   "id": "b6d4110f",
   "metadata": {},
   "outputs": [],
   "source": []
  },
  {
   "cell_type": "code",
   "execution_count": null,
   "id": "f2080c22",
   "metadata": {},
   "outputs": [],
   "source": []
  },
  {
   "cell_type": "code",
   "execution_count": null,
   "id": "ecae6e21",
   "metadata": {},
   "outputs": [],
   "source": []
  },
  {
   "cell_type": "code",
   "execution_count": null,
   "id": "202ba845",
   "metadata": {},
   "outputs": [],
   "source": []
  },
  {
   "cell_type": "code",
   "execution_count": null,
   "id": "5f96d7c9",
   "metadata": {},
   "outputs": [],
   "source": []
  },
  {
   "cell_type": "code",
   "execution_count": null,
   "id": "db94644c",
   "metadata": {},
   "outputs": [],
   "source": []
  }
 ],
 "metadata": {
  "kernelspec": {
   "display_name": "Python 3 (ipykernel)",
   "language": "python",
   "name": "python3"
  },
  "language_info": {
   "codemirror_mode": {
    "name": "ipython",
    "version": 3
   },
   "file_extension": ".py",
   "mimetype": "text/x-python",
   "name": "python",
   "nbconvert_exporter": "python",
   "pygments_lexer": "ipython3",
   "version": "3.9.7"
  }
 },
 "nbformat": 4,
 "nbformat_minor": 5
}
